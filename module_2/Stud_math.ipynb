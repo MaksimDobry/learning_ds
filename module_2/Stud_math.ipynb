{
 "cells": [
  {
   "cell_type": "code",
   "execution_count": 1,
   "metadata": {},
   "outputs": [],
   "source": [
    "import pandas as pd\n",
    "import matplotlib.pyplot as plt\n",
    "import seaborn as sns\n",
    "from itertools import combinations\n",
    "from scipy.stats import ttest_ind"
   ]
  },
  {
   "cell_type": "code",
   "execution_count": 2,
   "metadata": {},
   "outputs": [],
   "source": [
    "pd.set_option('display.max_rows', 50)\n",
    "pd.set_option('display.max_columns', 50)"
   ]
  },
  {
   "cell_type": "markdown",
   "metadata": {},
   "source": [
    "Суть проекта \n",
    "--\n",
    "\n",
    "отследить влияние условий жизни учащихся в возрасте от 15 до 22 лет на их успеваемость по математике, чтобы на ранней стадии выявлять студентов, находящихся в группе риска."
   ]
  },
  {
   "cell_type": "markdown",
   "metadata": {},
   "source": [
    "Описание датасета\n",
    "--"
   ]
  },
  {
   "cell_type": "markdown",
   "metadata": {},
   "source": [
    "**school** — аббревиатура школы, в которой учится ученик  \n",
    "**sex** — пол ученика ('F' - женский, 'M' - мужской)  \n",
    "**age** — возраст ученика (от 15 до 22)  \n",
    "**address** — тип адреса ученика ('U' - городской, 'R' - за городом)  \n",
    "**famsize** — размер семьи('LE3' <= 3, 'GT3' >3)  \n",
    "**Pstatus** — статус совместного жилья родителей ('T' - живут вместе 'A' - раздельно)  \n",
    "**Medu** — образование матери (0 - нет, 1 - 4 класса, 2 - 5-9 классы, 3 - среднее специальное или 11 классов, 4 - высшее)  \n",
    "**Fedu** — образование отца (0 - нет, 1 - 4 класса, 2 - 5-9 классы, 3 - среднее специальное или 11 классов, 4 - высшее)  \n",
    "**Mjob** — работа матери ('teacher' - учитель, 'health' - сфера здравоохранения, 'services' - гос служба, 'at_home' - не работает, 'other' - другое)  \n",
    "**Fjob** — работа отца ('teacher' - учитель, 'health' - сфера здравоохранения, 'services' - гос служба, 'at_home' - не работает, 'other' - другое)  \n",
    "**reason** — причина выбора школы ('home' - близость к дому, 'reputation' - репутация школы, 'course' - образовательная программа, 'other' - другое)  \n",
    "**guardian** — опекун ('mother' - мать, 'father' - отец, 'other' - другое)  \n",
    "**traveltime** — время в пути до школы (1 - <15 мин., 2 - 15-30 мин., 3 - 30-60 мин., 4 - >60 мин.)  \n",
    "**studytime** — время на учёбу помимо школы в неделю (1 - <2 часов, 2 - 2-5 часов, 3 - 5-10 часов, 4 - >10 часов)  \n",
    "**failures** — количество внеучебных неудач (n, если 1<=n<=3, иначе 0)  \n",
    "**schoolsup** — дополнительная образовательная поддержка (yes или no)  \n",
    "**famsup** — семейная образовательная поддержка (yes или no)  \n",
    "**paid** — дополнительные платные занятия по математике (yes или no)  \n",
    "**activities** — дополнительные внеучебные занятия (yes или no)  \n",
    "**nursery** — посещал детский сад (yes или no)  \n",
    "**higher** — хочет получить высшее образование (yes или no)  \n",
    "**internet** — наличие интернета дома (yes или no)  \n",
    "**romantic** — в романтических отношениях (yes или no)  \n",
    "**famrel** — семейные отношения (от 1 - очень плохо до 5 - очень хорошо)  \n",
    "**freetime** — свободное время после школы (от 1 - очень мало до 5 - очень мого)  \n",
    "**goout** — проведение времени с друзьями (от 1 - очень мало до 5 - очень много)  \n",
    "**health** — текущее состояние здоровья (от 1 - очень плохо до 5 - очень хорошо)  \n",
    "**absences** — количество пропущенных занятий  \n",
    "**score** — баллы по госэкзамену по математике  "
   ]
  },
  {
   "cell_type": "code",
   "execution_count": 97,
   "metadata": {},
   "outputs": [],
   "source": [
    "df = pd.read_csv('stud_math.xls')"
   ]
  },
  {
   "cell_type": "code",
   "execution_count": 98,
   "metadata": {},
   "outputs": [
    {
     "data": {
      "text/html": [
       "<div>\n",
       "<style scoped>\n",
       "    .dataframe tbody tr th:only-of-type {\n",
       "        vertical-align: middle;\n",
       "    }\n",
       "\n",
       "    .dataframe tbody tr th {\n",
       "        vertical-align: top;\n",
       "    }\n",
       "\n",
       "    .dataframe thead th {\n",
       "        text-align: right;\n",
       "    }\n",
       "</style>\n",
       "<table border=\"1\" class=\"dataframe\">\n",
       "  <thead>\n",
       "    <tr style=\"text-align: right;\">\n",
       "      <th></th>\n",
       "      <th>school</th>\n",
       "      <th>sex</th>\n",
       "      <th>age</th>\n",
       "      <th>address</th>\n",
       "      <th>famsize</th>\n",
       "      <th>Pstatus</th>\n",
       "      <th>Medu</th>\n",
       "      <th>Fedu</th>\n",
       "      <th>Mjob</th>\n",
       "      <th>Fjob</th>\n",
       "      <th>reason</th>\n",
       "      <th>guardian</th>\n",
       "      <th>traveltime</th>\n",
       "      <th>studytime</th>\n",
       "      <th>failures</th>\n",
       "      <th>schoolsup</th>\n",
       "      <th>famsup</th>\n",
       "      <th>paid</th>\n",
       "      <th>activities</th>\n",
       "      <th>nursery</th>\n",
       "      <th>studytime, granular</th>\n",
       "      <th>higher</th>\n",
       "      <th>internet</th>\n",
       "      <th>romantic</th>\n",
       "      <th>famrel</th>\n",
       "      <th>freetime</th>\n",
       "      <th>goout</th>\n",
       "      <th>health</th>\n",
       "      <th>absences</th>\n",
       "      <th>score</th>\n",
       "    </tr>\n",
       "  </thead>\n",
       "  <tbody>\n",
       "    <tr>\n",
       "      <td>0</td>\n",
       "      <td>GP</td>\n",
       "      <td>F</td>\n",
       "      <td>18</td>\n",
       "      <td>U</td>\n",
       "      <td>NaN</td>\n",
       "      <td>A</td>\n",
       "      <td>4.0</td>\n",
       "      <td>4.0</td>\n",
       "      <td>at_home</td>\n",
       "      <td>teacher</td>\n",
       "      <td>course</td>\n",
       "      <td>mother</td>\n",
       "      <td>2.0</td>\n",
       "      <td>2.0</td>\n",
       "      <td>0.0</td>\n",
       "      <td>yes</td>\n",
       "      <td>no</td>\n",
       "      <td>no</td>\n",
       "      <td>no</td>\n",
       "      <td>yes</td>\n",
       "      <td>-6.0</td>\n",
       "      <td>yes</td>\n",
       "      <td>NaN</td>\n",
       "      <td>no</td>\n",
       "      <td>4.0</td>\n",
       "      <td>3.0</td>\n",
       "      <td>4.0</td>\n",
       "      <td>3.0</td>\n",
       "      <td>6.0</td>\n",
       "      <td>30.0</td>\n",
       "    </tr>\n",
       "    <tr>\n",
       "      <td>1</td>\n",
       "      <td>GP</td>\n",
       "      <td>F</td>\n",
       "      <td>17</td>\n",
       "      <td>U</td>\n",
       "      <td>GT3</td>\n",
       "      <td>NaN</td>\n",
       "      <td>1.0</td>\n",
       "      <td>1.0</td>\n",
       "      <td>at_home</td>\n",
       "      <td>other</td>\n",
       "      <td>course</td>\n",
       "      <td>father</td>\n",
       "      <td>1.0</td>\n",
       "      <td>2.0</td>\n",
       "      <td>0.0</td>\n",
       "      <td>no</td>\n",
       "      <td>yes</td>\n",
       "      <td>no</td>\n",
       "      <td>no</td>\n",
       "      <td>no</td>\n",
       "      <td>-6.0</td>\n",
       "      <td>yes</td>\n",
       "      <td>yes</td>\n",
       "      <td>no</td>\n",
       "      <td>5.0</td>\n",
       "      <td>3.0</td>\n",
       "      <td>3.0</td>\n",
       "      <td>3.0</td>\n",
       "      <td>4.0</td>\n",
       "      <td>30.0</td>\n",
       "    </tr>\n",
       "    <tr>\n",
       "      <td>2</td>\n",
       "      <td>GP</td>\n",
       "      <td>F</td>\n",
       "      <td>15</td>\n",
       "      <td>U</td>\n",
       "      <td>LE3</td>\n",
       "      <td>T</td>\n",
       "      <td>1.0</td>\n",
       "      <td>1.0</td>\n",
       "      <td>at_home</td>\n",
       "      <td>other</td>\n",
       "      <td>other</td>\n",
       "      <td>mother</td>\n",
       "      <td>1.0</td>\n",
       "      <td>2.0</td>\n",
       "      <td>3.0</td>\n",
       "      <td>yes</td>\n",
       "      <td>no</td>\n",
       "      <td>NaN</td>\n",
       "      <td>no</td>\n",
       "      <td>yes</td>\n",
       "      <td>-6.0</td>\n",
       "      <td>yes</td>\n",
       "      <td>yes</td>\n",
       "      <td>NaN</td>\n",
       "      <td>4.0</td>\n",
       "      <td>3.0</td>\n",
       "      <td>2.0</td>\n",
       "      <td>3.0</td>\n",
       "      <td>10.0</td>\n",
       "      <td>50.0</td>\n",
       "    </tr>\n",
       "    <tr>\n",
       "      <td>3</td>\n",
       "      <td>GP</td>\n",
       "      <td>F</td>\n",
       "      <td>15</td>\n",
       "      <td>U</td>\n",
       "      <td>GT3</td>\n",
       "      <td>T</td>\n",
       "      <td>4.0</td>\n",
       "      <td>2.0</td>\n",
       "      <td>health</td>\n",
       "      <td>NaN</td>\n",
       "      <td>home</td>\n",
       "      <td>mother</td>\n",
       "      <td>1.0</td>\n",
       "      <td>3.0</td>\n",
       "      <td>0.0</td>\n",
       "      <td>no</td>\n",
       "      <td>yes</td>\n",
       "      <td>yes</td>\n",
       "      <td>yes</td>\n",
       "      <td>yes</td>\n",
       "      <td>-9.0</td>\n",
       "      <td>yes</td>\n",
       "      <td>yes</td>\n",
       "      <td>yes</td>\n",
       "      <td>3.0</td>\n",
       "      <td>2.0</td>\n",
       "      <td>2.0</td>\n",
       "      <td>5.0</td>\n",
       "      <td>2.0</td>\n",
       "      <td>75.0</td>\n",
       "    </tr>\n",
       "    <tr>\n",
       "      <td>4</td>\n",
       "      <td>GP</td>\n",
       "      <td>F</td>\n",
       "      <td>16</td>\n",
       "      <td>U</td>\n",
       "      <td>GT3</td>\n",
       "      <td>T</td>\n",
       "      <td>3.0</td>\n",
       "      <td>3.0</td>\n",
       "      <td>other</td>\n",
       "      <td>other</td>\n",
       "      <td>home</td>\n",
       "      <td>father</td>\n",
       "      <td>1.0</td>\n",
       "      <td>2.0</td>\n",
       "      <td>0.0</td>\n",
       "      <td>no</td>\n",
       "      <td>yes</td>\n",
       "      <td>yes</td>\n",
       "      <td>no</td>\n",
       "      <td>yes</td>\n",
       "      <td>-6.0</td>\n",
       "      <td>yes</td>\n",
       "      <td>no</td>\n",
       "      <td>no</td>\n",
       "      <td>4.0</td>\n",
       "      <td>3.0</td>\n",
       "      <td>2.0</td>\n",
       "      <td>5.0</td>\n",
       "      <td>4.0</td>\n",
       "      <td>50.0</td>\n",
       "    </tr>\n",
       "  </tbody>\n",
       "</table>\n",
       "</div>"
      ],
      "text/plain": [
       "  school sex  age address famsize Pstatus  Medu  Fedu     Mjob     Fjob  \\\n",
       "0     GP   F   18       U     NaN       A   4.0   4.0  at_home  teacher   \n",
       "1     GP   F   17       U     GT3     NaN   1.0   1.0  at_home    other   \n",
       "2     GP   F   15       U     LE3       T   1.0   1.0  at_home    other   \n",
       "3     GP   F   15       U     GT3       T   4.0   2.0   health      NaN   \n",
       "4     GP   F   16       U     GT3       T   3.0   3.0    other    other   \n",
       "\n",
       "   reason guardian  traveltime  studytime  failures schoolsup famsup paid  \\\n",
       "0  course   mother         2.0        2.0       0.0       yes     no   no   \n",
       "1  course   father         1.0        2.0       0.0        no    yes   no   \n",
       "2   other   mother         1.0        2.0       3.0       yes     no  NaN   \n",
       "3    home   mother         1.0        3.0       0.0        no    yes  yes   \n",
       "4    home   father         1.0        2.0       0.0        no    yes  yes   \n",
       "\n",
       "  activities nursery  studytime, granular higher internet romantic  famrel  \\\n",
       "0         no     yes                 -6.0    yes      NaN       no     4.0   \n",
       "1         no      no                 -6.0    yes      yes       no     5.0   \n",
       "2         no     yes                 -6.0    yes      yes      NaN     4.0   \n",
       "3        yes     yes                 -9.0    yes      yes      yes     3.0   \n",
       "4         no     yes                 -6.0    yes       no       no     4.0   \n",
       "\n",
       "   freetime  goout  health  absences  score  \n",
       "0       3.0    4.0     3.0       6.0   30.0  \n",
       "1       3.0    3.0     3.0       4.0   30.0  \n",
       "2       3.0    2.0     3.0      10.0   50.0  \n",
       "3       2.0    2.0     5.0       2.0   75.0  \n",
       "4       3.0    2.0     5.0       4.0   50.0  "
      ]
     },
     "execution_count": 98,
     "metadata": {},
     "output_type": "execute_result"
    }
   ],
   "source": [
    "df.head()"
   ]
  },
  {
   "cell_type": "code",
   "execution_count": 99,
   "metadata": {},
   "outputs": [
    {
     "name": "stdout",
     "output_type": "stream",
     "text": [
      "<class 'pandas.core.frame.DataFrame'>\n",
      "RangeIndex: 395 entries, 0 to 394\n",
      "Data columns (total 30 columns):\n",
      "school                 395 non-null object\n",
      "sex                    395 non-null object\n",
      "age                    395 non-null int64\n",
      "address                378 non-null object\n",
      "famsize                368 non-null object\n",
      "Pstatus                350 non-null object\n",
      "Medu                   392 non-null float64\n",
      "Fedu                   371 non-null float64\n",
      "Mjob                   376 non-null object\n",
      "Fjob                   359 non-null object\n",
      "reason                 378 non-null object\n",
      "guardian               364 non-null object\n",
      "traveltime             367 non-null float64\n",
      "studytime              388 non-null float64\n",
      "failures               373 non-null float64\n",
      "schoolsup              386 non-null object\n",
      "famsup                 356 non-null object\n",
      "paid                   355 non-null object\n",
      "activities             381 non-null object\n",
      "nursery                379 non-null object\n",
      "studytime, granular    388 non-null float64\n",
      "higher                 375 non-null object\n",
      "internet               361 non-null object\n",
      "romantic               364 non-null object\n",
      "famrel                 368 non-null float64\n",
      "freetime               384 non-null float64\n",
      "goout                  387 non-null float64\n",
      "health                 380 non-null float64\n",
      "absences               383 non-null float64\n",
      "score                  389 non-null float64\n",
      "dtypes: float64(12), int64(1), object(17)\n",
      "memory usage: 92.7+ KB\n"
     ]
    }
   ],
   "source": [
    "df.info()"
   ]
  },
  {
   "cell_type": "markdown",
   "metadata": {},
   "source": [
    "Для удобства переименуем столбцы"
   ]
  },
  {
   "cell_type": "code",
   "execution_count": 100,
   "metadata": {},
   "outputs": [],
   "source": [
    "new_columns = []\n",
    "for col in df.columns:\n",
    "    new_columns.append(col.lower())"
   ]
  },
  {
   "cell_type": "code",
   "execution_count": 101,
   "metadata": {},
   "outputs": [],
   "source": [
    "df.columns = new_columns"
   ]
  },
  {
   "cell_type": "code",
   "execution_count": 102,
   "metadata": {},
   "outputs": [],
   "source": [
    "df = df.rename({'studytime, granular': 'studytime_granular'}, axis=1)"
   ]
  },
  {
   "cell_type": "markdown",
   "metadata": {},
   "source": [
    "Сразу бросается в глаза столбец **studytime, granular** - которого небыло в описании.  \n",
    "Возникло предположение, что этот столбец будет как-то связан со столбцом **studytime**. Помимо похожего названия столбца, одинаковое кол-во заполненных значений. Но значения разные. Стоит проверить на корреляцию"
   ]
  },
  {
   "cell_type": "code",
   "execution_count": 106,
   "metadata": {},
   "outputs": [
    {
     "data": {
      "text/html": [
       "<div>\n",
       "<style scoped>\n",
       "    .dataframe tbody tr th:only-of-type {\n",
       "        vertical-align: middle;\n",
       "    }\n",
       "\n",
       "    .dataframe tbody tr th {\n",
       "        vertical-align: top;\n",
       "    }\n",
       "\n",
       "    .dataframe thead th {\n",
       "        text-align: right;\n",
       "    }\n",
       "</style>\n",
       "<table border=\"1\" class=\"dataframe\">\n",
       "  <thead>\n",
       "    <tr style=\"text-align: right;\">\n",
       "      <th></th>\n",
       "      <th>studytime</th>\n",
       "      <th>studytime_granular</th>\n",
       "    </tr>\n",
       "  </thead>\n",
       "  <tbody>\n",
       "    <tr>\n",
       "      <td>studytime</td>\n",
       "      <td>1.0</td>\n",
       "      <td>-1.0</td>\n",
       "    </tr>\n",
       "    <tr>\n",
       "      <td>studytime_granular</td>\n",
       "      <td>-1.0</td>\n",
       "      <td>1.0</td>\n",
       "    </tr>\n",
       "  </tbody>\n",
       "</table>\n",
       "</div>"
      ],
      "text/plain": [
       "                    studytime  studytime_granular\n",
       "studytime                 1.0                -1.0\n",
       "studytime_granular       -1.0                 1.0"
      ]
     },
     "execution_count": 106,
     "metadata": {},
     "output_type": "execute_result"
    }
   ],
   "source": [
    "df[['studytime', 'studytime_granular']].corr()"
   ]
  },
  {
   "cell_type": "markdown",
   "metadata": {},
   "source": [
    "100% обратная корреляция. Возможно эта оценка умноженная на какой-либо коэфициент.  \n",
    "Смело удаляем столбец **studytime, granular**. Тем более, что его не было в описании :)"
   ]
  },
  {
   "cell_type": "code",
   "execution_count": 107,
   "metadata": {},
   "outputs": [],
   "source": [
    "df = df.drop('studytime_granular', axis=1)"
   ]
  },
  {
   "cell_type": "markdown",
   "metadata": {},
   "source": [
    "Дальше мы проверим, сколько уникальных значений в кажом из столбцов. На основании этого можно бегло сделать вывод, есть ли еще столбцы, которые стоит удалить (Например какие-то уникальные значения для каждой строки)"
   ]
  },
  {
   "cell_type": "code",
   "execution_count": 10,
   "metadata": {},
   "outputs": [
    {
     "name": "stdout",
     "output_type": "stream",
     "text": [
      "2 - уникальных значений в стобце \"school\"\n",
      "2 - уникальных значений в стобце \"sex\"\n",
      "8 - уникальных значений в стобце \"age\"\n",
      "2 - уникальных значений в стобце \"address\"\n",
      "2 - уникальных значений в стобце \"famsize\"\n",
      "2 - уникальных значений в стобце \"pstatus\"\n",
      "5 - уникальных значений в стобце \"medu\"\n",
      "6 - уникальных значений в стобце \"fedu\"\n",
      "5 - уникальных значений в стобце \"mjob\"\n",
      "5 - уникальных значений в стобце \"fjob\"\n",
      "4 - уникальных значений в стобце \"reason\"\n",
      "3 - уникальных значений в стобце \"guardian\"\n",
      "4 - уникальных значений в стобце \"traveltime\"\n",
      "4 - уникальных значений в стобце \"studytime\"\n",
      "4 - уникальных значений в стобце \"failures\"\n",
      "2 - уникальных значений в стобце \"schoolsup\"\n",
      "2 - уникальных значений в стобце \"famsup\"\n",
      "2 - уникальных значений в стобце \"paid\"\n",
      "2 - уникальных значений в стобце \"activities\"\n",
      "2 - уникальных значений в стобце \"nursery\"\n",
      "2 - уникальных значений в стобце \"higher\"\n",
      "2 - уникальных значений в стобце \"internet\"\n",
      "2 - уникальных значений в стобце \"romantic\"\n",
      "6 - уникальных значений в стобце \"famrel\"\n",
      "5 - уникальных значений в стобце \"freetime\"\n",
      "5 - уникальных значений в стобце \"goout\"\n",
      "5 - уникальных значений в стобце \"health\"\n",
      "36 - уникальных значений в стобце \"absences\"\n",
      "18 - уникальных значений в стобце \"score\"\n"
     ]
    }
   ],
   "source": [
    "for col in df.columns:\n",
    "    n = df[col].nunique()\n",
    "    print('{} - уникальных значений в стобце \"{}\"'.format(n, col))"
   ]
  },
  {
   "cell_type": "markdown",
   "metadata": {},
   "source": [
    "В каждом столбце от 2 до 36 уникальных значений. Следовательно на данном этапе оставляем столбцы со всеми значениями"
   ]
  },
  {
   "cell_type": "markdown",
   "metadata": {},
   "source": [
    "Теперь исследуем каждый столбец\n",
    "--"
   ]
  },
  {
   "cell_type": "markdown",
   "metadata": {},
   "source": [
    "Для более быстрой работы напишу функцию"
   ]
  },
  {
   "cell_type": "code",
   "execution_count": 11,
   "metadata": {},
   "outputs": [],
   "source": [
    "def primary_analysis(column):\n",
    "    ''''Принимает на вход название анализируемого столбца\n",
    "        Возвращает - кол-во встречаемых значений а так же \n",
    "        кол-во отсутствующих значений'''\n",
    "    data = pd.DataFrame(df[column].value_counts())\n",
    "    n = df[column].isnull().sum()\n",
    "    \n",
    "    return print(data, '\\n\\n' '{} - Пропущенных значений'.format(n))"
   ]
  },
  {
   "cell_type": "markdown",
   "metadata": {},
   "source": [
    "'school'\n",
    "--\n",
    "аббревиатура школы, в которой учится ученик"
   ]
  },
  {
   "cell_type": "code",
   "execution_count": 12,
   "metadata": {},
   "outputs": [
    {
     "name": "stdout",
     "output_type": "stream",
     "text": [
      "    school\n",
      "GP     349\n",
      "MS      46 \n",
      "\n",
      "0 - Пропущенных значений\n"
     ]
    }
   ],
   "source": [
    "primary_analysis('school')"
   ]
  },
  {
   "cell_type": "markdown",
   "metadata": {},
   "source": [
    "Всего две школы и нет пропущенных значений. Все хорошо, двигаемся дальше"
   ]
  },
  {
   "cell_type": "markdown",
   "metadata": {},
   "source": [
    "'sex'\n",
    "--\n",
    "пол ученика ('F' - женский, 'M' - мужской)"
   ]
  },
  {
   "cell_type": "code",
   "execution_count": 13,
   "metadata": {},
   "outputs": [
    {
     "name": "stdout",
     "output_type": "stream",
     "text": [
      "   sex\n",
      "F  208\n",
      "M  187 \n",
      "\n",
      "0 - Пропущенных значений\n"
     ]
    }
   ],
   "source": [
    "primary_analysis('sex')"
   ]
  },
  {
   "cell_type": "markdown",
   "metadata": {},
   "source": [
    "Тут тоже все хорошо, все значения на месте"
   ]
  },
  {
   "cell_type": "markdown",
   "metadata": {},
   "source": [
    "'age'\n",
    "--\n",
    "возраст ученика (от 15 до 22)"
   ]
  },
  {
   "cell_type": "code",
   "execution_count": 14,
   "metadata": {},
   "outputs": [
    {
     "name": "stdout",
     "output_type": "stream",
     "text": [
      "    age\n",
      "16  104\n",
      "17   98\n",
      "18   82\n",
      "15   82\n",
      "19   24\n",
      "20    3\n",
      "22    1\n",
      "21    1 \n",
      "\n",
      "0 - Пропущенных значений\n"
     ]
    }
   ],
   "source": [
    "primary_analysis('age')"
   ]
  },
  {
   "cell_type": "markdown",
   "metadata": {},
   "source": [
    "Собственно и тут все отлично. Вот бы и дальше так))"
   ]
  },
  {
   "cell_type": "markdown",
   "metadata": {},
   "source": [
    "'address'\n",
    "--\n",
    "тип адреса ученика ('U' - городской, 'R' - за городом)"
   ]
  },
  {
   "cell_type": "code",
   "execution_count": 15,
   "metadata": {},
   "outputs": [
    {
     "name": "stdout",
     "output_type": "stream",
     "text": [
      "   address\n",
      "U      295\n",
      "R       83 \n",
      "\n",
      "17 - Пропущенных значений\n"
     ]
    }
   ],
   "source": [
    "primary_analysis('address')"
   ]
  },
  {
   "cell_type": "markdown",
   "metadata": {},
   "source": [
    "Тут уже встречаются пропущенные значения, но пока трудно сказать, что с ними делать дальше."
   ]
  },
  {
   "cell_type": "markdown",
   "metadata": {},
   "source": [
    "'famsize'\n",
    "--\n",
    "размер семьи('LE3' <= 3, 'GT3' >3)"
   ]
  },
  {
   "cell_type": "code",
   "execution_count": 16,
   "metadata": {},
   "outputs": [
    {
     "name": "stdout",
     "output_type": "stream",
     "text": [
      "     famsize\n",
      "GT3      261\n",
      "LE3      107 \n",
      "\n",
      "27 - Пропущенных значений\n"
     ]
    }
   ],
   "source": [
    "primary_analysis('famsize')"
   ]
  },
  {
   "cell_type": "markdown",
   "metadata": {},
   "source": [
    "Тут уже больше пропусков, но так же не понятно, что с ними делать."
   ]
  },
  {
   "cell_type": "markdown",
   "metadata": {},
   "source": [
    "'pstatus'\n",
    "--\n",
    "статус совместного жилья родителей ('T' - живут вместе 'A' - раздельно)"
   ]
  },
  {
   "cell_type": "code",
   "execution_count": 17,
   "metadata": {},
   "outputs": [
    {
     "name": "stdout",
     "output_type": "stream",
     "text": [
      "   pstatus\n",
      "T      314\n",
      "A       36 \n",
      "\n",
      "45 - Пропущенных значений\n"
     ]
    }
   ],
   "source": [
    "primary_analysis('pstatus')"
   ]
  },
  {
   "cell_type": "markdown",
   "metadata": {},
   "source": [
    "Тут еще больше пропусков. Но здесь есть большой перевес значений 'T' против 'A'.  \n",
    "Можно было бы пропуски заполнить значением 'T', но это наверное не самый лучший вариант.  \n",
    "Пока отложим идею. Возможно в ходе дальнейшего анализа придут идеи получше"
   ]
  },
  {
   "cell_type": "markdown",
   "metadata": {},
   "source": [
    "'medu'\n",
    "--\n",
    "образование матери (0 - нет, 1 - 4 класса, 2 - 5-9 классы, 3 - среднее специальное или 11 классов, 4 - высшее)"
   ]
  },
  {
   "cell_type": "code",
   "execution_count": 18,
   "metadata": {},
   "outputs": [
    {
     "name": "stdout",
     "output_type": "stream",
     "text": [
      "     medu\n",
      "4.0   131\n",
      "2.0   102\n",
      "3.0    97\n",
      "1.0    59\n",
      "0.0     3 \n",
      "\n",
      "3 - Пропущенных значений\n"
     ]
    }
   ],
   "source": [
    "primary_analysis('medu')"
   ]
  },
  {
   "cell_type": "markdown",
   "metadata": {},
   "source": [
    "'fedu'\n",
    "--\n",
    "образование отца (0 - нет, 1 - 4 класса, 2 - 5-9 классы, 3 - среднее специальное или 11 классов, 4 - высшее)"
   ]
  },
  {
   "cell_type": "code",
   "execution_count": 19,
   "metadata": {},
   "outputs": [
    {
     "name": "stdout",
     "output_type": "stream",
     "text": [
      "      fedu\n",
      "2.0    106\n",
      "3.0     96\n",
      "4.0     88\n",
      "1.0     78\n",
      "0.0      2\n",
      "40.0     1 \n",
      "\n",
      "24 - Пропущенных значений\n"
     ]
    }
   ],
   "source": [
    "primary_analysis('fedu')"
   ]
  },
  {
   "cell_type": "markdown",
   "metadata": {},
   "source": [
    "Тут заметно бросается в глаза то - что одно значение значительно выше, да и в описании его нету. Скорее всего - это просто ошибка. Хотели написать 4, а написали 40.  \n",
    "Поэтому смело заменяем на 4 и перепроверяем"
   ]
  },
  {
   "cell_type": "code",
   "execution_count": 20,
   "metadata": {},
   "outputs": [],
   "source": [
    "df['fedu'] = df['fedu'].apply(lambda x: 4 if x == 40 else x)"
   ]
  },
  {
   "cell_type": "code",
   "execution_count": 21,
   "metadata": {},
   "outputs": [
    {
     "name": "stdout",
     "output_type": "stream",
     "text": [
      "     fedu\n",
      "2.0   106\n",
      "3.0    96\n",
      "4.0    89\n",
      "1.0    78\n",
      "0.0     2 \n",
      "\n",
      "24 - Пропущенных значений\n"
     ]
    }
   ],
   "source": [
    "primary_analysis('fedu')"
   ]
  },
  {
   "cell_type": "markdown",
   "metadata": {},
   "source": [
    "Так-то лучше :)"
   ]
  },
  {
   "cell_type": "markdown",
   "metadata": {},
   "source": [
    "'mjob'\n",
    "--\n",
    "работа матери ('teacher' - учитель, 'health' - сфера здравоохранения, 'services' - гос служба, 'at_home' - не работает, 'other' - другое)"
   ]
  },
  {
   "cell_type": "code",
   "execution_count": 22,
   "metadata": {},
   "outputs": [
    {
     "name": "stdout",
     "output_type": "stream",
     "text": [
      "          mjob\n",
      "other      133\n",
      "services    98\n",
      "at_home     58\n",
      "teacher     55\n",
      "health      32 \n",
      "\n",
      "19 - Пропущенных значений\n"
     ]
    }
   ],
   "source": [
    "primary_analysis('mjob')"
   ]
  },
  {
   "cell_type": "markdown",
   "metadata": {},
   "source": [
    "'fjob'\n",
    "--\n",
    "работа отца ('teacher' - учитель, 'health' - сфера здравоохранения, 'services' - гос служба, 'at_home' - не работает, 'other' - другое)"
   ]
  },
  {
   "cell_type": "code",
   "execution_count": 23,
   "metadata": {},
   "outputs": [
    {
     "name": "stdout",
     "output_type": "stream",
     "text": [
      "          fjob\n",
      "other      197\n",
      "services   102\n",
      "teacher     29\n",
      "at_home     16\n",
      "health      15 \n",
      "\n",
      "36 - Пропущенных значений\n"
     ]
    }
   ],
   "source": [
    "primary_analysis('fjob')"
   ]
  },
  {
   "cell_type": "markdown",
   "metadata": {},
   "source": [
    "'reason'\n",
    "--\n",
    "причина выбора школы ('home' - близость к дому, 'reputation' - репутация школы, 'course' - образовательная программа, 'other' - другое)"
   ]
  },
  {
   "cell_type": "code",
   "execution_count": 24,
   "metadata": {},
   "outputs": [
    {
     "name": "stdout",
     "output_type": "stream",
     "text": [
      "            reason\n",
      "course         137\n",
      "home           104\n",
      "reputation     103\n",
      "other           34 \n",
      "\n",
      "17 - Пропущенных значений\n"
     ]
    }
   ],
   "source": [
    "primary_analysis('reason')"
   ]
  },
  {
   "cell_type": "markdown",
   "metadata": {},
   "source": [
    "'guardian'\n",
    "--\n",
    "опекун ('mother' - мать, 'father' - отец, 'other' - другое)"
   ]
  },
  {
   "cell_type": "code",
   "execution_count": 25,
   "metadata": {},
   "outputs": [
    {
     "name": "stdout",
     "output_type": "stream",
     "text": [
      "        guardian\n",
      "mother       250\n",
      "father        86\n",
      "other         28 \n",
      "\n",
      "31 - Пропущенных значений\n"
     ]
    }
   ],
   "source": [
    "primary_analysis('guardian')"
   ]
  },
  {
   "cell_type": "markdown",
   "metadata": {},
   "source": [
    "'traveltime'\n",
    "--\n",
    "время в пути до школы (1 - <15 мин., 2 - 15-30 мин., 3 - 30-60 мин., 4 - >60 мин.)"
   ]
  },
  {
   "cell_type": "code",
   "execution_count": 26,
   "metadata": {},
   "outputs": [
    {
     "name": "stdout",
     "output_type": "stream",
     "text": [
      "     traveltime\n",
      "1.0         242\n",
      "2.0          96\n",
      "3.0          22\n",
      "4.0           7 \n",
      "\n",
      "28 - Пропущенных значений\n"
     ]
    }
   ],
   "source": [
    "primary_analysis('traveltime')"
   ]
  },
  {
   "cell_type": "markdown",
   "metadata": {},
   "source": [
    "'studytime'\n",
    "--\n",
    "время на учёбу помимо школы в неделю (1 - <2 часов, 2 - 2-5 часов, 3 - 5-10 часов, 4 - >10 часов)"
   ]
  },
  {
   "cell_type": "code",
   "execution_count": 27,
   "metadata": {},
   "outputs": [
    {
     "name": "stdout",
     "output_type": "stream",
     "text": [
      "     studytime\n",
      "2.0        194\n",
      "1.0        103\n",
      "3.0         64\n",
      "4.0         27 \n",
      "\n",
      "7 - Пропущенных значений\n"
     ]
    }
   ],
   "source": [
    "primary_analysis('studytime')"
   ]
  },
  {
   "cell_type": "markdown",
   "metadata": {},
   "source": [
    "'failures'\n",
    "--\n",
    "количество внеучебных неудач (n, если 1<=n<=3, иначе 0)"
   ]
  },
  {
   "cell_type": "code",
   "execution_count": 28,
   "metadata": {},
   "outputs": [
    {
     "name": "stdout",
     "output_type": "stream",
     "text": [
      "     failures\n",
      "0.0       293\n",
      "1.0        49\n",
      "2.0        16\n",
      "3.0        15 \n",
      "\n",
      "22 - Пропущенных значений\n"
     ]
    }
   ],
   "source": [
    "primary_analysis('failures')"
   ]
  },
  {
   "cell_type": "markdown",
   "metadata": {},
   "source": [
    "'schoolsup'\n",
    "--\n",
    "дополнительная образовательная поддержка (yes или no)"
   ]
  },
  {
   "cell_type": "code",
   "execution_count": 29,
   "metadata": {},
   "outputs": [
    {
     "name": "stdout",
     "output_type": "stream",
     "text": [
      "     schoolsup\n",
      "no         335\n",
      "yes         51 \n",
      "\n",
      "9 - Пропущенных значений\n"
     ]
    }
   ],
   "source": [
    "primary_analysis('schoolsup')"
   ]
  },
  {
   "cell_type": "markdown",
   "metadata": {},
   "source": [
    "'famsup'\n",
    "--\n",
    "семейная образовательная поддержка (yes или no)"
   ]
  },
  {
   "cell_type": "code",
   "execution_count": 30,
   "metadata": {},
   "outputs": [
    {
     "name": "stdout",
     "output_type": "stream",
     "text": [
      "     famsup\n",
      "yes     219\n",
      "no      137 \n",
      "\n",
      "39 - Пропущенных значений\n"
     ]
    }
   ],
   "source": [
    "primary_analysis('famsup')"
   ]
  },
  {
   "cell_type": "markdown",
   "metadata": {},
   "source": [
    "'paid'\n",
    "--\n",
    "дополнительные платные занятия по математике (yes или no)"
   ]
  },
  {
   "cell_type": "code",
   "execution_count": 31,
   "metadata": {},
   "outputs": [
    {
     "name": "stdout",
     "output_type": "stream",
     "text": [
      "     paid\n",
      "no    200\n",
      "yes   155 \n",
      "\n",
      "40 - Пропущенных значений\n"
     ]
    }
   ],
   "source": [
    "primary_analysis('paid')"
   ]
  },
  {
   "cell_type": "markdown",
   "metadata": {},
   "source": [
    "'activities'\n",
    "--\n",
    "дополнительные внеучебные занятия (yes или no)"
   ]
  },
  {
   "cell_type": "code",
   "execution_count": 32,
   "metadata": {},
   "outputs": [
    {
     "name": "stdout",
     "output_type": "stream",
     "text": [
      "     activities\n",
      "yes         195\n",
      "no          186 \n",
      "\n",
      "14 - Пропущенных значений\n"
     ]
    }
   ],
   "source": [
    "primary_analysis('activities')"
   ]
  },
  {
   "cell_type": "markdown",
   "metadata": {},
   "source": [
    "'nursery'\n",
    "--\n",
    "посещал детский сад (yes или no)"
   ]
  },
  {
   "cell_type": "code",
   "execution_count": 33,
   "metadata": {},
   "outputs": [
    {
     "name": "stdout",
     "output_type": "stream",
     "text": [
      "     nursery\n",
      "yes      300\n",
      "no        79 \n",
      "\n",
      "16 - Пропущенных значений\n"
     ]
    }
   ],
   "source": [
    "primary_analysis('nursery')"
   ]
  },
  {
   "cell_type": "markdown",
   "metadata": {},
   "source": [
    "'higher'\n",
    "--\n",
    "хочет получить высшее образование (yes или no)"
   ]
  },
  {
   "cell_type": "code",
   "execution_count": 34,
   "metadata": {},
   "outputs": [
    {
     "name": "stdout",
     "output_type": "stream",
     "text": [
      "     higher\n",
      "yes     356\n",
      "no       19 \n",
      "\n",
      "20 - Пропущенных значений\n"
     ]
    }
   ],
   "source": [
    "primary_analysis('higher')"
   ]
  },
  {
   "cell_type": "markdown",
   "metadata": {},
   "source": [
    "'internet'\n",
    "--\n",
    "наличие интернета дома (yes или no)"
   ]
  },
  {
   "cell_type": "code",
   "execution_count": 35,
   "metadata": {},
   "outputs": [
    {
     "name": "stdout",
     "output_type": "stream",
     "text": [
      "     internet\n",
      "yes       305\n",
      "no         56 \n",
      "\n",
      "34 - Пропущенных значений\n"
     ]
    }
   ],
   "source": [
    "primary_analysis('internet')"
   ]
  },
  {
   "cell_type": "markdown",
   "metadata": {},
   "source": [
    "'romantic'\n",
    "--\n",
    "в романтических отношениях (yes или no)"
   ]
  },
  {
   "cell_type": "code",
   "execution_count": 36,
   "metadata": {},
   "outputs": [
    {
     "name": "stdout",
     "output_type": "stream",
     "text": [
      "     romantic\n",
      "no        240\n",
      "yes       124 \n",
      "\n",
      "31 - Пропущенных значений\n"
     ]
    }
   ],
   "source": [
    "primary_analysis('romantic')"
   ]
  },
  {
   "cell_type": "markdown",
   "metadata": {},
   "source": [
    "'famrel'\n",
    "--\n",
    "семейные отношения (от 1 - очень плохо до 5 - очень хорошо)"
   ]
  },
  {
   "cell_type": "code",
   "execution_count": 37,
   "metadata": {},
   "outputs": [
    {
     "name": "stdout",
     "output_type": "stream",
     "text": [
      "      famrel\n",
      " 4.0     182\n",
      " 5.0      99\n",
      " 3.0      62\n",
      " 2.0      17\n",
      " 1.0       7\n",
      "-1.0       1 \n",
      "\n",
      "27 - Пропущенных значений\n"
     ]
    }
   ],
   "source": [
    "primary_analysis('famrel')"
   ]
  },
  {
   "cell_type": "markdown",
   "metadata": {},
   "source": [
    "Споймали одно отрицательное значение, которого не может быть. Скорее всего это тоже ошибка и должно быть 1, вместо -1"
   ]
  },
  {
   "cell_type": "code",
   "execution_count": 38,
   "metadata": {},
   "outputs": [],
   "source": [
    "df['famrel'] = df['famrel'].apply(lambda x: 1 if x == -1 else x)"
   ]
  },
  {
   "cell_type": "code",
   "execution_count": 39,
   "metadata": {},
   "outputs": [
    {
     "name": "stdout",
     "output_type": "stream",
     "text": [
      "     famrel\n",
      "4.0     182\n",
      "5.0      99\n",
      "3.0      62\n",
      "2.0      17\n",
      "1.0       8 \n",
      "\n",
      "27 - Пропущенных значений\n"
     ]
    }
   ],
   "source": [
    "primary_analysis('famrel')"
   ]
  },
  {
   "cell_type": "markdown",
   "metadata": {},
   "source": [
    "'freetime'\n",
    "--\n",
    "свободное время после школы (от 1 - очень мало до 5 - очень мого)"
   ]
  },
  {
   "cell_type": "code",
   "execution_count": 40,
   "metadata": {},
   "outputs": [
    {
     "name": "stdout",
     "output_type": "stream",
     "text": [
      "     freetime\n",
      "3.0       153\n",
      "4.0       112\n",
      "2.0        63\n",
      "5.0        38\n",
      "1.0        18 \n",
      "\n",
      "11 - Пропущенных значений\n"
     ]
    }
   ],
   "source": [
    "primary_analysis('freetime')"
   ]
  },
  {
   "cell_type": "markdown",
   "metadata": {},
   "source": [
    "'goout'\n",
    "--\n",
    "проведение времени с друзьями (от 1 - очень мало до 5 - очень много)"
   ]
  },
  {
   "cell_type": "code",
   "execution_count": 41,
   "metadata": {},
   "outputs": [
    {
     "name": "stdout",
     "output_type": "stream",
     "text": [
      "     goout\n",
      "3.0    127\n",
      "2.0    101\n",
      "4.0     84\n",
      "5.0     52\n",
      "1.0     23 \n",
      "\n",
      "8 - Пропущенных значений\n"
     ]
    }
   ],
   "source": [
    "primary_analysis('goout')"
   ]
  },
  {
   "cell_type": "markdown",
   "metadata": {},
   "source": [
    "'health'\n",
    "--\n",
    "текущее состояние здоровья (от 1 - очень плохо до 5 - очень хорошо)"
   ]
  },
  {
   "cell_type": "code",
   "execution_count": 42,
   "metadata": {},
   "outputs": [
    {
     "name": "stdout",
     "output_type": "stream",
     "text": [
      "     health\n",
      "5.0     138\n",
      "3.0      89\n",
      "4.0      63\n",
      "1.0      47\n",
      "2.0      43 \n",
      "\n",
      "15 - Пропущенных значений\n"
     ]
    }
   ],
   "source": [
    "primary_analysis('health')"
   ]
  },
  {
   "cell_type": "markdown",
   "metadata": {},
   "source": [
    "'absences'\n",
    "--\n",
    "количество пропущенных занятий"
   ]
  },
  {
   "cell_type": "code",
   "execution_count": 43,
   "metadata": {},
   "outputs": [
    {
     "name": "stdout",
     "output_type": "stream",
     "text": [
      "       absences\n",
      "0.0         111\n",
      "2.0          60\n",
      "4.0          53\n",
      "6.0          31\n",
      "8.0          21\n",
      "10.0         17\n",
      "12.0         12\n",
      "14.0         12\n",
      "3.0           8\n",
      "16.0          7\n",
      "7.0           6\n",
      "5.0           5\n",
      "18.0          5\n",
      "20.0          4\n",
      "22.0          3\n",
      "9.0           3\n",
      "1.0           3\n",
      "15.0          2\n",
      "13.0          2\n",
      "11.0          2\n",
      "25.0          1\n",
      "54.0          1\n",
      "385.0         1\n",
      "26.0          1\n",
      "56.0          1\n",
      "24.0          1\n",
      "212.0         1\n",
      "21.0          1\n",
      "75.0          1\n",
      "30.0          1\n",
      "19.0          1\n",
      "38.0          1\n",
      "40.0          1\n",
      "23.0          1\n",
      "17.0          1\n",
      "28.0          1 \n",
      "\n",
      "12 - Пропущенных значений\n"
     ]
    }
   ],
   "source": [
    "primary_analysis('absences')"
   ]
  },
  {
   "cell_type": "markdown",
   "metadata": {},
   "source": [
    "'score'\n",
    "--\n",
    "баллы по госэкзамену по математике"
   ]
  },
  {
   "cell_type": "code",
   "execution_count": 44,
   "metadata": {},
   "outputs": [
    {
     "name": "stdout",
     "output_type": "stream",
     "text": [
      "       score\n",
      "50.0      54\n",
      "55.0      46\n",
      "0.0       37\n",
      "75.0      33\n",
      "65.0      31\n",
      "40.0      31\n",
      "60.0      31\n",
      "70.0      27\n",
      "45.0      27\n",
      "80.0      16\n",
      "30.0      15\n",
      "90.0      12\n",
      "35.0       9\n",
      "25.0       7\n",
      "85.0       6\n",
      "95.0       5\n",
      "100.0      1\n",
      "20.0       1 \n",
      "\n",
      "6 - Пропущенных значений\n"
     ]
    }
   ],
   "source": [
    "primary_analysis('score')"
   ]
  },
  {
   "cell_type": "markdown",
   "metadata": {},
   "source": [
    "Итоги первичной обработки\n",
    "--\n",
    "- Таблица заполнена правильно. Каждый столбец соержит те же значения, что и в документации\n",
    "- Было всего 2 ошибки в данных, все испавлено\n",
    "- Кол-во пропущенных значений инода доходит до 40. Но нету четкого решения, что с ними делать. \n",
    "- Предположения по заполнению пропусков следующие: заполнять медианным значением, или наиболее часто встречаемым. К сожалению в курсе таких кейсов не разбирали"
   ]
  },
  {
   "cell_type": "markdown",
   "metadata": {},
   "source": [
    "Распределение числового признака\n",
    "--"
   ]
  },
  {
   "cell_type": "markdown",
   "metadata": {},
   "source": [
    "Числовые признаки содержат следующие столбцы:  \n",
    "- age\n",
    "- absences\n",
    "- score"
   ]
  },
  {
   "cell_type": "markdown",
   "metadata": {},
   "source": [
    "Для начала проверим наличие выбросов как таковых"
   ]
  },
  {
   "cell_type": "code",
   "execution_count": 45,
   "metadata": {},
   "outputs": [],
   "source": [
    "numeric_columns = ['age', 'absences', 'score']"
   ]
  },
  {
   "cell_type": "code",
   "execution_count": 46,
   "metadata": {},
   "outputs": [
    {
     "name": "stdout",
     "output_type": "stream",
     "text": [
      "Столбец age имеет 1 выбросов\n",
      "Столбец absences имеет 17 выбросов\n"
     ]
    }
   ],
   "source": [
    "outlier_col = []\n",
    "\n",
    "for col in numeric_columns:\n",
    "    perc25 = df.describe().loc['25%', col]\n",
    "    perc75 = df.describe().loc['75%', col]\n",
    "    iqr = perc75 - perc25\n",
    "    low = perc25 - 1.5*iqr\n",
    "    high = perc75 + 1.5*iqr\n",
    "    \n",
    "    outlier_count = df[(df[col] < low) | (df[col] > high)][col].count()\n",
    "    \n",
    "    if outlier_count >= 1:\n",
    "        print('Столбец {} имеет {} выбросов'.format(col, outlier_count))\n",
    "        outlier_col.append(col)"
   ]
  },
  {
   "cell_type": "markdown",
   "metadata": {},
   "source": [
    "Посмотрим на выбросы более детально"
   ]
  },
  {
   "cell_type": "markdown",
   "metadata": {},
   "source": [
    "Age\n",
    "--"
   ]
  },
  {
   "cell_type": "code",
   "execution_count": 47,
   "metadata": {},
   "outputs": [
    {
     "data": {
      "text/plain": [
       "<matplotlib.axes._subplots.AxesSubplot at 0x20f5d551e08>"
      ]
     },
     "execution_count": 47,
     "metadata": {},
     "output_type": "execute_result"
    },
    {
     "data": {
      "image/png": "[encoded data removed]",
      "text/plain": [
       "<Figure size 432x288 with 1 Axes>"
      ]
     },
     "metadata": {
      "needs_background": "light"
     },
     "output_type": "display_data"
    }
   ],
   "source": [
    "df['age'].plot(kind='box')"
   ]
  },
  {
   "cell_type": "markdown",
   "metadata": {},
   "source": [
    "В случае со столбцом **age**, не засчитаем это за выброс, т.к. в описании указано, что значения до 22 лет. Возможно кто-то плохо учился и его оставляли на 2 год ;)"
   ]
  },
  {
   "cell_type": "markdown",
   "metadata": {},
   "source": [
    "Absences\n",
    "--"
   ]
  },
  {
   "cell_type": "code",
   "execution_count": 48,
   "metadata": {
    "scrolled": false
   },
   "outputs": [
    {
     "data": {
      "text/plain": [
       "<matplotlib.axes._subplots.AxesSubplot at 0x20f5d87bd88>"
      ]
     },
     "execution_count": 48,
     "metadata": {},
     "output_type": "execute_result"
    },
    {
     "data": {
      "image/png": "[encoded data removed]",
      "text/plain": [
       "<Figure size 720x720 with 1 Axes>"
      ]
     },
     "metadata": {
      "needs_background": "light"
     },
     "output_type": "display_data"
    }
   ],
   "source": [
    "df[['absences']].plot(kind='box', ylim=(0, 400), figsize=(10, 10))"
   ]
  },
  {
   "cell_type": "code",
   "execution_count": 49,
   "metadata": {
    "scrolled": false
   },
   "outputs": [
    {
     "data": {
      "text/plain": [
       "<matplotlib.axes._subplots.AxesSubplot at 0x20f5db0e748>"
      ]
     },
     "execution_count": 49,
     "metadata": {},
     "output_type": "execute_result"
    },
    {
     "data": {
      "image/png": "[encoded data removed]",
      "text/plain": [
       "<Figure size 1440x720 with 1 Axes>"
      ]
     },
     "metadata": {
      "needs_background": "light"
     },
     "output_type": "display_data"
    }
   ],
   "source": [
    "df['absences'].hist(bins=50, figsize=(20, 10))"
   ]
  },
  {
   "cell_type": "code",
   "execution_count": 108,
   "metadata": {},
   "outputs": [
    {
     "name": "stdout",
     "output_type": "stream",
     "text": [
      "Верхняя граница выброса - 20.0\n"
     ]
    }
   ],
   "source": [
    "perc25 = df['absences'].describe().loc['25%']\n",
    "perc75 = df['absences'].describe().loc['75%']\n",
    "iqr = perc75 - perc25\n",
    "high = perc75 + 1.5*iqr\n",
    "print('Верхняя граница выброса -', high)"
   ]
  },
  {
   "cell_type": "code",
   "execution_count": 51,
   "metadata": {},
   "outputs": [
    {
     "data": {
      "text/plain": [
       "0.0      111\n",
       "1.0        3\n",
       "2.0       60\n",
       "3.0        8\n",
       "4.0       53\n",
       "5.0        5\n",
       "6.0       31\n",
       "7.0        6\n",
       "8.0       21\n",
       "9.0        3\n",
       "10.0      17\n",
       "11.0       2\n",
       "12.0      12\n",
       "13.0       2\n",
       "14.0      12\n",
       "15.0       2\n",
       "16.0       7\n",
       "17.0       1\n",
       "18.0       5\n",
       "19.0       1\n",
       "20.0       4\n",
       "21.0       1\n",
       "22.0       3\n",
       "23.0       1\n",
       "24.0       1\n",
       "25.0       1\n",
       "26.0       1\n",
       "28.0       1\n",
       "30.0       1\n",
       "38.0       1\n",
       "40.0       1\n",
       "54.0       1\n",
       "56.0       1\n",
       "75.0       1\n",
       "212.0      1\n",
       "385.0      1\n",
       "Name: absences, dtype: int64"
      ]
     },
     "execution_count": 51,
     "metadata": {},
     "output_type": "execute_result"
    }
   ],
   "source": [
    "df['absences'].value_counts().sort_index()"
   ]
  },
  {
   "cell_type": "markdown",
   "metadata": {},
   "source": [
    "Верхняя граница выбросов - 20. Но, например, значение 22 встречается 3 раза. Выброс это? Скорее нет.  \n",
    "Так же если мы посмотрим выбросы (значения выше 20), то видим что между значениями не очень большой шаг. Поэтому делаю вывод, что есть только 2 выброса (212 и 385). Их и удалим и заменим на наиболее часто встречаемые значения."
   ]
  },
  {
   "cell_type": "code",
   "execution_count": 52,
   "metadata": {},
   "outputs": [],
   "source": [
    "df['absences'] = df['absences'].apply(lambda x: 0 if x >= 212 else x)"
   ]
  },
  {
   "cell_type": "code",
   "execution_count": 53,
   "metadata": {},
   "outputs": [
    {
     "data": {
      "text/plain": [
       "0.0     113\n",
       "1.0       3\n",
       "2.0      60\n",
       "3.0       8\n",
       "4.0      53\n",
       "5.0       5\n",
       "6.0      31\n",
       "7.0       6\n",
       "8.0      21\n",
       "9.0       3\n",
       "10.0     17\n",
       "11.0      2\n",
       "12.0     12\n",
       "13.0      2\n",
       "14.0     12\n",
       "15.0      2\n",
       "16.0      7\n",
       "17.0      1\n",
       "18.0      5\n",
       "19.0      1\n",
       "20.0      4\n",
       "21.0      1\n",
       "22.0      3\n",
       "23.0      1\n",
       "24.0      1\n",
       "25.0      1\n",
       "26.0      1\n",
       "28.0      1\n",
       "30.0      1\n",
       "38.0      1\n",
       "40.0      1\n",
       "54.0      1\n",
       "56.0      1\n",
       "75.0      1\n",
       "Name: absences, dtype: int64"
      ]
     },
     "execution_count": 53,
     "metadata": {},
     "output_type": "execute_result"
    }
   ],
   "source": [
    "df['absences'].value_counts().sort_index()"
   ]
  },
  {
   "cell_type": "markdown",
   "metadata": {},
   "source": [
    "Score\n",
    "--"
   ]
  },
  {
   "cell_type": "code",
   "execution_count": 54,
   "metadata": {},
   "outputs": [
    {
     "data": {
      "text/plain": [
       "<matplotlib.axes._subplots.AxesSubplot at 0x20f5d9dda08>"
      ]
     },
     "execution_count": 54,
     "metadata": {},
     "output_type": "execute_result"
    },
    {
     "data": {
      "image/png": "[encoded data removed]",
      "text/plain": [
       "<Figure size 432x288 with 1 Axes>"
      ]
     },
     "metadata": {
      "needs_background": "light"
     },
     "output_type": "display_data"
    }
   ],
   "source": [
    "df['score'].hist()"
   ]
  },
  {
   "cell_type": "code",
   "execution_count": 55,
   "metadata": {},
   "outputs": [
    {
     "data": {
      "text/plain": [
       "0.0     37\n",
       "20.0     1\n",
       "25.0     7\n",
       "30.0    15\n",
       "35.0     9\n",
       "Name: score, dtype: int64"
      ]
     },
     "execution_count": 55,
     "metadata": {},
     "output_type": "execute_result"
    }
   ],
   "source": [
    "df['score'].value_counts().sort_index().head()"
   ]
  },
  {
   "cell_type": "markdown",
   "metadata": {},
   "source": [
    "В данном случае меня смущает значение 0, Неужели можно набрать 0 баллов на экзамене? Тем более, что следующее значение 20. Т.е. 37 человек набрали 0, и ни кто не набрал 5, 10, 15. Я бы убирал все, что с нулем"
   ]
  },
  {
   "cell_type": "markdown",
   "metadata": {},
   "source": [
    "Корреляционный анализ\n",
    "--"
   ]
  },
  {
   "cell_type": "code",
   "execution_count": 56,
   "metadata": {},
   "outputs": [],
   "source": [
    "numeric_values = df[numeric_columns]"
   ]
  },
  {
   "cell_type": "code",
   "execution_count": 57,
   "metadata": {},
   "outputs": [
    {
     "name": "stderr",
     "output_type": "stream",
     "text": [
      "E:\\Anaconda\\lib\\site-packages\\numpy\\lib\\histograms.py:824: RuntimeWarning: invalid value encountered in greater_equal\n",
      "  keep = (tmp_a >= first_edge)\n",
      "E:\\Anaconda\\lib\\site-packages\\numpy\\lib\\histograms.py:825: RuntimeWarning: invalid value encountered in less_equal\n",
      "  keep &= (tmp_a <= last_edge)\n"
     ]
    },
    {
     "data": {
      "text/plain": [
       "<seaborn.axisgrid.PairGrid at 0x20f5da540c8>"
      ]
     },
     "execution_count": 57,
     "metadata": {},
     "output_type": "execute_result"
    },
    {
     "data": {
      "image/png": "[encoded data removed]",
      "text/plain": [
       "<Figure size 540x540 with 12 Axes>"
      ]
     },
     "metadata": {
      "needs_background": "light"
     },
     "output_type": "display_data"
    }
   ],
   "source": [
    "sns.pairplot(numeric_values, kind = 'reg')"
   ]
  },
  {
   "cell_type": "code",
   "execution_count": 58,
   "metadata": {},
   "outputs": [
    {
     "data": {
      "text/html": [
       "<div>\n",
       "<style scoped>\n",
       "    .dataframe tbody tr th:only-of-type {\n",
       "        vertical-align: middle;\n",
       "    }\n",
       "\n",
       "    .dataframe tbody tr th {\n",
       "        vertical-align: top;\n",
       "    }\n",
       "\n",
       "    .dataframe thead th {\n",
       "        text-align: right;\n",
       "    }\n",
       "</style>\n",
       "<table border=\"1\" class=\"dataframe\">\n",
       "  <thead>\n",
       "    <tr style=\"text-align: right;\">\n",
       "      <th></th>\n",
       "      <th>age</th>\n",
       "      <th>absences</th>\n",
       "      <th>score</th>\n",
       "    </tr>\n",
       "  </thead>\n",
       "  <tbody>\n",
       "    <tr>\n",
       "      <td>age</td>\n",
       "      <td>1.000000</td>\n",
       "      <td>0.161195</td>\n",
       "      <td>-0.155726</td>\n",
       "    </tr>\n",
       "    <tr>\n",
       "      <td>absences</td>\n",
       "      <td>0.161195</td>\n",
       "      <td>1.000000</td>\n",
       "      <td>0.029421</td>\n",
       "    </tr>\n",
       "    <tr>\n",
       "      <td>score</td>\n",
       "      <td>-0.155726</td>\n",
       "      <td>0.029421</td>\n",
       "      <td>1.000000</td>\n",
       "    </tr>\n",
       "  </tbody>\n",
       "</table>\n",
       "</div>"
      ],
      "text/plain": [
       "               age  absences     score\n",
       "age       1.000000  0.161195 -0.155726\n",
       "absences  0.161195  1.000000  0.029421\n",
       "score    -0.155726  0.029421  1.000000"
      ]
     },
     "execution_count": 58,
     "metadata": {},
     "output_type": "execute_result"
    }
   ],
   "source": [
    "numeric_values.corr()"
   ]
  },
  {
   "cell_type": "markdown",
   "metadata": {},
   "source": [
    "Корреляция числовых столбцов не наблюдается\n"
   ]
  },
  {
   "cell_type": "markdown",
   "metadata": {},
   "source": [
    "Изучим корреляцию количественных переменных"
   ]
  },
  {
   "cell_type": "code",
   "execution_count": 59,
   "metadata": {},
   "outputs": [],
   "source": [
    "other_columns = ['school', 'sex', 'address', 'famsize', 'pstatus', 'medu', 'fedu',\n",
    "       'mjob', 'fjob', 'reason', 'guardian', 'traveltime', 'studytime',\n",
    "       'failures', 'schoolsup', 'famsup', 'paid', 'activities', 'nursery',\n",
    "       'higher', 'internet', 'romantic', 'famrel', 'freetime', 'goout',\n",
    "       'health']"
   ]
  },
  {
   "cell_type": "code",
   "execution_count": 109,
   "metadata": {},
   "outputs": [],
   "source": [
    "def get_boxplot(column):\n",
    "    ''''Получает на вход название столбца и возвращает boxplot для корреляции не числовых признаков'''\n",
    "    fig, ax = plt.subplots(figsize = (14, 4))\n",
    "    sns.boxplot(x=column, y='score', \n",
    "                data=df.loc[df.loc[:, column].isin(df.loc[:, column].value_counts().index)],\n",
    "               ax=ax)\n",
    "    plt.xticks(rotation=45)\n",
    "    ax.set_title('Boxplot for ' + column)\n",
    "    plt.show()"
   ]
  },
  {
   "cell_type": "code",
   "execution_count": 110,
   "metadata": {},
   "outputs": [
    {
     "data": {
      "image/png": "[encoded data removed]",
      "text/plain": [
       "<Figure size 1008x288 with 1 Axes>"
      ]
     },
     "metadata": {
      "needs_background": "light"
     },
     "output_type": "display_data"
    },
    {
     "data": {
      "image/png": "[encoded data removed]",
      "text/plain": [
       "<Figure size 1008x288 with 1 Axes>"
      ]
     },
     "metadata": {
      "needs_background": "light"
     },
     "output_type": "display_data"
    },
    {
     "data": {
      "image/png": "[encoded data removed]",
      "text/plain": [
       "<Figure size 1008x288 with 1 Axes>"
      ]
     },
     "metadata": {
      "needs_background": "light"
     },
     "output_type": "display_data"
    },
    {
     "data": {
      "image/png": "[encoded data removed]",
      "text/plain": [
       "<Figure size 1008x288 with 1 Axes>"
      ]
     },
     "metadata": {
      "needs_background": "light"
     },
     "output_type": "display_data"
    },
    {
     "data": {
      "image/png": "[encoded data removed]",
      "text/plain": [
       "<Figure size 1008x288 with 1 Axes>"
      ]
     },
     "metadata": {
      "needs_background": "light"
     },
     "output_type": "display_data"
    },
    {
     "data": {
      "image/png": "[encoded data removed]",
      "text/plain": [
       "<Figure size 1008x288 with 1 Axes>"
      ]
     },
     "metadata": {
      "needs_background": "light"
     },
     "output_type": "display_data"
    },
    {
     "data": {
      "image/png": "[encoded data removed]",
      "text/plain": [
       "<Figure size 1008x288 with 1 Axes>"
      ]
     },
     "metadata": {
      "needs_background": "light"
     },
     "output_type": "display_data"
    },
    {
     "data": {
      "image/png": "[encoded data removed]",
      "text/plain": [
       "<Figure size 1008x288 with 1 Axes>"
      ]
     },
     "metadata": {
      "needs_background": "light"
     },
     "output_type": "display_data"
    },
    {
     "data": {
      "image/png": "[encoded data removed]",
      "text/plain": [
       "<Figure size 1008x288 with 1 Axes>"
      ]
     },
     "metadata": {
      "needs_background": "light"
     },
     "output_type": "display_data"
    },
    {
     "data": {
      "image/png": "[encoded data removed]",
      "text/plain": [
       "<Figure size 1008x288 with 1 Axes>"
      ]
     },
     "metadata": {
      "needs_background": "light"
     },
     "output_type": "display_data"
    },
    {
     "data": {
      "image/png": "[encoded data removed]",
      "text/plain": [
       "<Figure size 1008x288 with 1 Axes>"
      ]
     },
     "metadata": {
      "needs_background": "light"
     },
     "output_type": "display_data"
    },
    {
     "data": {
      "image/png": "[encoded data removed]",
      "text/plain": [
       "<Figure size 1008x288 with 1 Axes>"
      ]
     },
     "metadata": {
      "needs_background": "light"
     },
     "output_type": "display_data"
    },
    {
     "data": {
      "image/png": "[encoded data removed]",
      "text/plain": [
       "<Figure size 1008x288 with 1 Axes>"
      ]
     },
     "metadata": {
      "needs_background": "light"
     },
     "output_type": "display_data"
    },
    {
     "data": {
      "image/png": "[encoded data removed]",
      "text/plain": [
       "<Figure size 1008x288 with 1 Axes>"
      ]
     },
     "metadata": {
      "needs_background": "light"
     },
     "output_type": "display_data"
    },
    {
     "data": {
      "image/png": "[encoded data removed]",
      "text/plain": [
       "<Figure size 1008x288 with 1 Axes>"
      ]
     },
     "metadata": {
      "needs_background": "light"
     },
     "output_type": "display_data"
    },
    {
     "data": {
      "image/png": "[encoded data removed]",
      "text/plain": [
       "<Figure size 1008x288 with 1 Axes>"
      ]
     },
     "metadata": {
      "needs_background": "light"
     },
     "output_type": "display_data"
    },
    {
     "data": {
      "image/png": "[encoded data removed]",
      "text/plain": [
       "<Figure size 1008x288 with 1 Axes>"
      ]
     },
     "metadata": {
      "needs_background": "light"
     },
     "output_type": "display_data"
    },
    {
     "data": {
      "image/png": "[encoded data removed]",
      "text/plain": [
       "<Figure size 1008x288 with 1 Axes>"
      ]
     },
     "metadata": {
      "needs_background": "light"
     },
     "output_type": "display_data"
    },
    {
     "data": {
      "image/png": "[encoded data removed]",
      "text/plain": [
       "<Figure size 1008x288 with 1 Axes>"
      ]
     },
     "metadata": {
      "needs_background": "light"
     },
     "output_type": "display_data"
    },
    {
     "data": {
      "image/png": "[encoded data removed]",
      "text/plain": [
       "<Figure size 1008x288 with 1 Axes>"
      ]
     },
     "metadata": {
      "needs_background": "light"
     },
     "output_type": "display_data"
    },
    {
     "data": {
      "image/png": "[encoded data removed]",
      "text/plain": [
       "<Figure size 1008x288 with 1 Axes>"
      ]
     },
     "metadata": {
      "needs_background": "light"
     },
     "output_type": "display_data"
    },
    {
     "data": {
      "image/png": "[encoded data removed]",
      "text/plain": [
       "<Figure size 1008x288 with 1 Axes>"
      ]
     },
     "metadata": {
      "needs_background": "light"
     },
     "output_type": "display_data"
    },
    {
     "data": {
      "image/png": "[encoded data removed]",
      "text/plain": [
       "<Figure size 1008x288 with 1 Axes>"
      ]
     },
     "metadata": {
      "needs_background": "light"
     },
     "output_type": "display_data"
    },
    {
     "data": {
      "image/png": "[encoded data removed]",
      "text/plain": [
       "<Figure size 1008x288 with 1 Axes>"
      ]
     },
     "metadata": {
      "needs_background": "light"
     },
     "output_type": "display_data"
    },
    {
     "data": {
      "image/png": "[encoded data removed]",
      "text/plain": [
       "<Figure size 1008x288 with 1 Axes>"
      ]
     },
     "metadata": {
      "needs_background": "light"
     },
     "output_type": "display_data"
    },
    {
     "data": {
      "image/png": "[encoded data removed]",
      "text/plain": [
       "<Figure size 1008x288 with 1 Axes>"
      ]
     },
     "metadata": {
      "needs_background": "light"
     },
     "output_type": "display_data"
    }
   ],
   "source": [
    "for column in other_columns:\n",
    "    get_boxplot(column)"
   ]
  },
  {
   "cell_type": "code",
   "execution_count": 62,
   "metadata": {},
   "outputs": [],
   "source": [
    "def get_stat_dif(column):\n",
    "    ''''Получает на вход название столбца, возвращает информацию \n",
    "    о наличии статистически значимых различий для колонки'''\n",
    "    cols = df.loc[:, column].value_counts().index\n",
    "    combinations_all = list(combinations(cols, 2))\n",
    "    \n",
    "    for comb in combinations_all:\n",
    "        if ttest_ind(df.loc[df.loc[:, column] == comb[0], 'score'].dropna(), \n",
    "                     df.loc[df.loc[:, column] == comb[1], 'score'].dropna()).pvalue \\\n",
    "            <= 0.05/len(combinations_all):\n",
    "            print('Найдены статистически значимые различия для колонки', column)\n",
    "            break"
   ]
  },
  {
   "cell_type": "code",
   "execution_count": 63,
   "metadata": {},
   "outputs": [
    {
     "name": "stdout",
     "output_type": "stream",
     "text": [
      "Найдены статистически значимые различия для колонки address\n",
      "Найдены статистически значимые различия для колонки medu\n",
      "Найдены статистически значимые различия для колонки mjob\n",
      "Найдены статистически значимые различия для колонки failures\n",
      "Найдены статистически значимые различия для колонки higher\n",
      "Найдены статистически значимые различия для колонки romantic\n",
      "Найдены статистически значимые различия для колонки goout\n"
     ]
    }
   ],
   "source": [
    "for column in other_columns:\n",
    "    get_stat_dif(column)"
   ]
  },
  {
   "cell_type": "markdown",
   "metadata": {},
   "source": [
    "Корреляция не числовых признаков\n",
    "--"
   ]
  },
  {
   "cell_type": "markdown",
   "metadata": {},
   "source": [
    "Не числовые значения характеризуют какой-либо признак. И если мы каждому признаку присвоим свой номер, то можно попробовать отследить закономерности (корреляцию). Это нужно для того, чтобы:  \n",
    "- Убрать лишнее столбцы с корреляцией стремящейся к 100%\n",
    "- Там где корреляция выше 50% или ниже -50%, можно заполнять пропущенные значения из коррелирующего столбца"
   ]
  },
  {
   "cell_type": "code",
   "execution_count": 67,
   "metadata": {},
   "outputs": [],
   "source": [
    "text_columns = ['school', 'sex', 'address', 'famsize', 'pstatus', 'mjob', 'fjob', 'reason', 'guardian', \n",
    "                'schoolsup', 'famsup', 'paid', 'activities', 'nursery', 'higher', 'internet', 'romantic', \n",
    "                'famrel', 'freetime', 'goout', 'health']"
   ]
  },
  {
   "cell_type": "code",
   "execution_count": 68,
   "metadata": {},
   "outputs": [],
   "source": [
    "# создадим копию датасета, чтобы не вносить изменения в основной\n",
    "\n",
    "df_copy = df.copy()"
   ]
  },
  {
   "cell_type": "code",
   "execution_count": 69,
   "metadata": {},
   "outputs": [],
   "source": [
    "# заменим пропущенные значения на None\n",
    "\n",
    "for i in range(0, df_copy.shape[1]):\n",
    "    df_copy.iloc[:, i] = df_copy.iloc[:, i].apply(lambda x: None if pd.isnull(x) else x)"
   ]
  },
  {
   "cell_type": "code",
   "execution_count": 70,
   "metadata": {},
   "outputs": [
    {
     "data": {
      "text/html": [
       "<div>\n",
       "<style scoped>\n",
       "    .dataframe tbody tr th:only-of-type {\n",
       "        vertical-align: middle;\n",
       "    }\n",
       "\n",
       "    .dataframe tbody tr th {\n",
       "        vertical-align: top;\n",
       "    }\n",
       "\n",
       "    .dataframe thead th {\n",
       "        text-align: right;\n",
       "    }\n",
       "</style>\n",
       "<table border=\"1\" class=\"dataframe\">\n",
       "  <thead>\n",
       "    <tr style=\"text-align: right;\">\n",
       "      <th></th>\n",
       "      <th>school</th>\n",
       "      <th>sex</th>\n",
       "      <th>age</th>\n",
       "      <th>address</th>\n",
       "      <th>famsize</th>\n",
       "      <th>pstatus</th>\n",
       "      <th>medu</th>\n",
       "      <th>fedu</th>\n",
       "      <th>mjob</th>\n",
       "      <th>fjob</th>\n",
       "      <th>reason</th>\n",
       "      <th>guardian</th>\n",
       "      <th>traveltime</th>\n",
       "      <th>studytime</th>\n",
       "      <th>failures</th>\n",
       "      <th>schoolsup</th>\n",
       "      <th>famsup</th>\n",
       "      <th>paid</th>\n",
       "      <th>activities</th>\n",
       "      <th>nursery</th>\n",
       "      <th>higher</th>\n",
       "      <th>internet</th>\n",
       "      <th>romantic</th>\n",
       "      <th>famrel</th>\n",
       "      <th>freetime</th>\n",
       "      <th>goout</th>\n",
       "      <th>health</th>\n",
       "      <th>absences</th>\n",
       "      <th>score</th>\n",
       "    </tr>\n",
       "  </thead>\n",
       "  <tbody>\n",
       "    <tr>\n",
       "      <td>0</td>\n",
       "      <td>GP</td>\n",
       "      <td>F</td>\n",
       "      <td>18</td>\n",
       "      <td>U</td>\n",
       "      <td>None</td>\n",
       "      <td>A</td>\n",
       "      <td>4.0</td>\n",
       "      <td>4.0</td>\n",
       "      <td>at_home</td>\n",
       "      <td>teacher</td>\n",
       "      <td>course</td>\n",
       "      <td>mother</td>\n",
       "      <td>2.0</td>\n",
       "      <td>2.0</td>\n",
       "      <td>0.0</td>\n",
       "      <td>yes</td>\n",
       "      <td>no</td>\n",
       "      <td>no</td>\n",
       "      <td>no</td>\n",
       "      <td>yes</td>\n",
       "      <td>yes</td>\n",
       "      <td>None</td>\n",
       "      <td>no</td>\n",
       "      <td>4.0</td>\n",
       "      <td>3.0</td>\n",
       "      <td>4.0</td>\n",
       "      <td>3.0</td>\n",
       "      <td>6.0</td>\n",
       "      <td>30.0</td>\n",
       "    </tr>\n",
       "    <tr>\n",
       "      <td>1</td>\n",
       "      <td>GP</td>\n",
       "      <td>F</td>\n",
       "      <td>17</td>\n",
       "      <td>U</td>\n",
       "      <td>GT3</td>\n",
       "      <td>None</td>\n",
       "      <td>1.0</td>\n",
       "      <td>1.0</td>\n",
       "      <td>at_home</td>\n",
       "      <td>other</td>\n",
       "      <td>course</td>\n",
       "      <td>father</td>\n",
       "      <td>1.0</td>\n",
       "      <td>2.0</td>\n",
       "      <td>0.0</td>\n",
       "      <td>no</td>\n",
       "      <td>yes</td>\n",
       "      <td>no</td>\n",
       "      <td>no</td>\n",
       "      <td>no</td>\n",
       "      <td>yes</td>\n",
       "      <td>yes</td>\n",
       "      <td>no</td>\n",
       "      <td>5.0</td>\n",
       "      <td>3.0</td>\n",
       "      <td>3.0</td>\n",
       "      <td>3.0</td>\n",
       "      <td>4.0</td>\n",
       "      <td>30.0</td>\n",
       "    </tr>\n",
       "    <tr>\n",
       "      <td>2</td>\n",
       "      <td>GP</td>\n",
       "      <td>F</td>\n",
       "      <td>15</td>\n",
       "      <td>U</td>\n",
       "      <td>LE3</td>\n",
       "      <td>T</td>\n",
       "      <td>1.0</td>\n",
       "      <td>1.0</td>\n",
       "      <td>at_home</td>\n",
       "      <td>other</td>\n",
       "      <td>other</td>\n",
       "      <td>mother</td>\n",
       "      <td>1.0</td>\n",
       "      <td>2.0</td>\n",
       "      <td>3.0</td>\n",
       "      <td>yes</td>\n",
       "      <td>no</td>\n",
       "      <td>None</td>\n",
       "      <td>no</td>\n",
       "      <td>yes</td>\n",
       "      <td>yes</td>\n",
       "      <td>yes</td>\n",
       "      <td>None</td>\n",
       "      <td>4.0</td>\n",
       "      <td>3.0</td>\n",
       "      <td>2.0</td>\n",
       "      <td>3.0</td>\n",
       "      <td>10.0</td>\n",
       "      <td>50.0</td>\n",
       "    </tr>\n",
       "    <tr>\n",
       "      <td>3</td>\n",
       "      <td>GP</td>\n",
       "      <td>F</td>\n",
       "      <td>15</td>\n",
       "      <td>U</td>\n",
       "      <td>GT3</td>\n",
       "      <td>T</td>\n",
       "      <td>4.0</td>\n",
       "      <td>2.0</td>\n",
       "      <td>health</td>\n",
       "      <td>None</td>\n",
       "      <td>home</td>\n",
       "      <td>mother</td>\n",
       "      <td>1.0</td>\n",
       "      <td>3.0</td>\n",
       "      <td>0.0</td>\n",
       "      <td>no</td>\n",
       "      <td>yes</td>\n",
       "      <td>yes</td>\n",
       "      <td>yes</td>\n",
       "      <td>yes</td>\n",
       "      <td>yes</td>\n",
       "      <td>yes</td>\n",
       "      <td>yes</td>\n",
       "      <td>3.0</td>\n",
       "      <td>2.0</td>\n",
       "      <td>2.0</td>\n",
       "      <td>5.0</td>\n",
       "      <td>2.0</td>\n",
       "      <td>75.0</td>\n",
       "    </tr>\n",
       "    <tr>\n",
       "      <td>4</td>\n",
       "      <td>GP</td>\n",
       "      <td>F</td>\n",
       "      <td>16</td>\n",
       "      <td>U</td>\n",
       "      <td>GT3</td>\n",
       "      <td>T</td>\n",
       "      <td>3.0</td>\n",
       "      <td>3.0</td>\n",
       "      <td>other</td>\n",
       "      <td>other</td>\n",
       "      <td>home</td>\n",
       "      <td>father</td>\n",
       "      <td>1.0</td>\n",
       "      <td>2.0</td>\n",
       "      <td>0.0</td>\n",
       "      <td>no</td>\n",
       "      <td>yes</td>\n",
       "      <td>yes</td>\n",
       "      <td>no</td>\n",
       "      <td>yes</td>\n",
       "      <td>yes</td>\n",
       "      <td>no</td>\n",
       "      <td>no</td>\n",
       "      <td>4.0</td>\n",
       "      <td>3.0</td>\n",
       "      <td>2.0</td>\n",
       "      <td>5.0</td>\n",
       "      <td>4.0</td>\n",
       "      <td>50.0</td>\n",
       "    </tr>\n",
       "    <tr>\n",
       "      <td>...</td>\n",
       "      <td>...</td>\n",
       "      <td>...</td>\n",
       "      <td>...</td>\n",
       "      <td>...</td>\n",
       "      <td>...</td>\n",
       "      <td>...</td>\n",
       "      <td>...</td>\n",
       "      <td>...</td>\n",
       "      <td>...</td>\n",
       "      <td>...</td>\n",
       "      <td>...</td>\n",
       "      <td>...</td>\n",
       "      <td>...</td>\n",
       "      <td>...</td>\n",
       "      <td>...</td>\n",
       "      <td>...</td>\n",
       "      <td>...</td>\n",
       "      <td>...</td>\n",
       "      <td>...</td>\n",
       "      <td>...</td>\n",
       "      <td>...</td>\n",
       "      <td>...</td>\n",
       "      <td>...</td>\n",
       "      <td>...</td>\n",
       "      <td>...</td>\n",
       "      <td>...</td>\n",
       "      <td>...</td>\n",
       "      <td>...</td>\n",
       "      <td>...</td>\n",
       "    </tr>\n",
       "    <tr>\n",
       "      <td>390</td>\n",
       "      <td>MS</td>\n",
       "      <td>M</td>\n",
       "      <td>20</td>\n",
       "      <td>U</td>\n",
       "      <td>LE3</td>\n",
       "      <td>A</td>\n",
       "      <td>2.0</td>\n",
       "      <td>2.0</td>\n",
       "      <td>services</td>\n",
       "      <td>services</td>\n",
       "      <td>course</td>\n",
       "      <td>None</td>\n",
       "      <td>1.0</td>\n",
       "      <td>2.0</td>\n",
       "      <td>2.0</td>\n",
       "      <td>no</td>\n",
       "      <td>yes</td>\n",
       "      <td>yes</td>\n",
       "      <td>no</td>\n",
       "      <td>yes</td>\n",
       "      <td>yes</td>\n",
       "      <td>no</td>\n",
       "      <td>no</td>\n",
       "      <td>5.0</td>\n",
       "      <td>5.0</td>\n",
       "      <td>4.0</td>\n",
       "      <td>4.0</td>\n",
       "      <td>0.0</td>\n",
       "      <td>45.0</td>\n",
       "    </tr>\n",
       "    <tr>\n",
       "      <td>391</td>\n",
       "      <td>MS</td>\n",
       "      <td>M</td>\n",
       "      <td>17</td>\n",
       "      <td>U</td>\n",
       "      <td>LE3</td>\n",
       "      <td>T</td>\n",
       "      <td>3.0</td>\n",
       "      <td>1.0</td>\n",
       "      <td>services</td>\n",
       "      <td>services</td>\n",
       "      <td>course</td>\n",
       "      <td>mother</td>\n",
       "      <td>2.0</td>\n",
       "      <td>1.0</td>\n",
       "      <td>0.0</td>\n",
       "      <td>no</td>\n",
       "      <td>no</td>\n",
       "      <td>no</td>\n",
       "      <td>no</td>\n",
       "      <td>no</td>\n",
       "      <td>yes</td>\n",
       "      <td>yes</td>\n",
       "      <td>no</td>\n",
       "      <td>2.0</td>\n",
       "      <td>4.0</td>\n",
       "      <td>5.0</td>\n",
       "      <td>2.0</td>\n",
       "      <td>3.0</td>\n",
       "      <td>80.0</td>\n",
       "    </tr>\n",
       "    <tr>\n",
       "      <td>392</td>\n",
       "      <td>MS</td>\n",
       "      <td>M</td>\n",
       "      <td>21</td>\n",
       "      <td>R</td>\n",
       "      <td>GT3</td>\n",
       "      <td>T</td>\n",
       "      <td>1.0</td>\n",
       "      <td>1.0</td>\n",
       "      <td>other</td>\n",
       "      <td>other</td>\n",
       "      <td>course</td>\n",
       "      <td>None</td>\n",
       "      <td>1.0</td>\n",
       "      <td>1.0</td>\n",
       "      <td>3.0</td>\n",
       "      <td>None</td>\n",
       "      <td>no</td>\n",
       "      <td>no</td>\n",
       "      <td>no</td>\n",
       "      <td>no</td>\n",
       "      <td>None</td>\n",
       "      <td>no</td>\n",
       "      <td>no</td>\n",
       "      <td>5.0</td>\n",
       "      <td>5.0</td>\n",
       "      <td>3.0</td>\n",
       "      <td>3.0</td>\n",
       "      <td>3.0</td>\n",
       "      <td>35.0</td>\n",
       "    </tr>\n",
       "    <tr>\n",
       "      <td>393</td>\n",
       "      <td>MS</td>\n",
       "      <td>M</td>\n",
       "      <td>18</td>\n",
       "      <td>R</td>\n",
       "      <td>LE3</td>\n",
       "      <td>T</td>\n",
       "      <td>3.0</td>\n",
       "      <td>2.0</td>\n",
       "      <td>services</td>\n",
       "      <td>other</td>\n",
       "      <td>course</td>\n",
       "      <td>mother</td>\n",
       "      <td>3.0</td>\n",
       "      <td>1.0</td>\n",
       "      <td>0.0</td>\n",
       "      <td>no</td>\n",
       "      <td>no</td>\n",
       "      <td>no</td>\n",
       "      <td>None</td>\n",
       "      <td>no</td>\n",
       "      <td>yes</td>\n",
       "      <td>yes</td>\n",
       "      <td>no</td>\n",
       "      <td>4.0</td>\n",
       "      <td>4.0</td>\n",
       "      <td>1.0</td>\n",
       "      <td>5.0</td>\n",
       "      <td>0.0</td>\n",
       "      <td>50.0</td>\n",
       "    </tr>\n",
       "    <tr>\n",
       "      <td>394</td>\n",
       "      <td>MS</td>\n",
       "      <td>M</td>\n",
       "      <td>19</td>\n",
       "      <td>U</td>\n",
       "      <td>LE3</td>\n",
       "      <td>T</td>\n",
       "      <td>1.0</td>\n",
       "      <td>1.0</td>\n",
       "      <td>other</td>\n",
       "      <td>at_home</td>\n",
       "      <td>None</td>\n",
       "      <td>father</td>\n",
       "      <td>1.0</td>\n",
       "      <td>1.0</td>\n",
       "      <td>0.0</td>\n",
       "      <td>None</td>\n",
       "      <td>no</td>\n",
       "      <td>no</td>\n",
       "      <td>no</td>\n",
       "      <td>yes</td>\n",
       "      <td>yes</td>\n",
       "      <td>yes</td>\n",
       "      <td>no</td>\n",
       "      <td>3.0</td>\n",
       "      <td>2.0</td>\n",
       "      <td>3.0</td>\n",
       "      <td>5.0</td>\n",
       "      <td>5.0</td>\n",
       "      <td>45.0</td>\n",
       "    </tr>\n",
       "  </tbody>\n",
       "</table>\n",
       "<p>395 rows × 29 columns</p>\n",
       "</div>"
      ],
      "text/plain": [
       "    school sex  age address famsize pstatus  medu  fedu      mjob      fjob  \\\n",
       "0       GP   F   18       U    None       A   4.0   4.0   at_home   teacher   \n",
       "1       GP   F   17       U     GT3    None   1.0   1.0   at_home     other   \n",
       "2       GP   F   15       U     LE3       T   1.0   1.0   at_home     other   \n",
       "3       GP   F   15       U     GT3       T   4.0   2.0    health      None   \n",
       "4       GP   F   16       U     GT3       T   3.0   3.0     other     other   \n",
       "..     ...  ..  ...     ...     ...     ...   ...   ...       ...       ...   \n",
       "390     MS   M   20       U     LE3       A   2.0   2.0  services  services   \n",
       "391     MS   M   17       U     LE3       T   3.0   1.0  services  services   \n",
       "392     MS   M   21       R     GT3       T   1.0   1.0     other     other   \n",
       "393     MS   M   18       R     LE3       T   3.0   2.0  services     other   \n",
       "394     MS   M   19       U     LE3       T   1.0   1.0     other   at_home   \n",
       "\n",
       "     reason guardian  traveltime  studytime  failures schoolsup famsup  paid  \\\n",
       "0    course   mother         2.0        2.0       0.0       yes     no    no   \n",
       "1    course   father         1.0        2.0       0.0        no    yes    no   \n",
       "2     other   mother         1.0        2.0       3.0       yes     no  None   \n",
       "3      home   mother         1.0        3.0       0.0        no    yes   yes   \n",
       "4      home   father         1.0        2.0       0.0        no    yes   yes   \n",
       "..      ...      ...         ...        ...       ...       ...    ...   ...   \n",
       "390  course     None         1.0        2.0       2.0        no    yes   yes   \n",
       "391  course   mother         2.0        1.0       0.0        no     no    no   \n",
       "392  course     None         1.0        1.0       3.0      None     no    no   \n",
       "393  course   mother         3.0        1.0       0.0        no     no    no   \n",
       "394    None   father         1.0        1.0       0.0      None     no    no   \n",
       "\n",
       "    activities nursery higher internet romantic  famrel  freetime  goout  \\\n",
       "0           no     yes    yes     None       no     4.0       3.0    4.0   \n",
       "1           no      no    yes      yes       no     5.0       3.0    3.0   \n",
       "2           no     yes    yes      yes     None     4.0       3.0    2.0   \n",
       "3          yes     yes    yes      yes      yes     3.0       2.0    2.0   \n",
       "4           no     yes    yes       no       no     4.0       3.0    2.0   \n",
       "..         ...     ...    ...      ...      ...     ...       ...    ...   \n",
       "390         no     yes    yes       no       no     5.0       5.0    4.0   \n",
       "391         no      no    yes      yes       no     2.0       4.0    5.0   \n",
       "392         no      no   None       no       no     5.0       5.0    3.0   \n",
       "393       None      no    yes      yes       no     4.0       4.0    1.0   \n",
       "394         no     yes    yes      yes       no     3.0       2.0    3.0   \n",
       "\n",
       "     health  absences  score  \n",
       "0       3.0       6.0   30.0  \n",
       "1       3.0       4.0   30.0  \n",
       "2       3.0      10.0   50.0  \n",
       "3       5.0       2.0   75.0  \n",
       "4       5.0       4.0   50.0  \n",
       "..      ...       ...    ...  \n",
       "390     4.0       0.0   45.0  \n",
       "391     2.0       3.0   80.0  \n",
       "392     3.0       3.0   35.0  \n",
       "393     5.0       0.0   50.0  \n",
       "394     5.0       5.0   45.0  \n",
       "\n",
       "[395 rows x 29 columns]"
      ]
     },
     "execution_count": 70,
     "metadata": {},
     "output_type": "execute_result"
    }
   ],
   "source": [
    "df_copy"
   ]
  },
  {
   "cell_type": "code",
   "execution_count": 71,
   "metadata": {},
   "outputs": [],
   "source": [
    "# каждому значению присвоим свой номер\n",
    "# заменим значение на соответствующий номер\n",
    "\n",
    "for col in text_columns:\n",
    "    i = 1\n",
    "    map_values = {}\n",
    "        \n",
    "    for val in df_copy[col].unique():\n",
    "        if val != None:\n",
    "            map_values[val] = i\n",
    "            i += 1\n",
    "    \n",
    "    df_copy[col] = df_copy[col].map(map_values)"
   ]
  },
  {
   "cell_type": "code",
   "execution_count": 73,
   "metadata": {},
   "outputs": [
    {
     "data": {
      "text/html": [
       "<div>\n",
       "<style scoped>\n",
       "    .dataframe tbody tr th:only-of-type {\n",
       "        vertical-align: middle;\n",
       "    }\n",
       "\n",
       "    .dataframe tbody tr th {\n",
       "        vertical-align: top;\n",
       "    }\n",
       "\n",
       "    .dataframe thead th {\n",
       "        text-align: right;\n",
       "    }\n",
       "</style>\n",
       "<table border=\"1\" class=\"dataframe\">\n",
       "  <thead>\n",
       "    <tr style=\"text-align: right;\">\n",
       "      <th></th>\n",
       "      <th>school</th>\n",
       "      <th>sex</th>\n",
       "      <th>age</th>\n",
       "      <th>address</th>\n",
       "      <th>famsize</th>\n",
       "      <th>pstatus</th>\n",
       "      <th>medu</th>\n",
       "      <th>fedu</th>\n",
       "      <th>mjob</th>\n",
       "      <th>fjob</th>\n",
       "      <th>reason</th>\n",
       "      <th>guardian</th>\n",
       "      <th>traveltime</th>\n",
       "      <th>studytime</th>\n",
       "      <th>failures</th>\n",
       "      <th>schoolsup</th>\n",
       "      <th>famsup</th>\n",
       "      <th>paid</th>\n",
       "      <th>activities</th>\n",
       "      <th>nursery</th>\n",
       "      <th>higher</th>\n",
       "      <th>internet</th>\n",
       "      <th>romantic</th>\n",
       "      <th>famrel</th>\n",
       "      <th>freetime</th>\n",
       "      <th>goout</th>\n",
       "      <th>health</th>\n",
       "      <th>absences</th>\n",
       "      <th>score</th>\n",
       "    </tr>\n",
       "  </thead>\n",
       "  <tbody>\n",
       "    <tr>\n",
       "      <td>school</td>\n",
       "      <td>1.000000</td>\n",
       "      <td>-0.012286</td>\n",
       "      <td>0.377610</td>\n",
       "      <td>0.287661</td>\n",
       "      <td>0.059139</td>\n",
       "      <td>0.071655</td>\n",
       "      <td>-0.133708</td>\n",
       "      <td>-0.090249</td>\n",
       "      <td>-0.054864</td>\n",
       "      <td>0.141247</td>\n",
       "      <td>-0.117666</td>\n",
       "      <td>0.031233</td>\n",
       "      <td>0.254034</td>\n",
       "      <td>-0.092700</td>\n",
       "      <td>0.059999</td>\n",
       "      <td>0.139951</td>\n",
       "      <td>-0.185591</td>\n",
       "      <td>-0.030892</td>\n",
       "      <td>-0.114399</td>\n",
       "      <td>0.108543</td>\n",
       "      <td>0.031343</td>\n",
       "      <td>0.102274</td>\n",
       "      <td>0.060194</td>\n",
       "      <td>0.053411</td>\n",
       "      <td>0.039938</td>\n",
       "      <td>-0.077693</td>\n",
       "      <td>-0.079167</td>\n",
       "      <td>-0.102948</td>\n",
       "      <td>-0.044524</td>\n",
       "    </tr>\n",
       "    <tr>\n",
       "      <td>sex</td>\n",
       "      <td>-0.012286</td>\n",
       "      <td>1.000000</td>\n",
       "      <td>-0.028606</td>\n",
       "      <td>-0.001084</td>\n",
       "      <td>0.099341</td>\n",
       "      <td>0.039071</td>\n",
       "      <td>0.080375</td>\n",
       "      <td>0.029563</td>\n",
       "      <td>0.188952</td>\n",
       "      <td>-0.032130</td>\n",
       "      <td>-0.079432</td>\n",
       "      <td>-0.015028</td>\n",
       "      <td>0.049019</td>\n",
       "      <td>-0.307566</td>\n",
       "      <td>0.040279</td>\n",
       "      <td>0.138649</td>\n",
       "      <td>-0.162145</td>\n",
       "      <td>-0.107899</td>\n",
       "      <td>0.109267</td>\n",
       "      <td>-0.004051</td>\n",
       "      <td>0.153372</td>\n",
       "      <td>-0.059940</td>\n",
       "      <td>-0.134497</td>\n",
       "      <td>0.017941</td>\n",
       "      <td>0.127060</td>\n",
       "      <td>0.038376</td>\n",
       "      <td>-0.009120</td>\n",
       "      <td>-0.066808</td>\n",
       "      <td>0.099285</td>\n",
       "    </tr>\n",
       "    <tr>\n",
       "      <td>age</td>\n",
       "      <td>0.377610</td>\n",
       "      <td>-0.028606</td>\n",
       "      <td>1.000000</td>\n",
       "      <td>0.147902</td>\n",
       "      <td>0.022638</td>\n",
       "      <td>0.015458</td>\n",
       "      <td>-0.161704</td>\n",
       "      <td>-0.163670</td>\n",
       "      <td>-0.067034</td>\n",
       "      <td>0.110980</td>\n",
       "      <td>-0.015343</td>\n",
       "      <td>0.255268</td>\n",
       "      <td>0.081508</td>\n",
       "      <td>-0.015556</td>\n",
       "      <td>0.228047</td>\n",
       "      <td>0.256343</td>\n",
       "      <td>-0.159311</td>\n",
       "      <td>-0.030502</td>\n",
       "      <td>-0.110231</td>\n",
       "      <td>0.106453</td>\n",
       "      <td>0.207837</td>\n",
       "      <td>0.108964</td>\n",
       "      <td>0.144440</td>\n",
       "      <td>-0.043604</td>\n",
       "      <td>0.080450</td>\n",
       "      <td>-0.051357</td>\n",
       "      <td>0.018465</td>\n",
       "      <td>0.161195</td>\n",
       "      <td>-0.155726</td>\n",
       "    </tr>\n",
       "    <tr>\n",
       "      <td>address</td>\n",
       "      <td>0.287661</td>\n",
       "      <td>-0.001084</td>\n",
       "      <td>0.147902</td>\n",
       "      <td>1.000000</td>\n",
       "      <td>-0.058109</td>\n",
       "      <td>0.064629</td>\n",
       "      <td>-0.153189</td>\n",
       "      <td>-0.085408</td>\n",
       "      <td>-0.134224</td>\n",
       "      <td>-0.013138</td>\n",
       "      <td>-0.017364</td>\n",
       "      <td>-0.092095</td>\n",
       "      <td>0.285782</td>\n",
       "      <td>0.045182</td>\n",
       "      <td>0.101835</td>\n",
       "      <td>0.036284</td>\n",
       "      <td>-0.025894</td>\n",
       "      <td>-0.052925</td>\n",
       "      <td>0.052115</td>\n",
       "      <td>0.052285</td>\n",
       "      <td>0.052799</td>\n",
       "      <td>0.209745</td>\n",
       "      <td>0.010859</td>\n",
       "      <td>0.018853</td>\n",
       "      <td>0.018226</td>\n",
       "      <td>0.087114</td>\n",
       "      <td>-0.039875</td>\n",
       "      <td>0.029541</td>\n",
       "      <td>-0.120067</td>\n",
       "    </tr>\n",
       "    <tr>\n",
       "      <td>famsize</td>\n",
       "      <td>0.059139</td>\n",
       "      <td>0.099341</td>\n",
       "      <td>0.022638</td>\n",
       "      <td>-0.058109</td>\n",
       "      <td>1.000000</td>\n",
       "      <td>-0.078822</td>\n",
       "      <td>-0.055857</td>\n",
       "      <td>-0.087404</td>\n",
       "      <td>0.071174</td>\n",
       "      <td>0.049332</td>\n",
       "      <td>0.000858</td>\n",
       "      <td>-0.069513</td>\n",
       "      <td>0.041872</td>\n",
       "      <td>-0.086096</td>\n",
       "      <td>0.002320</td>\n",
       "      <td>0.033654</td>\n",
       "      <td>-0.122649</td>\n",
       "      <td>-0.083343</td>\n",
       "      <td>-0.025908</td>\n",
       "      <td>-0.103838</td>\n",
       "      <td>0.027185</td>\n",
       "      <td>0.004640</td>\n",
       "      <td>0.016508</td>\n",
       "      <td>0.037939</td>\n",
       "      <td>0.008712</td>\n",
       "      <td>0.012884</td>\n",
       "      <td>0.000524</td>\n",
       "      <td>0.015927</td>\n",
       "      <td>0.063324</td>\n",
       "    </tr>\n",
       "    <tr>\n",
       "      <td>pstatus</td>\n",
       "      <td>0.071655</td>\n",
       "      <td>0.039071</td>\n",
       "      <td>0.015458</td>\n",
       "      <td>0.064629</td>\n",
       "      <td>-0.078822</td>\n",
       "      <td>1.000000</td>\n",
       "      <td>-0.131697</td>\n",
       "      <td>-0.111747</td>\n",
       "      <td>-0.047119</td>\n",
       "      <td>0.053190</td>\n",
       "      <td>-0.031176</td>\n",
       "      <td>0.022706</td>\n",
       "      <td>0.081029</td>\n",
       "      <td>0.007697</td>\n",
       "      <td>0.011092</td>\n",
       "      <td>0.035225</td>\n",
       "      <td>-0.027150</td>\n",
       "      <td>0.040650</td>\n",
       "      <td>0.104314</td>\n",
       "      <td>0.065641</td>\n",
       "      <td>0.029150</td>\n",
       "      <td>-0.059023</td>\n",
       "      <td>-0.049715</td>\n",
       "      <td>-0.091416</td>\n",
       "      <td>0.004711</td>\n",
       "      <td>0.027365</td>\n",
       "      <td>-0.031913</td>\n",
       "      <td>-0.162279</td>\n",
       "      <td>-0.045985</td>\n",
       "    </tr>\n",
       "    <tr>\n",
       "      <td>medu</td>\n",
       "      <td>-0.133708</td>\n",
       "      <td>0.080375</td>\n",
       "      <td>-0.161704</td>\n",
       "      <td>-0.153189</td>\n",
       "      <td>-0.055857</td>\n",
       "      <td>-0.131697</td>\n",
       "      <td>1.000000</td>\n",
       "      <td>0.625516</td>\n",
       "      <td>0.459158</td>\n",
       "      <td>-0.150010</td>\n",
       "      <td>0.110124</td>\n",
       "      <td>-0.144894</td>\n",
       "      <td>-0.173515</td>\n",
       "      <td>0.078589</td>\n",
       "      <td>-0.245463</td>\n",
       "      <td>0.042360</td>\n",
       "      <td>0.207429</td>\n",
       "      <td>0.178744</td>\n",
       "      <td>0.106883</td>\n",
       "      <td>-0.188484</td>\n",
       "      <td>-0.176596</td>\n",
       "      <td>-0.208719</td>\n",
       "      <td>0.023870</td>\n",
       "      <td>0.049884</td>\n",
       "      <td>0.029586</td>\n",
       "      <td>-0.024815</td>\n",
       "      <td>0.018869</td>\n",
       "      <td>0.099638</td>\n",
       "      <td>0.213349</td>\n",
       "    </tr>\n",
       "    <tr>\n",
       "      <td>fedu</td>\n",
       "      <td>-0.090249</td>\n",
       "      <td>0.029563</td>\n",
       "      <td>-0.163670</td>\n",
       "      <td>-0.085408</td>\n",
       "      <td>-0.087404</td>\n",
       "      <td>-0.111747</td>\n",
       "      <td>0.625516</td>\n",
       "      <td>1.000000</td>\n",
       "      <td>0.238980</td>\n",
       "      <td>-0.111548</td>\n",
       "      <td>0.067729</td>\n",
       "      <td>-0.001328</td>\n",
       "      <td>-0.145349</td>\n",
       "      <td>0.012896</td>\n",
       "      <td>-0.272882</td>\n",
       "      <td>-0.050031</td>\n",
       "      <td>0.219144</td>\n",
       "      <td>0.101455</td>\n",
       "      <td>0.113534</td>\n",
       "      <td>-0.162113</td>\n",
       "      <td>-0.187323</td>\n",
       "      <td>-0.133716</td>\n",
       "      <td>0.010062</td>\n",
       "      <td>0.003799</td>\n",
       "      <td>-0.062522</td>\n",
       "      <td>-0.067538</td>\n",
       "      <td>0.017335</td>\n",
       "      <td>0.040450</td>\n",
       "      <td>0.130923</td>\n",
       "    </tr>\n",
       "    <tr>\n",
       "      <td>mjob</td>\n",
       "      <td>-0.054864</td>\n",
       "      <td>0.188952</td>\n",
       "      <td>-0.067034</td>\n",
       "      <td>-0.134224</td>\n",
       "      <td>0.071174</td>\n",
       "      <td>-0.047119</td>\n",
       "      <td>0.459158</td>\n",
       "      <td>0.238980</td>\n",
       "      <td>1.000000</td>\n",
       "      <td>0.015440</td>\n",
       "      <td>0.045571</td>\n",
       "      <td>-0.089984</td>\n",
       "      <td>-0.089272</td>\n",
       "      <td>-0.001446</td>\n",
       "      <td>-0.088017</td>\n",
       "      <td>0.045892</td>\n",
       "      <td>0.078418</td>\n",
       "      <td>0.138806</td>\n",
       "      <td>0.098601</td>\n",
       "      <td>-0.107133</td>\n",
       "      <td>-0.107935</td>\n",
       "      <td>-0.173966</td>\n",
       "      <td>-0.092247</td>\n",
       "      <td>-0.029763</td>\n",
       "      <td>0.062588</td>\n",
       "      <td>0.038387</td>\n",
       "      <td>0.040007</td>\n",
       "      <td>0.039591</td>\n",
       "      <td>0.101975</td>\n",
       "    </tr>\n",
       "    <tr>\n",
       "      <td>fjob</td>\n",
       "      <td>0.141247</td>\n",
       "      <td>-0.032130</td>\n",
       "      <td>0.110980</td>\n",
       "      <td>-0.013138</td>\n",
       "      <td>0.049332</td>\n",
       "      <td>0.053190</td>\n",
       "      <td>-0.150010</td>\n",
       "      <td>-0.111548</td>\n",
       "      <td>0.015440</td>\n",
       "      <td>1.000000</td>\n",
       "      <td>-0.014937</td>\n",
       "      <td>0.109318</td>\n",
       "      <td>-0.050033</td>\n",
       "      <td>0.021251</td>\n",
       "      <td>0.092914</td>\n",
       "      <td>0.026009</td>\n",
       "      <td>-0.045470</td>\n",
       "      <td>0.010315</td>\n",
       "      <td>0.068168</td>\n",
       "      <td>-0.029760</td>\n",
       "      <td>0.094762</td>\n",
       "      <td>-0.105672</td>\n",
       "      <td>0.029767</td>\n",
       "      <td>-0.002991</td>\n",
       "      <td>-0.033467</td>\n",
       "      <td>0.007172</td>\n",
       "      <td>0.000041</td>\n",
       "      <td>0.000923</td>\n",
       "      <td>-0.056620</td>\n",
       "    </tr>\n",
       "    <tr>\n",
       "      <td>reason</td>\n",
       "      <td>-0.117666</td>\n",
       "      <td>-0.079432</td>\n",
       "      <td>-0.015343</td>\n",
       "      <td>-0.017364</td>\n",
       "      <td>0.000858</td>\n",
       "      <td>-0.031176</td>\n",
       "      <td>0.110124</td>\n",
       "      <td>0.067729</td>\n",
       "      <td>0.045571</td>\n",
       "      <td>-0.014937</td>\n",
       "      <td>1.000000</td>\n",
       "      <td>0.120468</td>\n",
       "      <td>-0.093700</td>\n",
       "      <td>0.156699</td>\n",
       "      <td>-0.044939</td>\n",
       "      <td>-0.015838</td>\n",
       "      <td>0.110287</td>\n",
       "      <td>0.127928</td>\n",
       "      <td>0.097047</td>\n",
       "      <td>-0.067030</td>\n",
       "      <td>-0.112263</td>\n",
       "      <td>-0.067617</td>\n",
       "      <td>-0.005409</td>\n",
       "      <td>-0.043391</td>\n",
       "      <td>-0.012993</td>\n",
       "      <td>-0.058344</td>\n",
       "      <td>0.096570</td>\n",
       "      <td>0.165462</td>\n",
       "      <td>0.085395</td>\n",
       "    </tr>\n",
       "    <tr>\n",
       "      <td>guardian</td>\n",
       "      <td>0.031233</td>\n",
       "      <td>-0.015028</td>\n",
       "      <td>0.255268</td>\n",
       "      <td>-0.092095</td>\n",
       "      <td>-0.069513</td>\n",
       "      <td>0.022706</td>\n",
       "      <td>-0.144894</td>\n",
       "      <td>-0.001328</td>\n",
       "      <td>-0.089984</td>\n",
       "      <td>0.109318</td>\n",
       "      <td>0.120468</td>\n",
       "      <td>1.000000</td>\n",
       "      <td>0.092837</td>\n",
       "      <td>0.030281</td>\n",
       "      <td>0.215775</td>\n",
       "      <td>0.019559</td>\n",
       "      <td>-0.010544</td>\n",
       "      <td>-0.088223</td>\n",
       "      <td>-0.017255</td>\n",
       "      <td>0.133398</td>\n",
       "      <td>0.018089</td>\n",
       "      <td>0.002679</td>\n",
       "      <td>0.079152</td>\n",
       "      <td>-0.045006</td>\n",
       "      <td>0.047323</td>\n",
       "      <td>-0.044174</td>\n",
       "      <td>-0.064583</td>\n",
       "      <td>0.029944</td>\n",
       "      <td>-0.044931</td>\n",
       "    </tr>\n",
       "    <tr>\n",
       "      <td>traveltime</td>\n",
       "      <td>0.254034</td>\n",
       "      <td>0.049019</td>\n",
       "      <td>0.081508</td>\n",
       "      <td>0.285782</td>\n",
       "      <td>0.041872</td>\n",
       "      <td>0.081029</td>\n",
       "      <td>-0.173515</td>\n",
       "      <td>-0.145349</td>\n",
       "      <td>-0.089272</td>\n",
       "      <td>-0.050033</td>\n",
       "      <td>-0.093700</td>\n",
       "      <td>0.092837</td>\n",
       "      <td>1.000000</td>\n",
       "      <td>-0.102206</td>\n",
       "      <td>0.064699</td>\n",
       "      <td>0.009752</td>\n",
       "      <td>-0.020651</td>\n",
       "      <td>-0.044878</td>\n",
       "      <td>-0.002043</td>\n",
       "      <td>0.046749</td>\n",
       "      <td>0.082866</td>\n",
       "      <td>0.086334</td>\n",
       "      <td>0.022876</td>\n",
       "      <td>-0.026334</td>\n",
       "      <td>0.014393</td>\n",
       "      <td>0.078728</td>\n",
       "      <td>0.031338</td>\n",
       "      <td>-0.011422</td>\n",
       "      <td>-0.070559</td>\n",
       "    </tr>\n",
       "    <tr>\n",
       "      <td>studytime</td>\n",
       "      <td>-0.092700</td>\n",
       "      <td>-0.307566</td>\n",
       "      <td>-0.015556</td>\n",
       "      <td>0.045182</td>\n",
       "      <td>-0.086096</td>\n",
       "      <td>0.007697</td>\n",
       "      <td>0.078589</td>\n",
       "      <td>0.012896</td>\n",
       "      <td>-0.001446</td>\n",
       "      <td>0.021251</td>\n",
       "      <td>0.156699</td>\n",
       "      <td>0.030281</td>\n",
       "      <td>-0.102206</td>\n",
       "      <td>1.000000</td>\n",
       "      <td>-0.178992</td>\n",
       "      <td>-0.031873</td>\n",
       "      <td>0.129236</td>\n",
       "      <td>0.201447</td>\n",
       "      <td>0.110905</td>\n",
       "      <td>-0.083487</td>\n",
       "      <td>-0.174532</td>\n",
       "      <td>-0.063471</td>\n",
       "      <td>0.055469</td>\n",
       "      <td>-0.048263</td>\n",
       "      <td>-0.075421</td>\n",
       "      <td>-0.044288</td>\n",
       "      <td>0.043018</td>\n",
       "      <td>-0.067456</td>\n",
       "      <td>0.115741</td>\n",
       "    </tr>\n",
       "    <tr>\n",
       "      <td>failures</td>\n",
       "      <td>0.059999</td>\n",
       "      <td>0.040279</td>\n",
       "      <td>0.228047</td>\n",
       "      <td>0.101835</td>\n",
       "      <td>0.002320</td>\n",
       "      <td>0.011092</td>\n",
       "      <td>-0.245463</td>\n",
       "      <td>-0.272882</td>\n",
       "      <td>-0.088017</td>\n",
       "      <td>0.092914</td>\n",
       "      <td>-0.044939</td>\n",
       "      <td>0.215775</td>\n",
       "      <td>0.064699</td>\n",
       "      <td>-0.178992</td>\n",
       "      <td>1.000000</td>\n",
       "      <td>-0.006310</td>\n",
       "      <td>-0.093340</td>\n",
       "      <td>-0.178898</td>\n",
       "      <td>-0.091205</td>\n",
       "      <td>0.111398</td>\n",
       "      <td>0.282585</td>\n",
       "      <td>0.065367</td>\n",
       "      <td>0.095931</td>\n",
       "      <td>0.029207</td>\n",
       "      <td>0.082926</td>\n",
       "      <td>0.124796</td>\n",
       "      <td>-0.074029</td>\n",
       "      <td>0.065511</td>\n",
       "      <td>-0.344338</td>\n",
       "    </tr>\n",
       "    <tr>\n",
       "      <td>schoolsup</td>\n",
       "      <td>0.139951</td>\n",
       "      <td>0.138649</td>\n",
       "      <td>0.256343</td>\n",
       "      <td>0.036284</td>\n",
       "      <td>0.033654</td>\n",
       "      <td>0.035225</td>\n",
       "      <td>0.042360</td>\n",
       "      <td>-0.050031</td>\n",
       "      <td>0.045892</td>\n",
       "      <td>0.026009</td>\n",
       "      <td>-0.015838</td>\n",
       "      <td>0.019559</td>\n",
       "      <td>0.009752</td>\n",
       "      <td>-0.031873</td>\n",
       "      <td>-0.006310</td>\n",
       "      <td>1.000000</td>\n",
       "      <td>-0.098607</td>\n",
       "      <td>0.030622</td>\n",
       "      <td>-0.069506</td>\n",
       "      <td>0.049241</td>\n",
       "      <td>0.056949</td>\n",
       "      <td>-0.004859</td>\n",
       "      <td>0.067455</td>\n",
       "      <td>0.014709</td>\n",
       "      <td>-0.035469</td>\n",
       "      <td>-0.007762</td>\n",
       "      <td>-0.010231</td>\n",
       "      <td>-0.024833</td>\n",
       "      <td>0.088650</td>\n",
       "    </tr>\n",
       "    <tr>\n",
       "      <td>famsup</td>\n",
       "      <td>-0.185591</td>\n",
       "      <td>-0.162145</td>\n",
       "      <td>-0.159311</td>\n",
       "      <td>-0.025894</td>\n",
       "      <td>-0.122649</td>\n",
       "      <td>-0.027150</td>\n",
       "      <td>0.207429</td>\n",
       "      <td>0.219144</td>\n",
       "      <td>0.078418</td>\n",
       "      <td>-0.045470</td>\n",
       "      <td>0.110287</td>\n",
       "      <td>-0.010544</td>\n",
       "      <td>-0.020651</td>\n",
       "      <td>0.129236</td>\n",
       "      <td>-0.093340</td>\n",
       "      <td>-0.098607</td>\n",
       "      <td>1.000000</td>\n",
       "      <td>0.312699</td>\n",
       "      <td>-0.007412</td>\n",
       "      <td>-0.064869</td>\n",
       "      <td>-0.124554</td>\n",
       "      <td>-0.098795</td>\n",
       "      <td>0.015542</td>\n",
       "      <td>-0.027019</td>\n",
       "      <td>-0.033609</td>\n",
       "      <td>0.059664</td>\n",
       "      <td>0.000809</td>\n",
       "      <td>0.052549</td>\n",
       "      <td>-0.007540</td>\n",
       "    </tr>\n",
       "    <tr>\n",
       "      <td>paid</td>\n",
       "      <td>-0.030892</td>\n",
       "      <td>-0.107899</td>\n",
       "      <td>-0.030502</td>\n",
       "      <td>-0.052925</td>\n",
       "      <td>-0.083343</td>\n",
       "      <td>0.040650</td>\n",
       "      <td>0.178744</td>\n",
       "      <td>0.101455</td>\n",
       "      <td>0.138806</td>\n",
       "      <td>0.010315</td>\n",
       "      <td>0.127928</td>\n",
       "      <td>-0.088223</td>\n",
       "      <td>-0.044878</td>\n",
       "      <td>0.201447</td>\n",
       "      <td>-0.178898</td>\n",
       "      <td>0.030622</td>\n",
       "      <td>0.312699</td>\n",
       "      <td>1.000000</td>\n",
       "      <td>0.019044</td>\n",
       "      <td>-0.121350</td>\n",
       "      <td>-0.197203</td>\n",
       "      <td>-0.174581</td>\n",
       "      <td>0.049475</td>\n",
       "      <td>-0.079299</td>\n",
       "      <td>-0.053240</td>\n",
       "      <td>-0.014812</td>\n",
       "      <td>0.056639</td>\n",
       "      <td>-0.012151</td>\n",
       "      <td>0.099878</td>\n",
       "    </tr>\n",
       "    <tr>\n",
       "      <td>activities</td>\n",
       "      <td>-0.114399</td>\n",
       "      <td>0.109267</td>\n",
       "      <td>-0.110231</td>\n",
       "      <td>0.052115</td>\n",
       "      <td>-0.025908</td>\n",
       "      <td>0.104314</td>\n",
       "      <td>0.106883</td>\n",
       "      <td>0.113534</td>\n",
       "      <td>0.098601</td>\n",
       "      <td>0.068168</td>\n",
       "      <td>0.097047</td>\n",
       "      <td>-0.017255</td>\n",
       "      <td>-0.002043</td>\n",
       "      <td>0.110905</td>\n",
       "      <td>-0.091205</td>\n",
       "      <td>-0.069506</td>\n",
       "      <td>-0.007412</td>\n",
       "      <td>0.019044</td>\n",
       "      <td>1.000000</td>\n",
       "      <td>0.006010</td>\n",
       "      <td>-0.099606</td>\n",
       "      <td>-0.060126</td>\n",
       "      <td>-0.032455</td>\n",
       "      <td>-0.010729</td>\n",
       "      <td>0.033544</td>\n",
       "      <td>-0.055713</td>\n",
       "      <td>0.095637</td>\n",
       "      <td>-0.029671</td>\n",
       "      <td>0.010825</td>\n",
       "    </tr>\n",
       "    <tr>\n",
       "      <td>nursery</td>\n",
       "      <td>0.108543</td>\n",
       "      <td>-0.004051</td>\n",
       "      <td>0.106453</td>\n",
       "      <td>0.052285</td>\n",
       "      <td>-0.103838</td>\n",
       "      <td>0.065641</td>\n",
       "      <td>-0.188484</td>\n",
       "      <td>-0.162113</td>\n",
       "      <td>-0.107133</td>\n",
       "      <td>-0.029760</td>\n",
       "      <td>-0.067030</td>\n",
       "      <td>0.133398</td>\n",
       "      <td>0.046749</td>\n",
       "      <td>-0.083487</td>\n",
       "      <td>0.111398</td>\n",
       "      <td>0.049241</td>\n",
       "      <td>-0.064869</td>\n",
       "      <td>-0.121350</td>\n",
       "      <td>0.006010</td>\n",
       "      <td>1.000000</td>\n",
       "      <td>0.068030</td>\n",
       "      <td>0.032580</td>\n",
       "      <td>-0.019314</td>\n",
       "      <td>-0.000422</td>\n",
       "      <td>0.003368</td>\n",
       "      <td>0.077530</td>\n",
       "      <td>-0.088997</td>\n",
       "      <td>-0.014171</td>\n",
       "      <td>-0.052859</td>\n",
       "    </tr>\n",
       "    <tr>\n",
       "      <td>higher</td>\n",
       "      <td>0.031343</td>\n",
       "      <td>0.153372</td>\n",
       "      <td>0.207837</td>\n",
       "      <td>0.052799</td>\n",
       "      <td>0.027185</td>\n",
       "      <td>0.029150</td>\n",
       "      <td>-0.176596</td>\n",
       "      <td>-0.187323</td>\n",
       "      <td>-0.107935</td>\n",
       "      <td>0.094762</td>\n",
       "      <td>-0.112263</td>\n",
       "      <td>0.018089</td>\n",
       "      <td>0.082866</td>\n",
       "      <td>-0.174532</td>\n",
       "      <td>0.282585</td>\n",
       "      <td>0.056949</td>\n",
       "      <td>-0.124554</td>\n",
       "      <td>-0.197203</td>\n",
       "      <td>-0.099606</td>\n",
       "      <td>0.068030</td>\n",
       "      <td>1.000000</td>\n",
       "      <td>0.043522</td>\n",
       "      <td>0.131382</td>\n",
       "      <td>0.021112</td>\n",
       "      <td>0.039564</td>\n",
       "      <td>0.127339</td>\n",
       "      <td>0.033831</td>\n",
       "      <td>0.075518</td>\n",
       "      <td>-0.185563</td>\n",
       "    </tr>\n",
       "    <tr>\n",
       "      <td>internet</td>\n",
       "      <td>0.102274</td>\n",
       "      <td>-0.059940</td>\n",
       "      <td>0.108964</td>\n",
       "      <td>0.209745</td>\n",
       "      <td>0.004640</td>\n",
       "      <td>-0.059023</td>\n",
       "      <td>-0.208719</td>\n",
       "      <td>-0.133716</td>\n",
       "      <td>-0.173966</td>\n",
       "      <td>-0.105672</td>\n",
       "      <td>-0.067617</td>\n",
       "      <td>0.002679</td>\n",
       "      <td>0.086334</td>\n",
       "      <td>-0.063471</td>\n",
       "      <td>0.065367</td>\n",
       "      <td>-0.004859</td>\n",
       "      <td>-0.098795</td>\n",
       "      <td>-0.174581</td>\n",
       "      <td>-0.060126</td>\n",
       "      <td>0.032580</td>\n",
       "      <td>0.043522</td>\n",
       "      <td>1.000000</td>\n",
       "      <td>-0.099781</td>\n",
       "      <td>0.055736</td>\n",
       "      <td>0.009451</td>\n",
       "      <td>0.042880</td>\n",
       "      <td>-0.040855</td>\n",
       "      <td>-0.106250</td>\n",
       "      <td>-0.064526</td>\n",
       "    </tr>\n",
       "    <tr>\n",
       "      <td>romantic</td>\n",
       "      <td>0.060194</td>\n",
       "      <td>-0.134497</td>\n",
       "      <td>0.144440</td>\n",
       "      <td>0.010859</td>\n",
       "      <td>0.016508</td>\n",
       "      <td>-0.049715</td>\n",
       "      <td>0.023870</td>\n",
       "      <td>0.010062</td>\n",
       "      <td>-0.092247</td>\n",
       "      <td>0.029767</td>\n",
       "      <td>-0.005409</td>\n",
       "      <td>0.079152</td>\n",
       "      <td>0.022876</td>\n",
       "      <td>0.055469</td>\n",
       "      <td>0.095931</td>\n",
       "      <td>0.067455</td>\n",
       "      <td>0.015542</td>\n",
       "      <td>0.049475</td>\n",
       "      <td>-0.032455</td>\n",
       "      <td>-0.019314</td>\n",
       "      <td>0.131382</td>\n",
       "      <td>-0.099781</td>\n",
       "      <td>1.000000</td>\n",
       "      <td>0.010712</td>\n",
       "      <td>-0.026287</td>\n",
       "      <td>0.032325</td>\n",
       "      <td>-0.076827</td>\n",
       "      <td>0.150301</td>\n",
       "      <td>-0.141320</td>\n",
       "    </tr>\n",
       "    <tr>\n",
       "      <td>famrel</td>\n",
       "      <td>0.053411</td>\n",
       "      <td>0.017941</td>\n",
       "      <td>-0.043604</td>\n",
       "      <td>0.018853</td>\n",
       "      <td>0.037939</td>\n",
       "      <td>-0.091416</td>\n",
       "      <td>0.049884</td>\n",
       "      <td>0.003799</td>\n",
       "      <td>-0.029763</td>\n",
       "      <td>-0.002991</td>\n",
       "      <td>-0.043391</td>\n",
       "      <td>-0.045006</td>\n",
       "      <td>-0.026334</td>\n",
       "      <td>-0.048263</td>\n",
       "      <td>0.029207</td>\n",
       "      <td>0.014709</td>\n",
       "      <td>-0.027019</td>\n",
       "      <td>-0.079299</td>\n",
       "      <td>-0.010729</td>\n",
       "      <td>-0.000422</td>\n",
       "      <td>0.021112</td>\n",
       "      <td>0.055736</td>\n",
       "      <td>0.010712</td>\n",
       "      <td>1.000000</td>\n",
       "      <td>-0.059292</td>\n",
       "      <td>0.039041</td>\n",
       "      <td>-0.021896</td>\n",
       "      <td>0.032796</td>\n",
       "      <td>-0.017954</td>\n",
       "    </tr>\n",
       "    <tr>\n",
       "      <td>freetime</td>\n",
       "      <td>0.039938</td>\n",
       "      <td>0.127060</td>\n",
       "      <td>0.080450</td>\n",
       "      <td>0.018226</td>\n",
       "      <td>0.008712</td>\n",
       "      <td>0.004711</td>\n",
       "      <td>0.029586</td>\n",
       "      <td>-0.062522</td>\n",
       "      <td>0.062588</td>\n",
       "      <td>-0.033467</td>\n",
       "      <td>-0.012993</td>\n",
       "      <td>0.047323</td>\n",
       "      <td>0.014393</td>\n",
       "      <td>-0.075421</td>\n",
       "      <td>0.082926</td>\n",
       "      <td>-0.035469</td>\n",
       "      <td>-0.033609</td>\n",
       "      <td>-0.053240</td>\n",
       "      <td>0.033544</td>\n",
       "      <td>0.003368</td>\n",
       "      <td>0.039564</td>\n",
       "      <td>0.009451</td>\n",
       "      <td>-0.026287</td>\n",
       "      <td>-0.059292</td>\n",
       "      <td>1.000000</td>\n",
       "      <td>0.132418</td>\n",
       "      <td>0.018350</td>\n",
       "      <td>0.155189</td>\n",
       "      <td>0.084857</td>\n",
       "    </tr>\n",
       "    <tr>\n",
       "      <td>goout</td>\n",
       "      <td>-0.077693</td>\n",
       "      <td>0.038376</td>\n",
       "      <td>-0.051357</td>\n",
       "      <td>0.087114</td>\n",
       "      <td>0.012884</td>\n",
       "      <td>0.027365</td>\n",
       "      <td>-0.024815</td>\n",
       "      <td>-0.067538</td>\n",
       "      <td>0.038387</td>\n",
       "      <td>0.007172</td>\n",
       "      <td>-0.058344</td>\n",
       "      <td>-0.044174</td>\n",
       "      <td>0.078728</td>\n",
       "      <td>-0.044288</td>\n",
       "      <td>0.124796</td>\n",
       "      <td>-0.007762</td>\n",
       "      <td>0.059664</td>\n",
       "      <td>-0.014812</td>\n",
       "      <td>-0.055713</td>\n",
       "      <td>0.077530</td>\n",
       "      <td>0.127339</td>\n",
       "      <td>0.042880</td>\n",
       "      <td>0.032325</td>\n",
       "      <td>0.039041</td>\n",
       "      <td>0.132418</td>\n",
       "      <td>1.000000</td>\n",
       "      <td>-0.003980</td>\n",
       "      <td>0.000429</td>\n",
       "      <td>-0.079690</td>\n",
       "    </tr>\n",
       "    <tr>\n",
       "      <td>health</td>\n",
       "      <td>-0.079167</td>\n",
       "      <td>-0.009120</td>\n",
       "      <td>0.018465</td>\n",
       "      <td>-0.039875</td>\n",
       "      <td>0.000524</td>\n",
       "      <td>-0.031913</td>\n",
       "      <td>0.018869</td>\n",
       "      <td>0.017335</td>\n",
       "      <td>0.040007</td>\n",
       "      <td>0.000041</td>\n",
       "      <td>0.096570</td>\n",
       "      <td>-0.064583</td>\n",
       "      <td>0.031338</td>\n",
       "      <td>0.043018</td>\n",
       "      <td>-0.074029</td>\n",
       "      <td>-0.010231</td>\n",
       "      <td>0.000809</td>\n",
       "      <td>0.056639</td>\n",
       "      <td>0.095637</td>\n",
       "      <td>-0.088997</td>\n",
       "      <td>0.033831</td>\n",
       "      <td>-0.040855</td>\n",
       "      <td>-0.076827</td>\n",
       "      <td>-0.021896</td>\n",
       "      <td>0.018350</td>\n",
       "      <td>-0.003980</td>\n",
       "      <td>1.000000</td>\n",
       "      <td>-0.039624</td>\n",
       "      <td>-0.013852</td>\n",
       "    </tr>\n",
       "    <tr>\n",
       "      <td>absences</td>\n",
       "      <td>-0.102948</td>\n",
       "      <td>-0.066808</td>\n",
       "      <td>0.161195</td>\n",
       "      <td>0.029541</td>\n",
       "      <td>0.015927</td>\n",
       "      <td>-0.162279</td>\n",
       "      <td>0.099638</td>\n",
       "      <td>0.040450</td>\n",
       "      <td>0.039591</td>\n",
       "      <td>0.000923</td>\n",
       "      <td>0.165462</td>\n",
       "      <td>0.029944</td>\n",
       "      <td>-0.011422</td>\n",
       "      <td>-0.067456</td>\n",
       "      <td>0.065511</td>\n",
       "      <td>-0.024833</td>\n",
       "      <td>0.052549</td>\n",
       "      <td>-0.012151</td>\n",
       "      <td>-0.029671</td>\n",
       "      <td>-0.014171</td>\n",
       "      <td>0.075518</td>\n",
       "      <td>-0.106250</td>\n",
       "      <td>0.150301</td>\n",
       "      <td>0.032796</td>\n",
       "      <td>0.155189</td>\n",
       "      <td>0.000429</td>\n",
       "      <td>-0.039624</td>\n",
       "      <td>1.000000</td>\n",
       "      <td>0.029421</td>\n",
       "    </tr>\n",
       "    <tr>\n",
       "      <td>score</td>\n",
       "      <td>-0.044524</td>\n",
       "      <td>0.099285</td>\n",
       "      <td>-0.155726</td>\n",
       "      <td>-0.120067</td>\n",
       "      <td>0.063324</td>\n",
       "      <td>-0.045985</td>\n",
       "      <td>0.213349</td>\n",
       "      <td>0.130923</td>\n",
       "      <td>0.101975</td>\n",
       "      <td>-0.056620</td>\n",
       "      <td>0.085395</td>\n",
       "      <td>-0.044931</td>\n",
       "      <td>-0.070559</td>\n",
       "      <td>0.115741</td>\n",
       "      <td>-0.344338</td>\n",
       "      <td>0.088650</td>\n",
       "      <td>-0.007540</td>\n",
       "      <td>0.099878</td>\n",
       "      <td>0.010825</td>\n",
       "      <td>-0.052859</td>\n",
       "      <td>-0.185563</td>\n",
       "      <td>-0.064526</td>\n",
       "      <td>-0.141320</td>\n",
       "      <td>-0.017954</td>\n",
       "      <td>0.084857</td>\n",
       "      <td>-0.079690</td>\n",
       "      <td>-0.013852</td>\n",
       "      <td>0.029421</td>\n",
       "      <td>1.000000</td>\n",
       "    </tr>\n",
       "  </tbody>\n",
       "</table>\n",
       "</div>"
      ],
      "text/plain": [
       "              school       sex       age   address   famsize   pstatus  \\\n",
       "school      1.000000 -0.012286  0.377610  0.287661  0.059139  0.071655   \n",
       "sex        -0.012286  1.000000 -0.028606 -0.001084  0.099341  0.039071   \n",
       "age         0.377610 -0.028606  1.000000  0.147902  0.022638  0.015458   \n",
       "address     0.287661 -0.001084  0.147902  1.000000 -0.058109  0.064629   \n",
       "famsize     0.059139  0.099341  0.022638 -0.058109  1.000000 -0.078822   \n",
       "pstatus     0.071655  0.039071  0.015458  0.064629 -0.078822  1.000000   \n",
       "medu       -0.133708  0.080375 -0.161704 -0.153189 -0.055857 -0.131697   \n",
       "fedu       -0.090249  0.029563 -0.163670 -0.085408 -0.087404 -0.111747   \n",
       "mjob       -0.054864  0.188952 -0.067034 -0.134224  0.071174 -0.047119   \n",
       "fjob        0.141247 -0.032130  0.110980 -0.013138  0.049332  0.053190   \n",
       "reason     -0.117666 -0.079432 -0.015343 -0.017364  0.000858 -0.031176   \n",
       "guardian    0.031233 -0.015028  0.255268 -0.092095 -0.069513  0.022706   \n",
       "traveltime  0.254034  0.049019  0.081508  0.285782  0.041872  0.081029   \n",
       "studytime  -0.092700 -0.307566 -0.015556  0.045182 -0.086096  0.007697   \n",
       "failures    0.059999  0.040279  0.228047  0.101835  0.002320  0.011092   \n",
       "schoolsup   0.139951  0.138649  0.256343  0.036284  0.033654  0.035225   \n",
       "famsup     -0.185591 -0.162145 -0.159311 -0.025894 -0.122649 -0.027150   \n",
       "paid       -0.030892 -0.107899 -0.030502 -0.052925 -0.083343  0.040650   \n",
       "activities -0.114399  0.109267 -0.110231  0.052115 -0.025908  0.104314   \n",
       "nursery     0.108543 -0.004051  0.106453  0.052285 -0.103838  0.065641   \n",
       "higher      0.031343  0.153372  0.207837  0.052799  0.027185  0.029150   \n",
       "internet    0.102274 -0.059940  0.108964  0.209745  0.004640 -0.059023   \n",
       "romantic    0.060194 -0.134497  0.144440  0.010859  0.016508 -0.049715   \n",
       "famrel      0.053411  0.017941 -0.043604  0.018853  0.037939 -0.091416   \n",
       "freetime    0.039938  0.127060  0.080450  0.018226  0.008712  0.004711   \n",
       "goout      -0.077693  0.038376 -0.051357  0.087114  0.012884  0.027365   \n",
       "health     -0.079167 -0.009120  0.018465 -0.039875  0.000524 -0.031913   \n",
       "absences   -0.102948 -0.066808  0.161195  0.029541  0.015927 -0.162279   \n",
       "score      -0.044524  0.099285 -0.155726 -0.120067  0.063324 -0.045985   \n",
       "\n",
       "                medu      fedu      mjob      fjob    reason  guardian  \\\n",
       "school     -0.133708 -0.090249 -0.054864  0.141247 -0.117666  0.031233   \n",
       "sex         0.080375  0.029563  0.188952 -0.032130 -0.079432 -0.015028   \n",
       "age        -0.161704 -0.163670 -0.067034  0.110980 -0.015343  0.255268   \n",
       "address    -0.153189 -0.085408 -0.134224 -0.013138 -0.017364 -0.092095   \n",
       "famsize    -0.055857 -0.087404  0.071174  0.049332  0.000858 -0.069513   \n",
       "pstatus    -0.131697 -0.111747 -0.047119  0.053190 -0.031176  0.022706   \n",
       "medu        1.000000  0.625516  0.459158 -0.150010  0.110124 -0.144894   \n",
       "fedu        0.625516  1.000000  0.238980 -0.111548  0.067729 -0.001328   \n",
       "mjob        0.459158  0.238980  1.000000  0.015440  0.045571 -0.089984   \n",
       "fjob       -0.150010 -0.111548  0.015440  1.000000 -0.014937  0.109318   \n",
       "reason      0.110124  0.067729  0.045571 -0.014937  1.000000  0.120468   \n",
       "guardian   -0.144894 -0.001328 -0.089984  0.109318  0.120468  1.000000   \n",
       "traveltime -0.173515 -0.145349 -0.089272 -0.050033 -0.093700  0.092837   \n",
       "studytime   0.078589  0.012896 -0.001446  0.021251  0.156699  0.030281   \n",
       "failures   -0.245463 -0.272882 -0.088017  0.092914 -0.044939  0.215775   \n",
       "schoolsup   0.042360 -0.050031  0.045892  0.026009 -0.015838  0.019559   \n",
       "famsup      0.207429  0.219144  0.078418 -0.045470  0.110287 -0.010544   \n",
       "paid        0.178744  0.101455  0.138806  0.010315  0.127928 -0.088223   \n",
       "activities  0.106883  0.113534  0.098601  0.068168  0.097047 -0.017255   \n",
       "nursery    -0.188484 -0.162113 -0.107133 -0.029760 -0.067030  0.133398   \n",
       "higher     -0.176596 -0.187323 -0.107935  0.094762 -0.112263  0.018089   \n",
       "internet   -0.208719 -0.133716 -0.173966 -0.105672 -0.067617  0.002679   \n",
       "romantic    0.023870  0.010062 -0.092247  0.029767 -0.005409  0.079152   \n",
       "famrel      0.049884  0.003799 -0.029763 -0.002991 -0.043391 -0.045006   \n",
       "freetime    0.029586 -0.062522  0.062588 -0.033467 -0.012993  0.047323   \n",
       "goout      -0.024815 -0.067538  0.038387  0.007172 -0.058344 -0.044174   \n",
       "health      0.018869  0.017335  0.040007  0.000041  0.096570 -0.064583   \n",
       "absences    0.099638  0.040450  0.039591  0.000923  0.165462  0.029944   \n",
       "score       0.213349  0.130923  0.101975 -0.056620  0.085395 -0.044931   \n",
       "\n",
       "            traveltime  studytime  failures  schoolsup    famsup      paid  \\\n",
       "school        0.254034  -0.092700  0.059999   0.139951 -0.185591 -0.030892   \n",
       "sex           0.049019  -0.307566  0.040279   0.138649 -0.162145 -0.107899   \n",
       "age           0.081508  -0.015556  0.228047   0.256343 -0.159311 -0.030502   \n",
       "address       0.285782   0.045182  0.101835   0.036284 -0.025894 -0.052925   \n",
       "famsize       0.041872  -0.086096  0.002320   0.033654 -0.122649 -0.083343   \n",
       "pstatus       0.081029   0.007697  0.011092   0.035225 -0.027150  0.040650   \n",
       "medu         -0.173515   0.078589 -0.245463   0.042360  0.207429  0.178744   \n",
       "fedu         -0.145349   0.012896 -0.272882  -0.050031  0.219144  0.101455   \n",
       "mjob         -0.089272  -0.001446 -0.088017   0.045892  0.078418  0.138806   \n",
       "fjob         -0.050033   0.021251  0.092914   0.026009 -0.045470  0.010315   \n",
       "reason       -0.093700   0.156699 -0.044939  -0.015838  0.110287  0.127928   \n",
       "guardian      0.092837   0.030281  0.215775   0.019559 -0.010544 -0.088223   \n",
       "traveltime    1.000000  -0.102206  0.064699   0.009752 -0.020651 -0.044878   \n",
       "studytime    -0.102206   1.000000 -0.178992  -0.031873  0.129236  0.201447   \n",
       "failures      0.064699  -0.178992  1.000000  -0.006310 -0.093340 -0.178898   \n",
       "schoolsup     0.009752  -0.031873 -0.006310   1.000000 -0.098607  0.030622   \n",
       "famsup       -0.020651   0.129236 -0.093340  -0.098607  1.000000  0.312699   \n",
       "paid         -0.044878   0.201447 -0.178898   0.030622  0.312699  1.000000   \n",
       "activities   -0.002043   0.110905 -0.091205  -0.069506 -0.007412  0.019044   \n",
       "nursery       0.046749  -0.083487  0.111398   0.049241 -0.064869 -0.121350   \n",
       "higher        0.082866  -0.174532  0.282585   0.056949 -0.124554 -0.197203   \n",
       "internet      0.086334  -0.063471  0.065367  -0.004859 -0.098795 -0.174581   \n",
       "romantic      0.022876   0.055469  0.095931   0.067455  0.015542  0.049475   \n",
       "famrel       -0.026334  -0.048263  0.029207   0.014709 -0.027019 -0.079299   \n",
       "freetime      0.014393  -0.075421  0.082926  -0.035469 -0.033609 -0.053240   \n",
       "goout         0.078728  -0.044288  0.124796  -0.007762  0.059664 -0.014812   \n",
       "health        0.031338   0.043018 -0.074029  -0.010231  0.000809  0.056639   \n",
       "absences     -0.011422  -0.067456  0.065511  -0.024833  0.052549 -0.012151   \n",
       "score        -0.070559   0.115741 -0.344338   0.088650 -0.007540  0.099878   \n",
       "\n",
       "            activities   nursery    higher  internet  romantic    famrel  \\\n",
       "school       -0.114399  0.108543  0.031343  0.102274  0.060194  0.053411   \n",
       "sex           0.109267 -0.004051  0.153372 -0.059940 -0.134497  0.017941   \n",
       "age          -0.110231  0.106453  0.207837  0.108964  0.144440 -0.043604   \n",
       "address       0.052115  0.052285  0.052799  0.209745  0.010859  0.018853   \n",
       "famsize      -0.025908 -0.103838  0.027185  0.004640  0.016508  0.037939   \n",
       "pstatus       0.104314  0.065641  0.029150 -0.059023 -0.049715 -0.091416   \n",
       "medu          0.106883 -0.188484 -0.176596 -0.208719  0.023870  0.049884   \n",
       "fedu          0.113534 -0.162113 -0.187323 -0.133716  0.010062  0.003799   \n",
       "mjob          0.098601 -0.107133 -0.107935 -0.173966 -0.092247 -0.029763   \n",
       "fjob          0.068168 -0.029760  0.094762 -0.105672  0.029767 -0.002991   \n",
       "reason        0.097047 -0.067030 -0.112263 -0.067617 -0.005409 -0.043391   \n",
       "guardian     -0.017255  0.133398  0.018089  0.002679  0.079152 -0.045006   \n",
       "traveltime   -0.002043  0.046749  0.082866  0.086334  0.022876 -0.026334   \n",
       "studytime     0.110905 -0.083487 -0.174532 -0.063471  0.055469 -0.048263   \n",
       "failures     -0.091205  0.111398  0.282585  0.065367  0.095931  0.029207   \n",
       "schoolsup    -0.069506  0.049241  0.056949 -0.004859  0.067455  0.014709   \n",
       "famsup       -0.007412 -0.064869 -0.124554 -0.098795  0.015542 -0.027019   \n",
       "paid          0.019044 -0.121350 -0.197203 -0.174581  0.049475 -0.079299   \n",
       "activities    1.000000  0.006010 -0.099606 -0.060126 -0.032455 -0.010729   \n",
       "nursery       0.006010  1.000000  0.068030  0.032580 -0.019314 -0.000422   \n",
       "higher       -0.099606  0.068030  1.000000  0.043522  0.131382  0.021112   \n",
       "internet     -0.060126  0.032580  0.043522  1.000000 -0.099781  0.055736   \n",
       "romantic     -0.032455 -0.019314  0.131382 -0.099781  1.000000  0.010712   \n",
       "famrel       -0.010729 -0.000422  0.021112  0.055736  0.010712  1.000000   \n",
       "freetime      0.033544  0.003368  0.039564  0.009451 -0.026287 -0.059292   \n",
       "goout        -0.055713  0.077530  0.127339  0.042880  0.032325  0.039041   \n",
       "health        0.095637 -0.088997  0.033831 -0.040855 -0.076827 -0.021896   \n",
       "absences     -0.029671 -0.014171  0.075518 -0.106250  0.150301  0.032796   \n",
       "score         0.010825 -0.052859 -0.185563 -0.064526 -0.141320 -0.017954   \n",
       "\n",
       "            freetime     goout    health  absences     score  \n",
       "school      0.039938 -0.077693 -0.079167 -0.102948 -0.044524  \n",
       "sex         0.127060  0.038376 -0.009120 -0.066808  0.099285  \n",
       "age         0.080450 -0.051357  0.018465  0.161195 -0.155726  \n",
       "address     0.018226  0.087114 -0.039875  0.029541 -0.120067  \n",
       "famsize     0.008712  0.012884  0.000524  0.015927  0.063324  \n",
       "pstatus     0.004711  0.027365 -0.031913 -0.162279 -0.045985  \n",
       "medu        0.029586 -0.024815  0.018869  0.099638  0.213349  \n",
       "fedu       -0.062522 -0.067538  0.017335  0.040450  0.130923  \n",
       "mjob        0.062588  0.038387  0.040007  0.039591  0.101975  \n",
       "fjob       -0.033467  0.007172  0.000041  0.000923 -0.056620  \n",
       "reason     -0.012993 -0.058344  0.096570  0.165462  0.085395  \n",
       "guardian    0.047323 -0.044174 -0.064583  0.029944 -0.044931  \n",
       "traveltime  0.014393  0.078728  0.031338 -0.011422 -0.070559  \n",
       "studytime  -0.075421 -0.044288  0.043018 -0.067456  0.115741  \n",
       "failures    0.082926  0.124796 -0.074029  0.065511 -0.344338  \n",
       "schoolsup  -0.035469 -0.007762 -0.010231 -0.024833  0.088650  \n",
       "famsup     -0.033609  0.059664  0.000809  0.052549 -0.007540  \n",
       "paid       -0.053240 -0.014812  0.056639 -0.012151  0.099878  \n",
       "activities  0.033544 -0.055713  0.095637 -0.029671  0.010825  \n",
       "nursery     0.003368  0.077530 -0.088997 -0.014171 -0.052859  \n",
       "higher      0.039564  0.127339  0.033831  0.075518 -0.185563  \n",
       "internet    0.009451  0.042880 -0.040855 -0.106250 -0.064526  \n",
       "romantic   -0.026287  0.032325 -0.076827  0.150301 -0.141320  \n",
       "famrel     -0.059292  0.039041 -0.021896  0.032796 -0.017954  \n",
       "freetime    1.000000  0.132418  0.018350  0.155189  0.084857  \n",
       "goout       0.132418  1.000000 -0.003980  0.000429 -0.079690  \n",
       "health      0.018350 -0.003980  1.000000 -0.039624 -0.013852  \n",
       "absences    0.155189  0.000429 -0.039624  1.000000  0.029421  \n",
       "score       0.084857 -0.079690 -0.013852  0.029421  1.000000  "
      ]
     },
     "execution_count": 73,
     "metadata": {},
     "output_type": "execute_result"
    }
   ],
   "source": [
    "# а теперь проверим корреляцию\n",
    "\n",
    "df_copy.corr()"
   ]
  },
  {
   "cell_type": "code",
   "execution_count": 74,
   "metadata": {},
   "outputs": [
    {
     "data": {
      "text/plain": [
       "<matplotlib.axes._subplots.AxesSubplot at 0x20f5e6e7088>"
      ]
     },
     "execution_count": 74,
     "metadata": {},
     "output_type": "execute_result"
    },
    {
     "data": {
      "image/png": "[encoded data removed]",
      "text/plain": [
       "<Figure size 1080x720 with 2 Axes>"
      ]
     },
     "metadata": {
      "needs_background": "light"
     },
     "output_type": "display_data"
    }
   ],
   "source": [
    "# для наглядности сделаем различные варианты тепловых карт\n",
    "\n",
    "plt.figure(figsize=(15, 10))\n",
    "sns.heatmap(df_copy.corr(), vmin=-1, vmax=1)"
   ]
  },
  {
   "cell_type": "code",
   "execution_count": 75,
   "metadata": {
    "scrolled": true
   },
   "outputs": [
    {
     "data": {
      "text/plain": [
       "<matplotlib.axes._subplots.AxesSubplot at 0x20f5e6363c8>"
      ]
     },
     "execution_count": 75,
     "metadata": {},
     "output_type": "execute_result"
    },
    {
     "data": {
      "image/png": "[encoded data removed]",
      "text/plain": [
       "<Figure size 1080x720 with 2 Axes>"
      ]
     },
     "metadata": {
      "needs_background": "light"
     },
     "output_type": "display_data"
    }
   ],
   "source": [
    "# отметим значения коррелирующие на 50%\n",
    "\n",
    "plt.figure(figsize=(15, 10))\n",
    "sns.heatmap((df_copy.corr() > 0.5), linewidths=0.5)"
   ]
  },
  {
   "cell_type": "code",
   "execution_count": 76,
   "metadata": {
    "scrolled": true
   },
   "outputs": [
    {
     "data": {
      "text/plain": [
       "<matplotlib.axes._subplots.AxesSubplot at 0x20f5ea42248>"
      ]
     },
     "execution_count": 76,
     "metadata": {},
     "output_type": "execute_result"
    },
    {
     "data": {
      "image/png": "[encoded data removed]",
      "text/plain": [
       "<Figure size 1080x720 with 2 Axes>"
      ]
     },
     "metadata": {
      "needs_background": "light"
     },
     "output_type": "display_data"
    }
   ],
   "source": [
    "# отметим значения коррелирующие на -50%\n",
    "\n",
    "plt.figure(figsize=(15, 10))\n",
    "sns.heatmap((df_copy.corr() < -0.5), linewidths=0.5)"
   ]
  },
  {
   "cell_type": "markdown",
   "metadata": {},
   "source": [
    "Мы видим, что коррелируют столбцы 'medu', 'fedu'. Соответственно можно пропущенные значения брать из соседнего столбца"
   ]
  },
  {
   "cell_type": "code",
   "execution_count": 77,
   "metadata": {},
   "outputs": [],
   "source": [
    "df_edu = df[['medu', 'fedu']]"
   ]
  },
  {
   "cell_type": "code",
   "execution_count": 78,
   "metadata": {},
   "outputs": [
    {
     "data": {
      "text/html": [
       "<div>\n",
       "<style scoped>\n",
       "    .dataframe tbody tr th:only-of-type {\n",
       "        vertical-align: middle;\n",
       "    }\n",
       "\n",
       "    .dataframe tbody tr th {\n",
       "        vertical-align: top;\n",
       "    }\n",
       "\n",
       "    .dataframe thead th {\n",
       "        text-align: right;\n",
       "    }\n",
       "</style>\n",
       "<table border=\"1\" class=\"dataframe\">\n",
       "  <thead>\n",
       "    <tr style=\"text-align: right;\">\n",
       "      <th></th>\n",
       "      <th>medu</th>\n",
       "      <th>fedu</th>\n",
       "    </tr>\n",
       "  </thead>\n",
       "  <tbody>\n",
       "    <tr>\n",
       "      <td>21</td>\n",
       "      <td>4.0</td>\n",
       "      <td>NaN</td>\n",
       "    </tr>\n",
       "    <tr>\n",
       "      <td>42</td>\n",
       "      <td>4.0</td>\n",
       "      <td>NaN</td>\n",
       "    </tr>\n",
       "    <tr>\n",
       "      <td>46</td>\n",
       "      <td>3.0</td>\n",
       "      <td>NaN</td>\n",
       "    </tr>\n",
       "    <tr>\n",
       "      <td>57</td>\n",
       "      <td>4.0</td>\n",
       "      <td>NaN</td>\n",
       "    </tr>\n",
       "    <tr>\n",
       "      <td>58</td>\n",
       "      <td>1.0</td>\n",
       "      <td>NaN</td>\n",
       "    </tr>\n",
       "    <tr>\n",
       "      <td>67</td>\n",
       "      <td>3.0</td>\n",
       "      <td>NaN</td>\n",
       "    </tr>\n",
       "    <tr>\n",
       "      <td>92</td>\n",
       "      <td>NaN</td>\n",
       "      <td>1.0</td>\n",
       "    </tr>\n",
       "    <tr>\n",
       "      <td>137</td>\n",
       "      <td>3.0</td>\n",
       "      <td>NaN</td>\n",
       "    </tr>\n",
       "    <tr>\n",
       "      <td>142</td>\n",
       "      <td>4.0</td>\n",
       "      <td>NaN</td>\n",
       "    </tr>\n",
       "    <tr>\n",
       "      <td>159</td>\n",
       "      <td>3.0</td>\n",
       "      <td>NaN</td>\n",
       "    </tr>\n",
       "    <tr>\n",
       "      <td>161</td>\n",
       "      <td>3.0</td>\n",
       "      <td>NaN</td>\n",
       "    </tr>\n",
       "    <tr>\n",
       "      <td>180</td>\n",
       "      <td>4.0</td>\n",
       "      <td>NaN</td>\n",
       "    </tr>\n",
       "    <tr>\n",
       "      <td>193</td>\n",
       "      <td>NaN</td>\n",
       "      <td>3.0</td>\n",
       "    </tr>\n",
       "    <tr>\n",
       "      <td>195</td>\n",
       "      <td>2.0</td>\n",
       "      <td>NaN</td>\n",
       "    </tr>\n",
       "    <tr>\n",
       "      <td>232</td>\n",
       "      <td>4.0</td>\n",
       "      <td>NaN</td>\n",
       "    </tr>\n",
       "    <tr>\n",
       "      <td>236</td>\n",
       "      <td>2.0</td>\n",
       "      <td>NaN</td>\n",
       "    </tr>\n",
       "    <tr>\n",
       "      <td>239</td>\n",
       "      <td>NaN</td>\n",
       "      <td>2.0</td>\n",
       "    </tr>\n",
       "    <tr>\n",
       "      <td>259</td>\n",
       "      <td>2.0</td>\n",
       "      <td>NaN</td>\n",
       "    </tr>\n",
       "    <tr>\n",
       "      <td>280</td>\n",
       "      <td>4.0</td>\n",
       "      <td>NaN</td>\n",
       "    </tr>\n",
       "    <tr>\n",
       "      <td>281</td>\n",
       "      <td>3.0</td>\n",
       "      <td>NaN</td>\n",
       "    </tr>\n",
       "    <tr>\n",
       "      <td>286</td>\n",
       "      <td>2.0</td>\n",
       "      <td>NaN</td>\n",
       "    </tr>\n",
       "    <tr>\n",
       "      <td>287</td>\n",
       "      <td>1.0</td>\n",
       "      <td>NaN</td>\n",
       "    </tr>\n",
       "    <tr>\n",
       "      <td>290</td>\n",
       "      <td>4.0</td>\n",
       "      <td>NaN</td>\n",
       "    </tr>\n",
       "    <tr>\n",
       "      <td>310</td>\n",
       "      <td>1.0</td>\n",
       "      <td>NaN</td>\n",
       "    </tr>\n",
       "    <tr>\n",
       "      <td>328</td>\n",
       "      <td>4.0</td>\n",
       "      <td>NaN</td>\n",
       "    </tr>\n",
       "    <tr>\n",
       "      <td>349</td>\n",
       "      <td>3.0</td>\n",
       "      <td>NaN</td>\n",
       "    </tr>\n",
       "    <tr>\n",
       "      <td>374</td>\n",
       "      <td>4.0</td>\n",
       "      <td>NaN</td>\n",
       "    </tr>\n",
       "  </tbody>\n",
       "</table>\n",
       "</div>"
      ],
      "text/plain": [
       "     medu  fedu\n",
       "21    4.0   NaN\n",
       "42    4.0   NaN\n",
       "46    3.0   NaN\n",
       "57    4.0   NaN\n",
       "58    1.0   NaN\n",
       "67    3.0   NaN\n",
       "92    NaN   1.0\n",
       "137   3.0   NaN\n",
       "142   4.0   NaN\n",
       "159   3.0   NaN\n",
       "161   3.0   NaN\n",
       "180   4.0   NaN\n",
       "193   NaN   3.0\n",
       "195   2.0   NaN\n",
       "232   4.0   NaN\n",
       "236   2.0   NaN\n",
       "239   NaN   2.0\n",
       "259   2.0   NaN\n",
       "280   4.0   NaN\n",
       "281   3.0   NaN\n",
       "286   2.0   NaN\n",
       "287   1.0   NaN\n",
       "290   4.0   NaN\n",
       "310   1.0   NaN\n",
       "328   4.0   NaN\n",
       "349   3.0   NaN\n",
       "374   4.0   NaN"
      ]
     },
     "execution_count": 78,
     "metadata": {},
     "output_type": "execute_result"
    }
   ],
   "source": [
    "df_edu[(df_edu.medu.isnull()) | (df_edu.fedu.isnull())]"
   ]
  },
  {
   "cell_type": "code",
   "execution_count": 79,
   "metadata": {},
   "outputs": [],
   "source": [
    "# заменяем пропущенные значения на значение из соседнего столбца\n",
    "\n",
    "for i in range(0, df.shape[0]):\n",
    "    if pd.isnull(df.loc[i, 'medu']):\n",
    "        df.loc[i, 'medu'] = df.loc[i, 'fedu']\n",
    "    if pd.isnull(df.loc[i, 'fedu']):\n",
    "        df.loc[i, 'fedu'] = df.loc[i, 'medu']"
   ]
  },
  {
   "cell_type": "markdown",
   "metadata": {},
   "source": [
    "Удаление столбцов и срок\n",
    "--"
   ]
  },
  {
   "cell_type": "markdown",
   "metadata": {},
   "source": [
    "Ну а теперь будем удалять то, что я считаю необхдимым.  \n",
    "Во-первых - это столбцы 'famsup', 'paid'.  \n",
    "И вот почему:  \n",
    "- много пропусков (10%+)\n",
    "- распределение значений примерно 40 к 60. Если поставить наиболее часто встречаемое, то соотношение значительно сместится\n",
    "\n",
    "Во-вторых, нужно удалить строки скорв с пропущенными значениями и с нулями. И вот почему:  \n",
    "- 0 - явно ошибочное значение\n",
    "- Если не брать нули, то распределение оценок нормальное. Однако если мы вместо пропущенных и нулей установим медиану/моду, то изменится стандартное отклонение и т.п. \n",
    "Таким образом у нас станет значительно меньше строк в датафрейме, но это меньшее из зол"
   ]
  },
  {
   "cell_type": "code",
   "execution_count": 80,
   "metadata": {},
   "outputs": [],
   "source": [
    "df = df.drop(['famsup', 'paid'], axis=1)"
   ]
  },
  {
   "cell_type": "code",
   "execution_count": 81,
   "metadata": {},
   "outputs": [],
   "source": [
    "indexes_del = df[(df.score == 0) | (pd.isnull(df.score))].index"
   ]
  },
  {
   "cell_type": "code",
   "execution_count": 82,
   "metadata": {},
   "outputs": [],
   "source": [
    "df = df.drop(indexes_del)"
   ]
  },
  {
   "cell_type": "code",
   "execution_count": 83,
   "metadata": {},
   "outputs": [
    {
     "name": "stdout",
     "output_type": "stream",
     "text": [
      "<class 'pandas.core.frame.DataFrame'>\n",
      "Int64Index: 352 entries, 0 to 394\n",
      "Data columns (total 27 columns):\n",
      "school        352 non-null object\n",
      "sex           352 non-null object\n",
      "age           352 non-null int64\n",
      "address       338 non-null object\n",
      "famsize       328 non-null object\n",
      "pstatus       311 non-null object\n",
      "medu          352 non-null float64\n",
      "fedu          352 non-null float64\n",
      "mjob          335 non-null object\n",
      "fjob          320 non-null object\n",
      "reason        337 non-null object\n",
      "guardian      323 non-null object\n",
      "traveltime    329 non-null float64\n",
      "studytime     345 non-null float64\n",
      "failures      332 non-null float64\n",
      "schoolsup     343 non-null object\n",
      "activities    340 non-null object\n",
      "nursery       340 non-null object\n",
      "higher        333 non-null object\n",
      "internet      323 non-null object\n",
      "romantic      323 non-null object\n",
      "famrel        328 non-null float64\n",
      "freetime      344 non-null float64\n",
      "goout         346 non-null float64\n",
      "health        339 non-null float64\n",
      "absences      342 non-null float64\n",
      "score         352 non-null float64\n",
      "dtypes: float64(11), int64(1), object(15)\n",
      "memory usage: 77.0+ KB\n"
     ]
    }
   ],
   "source": [
    "df.info()"
   ]
  },
  {
   "cell_type": "markdown",
   "metadata": {},
   "source": [
    "Заполняем пропуски\n",
    "--\n",
    "Во всех остальных случаях мы заполним пропуски наиболее часто встречаемым значением.  \n",
    "Для этой задачи напишим цикл"
   ]
  },
  {
   "cell_type": "code",
   "execution_count": 111,
   "metadata": {},
   "outputs": [],
   "source": [
    "for col in df.columns:\n",
    "    if df.shape[0] == df[col].count():\n",
    "        continue\n",
    "    else:\n",
    "        val = df[col].value_counts().index[0]\n",
    "        df[col] = df[col].apply(lambda x: val if pd.isnull(x) else x)"
   ]
  },
  {
   "cell_type": "code",
   "execution_count": 94,
   "metadata": {},
   "outputs": [
    {
     "name": "stdout",
     "output_type": "stream",
     "text": [
      "<class 'pandas.core.frame.DataFrame'>\n",
      "Int64Index: 352 entries, 0 to 394\n",
      "Data columns (total 27 columns):\n",
      "school        352 non-null object\n",
      "sex           352 non-null object\n",
      "age           352 non-null int64\n",
      "address       352 non-null object\n",
      "famsize       352 non-null object\n",
      "pstatus       352 non-null object\n",
      "medu          352 non-null float64\n",
      "fedu          352 non-null float64\n",
      "mjob          352 non-null object\n",
      "fjob          352 non-null object\n",
      "reason        352 non-null object\n",
      "guardian      352 non-null object\n",
      "traveltime    352 non-null float64\n",
      "studytime     352 non-null float64\n",
      "failures      352 non-null float64\n",
      "schoolsup     352 non-null object\n",
      "activities    352 non-null object\n",
      "nursery       352 non-null object\n",
      "higher        352 non-null object\n",
      "internet      352 non-null object\n",
      "romantic      352 non-null object\n",
      "famrel        352 non-null float64\n",
      "freetime      352 non-null float64\n",
      "goout         352 non-null float64\n",
      "health        352 non-null float64\n",
      "absences      352 non-null float64\n",
      "score         352 non-null float64\n",
      "dtypes: float64(11), int64(1), object(15)\n",
      "memory usage: 77.0+ KB\n"
     ]
    }
   ],
   "source": [
    "df.info()"
   ]
  },
  {
   "cell_type": "markdown",
   "metadata": {},
   "source": [
    "Вывод\n",
    "--"
   ]
  },
  {
   "cell_type": "markdown",
   "metadata": {},
   "source": [
    "- Для анализа был получен датасет на 30 столбцов, из которых без пропусков было только 3 столбца\n",
    "- Был обнаружен столбец **studytime, granular** которого не было в описании. Но так как была корреляция -100%, то мы смело его удалили\n",
    "- Явной корреляции не заметили  как по числовым признакам, так и по номинативным\n",
    "- Были обнаружены очевидные ошибки когда вместо 4 ставили 40 (хотя здравый смысл говорит о том, что такого быть не может) и т.п. Их мало. Похоже на человеческий фактор.\n",
    "- Выбросы были в столбцах **age** и **absences**\n",
    "    - В **age** оставили, т.к. был только один выброс и он входил в допустимый диапазон из описания\n",
    "    - В **absences** выбросов было больше, но удалили только 2 верхних значения, т.к. шаг выбросов остальных значений был небольшой и не похож на ошибочные значения\n",
    "- Для параметра **score** было принято решение удалить строки с пропусками и где есть значение 0\n",
    "    - 0 - явно ошибочное значение. Много оценок 0, а потом 20+. Больше похоже на пропуски. Да и \"пальцем в небо\" если сдавать тест, то это нужно быть супер-неудачником, чтобы сдать на 0! и ладно если бы 1 уникум, а то пару десятков.\n",
    "    - Не считая значения 0, в целом распределение нормальное. Однако если заполнять 0 и пропуски медианой/модой/средним - то оно сильно вырастет по центру, и не изменица по краям. Изменится дисперсия. Скорее всего это так себе вариант.\n",
    "    - Пропущенные значения заполнять, это опеределенная доля угадывания. А т.к. этот признак мы собираемся предсказывать, то лучше сделать его меньше, но зато будет точным\n",
    "- Удалил столбцы **'famsup', 'paid'** \n",
    "    - много пропусков (10%+)\n",
    "    - Вероятность исказить картину. Распределение значений примерно 40 к 60. Если поставить наиболее часто встречаемое, то соотношение значительно сместится\n",
    "- Пропущенные значения столбцов **medu** заменяли значениями из столбца **fedu** и наоборот. Было принято такое решение, т.к. наблюдалось совпадение в 60%+ случаев\n",
    "- Для всех остальных признаков было принято решение заполнять пропуски наиболее часто встречаемым значением, т.к.\n",
    "    - При таком подходе не создавался сильный перекос в пользу того или инного значения\n",
    "    - Подобных кейсов на курсе не было и такое решение кажется наиболее логичным"
   ]
  },
  {
   "cell_type": "code",
   "execution_count": null,
   "metadata": {},
   "outputs": [],
   "source": []
  }
 ],
 "metadata": {
  "kernelspec": {
   "display_name": "Python 3",
   "language": "python",
   "name": "python3"
  },
  "language_info": {
   "codemirror_mode": {
    "name": "ipython",
    "version": 3
   },
   "file_extension": ".py",
   "mimetype": "text/x-python",
   "name": "python",
   "nbconvert_exporter": "python",
   "pygments_lexer": "ipython3",
   "version": "3.7.4"
  }
 },
 "nbformat": 4,
 "nbformat_minor": 2
}
