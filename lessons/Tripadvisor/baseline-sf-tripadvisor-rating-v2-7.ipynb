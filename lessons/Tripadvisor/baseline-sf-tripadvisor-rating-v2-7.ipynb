{
 "cells": [
  {
   "cell_type": "markdown",
   "metadata": {},
   "source": [
    "# import"
   ]
  },
  {
   "cell_type": "code",
   "execution_count": 1,
   "metadata": {
    "_cell_guid": "b1076dfc-b9ad-4769-8c92-a6c4dae69d19",
    "_uuid": "8f2839f25d086af736a60e9eeb907d3b93b6e0e5"
   },
   "outputs": [],
   "source": [
    "# This Python 3 environment comes with many helpful analytics libraries installed\n",
    "# It is defined by the kaggle/python docker image: https://github.com/kaggle/docker-python\n",
    "# For example, here's several helpful packages to load in \n",
    "\n",
    "import numpy as np # linear algebra\n",
    "import pandas as pd # data processing, CSV file I/O (e.g. pd.read_csv)\n",
    "import re\n",
    "import datetime\n",
    "\n",
    "import matplotlib.pyplot as plt\n",
    "import seaborn as sns \n",
    "%matplotlib inline\n",
    "\n",
    "# Загружаем специальный удобный инструмент для разделения датасета:\n",
    "from sklearn.model_selection import train_test_split\n",
    "\n",
    "# Input data files are available in the \"../input/\" directory.\n",
    "# For example, running this (by clicking run or pressing Shift+Enter) will list all files under the input directory\n",
    "\n",
    "import os\n",
    "for dirname, _, filenames in os.walk('/kaggle/input'):\n",
    "    for filename in filenames:\n",
    "        print(os.path.join(dirname, filename))\n",
    "\n",
    "# Any results you write to the current directory are saved as output."
   ]
  },
  {
   "cell_type": "code",
   "execution_count": 2,
   "metadata": {},
   "outputs": [],
   "source": [
    "# всегда фиксируйте RANDOM_SEED, чтобы ваши эксперименты были воспроизводимы!\n",
    "RANDOM_SEED = 42"
   ]
  },
  {
   "cell_type": "code",
   "execution_count": 3,
   "metadata": {},
   "outputs": [],
   "source": [
    "# зафиксируем версию пакетов, чтобы эксперименты были воспроизводимы:\n",
    "!pip freeze > requirements.txt"
   ]
  },
  {
   "cell_type": "markdown",
   "metadata": {},
   "source": [
    "# DATA"
   ]
  },
  {
   "cell_type": "code",
   "execution_count": 4,
   "metadata": {
    "_cell_guid": "79c7e3d0-c299-4dcb-8224-4455121ee9b0",
    "_uuid": "d629ff2d2480ee46fbb7e2d37f6b5fab8052498a"
   },
   "outputs": [],
   "source": [
    "df_train = pd.read_csv('main_task.csv')\n",
    "df_test = pd.read_csv('kaggle_task.csv')\n",
    "sample_submission = pd.read_csv('sample_submission.csv')"
   ]
  },
  {
   "cell_type": "code",
   "execution_count": 5,
   "metadata": {},
   "outputs": [
    {
     "name": "stdout",
     "output_type": "stream",
     "text": [
      "<class 'pandas.core.frame.DataFrame'>\n",
      "RangeIndex: 40000 entries, 0 to 39999\n",
      "Data columns (total 10 columns):\n",
      "Restaurant_id        40000 non-null object\n",
      "City                 40000 non-null object\n",
      "Cuisine Style        30717 non-null object\n",
      "Ranking              40000 non-null float64\n",
      "Rating               40000 non-null float64\n",
      "Price Range          26114 non-null object\n",
      "Number of Reviews    37457 non-null float64\n",
      "Reviews              40000 non-null object\n",
      "URL_TA               40000 non-null object\n",
      "ID_TA                40000 non-null object\n",
      "dtypes: float64(3), object(7)\n",
      "memory usage: 3.1+ MB\n"
     ]
    }
   ],
   "source": [
    "df_train.info()"
   ]
  },
  {
   "cell_type": "code",
   "execution_count": 6,
   "metadata": {},
   "outputs": [
    {
     "data": {
      "text/html": [
       "<div>\n",
       "<style scoped>\n",
       "    .dataframe tbody tr th:only-of-type {\n",
       "        vertical-align: middle;\n",
       "    }\n",
       "\n",
       "    .dataframe tbody tr th {\n",
       "        vertical-align: top;\n",
       "    }\n",
       "\n",
       "    .dataframe thead th {\n",
       "        text-align: right;\n",
       "    }\n",
       "</style>\n",
       "<table border=\"1\" class=\"dataframe\">\n",
       "  <thead>\n",
       "    <tr style=\"text-align: right;\">\n",
       "      <th></th>\n",
       "      <th>Restaurant_id</th>\n",
       "      <th>City</th>\n",
       "      <th>Cuisine Style</th>\n",
       "      <th>Ranking</th>\n",
       "      <th>Rating</th>\n",
       "      <th>Price Range</th>\n",
       "      <th>Number of Reviews</th>\n",
       "      <th>Reviews</th>\n",
       "      <th>URL_TA</th>\n",
       "      <th>ID_TA</th>\n",
       "    </tr>\n",
       "  </thead>\n",
       "  <tbody>\n",
       "    <tr>\n",
       "      <td>0</td>\n",
       "      <td>id_5569</td>\n",
       "      <td>Paris</td>\n",
       "      <td>['European', 'French', 'International']</td>\n",
       "      <td>5570.0</td>\n",
       "      <td>3.5</td>\n",
       "      <td>$$ - $$$</td>\n",
       "      <td>194.0</td>\n",
       "      <td>[['Good food at your doorstep', 'A good hotel ...</td>\n",
       "      <td>/Restaurant_Review-g187147-d1912643-Reviews-R_...</td>\n",
       "      <td>d1912643</td>\n",
       "    </tr>\n",
       "    <tr>\n",
       "      <td>1</td>\n",
       "      <td>id_1535</td>\n",
       "      <td>Stockholm</td>\n",
       "      <td>NaN</td>\n",
       "      <td>1537.0</td>\n",
       "      <td>4.0</td>\n",
       "      <td>NaN</td>\n",
       "      <td>10.0</td>\n",
       "      <td>[['Unique cuisine', 'Delicious Nepalese food']...</td>\n",
       "      <td>/Restaurant_Review-g189852-d7992032-Reviews-Bu...</td>\n",
       "      <td>d7992032</td>\n",
       "    </tr>\n",
       "    <tr>\n",
       "      <td>2</td>\n",
       "      <td>id_352</td>\n",
       "      <td>London</td>\n",
       "      <td>['Japanese', 'Sushi', 'Asian', 'Grill', 'Veget...</td>\n",
       "      <td>353.0</td>\n",
       "      <td>4.5</td>\n",
       "      <td>$$$$</td>\n",
       "      <td>688.0</td>\n",
       "      <td>[['Catch up with friends', 'Not exceptional'],...</td>\n",
       "      <td>/Restaurant_Review-g186338-d8632781-Reviews-RO...</td>\n",
       "      <td>d8632781</td>\n",
       "    </tr>\n",
       "    <tr>\n",
       "      <td>3</td>\n",
       "      <td>id_3456</td>\n",
       "      <td>Berlin</td>\n",
       "      <td>NaN</td>\n",
       "      <td>3458.0</td>\n",
       "      <td>5.0</td>\n",
       "      <td>NaN</td>\n",
       "      <td>3.0</td>\n",
       "      <td>[[], []]</td>\n",
       "      <td>/Restaurant_Review-g187323-d1358776-Reviews-Es...</td>\n",
       "      <td>d1358776</td>\n",
       "    </tr>\n",
       "    <tr>\n",
       "      <td>4</td>\n",
       "      <td>id_615</td>\n",
       "      <td>Munich</td>\n",
       "      <td>['German', 'Central European', 'Vegetarian Fri...</td>\n",
       "      <td>621.0</td>\n",
       "      <td>4.0</td>\n",
       "      <td>$$ - $$$</td>\n",
       "      <td>84.0</td>\n",
       "      <td>[['Best place to try a Bavarian food', 'Nice b...</td>\n",
       "      <td>/Restaurant_Review-g187309-d6864963-Reviews-Au...</td>\n",
       "      <td>d6864963</td>\n",
       "    </tr>\n",
       "  </tbody>\n",
       "</table>\n",
       "</div>"
      ],
      "text/plain": [
       "  Restaurant_id       City                                      Cuisine Style  \\\n",
       "0       id_5569      Paris            ['European', 'French', 'International']   \n",
       "1       id_1535  Stockholm                                                NaN   \n",
       "2        id_352     London  ['Japanese', 'Sushi', 'Asian', 'Grill', 'Veget...   \n",
       "3       id_3456     Berlin                                                NaN   \n",
       "4        id_615     Munich  ['German', 'Central European', 'Vegetarian Fri...   \n",
       "\n",
       "   Ranking  Rating Price Range  Number of Reviews  \\\n",
       "0   5570.0     3.5    $$ - $$$              194.0   \n",
       "1   1537.0     4.0         NaN               10.0   \n",
       "2    353.0     4.5        $$$$              688.0   \n",
       "3   3458.0     5.0         NaN                3.0   \n",
       "4    621.0     4.0    $$ - $$$               84.0   \n",
       "\n",
       "                                             Reviews  \\\n",
       "0  [['Good food at your doorstep', 'A good hotel ...   \n",
       "1  [['Unique cuisine', 'Delicious Nepalese food']...   \n",
       "2  [['Catch up with friends', 'Not exceptional'],...   \n",
       "3                                           [[], []]   \n",
       "4  [['Best place to try a Bavarian food', 'Nice b...   \n",
       "\n",
       "                                              URL_TA     ID_TA  \n",
       "0  /Restaurant_Review-g187147-d1912643-Reviews-R_...  d1912643  \n",
       "1  /Restaurant_Review-g189852-d7992032-Reviews-Bu...  d7992032  \n",
       "2  /Restaurant_Review-g186338-d8632781-Reviews-RO...  d8632781  \n",
       "3  /Restaurant_Review-g187323-d1358776-Reviews-Es...  d1358776  \n",
       "4  /Restaurant_Review-g187309-d6864963-Reviews-Au...  d6864963  "
      ]
     },
     "execution_count": 6,
     "metadata": {},
     "output_type": "execute_result"
    }
   ],
   "source": [
    "df_train.head(5)"
   ]
  },
  {
   "cell_type": "code",
   "execution_count": 7,
   "metadata": {},
   "outputs": [
    {
     "name": "stdout",
     "output_type": "stream",
     "text": [
      "<class 'pandas.core.frame.DataFrame'>\n",
      "RangeIndex: 10000 entries, 0 to 9999\n",
      "Data columns (total 9 columns):\n",
      "Restaurant_id        10000 non-null object\n",
      "City                 10000 non-null object\n",
      "Cuisine Style        7693 non-null object\n",
      "Ranking              10000 non-null float64\n",
      "Price Range          6525 non-null object\n",
      "Number of Reviews    9343 non-null float64\n",
      "Reviews              9998 non-null object\n",
      "URL_TA               10000 non-null object\n",
      "ID_TA                10000 non-null object\n",
      "dtypes: float64(2), object(7)\n",
      "memory usage: 703.2+ KB\n"
     ]
    }
   ],
   "source": [
    "df_test.info()"
   ]
  },
  {
   "cell_type": "code",
   "execution_count": 8,
   "metadata": {},
   "outputs": [
    {
     "data": {
      "text/html": [
       "<div>\n",
       "<style scoped>\n",
       "    .dataframe tbody tr th:only-of-type {\n",
       "        vertical-align: middle;\n",
       "    }\n",
       "\n",
       "    .dataframe tbody tr th {\n",
       "        vertical-align: top;\n",
       "    }\n",
       "\n",
       "    .dataframe thead th {\n",
       "        text-align: right;\n",
       "    }\n",
       "</style>\n",
       "<table border=\"1\" class=\"dataframe\">\n",
       "  <thead>\n",
       "    <tr style=\"text-align: right;\">\n",
       "      <th></th>\n",
       "      <th>Restaurant_id</th>\n",
       "      <th>City</th>\n",
       "      <th>Cuisine Style</th>\n",
       "      <th>Ranking</th>\n",
       "      <th>Price Range</th>\n",
       "      <th>Number of Reviews</th>\n",
       "      <th>Reviews</th>\n",
       "      <th>URL_TA</th>\n",
       "      <th>ID_TA</th>\n",
       "    </tr>\n",
       "  </thead>\n",
       "  <tbody>\n",
       "    <tr>\n",
       "      <td>0</td>\n",
       "      <td>id_0</td>\n",
       "      <td>Paris</td>\n",
       "      <td>['Bar', 'Pub']</td>\n",
       "      <td>12963.0</td>\n",
       "      <td>$$ - $$$</td>\n",
       "      <td>4.0</td>\n",
       "      <td>[[], []]</td>\n",
       "      <td>/Restaurant_Review-g187147-d10746918-Reviews-L...</td>\n",
       "      <td>d10746918</td>\n",
       "    </tr>\n",
       "    <tr>\n",
       "      <td>1</td>\n",
       "      <td>id_1</td>\n",
       "      <td>Helsinki</td>\n",
       "      <td>['European', 'Scandinavian', 'Gluten Free Opti...</td>\n",
       "      <td>106.0</td>\n",
       "      <td>$$ - $$$</td>\n",
       "      <td>97.0</td>\n",
       "      <td>[['Very good reviews!', 'Fine dining in Hakani...</td>\n",
       "      <td>/Restaurant_Review-g189934-d6674944-Reviews-Ra...</td>\n",
       "      <td>d6674944</td>\n",
       "    </tr>\n",
       "    <tr>\n",
       "      <td>2</td>\n",
       "      <td>id_2</td>\n",
       "      <td>Edinburgh</td>\n",
       "      <td>['Vegetarian Friendly']</td>\n",
       "      <td>810.0</td>\n",
       "      <td>$$ - $$$</td>\n",
       "      <td>28.0</td>\n",
       "      <td>[['Better than the Links', 'Ivy Black'], ['12/...</td>\n",
       "      <td>/Restaurant_Review-g186525-d13129638-Reviews-B...</td>\n",
       "      <td>d13129638</td>\n",
       "    </tr>\n",
       "    <tr>\n",
       "      <td>3</td>\n",
       "      <td>id_3</td>\n",
       "      <td>London</td>\n",
       "      <td>['Italian', 'Mediterranean', 'European', 'Vege...</td>\n",
       "      <td>1669.0</td>\n",
       "      <td>$$$$</td>\n",
       "      <td>202.0</td>\n",
       "      <td>[['Most exquisite', 'Delicious and authentic']...</td>\n",
       "      <td>/Restaurant_Review-g186338-d680417-Reviews-Qui...</td>\n",
       "      <td>d680417</td>\n",
       "    </tr>\n",
       "    <tr>\n",
       "      <td>4</td>\n",
       "      <td>id_4</td>\n",
       "      <td>Bratislava</td>\n",
       "      <td>['Italian', 'Mediterranean', 'European', 'Seaf...</td>\n",
       "      <td>37.0</td>\n",
       "      <td>$$$$</td>\n",
       "      <td>162.0</td>\n",
       "      <td>[['Always the best in bratislava', 'Very good ...</td>\n",
       "      <td>/Restaurant_Review-g274924-d1112354-Reviews-Ma...</td>\n",
       "      <td>d1112354</td>\n",
       "    </tr>\n",
       "  </tbody>\n",
       "</table>\n",
       "</div>"
      ],
      "text/plain": [
       "  Restaurant_id        City  \\\n",
       "0          id_0       Paris   \n",
       "1          id_1    Helsinki   \n",
       "2          id_2   Edinburgh   \n",
       "3          id_3      London   \n",
       "4          id_4  Bratislava   \n",
       "\n",
       "                                       Cuisine Style  Ranking Price Range  \\\n",
       "0                                     ['Bar', 'Pub']  12963.0    $$ - $$$   \n",
       "1  ['European', 'Scandinavian', 'Gluten Free Opti...    106.0    $$ - $$$   \n",
       "2                            ['Vegetarian Friendly']    810.0    $$ - $$$   \n",
       "3  ['Italian', 'Mediterranean', 'European', 'Vege...   1669.0        $$$$   \n",
       "4  ['Italian', 'Mediterranean', 'European', 'Seaf...     37.0        $$$$   \n",
       "\n",
       "   Number of Reviews                                            Reviews  \\\n",
       "0                4.0                                           [[], []]   \n",
       "1               97.0  [['Very good reviews!', 'Fine dining in Hakani...   \n",
       "2               28.0  [['Better than the Links', 'Ivy Black'], ['12/...   \n",
       "3              202.0  [['Most exquisite', 'Delicious and authentic']...   \n",
       "4              162.0  [['Always the best in bratislava', 'Very good ...   \n",
       "\n",
       "                                              URL_TA      ID_TA  \n",
       "0  /Restaurant_Review-g187147-d10746918-Reviews-L...  d10746918  \n",
       "1  /Restaurant_Review-g189934-d6674944-Reviews-Ra...   d6674944  \n",
       "2  /Restaurant_Review-g186525-d13129638-Reviews-B...  d13129638  \n",
       "3  /Restaurant_Review-g186338-d680417-Reviews-Qui...    d680417  \n",
       "4  /Restaurant_Review-g274924-d1112354-Reviews-Ma...   d1112354  "
      ]
     },
     "execution_count": 8,
     "metadata": {},
     "output_type": "execute_result"
    }
   ],
   "source": [
    "df_test.head(5)"
   ]
  },
  {
   "cell_type": "code",
   "execution_count": 9,
   "metadata": {},
   "outputs": [
    {
     "data": {
      "text/html": [
       "<div>\n",
       "<style scoped>\n",
       "    .dataframe tbody tr th:only-of-type {\n",
       "        vertical-align: middle;\n",
       "    }\n",
       "\n",
       "    .dataframe tbody tr th {\n",
       "        vertical-align: top;\n",
       "    }\n",
       "\n",
       "    .dataframe thead th {\n",
       "        text-align: right;\n",
       "    }\n",
       "</style>\n",
       "<table border=\"1\" class=\"dataframe\">\n",
       "  <thead>\n",
       "    <tr style=\"text-align: right;\">\n",
       "      <th></th>\n",
       "      <th>Restaurant_id</th>\n",
       "      <th>Rating</th>\n",
       "    </tr>\n",
       "  </thead>\n",
       "  <tbody>\n",
       "    <tr>\n",
       "      <td>0</td>\n",
       "      <td>id_0</td>\n",
       "      <td>2.0</td>\n",
       "    </tr>\n",
       "    <tr>\n",
       "      <td>1</td>\n",
       "      <td>id_1</td>\n",
       "      <td>2.5</td>\n",
       "    </tr>\n",
       "    <tr>\n",
       "      <td>2</td>\n",
       "      <td>id_2</td>\n",
       "      <td>4.0</td>\n",
       "    </tr>\n",
       "    <tr>\n",
       "      <td>3</td>\n",
       "      <td>id_3</td>\n",
       "      <td>1.0</td>\n",
       "    </tr>\n",
       "    <tr>\n",
       "      <td>4</td>\n",
       "      <td>id_4</td>\n",
       "      <td>4.0</td>\n",
       "    </tr>\n",
       "  </tbody>\n",
       "</table>\n",
       "</div>"
      ],
      "text/plain": [
       "  Restaurant_id  Rating\n",
       "0          id_0     2.0\n",
       "1          id_1     2.5\n",
       "2          id_2     4.0\n",
       "3          id_3     1.0\n",
       "4          id_4     4.0"
      ]
     },
     "execution_count": 9,
     "metadata": {},
     "output_type": "execute_result"
    }
   ],
   "source": [
    "sample_submission.head(5)"
   ]
  },
  {
   "cell_type": "code",
   "execution_count": 10,
   "metadata": {
    "scrolled": true
   },
   "outputs": [
    {
     "name": "stdout",
     "output_type": "stream",
     "text": [
      "<class 'pandas.core.frame.DataFrame'>\n",
      "RangeIndex: 10000 entries, 0 to 9999\n",
      "Data columns (total 2 columns):\n",
      "Restaurant_id    10000 non-null object\n",
      "Rating           10000 non-null float64\n",
      "dtypes: float64(1), object(1)\n",
      "memory usage: 156.4+ KB\n"
     ]
    }
   ],
   "source": [
    "sample_submission.info()"
   ]
  },
  {
   "cell_type": "code",
   "execution_count": 11,
   "metadata": {},
   "outputs": [],
   "source": [
    "# ВАЖНО! дря корректной обработки признаков объединяем трейн и тест в один датасет\n",
    "df_train['sample'] = 1 # помечаем где у нас трейн\n",
    "df_test['sample'] = 0 # помечаем где у нас тест\n",
    "df_test['Rating'] = 0 # в тесте у нас нет значения Rating, мы его должны предсказать, по этому пока просто заполняем нулями\n",
    "\n",
    "data = df_test.append(df_train, sort=False).reset_index(drop=True) # объединяем"
   ]
  },
  {
   "cell_type": "code",
   "execution_count": 12,
   "metadata": {},
   "outputs": [
    {
     "name": "stdout",
     "output_type": "stream",
     "text": [
      "<class 'pandas.core.frame.DataFrame'>\n",
      "RangeIndex: 50000 entries, 0 to 49999\n",
      "Data columns (total 11 columns):\n",
      "Restaurant_id        50000 non-null object\n",
      "City                 50000 non-null object\n",
      "Cuisine Style        38410 non-null object\n",
      "Ranking              50000 non-null float64\n",
      "Price Range          32639 non-null object\n",
      "Number of Reviews    46800 non-null float64\n",
      "Reviews              49998 non-null object\n",
      "URL_TA               50000 non-null object\n",
      "ID_TA                50000 non-null object\n",
      "sample               50000 non-null int64\n",
      "Rating               50000 non-null float64\n",
      "dtypes: float64(3), int64(1), object(7)\n",
      "memory usage: 4.2+ MB\n"
     ]
    }
   ],
   "source": [
    "data.info()"
   ]
  },
  {
   "cell_type": "markdown",
   "metadata": {},
   "source": [
    "Подробнее по признакам:\n",
    "* City: Город \n",
    "* Cuisine Style: Кухня\n",
    "* Ranking: Ранг ресторана относительно других ресторанов в этом городе\n",
    "* Price Range: Цены в ресторане в 3 категориях\n",
    "* Number of Reviews: Количество отзывов\n",
    "* Reviews: 2 последних отзыва и даты этих отзывов\n",
    "* URL_TA: страница ресторана на 'www.tripadvisor.com' \n",
    "* ID_TA: ID ресторана в TripAdvisor\n",
    "* Rating: Рейтинг ресторана"
   ]
  },
  {
   "cell_type": "code",
   "execution_count": 13,
   "metadata": {},
   "outputs": [
    {
     "data": {
      "text/html": [
       "<div>\n",
       "<style scoped>\n",
       "    .dataframe tbody tr th:only-of-type {\n",
       "        vertical-align: middle;\n",
       "    }\n",
       "\n",
       "    .dataframe tbody tr th {\n",
       "        vertical-align: top;\n",
       "    }\n",
       "\n",
       "    .dataframe thead th {\n",
       "        text-align: right;\n",
       "    }\n",
       "</style>\n",
       "<table border=\"1\" class=\"dataframe\">\n",
       "  <thead>\n",
       "    <tr style=\"text-align: right;\">\n",
       "      <th></th>\n",
       "      <th>Restaurant_id</th>\n",
       "      <th>City</th>\n",
       "      <th>Cuisine Style</th>\n",
       "      <th>Ranking</th>\n",
       "      <th>Price Range</th>\n",
       "      <th>Number of Reviews</th>\n",
       "      <th>Reviews</th>\n",
       "      <th>URL_TA</th>\n",
       "      <th>ID_TA</th>\n",
       "      <th>sample</th>\n",
       "      <th>Rating</th>\n",
       "    </tr>\n",
       "  </thead>\n",
       "  <tbody>\n",
       "    <tr>\n",
       "      <td>20731</td>\n",
       "      <td>id_480</td>\n",
       "      <td>Oslo</td>\n",
       "      <td>NaN</td>\n",
       "      <td>481.0</td>\n",
       "      <td>NaN</td>\n",
       "      <td>11.0</td>\n",
       "      <td>[['Good neighborhood wine bar', 'Oslos best wi...</td>\n",
       "      <td>/Restaurant_Review-g190479-d8591199-Reviews-Ba...</td>\n",
       "      <td>d8591199</td>\n",
       "      <td>1</td>\n",
       "      <td>4.5</td>\n",
       "    </tr>\n",
       "    <tr>\n",
       "      <td>47354</td>\n",
       "      <td>id_5555</td>\n",
       "      <td>Barcelona</td>\n",
       "      <td>NaN</td>\n",
       "      <td>5556.0</td>\n",
       "      <td>NaN</td>\n",
       "      <td>9.0</td>\n",
       "      <td>[['Ok for breakfast', 'fooding1'], ['05/14/201...</td>\n",
       "      <td>/Restaurant_Review-g187497-d6458681-Reviews-Ca...</td>\n",
       "      <td>d6458681</td>\n",
       "      <td>1</td>\n",
       "      <td>4.0</td>\n",
       "    </tr>\n",
       "    <tr>\n",
       "      <td>23891</td>\n",
       "      <td>id_20</td>\n",
       "      <td>Hamburg</td>\n",
       "      <td>['Japanese', 'Seafood', 'Sushi', 'Asian', 'Fus...</td>\n",
       "      <td>21.0</td>\n",
       "      <td>$$$$</td>\n",
       "      <td>492.0</td>\n",
       "      <td>[['Yummyyyyy', 'Fabulous flavors'], ['12/06/20...</td>\n",
       "      <td>/Restaurant_Review-g187331-d1343437-Reviews-ON...</td>\n",
       "      <td>d1343437</td>\n",
       "      <td>1</td>\n",
       "      <td>4.5</td>\n",
       "    </tr>\n",
       "    <tr>\n",
       "      <td>33799</td>\n",
       "      <td>id_436</td>\n",
       "      <td>Athens</td>\n",
       "      <td>['American', 'Bar', 'Central American', 'Veget...</td>\n",
       "      <td>437.0</td>\n",
       "      <td>$$ - $$$</td>\n",
       "      <td>207.0</td>\n",
       "      <td>[['Past its prime', 'Nice to be back'], ['11/2...</td>\n",
       "      <td>/Restaurant_Review-g189400-d789069-Reviews-TGI...</td>\n",
       "      <td>d789069</td>\n",
       "      <td>1</td>\n",
       "      <td>4.0</td>\n",
       "    </tr>\n",
       "    <tr>\n",
       "      <td>49043</td>\n",
       "      <td>id_38</td>\n",
       "      <td>Zurich</td>\n",
       "      <td>['European', 'Central European', 'Gluten Free ...</td>\n",
       "      <td>39.0</td>\n",
       "      <td>$$$$</td>\n",
       "      <td>235.0</td>\n",
       "      <td>[['Amazing experience', 'Dinner Christmas Eve'...</td>\n",
       "      <td>/Restaurant_Review-g188113-d697896-Reviews-Riv...</td>\n",
       "      <td>d697896</td>\n",
       "      <td>1</td>\n",
       "      <td>4.5</td>\n",
       "    </tr>\n",
       "  </tbody>\n",
       "</table>\n",
       "</div>"
      ],
      "text/plain": [
       "      Restaurant_id       City  \\\n",
       "20731        id_480       Oslo   \n",
       "47354       id_5555  Barcelona   \n",
       "23891         id_20    Hamburg   \n",
       "33799        id_436     Athens   \n",
       "49043         id_38     Zurich   \n",
       "\n",
       "                                           Cuisine Style  Ranking Price Range  \\\n",
       "20731                                                NaN    481.0         NaN   \n",
       "47354                                                NaN   5556.0         NaN   \n",
       "23891  ['Japanese', 'Seafood', 'Sushi', 'Asian', 'Fus...     21.0        $$$$   \n",
       "33799  ['American', 'Bar', 'Central American', 'Veget...    437.0    $$ - $$$   \n",
       "49043  ['European', 'Central European', 'Gluten Free ...     39.0        $$$$   \n",
       "\n",
       "       Number of Reviews                                            Reviews  \\\n",
       "20731               11.0  [['Good neighborhood wine bar', 'Oslos best wi...   \n",
       "47354                9.0  [['Ok for breakfast', 'fooding1'], ['05/14/201...   \n",
       "23891              492.0  [['Yummyyyyy', 'Fabulous flavors'], ['12/06/20...   \n",
       "33799              207.0  [['Past its prime', 'Nice to be back'], ['11/2...   \n",
       "49043              235.0  [['Amazing experience', 'Dinner Christmas Eve'...   \n",
       "\n",
       "                                                  URL_TA     ID_TA  sample  \\\n",
       "20731  /Restaurant_Review-g190479-d8591199-Reviews-Ba...  d8591199       1   \n",
       "47354  /Restaurant_Review-g187497-d6458681-Reviews-Ca...  d6458681       1   \n",
       "23891  /Restaurant_Review-g187331-d1343437-Reviews-ON...  d1343437       1   \n",
       "33799  /Restaurant_Review-g189400-d789069-Reviews-TGI...   d789069       1   \n",
       "49043  /Restaurant_Review-g188113-d697896-Reviews-Riv...   d697896       1   \n",
       "\n",
       "       Rating  \n",
       "20731     4.5  \n",
       "47354     4.0  \n",
       "23891     4.5  \n",
       "33799     4.0  \n",
       "49043     4.5  "
      ]
     },
     "execution_count": 13,
     "metadata": {},
     "output_type": "execute_result"
    }
   ],
   "source": [
    "data.sample(5)"
   ]
  },
  {
   "cell_type": "markdown",
   "metadata": {},
   "source": [
    "Как видим, большинство признаков у нас требует очистки и предварительной обработки."
   ]
  },
  {
   "cell_type": "code",
   "execution_count": 14,
   "metadata": {},
   "outputs": [
    {
     "name": "stdout",
     "output_type": "stream",
     "text": [
      "<class 'pandas.core.frame.DataFrame'>\n",
      "Int64Index: 8112 entries, 0 to 49994\n",
      "Data columns (total 11 columns):\n",
      "Restaurant_id        8112 non-null object\n",
      "City                 8112 non-null object\n",
      "Cuisine Style        4112 non-null object\n",
      "Ranking              8112 non-null float64\n",
      "Price Range          1678 non-null object\n",
      "Number of Reviews    6089 non-null float64\n",
      "Reviews              8112 non-null object\n",
      "URL_TA               8112 non-null object\n",
      "ID_TA                8112 non-null object\n",
      "sample               8112 non-null int64\n",
      "Rating               8112 non-null float64\n",
      "dtypes: float64(3), int64(1), object(7)\n",
      "memory usage: 760.5+ KB\n"
     ]
    }
   ],
   "source": [
    "data[data['Reviews'] == \"[[], []]\"].info()"
   ]
  },
  {
   "cell_type": "code",
   "execution_count": 15,
   "metadata": {},
   "outputs": [
    {
     "data": {
      "text/plain": [
       "2.0       2403\n",
       "3.0       2042\n",
       "4.0       1707\n",
       "5.0       1471\n",
       "6.0       1258\n",
       "          ... \n",
       "6777.0       1\n",
       "7575.0       1\n",
       "7622.0       1\n",
       "8927.0       1\n",
       "9660.0       1\n",
       "Name: Number of Reviews, Length: 1573, dtype: int64"
      ]
     },
     "execution_count": 15,
     "metadata": {},
     "output_type": "execute_result"
    }
   ],
   "source": [
    "data['Number of Reviews'].value_counts().sort_index()"
   ]
  },
  {
   "cell_type": "code",
   "execution_count": 16,
   "metadata": {},
   "outputs": [
    {
     "data": {
      "text/html": [
       "<div>\n",
       "<style scoped>\n",
       "    .dataframe tbody tr th:only-of-type {\n",
       "        vertical-align: middle;\n",
       "    }\n",
       "\n",
       "    .dataframe tbody tr th {\n",
       "        vertical-align: top;\n",
       "    }\n",
       "\n",
       "    .dataframe thead th {\n",
       "        text-align: right;\n",
       "    }\n",
       "</style>\n",
       "<table border=\"1\" class=\"dataframe\">\n",
       "  <thead>\n",
       "    <tr style=\"text-align: right;\">\n",
       "      <th></th>\n",
       "      <th>Restaurant_id</th>\n",
       "      <th>City</th>\n",
       "      <th>Cuisine Style</th>\n",
       "      <th>Ranking</th>\n",
       "      <th>Price Range</th>\n",
       "      <th>Number of Reviews</th>\n",
       "      <th>Reviews</th>\n",
       "      <th>URL_TA</th>\n",
       "      <th>ID_TA</th>\n",
       "      <th>sample</th>\n",
       "      <th>Rating</th>\n",
       "    </tr>\n",
       "  </thead>\n",
       "  <tbody>\n",
       "    <tr>\n",
       "      <td>74</td>\n",
       "      <td>id_74</td>\n",
       "      <td>Prague</td>\n",
       "      <td>['Cafe', 'European', 'Czech']</td>\n",
       "      <td>2052.0</td>\n",
       "      <td>$</td>\n",
       "      <td>NaN</td>\n",
       "      <td>[[\"Nova' Doba\"], ['01/26/2017']]</td>\n",
       "      <td>/Restaurant_Review-g274707-d12032989-Reviews-C...</td>\n",
       "      <td>d12032989</td>\n",
       "      <td>0</td>\n",
       "      <td>0.0</td>\n",
       "    </tr>\n",
       "    <tr>\n",
       "      <td>139</td>\n",
       "      <td>id_139</td>\n",
       "      <td>Berlin</td>\n",
       "      <td>NaN</td>\n",
       "      <td>3469.0</td>\n",
       "      <td>NaN</td>\n",
       "      <td>NaN</td>\n",
       "      <td>[['South American food at its best!'], ['09/05...</td>\n",
       "      <td>/Restaurant_Review-g187323-d4802788-Reviews-Bo...</td>\n",
       "      <td>d4802788</td>\n",
       "      <td>0</td>\n",
       "      <td>0.0</td>\n",
       "    </tr>\n",
       "    <tr>\n",
       "      <td>141</td>\n",
       "      <td>id_141</td>\n",
       "      <td>Barcelona</td>\n",
       "      <td>['Italian', 'Mediterranean', 'Spanish']</td>\n",
       "      <td>4180.0</td>\n",
       "      <td>$$ - $$$</td>\n",
       "      <td>NaN</td>\n",
       "      <td>[['Real treasure'], ['10/20/2017']]</td>\n",
       "      <td>/Restaurant_Review-g187497-d12530776-Reviews-C...</td>\n",
       "      <td>d12530776</td>\n",
       "      <td>0</td>\n",
       "      <td>0.0</td>\n",
       "    </tr>\n",
       "    <tr>\n",
       "      <td>159</td>\n",
       "      <td>id_159</td>\n",
       "      <td>Amsterdam</td>\n",
       "      <td>['Italian']</td>\n",
       "      <td>2767.0</td>\n",
       "      <td>NaN</td>\n",
       "      <td>NaN</td>\n",
       "      <td>[['Solo: Great restaurant in Museumplein'], ['...</td>\n",
       "      <td>/Restaurant_Review-g188590-d753088-Reviews-Ban...</td>\n",
       "      <td>d753088</td>\n",
       "      <td>0</td>\n",
       "      <td>0.0</td>\n",
       "    </tr>\n",
       "    <tr>\n",
       "      <td>246</td>\n",
       "      <td>id_246</td>\n",
       "      <td>London</td>\n",
       "      <td>NaN</td>\n",
       "      <td>8882.0</td>\n",
       "      <td>NaN</td>\n",
       "      <td>NaN</td>\n",
       "      <td>[['Good service'], ['11/16/2016']]</td>\n",
       "      <td>/Restaurant_Review-g186338-d5244329-Reviews-Pi...</td>\n",
       "      <td>d5244329</td>\n",
       "      <td>0</td>\n",
       "      <td>0.0</td>\n",
       "    </tr>\n",
       "    <tr>\n",
       "      <td>...</td>\n",
       "      <td>...</td>\n",
       "      <td>...</td>\n",
       "      <td>...</td>\n",
       "      <td>...</td>\n",
       "      <td>...</td>\n",
       "      <td>...</td>\n",
       "      <td>...</td>\n",
       "      <td>...</td>\n",
       "      <td>...</td>\n",
       "      <td>...</td>\n",
       "      <td>...</td>\n",
       "    </tr>\n",
       "    <tr>\n",
       "      <td>49764</td>\n",
       "      <td>id_9346</td>\n",
       "      <td>London</td>\n",
       "      <td>['Italian', 'British']</td>\n",
       "      <td>9355.0</td>\n",
       "      <td>$$ - $$$</td>\n",
       "      <td>NaN</td>\n",
       "      <td>[['Great little cafe and bakery'], ['01/06/201...</td>\n",
       "      <td>/Restaurant_Review-g186338-d13100127-Reviews-L...</td>\n",
       "      <td>d13100127</td>\n",
       "      <td>1</td>\n",
       "      <td>5.0</td>\n",
       "    </tr>\n",
       "    <tr>\n",
       "      <td>49767</td>\n",
       "      <td>id_4359</td>\n",
       "      <td>Barcelona</td>\n",
       "      <td>NaN</td>\n",
       "      <td>4360.0</td>\n",
       "      <td>NaN</td>\n",
       "      <td>NaN</td>\n",
       "      <td>[['fantastic value and service'], ['03/01/2013']]</td>\n",
       "      <td>/Restaurant_Review-g187497-d1081683-Reviews-Mo...</td>\n",
       "      <td>d1081683</td>\n",
       "      <td>1</td>\n",
       "      <td>5.0</td>\n",
       "    </tr>\n",
       "    <tr>\n",
       "      <td>49907</td>\n",
       "      <td>id_1603</td>\n",
       "      <td>Edinburgh</td>\n",
       "      <td>NaN</td>\n",
       "      <td>1609.0</td>\n",
       "      <td>NaN</td>\n",
       "      <td>NaN</td>\n",
       "      <td>[['Small, Friendly Place on the Mile'], ['11/1...</td>\n",
       "      <td>/Restaurant_Review-g186525-d8814420-Reviews-Bi...</td>\n",
       "      <td>d8814420</td>\n",
       "      <td>1</td>\n",
       "      <td>3.0</td>\n",
       "    </tr>\n",
       "    <tr>\n",
       "      <td>49972</td>\n",
       "      <td>id_2009</td>\n",
       "      <td>Prague</td>\n",
       "      <td>['Cafe', 'Delicatessen', 'Healthy', 'Wine Bar'...</td>\n",
       "      <td>2012.0</td>\n",
       "      <td>$</td>\n",
       "      <td>NaN</td>\n",
       "      <td>[['Personal expirence'], ['10/27/2017']]</td>\n",
       "      <td>/Restaurant_Review-g274707-d12981295-Reviews-M...</td>\n",
       "      <td>d12981295</td>\n",
       "      <td>1</td>\n",
       "      <td>5.0</td>\n",
       "    </tr>\n",
       "    <tr>\n",
       "      <td>49989</td>\n",
       "      <td>id_8887</td>\n",
       "      <td>London</td>\n",
       "      <td>['International']</td>\n",
       "      <td>8896.0</td>\n",
       "      <td>NaN</td>\n",
       "      <td>NaN</td>\n",
       "      <td>[['I love this place!'], ['08/24/2015']]</td>\n",
       "      <td>/Restaurant_Review-g186338-d5550626-Reviews-Th...</td>\n",
       "      <td>d5550626</td>\n",
       "      <td>1</td>\n",
       "      <td>5.0</td>\n",
       "    </tr>\n",
       "  </tbody>\n",
       "</table>\n",
       "<p>1177 rows × 11 columns</p>\n",
       "</div>"
      ],
      "text/plain": [
       "      Restaurant_id       City  \\\n",
       "74            id_74     Prague   \n",
       "139          id_139     Berlin   \n",
       "141          id_141  Barcelona   \n",
       "159          id_159  Amsterdam   \n",
       "246          id_246     London   \n",
       "...             ...        ...   \n",
       "49764       id_9346     London   \n",
       "49767       id_4359  Barcelona   \n",
       "49907       id_1603  Edinburgh   \n",
       "49972       id_2009     Prague   \n",
       "49989       id_8887     London   \n",
       "\n",
       "                                           Cuisine Style  Ranking Price Range  \\\n",
       "74                         ['Cafe', 'European', 'Czech']   2052.0           $   \n",
       "139                                                  NaN   3469.0         NaN   \n",
       "141              ['Italian', 'Mediterranean', 'Spanish']   4180.0    $$ - $$$   \n",
       "159                                          ['Italian']   2767.0         NaN   \n",
       "246                                                  NaN   8882.0         NaN   \n",
       "...                                                  ...      ...         ...   \n",
       "49764                             ['Italian', 'British']   9355.0    $$ - $$$   \n",
       "49767                                                NaN   4360.0         NaN   \n",
       "49907                                                NaN   1609.0         NaN   \n",
       "49972  ['Cafe', 'Delicatessen', 'Healthy', 'Wine Bar'...   2012.0           $   \n",
       "49989                                  ['International']   8896.0         NaN   \n",
       "\n",
       "       Number of Reviews                                            Reviews  \\\n",
       "74                   NaN                   [[\"Nova' Doba\"], ['01/26/2017']]   \n",
       "139                  NaN  [['South American food at its best!'], ['09/05...   \n",
       "141                  NaN                [['Real treasure'], ['10/20/2017']]   \n",
       "159                  NaN  [['Solo: Great restaurant in Museumplein'], ['...   \n",
       "246                  NaN                 [['Good service'], ['11/16/2016']]   \n",
       "...                  ...                                                ...   \n",
       "49764                NaN  [['Great little cafe and bakery'], ['01/06/201...   \n",
       "49767                NaN  [['fantastic value and service'], ['03/01/2013']]   \n",
       "49907                NaN  [['Small, Friendly Place on the Mile'], ['11/1...   \n",
       "49972                NaN           [['Personal expirence'], ['10/27/2017']]   \n",
       "49989                NaN           [['I love this place!'], ['08/24/2015']]   \n",
       "\n",
       "                                                  URL_TA      ID_TA  sample  \\\n",
       "74     /Restaurant_Review-g274707-d12032989-Reviews-C...  d12032989       0   \n",
       "139    /Restaurant_Review-g187323-d4802788-Reviews-Bo...   d4802788       0   \n",
       "141    /Restaurant_Review-g187497-d12530776-Reviews-C...  d12530776       0   \n",
       "159    /Restaurant_Review-g188590-d753088-Reviews-Ban...    d753088       0   \n",
       "246    /Restaurant_Review-g186338-d5244329-Reviews-Pi...   d5244329       0   \n",
       "...                                                  ...        ...     ...   \n",
       "49764  /Restaurant_Review-g186338-d13100127-Reviews-L...  d13100127       1   \n",
       "49767  /Restaurant_Review-g187497-d1081683-Reviews-Mo...   d1081683       1   \n",
       "49907  /Restaurant_Review-g186525-d8814420-Reviews-Bi...   d8814420       1   \n",
       "49972  /Restaurant_Review-g274707-d12981295-Reviews-M...  d12981295       1   \n",
       "49989  /Restaurant_Review-g186338-d5550626-Reviews-Th...   d5550626       1   \n",
       "\n",
       "       Rating  \n",
       "74        0.0  \n",
       "139       0.0  \n",
       "141       0.0  \n",
       "159       0.0  \n",
       "246       0.0  \n",
       "...       ...  \n",
       "49764     5.0  \n",
       "49767     5.0  \n",
       "49907     3.0  \n",
       "49972     5.0  \n",
       "49989     5.0  \n",
       "\n",
       "[1177 rows x 11 columns]"
      ]
     },
     "execution_count": 16,
     "metadata": {},
     "output_type": "execute_result"
    }
   ],
   "source": [
    "data[(pd.isna(data['Number of Reviews'])) & (data['Reviews'] != \"[[], []]\")]"
   ]
  },
  {
   "cell_type": "code",
   "execution_count": 17,
   "metadata": {},
   "outputs": [
    {
     "name": "stdout",
     "output_type": "stream",
     "text": [
      "[['Delicious pastries, not so nice interior'], ['08/27/2015']]\n",
      "[['Poor service, food average, very expensive...'], ['01/02/2008']]\n",
      "[[\"Homely feel, I'm an expat and I feel at ho...\"], ['06/14/2017']]\n",
      "[['Nice People, Great Food'], ['03/04/2015']]\n",
      "[['True local, Cosy and Cheap .. in Prenzlaue...'], ['10/06/2017']]\n",
      "[['Yummy muffins and doughnuts, and great fre...'], ['01/13/2017']]\n",
      "[['3,30 for a \"pièce\" of brownie and mistake...'], ['06/12/2017']]\n",
      "[['beautiful, fresh pasta made with care'], ['10/29/2016']]\n",
      "[['1 Minute, Convenient Store wiht friendly s...'], ['04/14/2017']]\n",
      "[['Simple, inexpensive, tasteful'], ['05/05/2016']]\n",
      "[['Ok for lunch, but not authentically Italia...'], ['02/18/2012']]\n",
      "[['Live music, good Persian'], ['09/10/2016']]\n",
      "[['Popular cafe, especially with Arabic commu...'], ['06/03/2016']]\n",
      "[['Disappointing, over priced'], ['11/20/2012']]\n",
      "[['Unfriendly, unhelpful, wrong food'], ['10/28/2015']]\n",
      "[['Very poor food and service, rundown, shabb...'], ['04/08/2015']]\n",
      "[['Good authentic food, carefully prepared, g...'], ['09/22/2012']]\n",
      "[[\"Excellent takeaway, we've been using them...\"], ['07/04/2015']]\n",
      "[['Absolutely amazing, tasty, fresh, cheap Ch...'], ['10/26/2015']]\n",
      "[['Free Wi-Fi, Peaceful, Pleasant'], ['01/19/2017']]\n",
      "[['Wonderful ambiance, delicious food, fantas...'], ['12/09/2011']]\n",
      "[['Asian food, cheap, good quality'], ['03/29/2017']]\n",
      "[['Friendly atmosphere, great service and ver...'], ['12/15/2017']]\n",
      "[['The hun hong , believed to be established...'], ['01/13/2017']]\n",
      "[['Good food, good price'], ['08/24/2015']]\n",
      "[['Good food, good price.'], ['09/18/2016']]\n",
      "[['Great coffee, super vibe'], ['05/23/2017']]\n",
      "[['Great food, questionable decor'], ['03/20/2010']]\n",
      "[['All food seems pre cooked,small servings a...'], ['11/27/2013']]\n",
      "[['Fast, inexpensive Chinese food.'], ['11/08/2017']]\n",
      "[['Good start, disappointing finish!'], ['04/29/2012']]\n",
      "[['Great value, great tasting food'], ['09/15/2014']]\n",
      "[['lookin for traditional Catalonian food, lo...'], ['10/15/2014']]\n",
      "[['Yep on the green beside coral street, chec...'], ['06/21/2017']]\n",
      "[['Great pizza, good value!'], ['09/16/2017']]\n",
      "[['Hungary, Kecskemét'], ['11/20/2017']]\n",
      "[['Coffee Okay, service not so good'], ['11/21/2017']]\n",
      "[['Small, common pub at Prague'], ['08/05/2017']]\n",
      "[['Small, friendly, charming!'], ['05/10/2013']]\n",
      "[['Good value meze, eat in or take away.'], ['09/28/2017']]\n",
      "[['Thats Amore, Golders Green'], ['06/16/2012']]\n",
      "[['Nice modern place, well cooked food'], ['08/30/2017']]\n",
      "[['Lovely food - on a cross channel ferry, bu...'], ['01/06/2014']]\n",
      "[['Friendly, Fast and Fantastic!'], ['12/09/2016']]\n",
      "[['Good food, good service...'], ['05/02/2009']]\n",
      "[['Good food, excellent staff'], ['07/10/2013']]\n",
      "[['Frinedly serving, nice ambience'], ['07/14/2016']]\n",
      "[['Great lunch, good value'], ['11/23/2016']]\n",
      "[['Mediterranean deli - fresh, authentic, exc...'], ['08/15/2013']]\n",
      "[['Busy Venue, Sidewalk Seating'], ['05/20/2016']]\n",
      "[['Quick, Simple & Delicious'], ['12/08/2017']]\n",
      "[['Avg fast fried chicken place, jumpy custom...'], ['12/15/2016']]\n",
      "[['Quiet, slow and not too cheap'], ['07/29/2016']]\n",
      "[['Love beer, must visit'], ['11/07/2017']]\n",
      "[['Great place,'], ['11/24/2017']]\n",
      "[['So dirty, avoid'], ['12/23/2017']]\n",
      "[['Good Food, Plane Views'], ['04/17/2017']]\n",
      "[['Pricey, unimpressive'], ['07/08/2017']]\n",
      "[['Delicious Mekong Soup, fresh Papaya Salat...'], ['08/30/2017']]\n",
      "[['excellent food, great service for reasonab...'], ['08/31/2011']]\n",
      "[['Nice location, food not amazing...'], ['04/20/2017']]\n",
      "[['Friendly service, average pastel de nata'], ['03/22/2016']]\n",
      "[['Nice atmosphere, good cocktails'], ['06/26/2014']]\n",
      "[['Little gem, off the tourist trail'], ['04/12/2014']]\n",
      "[['Great Pizza, Good Staff, very reasonable P...'], ['05/13/2016']]\n",
      "[['Best Asian but gone, I think...'], ['10/30/2012']]\n",
      "[['Awesome!! Tasty, flavourful food 😊'], ['07/12/2017']]\n",
      "[['Eccentric look, excellent service'], ['11/14/2017']]\n",
      "[['Stunning looking hotel, but disappointing...'], ['11/11/2016']]\n",
      "[['OK Noodles, no athmosphere'], ['09/13/2016']]\n",
      "[['OK, but just OK'], ['02/08/2014']]\n",
      "[['Kudo Chinese takeaway,Landor Rd, Clapham'], ['11/01/2016']]\n",
      "[['Humble, awesome Vietnamese kitchen!'], ['11/03/2017']]\n",
      "[['Do one thing, do it very well'], ['01/14/2017']]\n",
      "[['Halal, no alcohol, Great Kurdish food'], ['01/05/2018']]\n",
      "[['Ethiopian, Erythrean and...'], ['12/02/2008']]\n",
      "[['Buffet with dim-sum, sushi, wok fried entr...'], ['04/30/2016']]\n",
      "[['Nice food, in an Arabian site'], ['11/05/2017']]\n",
      "[['Nice cafe, handy for the Geffrye Museum'], ['12/19/2012']]\n",
      "[['Terrible customer service, coffee was OK.'], ['06/25/2015']]\n",
      "[['Pintxos, IPA, good music and friendly staf...'], ['01/14/2015']]\n",
      "[['Considering cost-effective, it is good'], ['04/25/2016']]\n",
      "[['Not worth wasting time on this one, very p...'], ['03/19/2016']]\n",
      "[['An extraordinary, complex experience from...'], ['11/24/2016']]\n",
      "[[\"Fresh and Vibrant, It's more than just Jui...\"], ['02/13/2015']]\n",
      "[[\"Esther's Cookery in Amsterdam, worth a vis...\"], ['08/07/2017']]\n",
      "[['Great bar , great staff and great cocktail...'], ['06/02/2017']]\n",
      "[['Delicious food for okay prices, but medioc...'], ['11/06/2017']]\n",
      "[['Car Lovers, expect a Great Experience (onl...'], ['02/17/2017']]\n",
      "[['Nowhere to be found , no number, nada'], ['11/09/2015']]\n",
      "[['Cheap, inedible food'], ['09/05/2016']]\n",
      "[['Sweet tradition, sweet service'], ['10/19/2016']]\n",
      "[['GREAT HOMEMADE FOOD, wonderful proprietres...'], ['11/30/2014']]\n",
      "[['Quick, delicious, inexpensive, healthful'], ['12/10/2017']]\n",
      "[[\"Don't go for the food, go for the Ginn\"], ['09/03/2014']]\n",
      "[['Great food, great value'], ['09/09/2012']]\n",
      "[['New place, not bad but it needs more dishe...'], ['08/30/2017']]\n",
      "[['Clean, neat and nice with a Deli counter'], ['05/28/2015']]\n",
      "[['Baked potatoes only, but good prices and f...'], ['08/30/2017']]\n",
      "[['Best, freshest seafood grilled, sauteed, o...'], ['08/20/2017']]\n",
      "[['Place, where people love, what they do'], ['06/03/2017']]\n",
      "[['Good quality, but overpriced'], ['01/15/2016']]\n",
      "[['Simple, fresh, Home-tyle Sichuan cuisine a...'], ['12/18/2017']]\n",
      "[['Delicious, delicious, delicious'], ['10/02/2017']]\n",
      "[['Great food, atmosphere, and service!'], ['03/19/2011']]\n",
      "[['Too top too Chinese , go try and enjoy .'], ['06/09/2017']]\n",
      "[['Great addition to the area, pleasant supri...'], ['11/27/2016']]\n",
      "[['haahaa, hippies'], ['02/05/2008']]\n",
      "[['Good for me, Good for my friends'], ['09/18/2017']]\n",
      "[['Authentic Czech Cafeteria - Cheap, cheap...'], ['10/15/2016']]\n",
      "[['Good, big portions, slow delivery'], ['11/23/2015']]\n",
      "[['Great bar, cold cuts'], ['12/18/2017']]\n",
      "[['Good service, nice place, good food.'], ['10/19/2017']]\n",
      "[['Bar Cafetiere J.B, Barcelona'], ['10/01/2017']]\n",
      "[['Quite good, Service a bit slow'], ['02/08/2016']]\n",
      "[['Great, quick meal'], ['10/23/2017']]\n",
      "[['A lovely Place, BUT........'], ['01/13/2016']]\n",
      "[['Very good fast food, and Lángos'], ['06/27/2016']]\n",
      "[['Best pizza around, in a large area!'], ['02/03/2017']]\n",
      "[['Friendly, Bright and delicious'], ['11/06/2016']]\n",
      "[['My most unpleasant dining,unfortunately I...'], ['01/02/2018']]\n",
      "[['Coffee good, but be careful with your chan...'], ['08/18/2013']]\n",
      "[['Very friendly place, great teas and coffee...'], ['12/16/2017']]\n",
      "[['Wonderful service, great mix of Ethiopian...'], ['11/13/2017']]\n",
      "[['An art gallery+restaurant, a great place f...'], ['09/02/2017']]\n",
      "[['NICE BURGERS AND CHICKEN NUGGETS, CHEAP FO...'], ['08/16/2016']]\n",
      "[['Great tent, fun people, enjoy the evening'], ['10/29/2017']]\n",
      "[['Mediterranean dishes are good, but avoid G...'], ['07/21/2011']]\n",
      "[['Excellent & welcoming, relaxing little spo...'], ['05/01/2013']]\n",
      "[['Limited choice of food, clean and cheap'], ['09/01/2015']]\n",
      "[['Small, Friendly Place on the Mile'], ['11/15/2015']]\n"
     ]
    }
   ],
   "source": [
    "for i in data[(pd.isna(data['Number of Reviews'])) & (data['Reviews'] != \"[[], []]\")].index:\n",
    "\n",
    "    if pd.isna(data.loc[i]['Reviews']) == False:\n",
    "        l = len(data.loc[i]['Reviews'].split(','))\n",
    "        \n",
    "        if l > 2:\n",
    "            print(data.loc[i]['Reviews'])"
   ]
  },
  {
   "cell_type": "markdown",
   "metadata": {},
   "source": [
    "Способ может и не совсем хороший, но вполне подтверждает, что есть 1 отзыв"
   ]
  },
  {
   "cell_type": "code",
   "execution_count": 18,
   "metadata": {},
   "outputs": [],
   "source": [
    "# заполним пропуски\n",
    "data['Reviews'] = data['Reviews'].fillna(\"[[], []]\")"
   ]
  },
  {
   "cell_type": "code",
   "execution_count": 19,
   "metadata": {},
   "outputs": [],
   "source": [
    "number_of_reviews = []\n",
    "\n",
    "for i in range(data.shape[0]):\n",
    "    if pd.isna(data.loc[i]['Number of Reviews']) == True:\n",
    "        if data.loc[i]['Reviews'] == \"[[], []]\":\n",
    "            number_of_reviews.append(0)\n",
    "        else:\n",
    "            number_of_reviews.append(1)\n",
    "    else:\n",
    "        number_of_reviews.append(data.loc[i]['Number of Reviews'])"
   ]
  },
  {
   "cell_type": "code",
   "execution_count": 20,
   "metadata": {},
   "outputs": [],
   "source": [
    "data['Number of Reviews'] = pd.Series(number_of_reviews)"
   ]
  },
  {
   "cell_type": "code",
   "execution_count": 21,
   "metadata": {},
   "outputs": [
    {
     "name": "stdout",
     "output_type": "stream",
     "text": [
      "<class 'pandas.core.frame.DataFrame'>\n",
      "RangeIndex: 50000 entries, 0 to 49999\n",
      "Data columns (total 11 columns):\n",
      "Restaurant_id        50000 non-null object\n",
      "City                 50000 non-null object\n",
      "Cuisine Style        38410 non-null object\n",
      "Ranking              50000 non-null float64\n",
      "Price Range          32639 non-null object\n",
      "Number of Reviews    50000 non-null float64\n",
      "Reviews              50000 non-null object\n",
      "URL_TA               50000 non-null object\n",
      "ID_TA                50000 non-null object\n",
      "sample               50000 non-null int64\n",
      "Rating               50000 non-null float64\n",
      "dtypes: float64(3), int64(1), object(7)\n",
      "memory usage: 4.2+ MB\n"
     ]
    }
   ],
   "source": [
    "data.info()"
   ]
  },
  {
   "cell_type": "markdown",
   "metadata": {},
   "source": [
    "Для удобства заполним пропуски значениями None"
   ]
  },
  {
   "cell_type": "code",
   "execution_count": 22,
   "metadata": {},
   "outputs": [],
   "source": [
    "#data['Price Range'] = data['Price Range'].apply(lambda x: 'None' if pd.isna(x) else x)"
   ]
  },
  {
   "cell_type": "code",
   "execution_count": 23,
   "metadata": {},
   "outputs": [],
   "source": [
    "data['Cuisine Style'] = data['Cuisine Style'].apply(lambda x: 'None' if pd.isna(x) else x)"
   ]
  },
  {
   "cell_type": "code",
   "execution_count": 24,
   "metadata": {},
   "outputs": [
    {
     "name": "stdout",
     "output_type": "stream",
     "text": [
      "<class 'pandas.core.frame.DataFrame'>\n",
      "RangeIndex: 50000 entries, 0 to 49999\n",
      "Data columns (total 11 columns):\n",
      "Restaurant_id        50000 non-null object\n",
      "City                 50000 non-null object\n",
      "Cuisine Style        50000 non-null object\n",
      "Ranking              50000 non-null float64\n",
      "Price Range          32639 non-null object\n",
      "Number of Reviews    50000 non-null float64\n",
      "Reviews              50000 non-null object\n",
      "URL_TA               50000 non-null object\n",
      "ID_TA                50000 non-null object\n",
      "sample               50000 non-null int64\n",
      "Rating               50000 non-null float64\n",
      "dtypes: float64(3), int64(1), object(7)\n",
      "memory usage: 4.2+ MB\n"
     ]
    }
   ],
   "source": [
    "data.info()"
   ]
  },
  {
   "cell_type": "markdown",
   "metadata": {},
   "source": [
    "добавить признак средней оценки для каждой кухни"
   ]
  },
  {
   "cell_type": "code",
   "execution_count": null,
   "metadata": {},
   "outputs": [],
   "source": []
  },
  {
   "cell_type": "code",
   "execution_count": null,
   "metadata": {},
   "outputs": [],
   "source": []
  },
  {
   "cell_type": "code",
   "execution_count": null,
   "metadata": {},
   "outputs": [],
   "source": []
  },
  {
   "cell_type": "code",
   "execution_count": null,
   "metadata": {},
   "outputs": [],
   "source": []
  },
  {
   "cell_type": "markdown",
   "metadata": {},
   "source": [
    "## 1. Обработка NAN \n",
    "У наличия пропусков могут быть разные причины, но пропуски нужно либо заполнить, либо исключить из набора полностью. Но с пропусками нужно быть внимательным, **даже отсутствие информации может быть важным признаком!**   \n",
    "По этому перед обработкой NAN лучше вынести информацию о наличии пропуска как отдельный признак "
   ]
  },
  {
   "cell_type": "code",
   "execution_count": 25,
   "metadata": {},
   "outputs": [],
   "source": [
    "# Для примера я возьму столбец Number of Reviews\n",
    "#data['Number_of_Reviews_isNAN'] = pd.isna(data['Number of Reviews']).astype('uint8')"
   ]
  },
  {
   "cell_type": "code",
   "execution_count": 26,
   "metadata": {},
   "outputs": [],
   "source": [
    "#data['Number_of_Reviews_isNAN'].value_counts()"
   ]
  },
  {
   "cell_type": "code",
   "execution_count": 27,
   "metadata": {},
   "outputs": [],
   "source": [
    "# Далее заполняем пропуски 0, вы можете попробовать заполнением средним или средним по городу и тд...\n",
    "#data['Number of Reviews'].fillna(0, inplace=True)"
   ]
  },
  {
   "cell_type": "code",
   "execution_count": 28,
   "metadata": {},
   "outputs": [],
   "source": [
    "#---- потом можно протестить с медианой или средним"
   ]
  },
  {
   "cell_type": "code",
   "execution_count": 29,
   "metadata": {},
   "outputs": [],
   "source": [
    "#data.info()"
   ]
  },
  {
   "cell_type": "markdown",
   "metadata": {},
   "source": [
    "Заполняем пропуски в столбце с кухнями\n",
    "---\n"
   ]
  },
  {
   "cell_type": "markdown",
   "metadata": {},
   "source": [
    "Список всех кухонь"
   ]
  },
  {
   "cell_type": "code",
   "execution_count": 30,
   "metadata": {},
   "outputs": [],
   "source": [
    "cusines = set()\n",
    "for row in data['Cuisine Style']:\n",
    "    if pd.isna(row) == False:\n",
    "        for cus in row[1:-1].replace(\"'\", '').split(','):\n",
    "            if cus[0] != ' ':\n",
    "                cusines.add(cus)\n",
    "            else:\n",
    "                cusines.add(cus[1:])\n",
    "        \n",
    "cusines.add('None')"
   ]
  },
  {
   "cell_type": "markdown",
   "metadata": {},
   "source": [
    "Какое среднее кол-во кухонь представлено в одном ресторане"
   ]
  },
  {
   "cell_type": "code",
   "execution_count": 31,
   "metadata": {},
   "outputs": [],
   "source": [
    "#cusine_counter_m = []\n",
    "#\n",
    "#for row in data['Cuisine Style']:\n",
    "#    if pd.isna(row) == False:\n",
    "#        cusine_counter_m.append(len(row[1:-1].replace(\"'\", '').split(',')))"
   ]
  },
  {
   "cell_type": "code",
   "execution_count": 32,
   "metadata": {},
   "outputs": [],
   "source": [
    "#pd.Series(cusine_counter_m).plot(kind='box')"
   ]
  },
  {
   "cell_type": "markdown",
   "metadata": {},
   "source": [
    "Целесообразне брать медиану, т.к. есть выбросы и среднее будет смещено"
   ]
  },
  {
   "cell_type": "code",
   "execution_count": 33,
   "metadata": {},
   "outputs": [],
   "source": [
    "#pd.Series(cusine_counter_m).median()"
   ]
  },
  {
   "cell_type": "markdown",
   "metadata": {},
   "source": [
    "Итого нам надо для каждого пропущенного значения подобрать 3 наиболее часто встречающиеся кухни.  \n",
    "Будем ориентироваться на города. Посмотрим какие кухни характерны для ресторана каждого города"
   ]
  },
  {
   "cell_type": "code",
   "execution_count": 34,
   "metadata": {},
   "outputs": [],
   "source": [
    "# составим список всех присутствующих городов\n",
    "cities = data['City'].unique()"
   ]
  },
  {
   "cell_type": "code",
   "execution_count": 35,
   "metadata": {},
   "outputs": [],
   "source": [
    "# составим словарь словарей, для дальнейшего анализа какие кухни чаще всего встречаются в городах\n",
    "# структура следующая: {Город: {Кухня: 0}}\n",
    "\n",
    "#cusines_in_city = {}\n",
    "#\n",
    "#for city in cities:\n",
    "#    interim_dict = {}\n",
    "#    \n",
    "#    for cusine in cusines:\n",
    "#        interim_dict[cusine] = 0\n",
    "#        \n",
    "#    cusines_in_city[city] = interim_dict"
   ]
  },
  {
   "cell_type": "code",
   "execution_count": 36,
   "metadata": {},
   "outputs": [],
   "source": [
    "# Созданный выше словарь словарей мы наполним значениями. \n",
    "# Посчитаем, сколько раз каждая кухня встречается в конкретном городе\n",
    "\n",
    "#for city in cities:\n",
    "#    \n",
    "#    for val in data[data['City'] == city]['Cuisine Style']:\n",
    "#        \n",
    "#        if pd.isna(val) == False:\n",
    "#        \n",
    "#            for cus in val[1:-1].replace(\"'\", '').split(','):\n",
    "#                if cus[0] != ' ':\n",
    "#                    cusines_in_city[city][cus] += 1\n",
    "#                else:\n",
    "#                    cusines_in_city[city][cus[1:]] += 1"
   ]
  },
  {
   "cell_type": "code",
   "execution_count": 37,
   "metadata": {},
   "outputs": [],
   "source": [
    "# Отберем 3 самый популярные кухни для каждого города\n",
    "\n",
    "#popular_cusines = {}\n",
    "#\n",
    "#for city in cities:\n",
    "#    popular_cus_city = pd.DataFrame(cusines_in_city)['Paris'].sort_values(ascending=False).index[:3]\n",
    "#    popular_cusines[city] = str(popular_cus_city)[6:-17]"
   ]
  },
  {
   "cell_type": "code",
   "execution_count": 38,
   "metadata": {},
   "outputs": [],
   "source": [
    "# создадим отдельный столбец с вариантами кухонь, где вместо пропусков будут часто встречаемые\n",
    "# сначала мы сделаем список, который преобразуем в пандас серию\n",
    "\n",
    "#cuisine_style_new = []\n",
    "#\n",
    "#for i in range(data.shape[0]):\n",
    "#    if pd.isna(data.loc[i]['Cuisine Style']) == True:\n",
    "#        cuisine_style_new.append(popular_cusines[data.loc[i]['City']])\n",
    "#    else:\n",
    "#        cuisine_style_new.append(data.loc[i]['Cuisine Style'])"
   ]
  },
  {
   "cell_type": "code",
   "execution_count": 39,
   "metadata": {},
   "outputs": [],
   "source": [
    "# меняем старый солбец на новый\n",
    "#data['Cuisine Style'] = pd.Series(cuisine_style_new)"
   ]
  },
  {
   "cell_type": "code",
   "execution_count": 40,
   "metadata": {},
   "outputs": [],
   "source": [
    "#data.info()"
   ]
  },
  {
   "cell_type": "markdown",
   "metadata": {},
   "source": [
    "### 2. Обработка признаков\n",
    "Для начала посмотрим какие признаки у нас могут быть категориальными."
   ]
  },
  {
   "cell_type": "code",
   "execution_count": 41,
   "metadata": {},
   "outputs": [
    {
     "data": {
      "text/plain": [
       "Restaurant_id        13094\n",
       "City                    31\n",
       "Cuisine Style        10732\n",
       "Ranking              12975\n",
       "Price Range              4\n",
       "Number of Reviews     1575\n",
       "Reviews              41857\n",
       "URL_TA               49963\n",
       "ID_TA                49963\n",
       "sample                   2\n",
       "Rating                  10\n",
       "dtype: int64"
      ]
     },
     "execution_count": 41,
     "metadata": {},
     "output_type": "execute_result"
    }
   ],
   "source": [
    "data.nunique(dropna=False)"
   ]
  },
  {
   "cell_type": "markdown",
   "metadata": {},
   "source": [
    "Интересно, что Restaurant_id имеет 13094 уникальных значений, в то время как ID_TA почти 50 тыс.  \n",
    "Скорее всего есть рестораны, которые относятся к сетям. Для таких стоит ввести отдельный признак \"Принадлежность к сети\""
   ]
  },
  {
   "cell_type": "code",
   "execution_count": 42,
   "metadata": {},
   "outputs": [],
   "source": [
    "counter_id = data['Restaurant_id'].value_counts()"
   ]
  },
  {
   "cell_type": "markdown",
   "metadata": {},
   "source": [
    "## Можно заменить на кол-во ресторанов в сети"
   ]
  },
  {
   "cell_type": "code",
   "execution_count": 43,
   "metadata": {},
   "outputs": [],
   "source": [
    "# создаем признак, где показывается кол-во ресторанов в сети\n",
    "\n",
    "data['network_restaurant'] = data['Restaurant_id'].apply(lambda x: counter_id[x])"
   ]
  },
  {
   "cell_type": "code",
   "execution_count": 44,
   "metadata": {},
   "outputs": [
    {
     "data": {
      "text/html": [
       "<div>\n",
       "<style scoped>\n",
       "    .dataframe tbody tr th:only-of-type {\n",
       "        vertical-align: middle;\n",
       "    }\n",
       "\n",
       "    .dataframe tbody tr th {\n",
       "        vertical-align: top;\n",
       "    }\n",
       "\n",
       "    .dataframe thead th {\n",
       "        text-align: right;\n",
       "    }\n",
       "</style>\n",
       "<table border=\"1\" class=\"dataframe\">\n",
       "  <thead>\n",
       "    <tr style=\"text-align: right;\">\n",
       "      <th></th>\n",
       "      <th>Restaurant_id</th>\n",
       "      <th>City</th>\n",
       "      <th>Cuisine Style</th>\n",
       "      <th>Ranking</th>\n",
       "      <th>Price Range</th>\n",
       "      <th>Number of Reviews</th>\n",
       "      <th>Reviews</th>\n",
       "      <th>URL_TA</th>\n",
       "      <th>ID_TA</th>\n",
       "      <th>sample</th>\n",
       "      <th>Rating</th>\n",
       "      <th>network_restaurant</th>\n",
       "    </tr>\n",
       "  </thead>\n",
       "  <tbody>\n",
       "    <tr>\n",
       "      <td>0</td>\n",
       "      <td>id_0</td>\n",
       "      <td>Paris</td>\n",
       "      <td>['Bar', 'Pub']</td>\n",
       "      <td>12963.0</td>\n",
       "      <td>$$ - $$$</td>\n",
       "      <td>4.0</td>\n",
       "      <td>[[], []]</td>\n",
       "      <td>/Restaurant_Review-g187147-d10746918-Reviews-L...</td>\n",
       "      <td>d10746918</td>\n",
       "      <td>0</td>\n",
       "      <td>0.0</td>\n",
       "      <td>16</td>\n",
       "    </tr>\n",
       "    <tr>\n",
       "      <td>1</td>\n",
       "      <td>id_1</td>\n",
       "      <td>Helsinki</td>\n",
       "      <td>['European', 'Scandinavian', 'Gluten Free Opti...</td>\n",
       "      <td>106.0</td>\n",
       "      <td>$$ - $$$</td>\n",
       "      <td>97.0</td>\n",
       "      <td>[['Very good reviews!', 'Fine dining in Hakani...</td>\n",
       "      <td>/Restaurant_Review-g189934-d6674944-Reviews-Ra...</td>\n",
       "      <td>d6674944</td>\n",
       "      <td>0</td>\n",
       "      <td>0.0</td>\n",
       "      <td>10</td>\n",
       "    </tr>\n",
       "    <tr>\n",
       "      <td>2</td>\n",
       "      <td>id_2</td>\n",
       "      <td>Edinburgh</td>\n",
       "      <td>['Vegetarian Friendly']</td>\n",
       "      <td>810.0</td>\n",
       "      <td>$$ - $$$</td>\n",
       "      <td>28.0</td>\n",
       "      <td>[['Better than the Links', 'Ivy Black'], ['12/...</td>\n",
       "      <td>/Restaurant_Review-g186525-d13129638-Reviews-B...</td>\n",
       "      <td>d13129638</td>\n",
       "      <td>0</td>\n",
       "      <td>0.0</td>\n",
       "      <td>15</td>\n",
       "    </tr>\n",
       "    <tr>\n",
       "      <td>3</td>\n",
       "      <td>id_3</td>\n",
       "      <td>London</td>\n",
       "      <td>['Italian', 'Mediterranean', 'European', 'Vege...</td>\n",
       "      <td>1669.0</td>\n",
       "      <td>$$$$</td>\n",
       "      <td>202.0</td>\n",
       "      <td>[['Most exquisite', 'Delicious and authentic']...</td>\n",
       "      <td>/Restaurant_Review-g186338-d680417-Reviews-Qui...</td>\n",
       "      <td>d680417</td>\n",
       "      <td>0</td>\n",
       "      <td>0.0</td>\n",
       "      <td>9</td>\n",
       "    </tr>\n",
       "    <tr>\n",
       "      <td>4</td>\n",
       "      <td>id_4</td>\n",
       "      <td>Bratislava</td>\n",
       "      <td>['Italian', 'Mediterranean', 'European', 'Seaf...</td>\n",
       "      <td>37.0</td>\n",
       "      <td>$$$$</td>\n",
       "      <td>162.0</td>\n",
       "      <td>[['Always the best in bratislava', 'Very good ...</td>\n",
       "      <td>/Restaurant_Review-g274924-d1112354-Reviews-Ma...</td>\n",
       "      <td>d1112354</td>\n",
       "      <td>0</td>\n",
       "      <td>0.0</td>\n",
       "      <td>14</td>\n",
       "    </tr>\n",
       "  </tbody>\n",
       "</table>\n",
       "</div>"
      ],
      "text/plain": [
       "  Restaurant_id        City  \\\n",
       "0          id_0       Paris   \n",
       "1          id_1    Helsinki   \n",
       "2          id_2   Edinburgh   \n",
       "3          id_3      London   \n",
       "4          id_4  Bratislava   \n",
       "\n",
       "                                       Cuisine Style  Ranking Price Range  \\\n",
       "0                                     ['Bar', 'Pub']  12963.0    $$ - $$$   \n",
       "1  ['European', 'Scandinavian', 'Gluten Free Opti...    106.0    $$ - $$$   \n",
       "2                            ['Vegetarian Friendly']    810.0    $$ - $$$   \n",
       "3  ['Italian', 'Mediterranean', 'European', 'Vege...   1669.0        $$$$   \n",
       "4  ['Italian', 'Mediterranean', 'European', 'Seaf...     37.0        $$$$   \n",
       "\n",
       "   Number of Reviews                                            Reviews  \\\n",
       "0                4.0                                           [[], []]   \n",
       "1               97.0  [['Very good reviews!', 'Fine dining in Hakani...   \n",
       "2               28.0  [['Better than the Links', 'Ivy Black'], ['12/...   \n",
       "3              202.0  [['Most exquisite', 'Delicious and authentic']...   \n",
       "4              162.0  [['Always the best in bratislava', 'Very good ...   \n",
       "\n",
       "                                              URL_TA      ID_TA  sample  \\\n",
       "0  /Restaurant_Review-g187147-d10746918-Reviews-L...  d10746918       0   \n",
       "1  /Restaurant_Review-g189934-d6674944-Reviews-Ra...   d6674944       0   \n",
       "2  /Restaurant_Review-g186525-d13129638-Reviews-B...  d13129638       0   \n",
       "3  /Restaurant_Review-g186338-d680417-Reviews-Qui...    d680417       0   \n",
       "4  /Restaurant_Review-g274924-d1112354-Reviews-Ma...   d1112354       0   \n",
       "\n",
       "   Rating  network_restaurant  \n",
       "0     0.0                  16  \n",
       "1     0.0                  10  \n",
       "2     0.0                  15  \n",
       "3     0.0                   9  \n",
       "4     0.0                  14  "
      ]
     },
     "execution_count": 44,
     "metadata": {},
     "output_type": "execute_result"
    }
   ],
   "source": [
    "data.head(5)"
   ]
  },
  {
   "cell_type": "code",
   "execution_count": 45,
   "metadata": {},
   "outputs": [
    {
     "data": {
      "text/html": [
       "<div>\n",
       "<style scoped>\n",
       "    .dataframe tbody tr th:only-of-type {\n",
       "        vertical-align: middle;\n",
       "    }\n",
       "\n",
       "    .dataframe tbody tr th {\n",
       "        vertical-align: top;\n",
       "    }\n",
       "\n",
       "    .dataframe thead th {\n",
       "        text-align: right;\n",
       "    }\n",
       "</style>\n",
       "<table border=\"1\" class=\"dataframe\">\n",
       "  <thead>\n",
       "    <tr style=\"text-align: right;\">\n",
       "      <th></th>\n",
       "      <th>Restaurant_id</th>\n",
       "      <th>City</th>\n",
       "      <th>Cuisine Style</th>\n",
       "      <th>Ranking</th>\n",
       "      <th>Price Range</th>\n",
       "      <th>Number of Reviews</th>\n",
       "      <th>Reviews</th>\n",
       "      <th>URL_TA</th>\n",
       "      <th>ID_TA</th>\n",
       "      <th>sample</th>\n",
       "      <th>Rating</th>\n",
       "      <th>network_restaurant</th>\n",
       "    </tr>\n",
       "  </thead>\n",
       "  <tbody>\n",
       "    <tr>\n",
       "      <td>10354</td>\n",
       "      <td>id_1630</td>\n",
       "      <td>Lisbon</td>\n",
       "      <td>['Italian', 'Vegetarian Friendly']</td>\n",
       "      <td>1631.0</td>\n",
       "      <td>$$ - $$$</td>\n",
       "      <td>9.0</td>\n",
       "      <td>[['A great experience close to our guest hous....</td>\n",
       "      <td>/Restaurant_Review-g189158-d12081682-Reviews-L...</td>\n",
       "      <td>d12081682</td>\n",
       "      <td>1</td>\n",
       "      <td>4.5</td>\n",
       "      <td>9</td>\n",
       "    </tr>\n",
       "    <tr>\n",
       "      <td>37929</td>\n",
       "      <td>id_4030</td>\n",
       "      <td>Barcelona</td>\n",
       "      <td>['Mediterranean']</td>\n",
       "      <td>4031.0</td>\n",
       "      <td>$$ - $$$</td>\n",
       "      <td>52.0</td>\n",
       "      <td>[['Good value, great service', 'Amazing Steak ...</td>\n",
       "      <td>/Restaurant_Review-g187497-d5616911-Reviews-Ba...</td>\n",
       "      <td>d5616911</td>\n",
       "      <td>1</td>\n",
       "      <td>4.5</td>\n",
       "      <td>5</td>\n",
       "    </tr>\n",
       "    <tr>\n",
       "      <td>19239</td>\n",
       "      <td>id_886</td>\n",
       "      <td>Prague</td>\n",
       "      <td>['International', 'European', 'Czech', 'Easter...</td>\n",
       "      <td>887.0</td>\n",
       "      <td>$$ - $$$</td>\n",
       "      <td>380.0</td>\n",
       "      <td>[['Great views over the city and decent food',...</td>\n",
       "      <td>/Restaurant_Review-g274707-d1027079-Reviews-Re...</td>\n",
       "      <td>d1027079</td>\n",
       "      <td>1</td>\n",
       "      <td>4.0</td>\n",
       "      <td>8</td>\n",
       "    </tr>\n",
       "    <tr>\n",
       "      <td>12727</td>\n",
       "      <td>id_5634</td>\n",
       "      <td>Madrid</td>\n",
       "      <td>None</td>\n",
       "      <td>5637.0</td>\n",
       "      <td>NaN</td>\n",
       "      <td>8.0</td>\n",
       "      <td>[[], []]</td>\n",
       "      <td>/Restaurant_Review-g187514-d7714826-Reviews-La...</td>\n",
       "      <td>d7714826</td>\n",
       "      <td>1</td>\n",
       "      <td>3.5</td>\n",
       "      <td>3</td>\n",
       "    </tr>\n",
       "    <tr>\n",
       "      <td>42215</td>\n",
       "      <td>id_1332</td>\n",
       "      <td>Zurich</td>\n",
       "      <td>None</td>\n",
       "      <td>1337.0</td>\n",
       "      <td>NaN</td>\n",
       "      <td>9.0</td>\n",
       "      <td>[['Unexpectedly super!'], ['11/22/2017']]</td>\n",
       "      <td>/Restaurant_Review-g188113-d11829626-Reviews-C...</td>\n",
       "      <td>d11829626</td>\n",
       "      <td>1</td>\n",
       "      <td>3.5</td>\n",
       "      <td>12</td>\n",
       "    </tr>\n",
       "  </tbody>\n",
       "</table>\n",
       "</div>"
      ],
      "text/plain": [
       "      Restaurant_id       City  \\\n",
       "10354       id_1630     Lisbon   \n",
       "37929       id_4030  Barcelona   \n",
       "19239        id_886     Prague   \n",
       "12727       id_5634     Madrid   \n",
       "42215       id_1332     Zurich   \n",
       "\n",
       "                                           Cuisine Style  Ranking Price Range  \\\n",
       "10354                 ['Italian', 'Vegetarian Friendly']   1631.0    $$ - $$$   \n",
       "37929                                  ['Mediterranean']   4031.0    $$ - $$$   \n",
       "19239  ['International', 'European', 'Czech', 'Easter...    887.0    $$ - $$$   \n",
       "12727                                               None   5637.0         NaN   \n",
       "42215                                               None   1337.0         NaN   \n",
       "\n",
       "       Number of Reviews                                            Reviews  \\\n",
       "10354                9.0  [['A great experience close to our guest hous....   \n",
       "37929               52.0  [['Good value, great service', 'Amazing Steak ...   \n",
       "19239              380.0  [['Great views over the city and decent food',...   \n",
       "12727                8.0                                           [[], []]   \n",
       "42215                9.0          [['Unexpectedly super!'], ['11/22/2017']]   \n",
       "\n",
       "                                                  URL_TA      ID_TA  sample  \\\n",
       "10354  /Restaurant_Review-g189158-d12081682-Reviews-L...  d12081682       1   \n",
       "37929  /Restaurant_Review-g187497-d5616911-Reviews-Ba...   d5616911       1   \n",
       "19239  /Restaurant_Review-g274707-d1027079-Reviews-Re...   d1027079       1   \n",
       "12727  /Restaurant_Review-g187514-d7714826-Reviews-La...   d7714826       1   \n",
       "42215  /Restaurant_Review-g188113-d11829626-Reviews-C...  d11829626       1   \n",
       "\n",
       "       Rating  network_restaurant  \n",
       "10354     4.5                   9  \n",
       "37929     4.5                   5  \n",
       "19239     4.0                   8  \n",
       "12727     3.5                   3  \n",
       "42215     3.5                  12  "
      ]
     },
     "execution_count": 45,
     "metadata": {},
     "output_type": "execute_result"
    }
   ],
   "source": [
    "data.sample(5)"
   ]
  },
  {
   "cell_type": "markdown",
   "metadata": {},
   "source": [
    "#### Возьмем следующий признак \"Price Range\"."
   ]
  },
  {
   "cell_type": "code",
   "execution_count": 46,
   "metadata": {},
   "outputs": [],
   "source": [
    "#data['Price Range'].value_counts()"
   ]
  },
  {
   "cell_type": "markdown",
   "metadata": {},
   "source": [
    "По описанию 'Price Range' это - Цены в ресторане.  \n",
    "Их можно поставить по возрастанию (значит это не категориальный признак). А это значит, что их можно заменить последовательными числами, например 1,2,3  \n",
    "*Попробуйте сделать обработку этого признака уже самостоятельно!*"
   ]
  },
  {
   "cell_type": "code",
   "execution_count": 47,
   "metadata": {},
   "outputs": [],
   "source": [
    "# Ваша обработка 'Price Range'\n",
    "#Готовим столбец Price Range для создания dummies\n",
    "def price_range_rating (price_range_string):\n",
    "    if \"$$$$\" in str(price_range_string):\n",
    "        return(int(3))\n",
    "    elif \"$$ - $$$\" in str(price_range_string):\n",
    "        return(int(2))\n",
    "    elif \"$\" in str(price_range_string):\n",
    "        return(int(1))\n",
    "    elif str(0) in str(price_range_string):\n",
    "        return(int(0))\n",
    "data['Price Range'] = data['Price Range'].apply(price_range_rating)\n",
    "\n",
    "#Заполним пропуски наиболее встречаемым значением\n",
    "data['Price Range'] = data['Price Range'].fillna(2)"
   ]
  },
  {
   "cell_type": "code",
   "execution_count": 48,
   "metadata": {},
   "outputs": [],
   "source": [
    "#Делаем dummies на основе изменного Price Range\n",
    "#data = pd.get_dummies(data, columns=['Price Range', ], dummy_na=True)"
   ]
  },
  {
   "cell_type": "markdown",
   "metadata": {},
   "source": [
    "> Для некоторых алгоритмов МЛ даже для не категориальных признаков можно применить One-Hot Encoding, и это может улучшить качество модели. Пробуйте разные подходы к кодированию признака - никто не знает заранее, что может взлететь."
   ]
  },
  {
   "cell_type": "markdown",
   "metadata": {},
   "source": [
    "### Обработать другие признаки вы должны самостоятельно!\n",
    "Для обработки других признаков вам возможно придется даже написать свою функцию, а может даже и не одну, но в этом и есть ваша практика в этом модуле!     \n",
    "Следуя подсказкам в модуле вы сможете более подробно узнать, как сделать эти приобразования."
   ]
  },
  {
   "cell_type": "code",
   "execution_count": 49,
   "metadata": {},
   "outputs": [],
   "source": [
    "# Добавляем новый признак \"Столица - Не столица\"\n",
    "capitals = {'City': [\n",
    "    'London', 'Paris', 'Madrid', 'Barcelona', 'Berlin', 'Milan', 'Rome', 'Prague',\n",
    "    'Lisbon', 'Vienna', 'Amsterdam', 'Brussels', 'Hamburg', 'Munich', 'Lyon', 'Stockholm',\n",
    "    'Budapest', 'Warsaw', 'Dublin', 'Copenhagen', 'Athens', 'Edinburgh', 'Zurich', 'Oporto',\n",
    "    'Geneva', 'Krakow', 'Oslo', 'Helsinki', 'Bratislava', 'Luxembourg', 'Ljubljana'],\n",
    "    'Country': [\n",
    "    'United Kingdom', 'France', 'Spain', 'Spain', 'Germainy', 'Italy', 'Italy', 'Czech Republic',\n",
    "    'Portugal', 'Austria', 'Netherlands', 'Belgium', 'Germainy', 'Germainy', 'France', 'Sweden',\n",
    "    'Hungary', 'Poland', 'Ireland', 'Denmark', 'Greece', 'Scotland', 'Switzerland', 'Portugal',\n",
    "    'Switzerland', 'Poland', 'Norway', 'Finland', 'Slovakia', 'Luxembourg', 'Slovenia'],\n",
    "    'Is capital': [1, 1, 1, 0, 1, 0, 1, 1, 1, 1, 1, 1, 0, 0, 0, 1, 1, 1, 1, 1, 1, 1, 0, 0, 0, 0, 1, 1, 1, 1, 1]\n",
    "}\n",
    "capitals_list = []\n",
    "for i,j in zip(capitals['City'], capitals['Is capital']):\n",
    "    if j == 1:\n",
    "        capitals_list.append(i)\n",
    "def capital_sign(city_string):\n",
    "    if city_string in capitals_list:\n",
    "        return(1)\n",
    "    else:\n",
    "        return(0)\n",
    "data['Is_capital'] = data['City'].apply(capital_sign)"
   ]
  },
  {
   "cell_type": "code",
   "execution_count": 50,
   "metadata": {},
   "outputs": [],
   "source": [
    "#Делаем даммиз на основании нового признака\n",
    "#data = pd.get_dummies(data, columns=['Is_capital', ], dummy_na=True)"
   ]
  },
  {
   "cell_type": "code",
   "execution_count": 51,
   "metadata": {},
   "outputs": [],
   "source": [
    "#Создаем новый признак из разницы между датами отзывов\n",
    "\n",
    "# Вычленяем из строки даты и записываем в отдельный столбец\n",
    "data['Number of Reviews'].fillna(0, inplace=True)\n",
    "\n",
    "#Заполняем наны в столбце Reviews\n",
    "data['Reviews'].fillna('[[], []]', inplace=True)\n",
    "\n",
    "def data_extract(reviews_str):\n",
    "    pattern = re.compile('\\d\\d\\W\\d\\d\\W\\d\\d\\d\\d')\n",
    "    tmp_data = pattern.findall(reviews_str)\n",
    "    return(tmp_data)\n",
    "\n",
    "data['Data_Reviews'] = data['Reviews'].apply(data_extract)\n",
    "\n",
    "#Резделим даты отзывов на два столбца. Пригодится и для следующего задания\n",
    "def data_reviews_separate_1(data_reviews_string):\n",
    "    tmp = 0\n",
    "    if len(data_reviews_string) == 0:\n",
    "        tmp = 0\n",
    "    else:\n",
    "        tmp = data_reviews_string[0]\n",
    "    return(tmp)\n",
    "\n",
    "def data_reviews_separate_2(data_reviews_string):\n",
    "    tmp = 0\n",
    "    if len(data_reviews_string) == 0:\n",
    "        tmp = 0\n",
    "    elif len(data_reviews_string) == 1:\n",
    "        tmp = 0\n",
    "    elif len(data_reviews_string) == 2:\n",
    "        tmp = data_reviews_string[1]\n",
    "    return(tmp)\n",
    "\n",
    "data['Data_Reviews_1'] = data['Data_Reviews'].apply(data_reviews_separate_1)\n",
    "data['Data_Reviews_2'] = data['Data_Reviews'].apply(data_reviews_separate_2)\n",
    "\n",
    "#Преобразовываем столбцы Data_Reviews_ в формат datetime\n",
    "data['Data_Reviews_1'] = data['Data_Reviews_1'].apply(lambda x: pd.to_datetime(x) if x != 0 else False)\n",
    "data['Data_Reviews_2'] = data['Data_Reviews_2'].apply(lambda x: pd.to_datetime(x) if x != 0 else False) \n",
    "\n",
    "# Вычисляем разницу в днях между отзывами, чистим значения от None и преобразовываем в int\n",
    "def data_delta(Data_Reviews_item):\n",
    "    if (len(Data_Reviews_item) == 0) or (len(Data_Reviews_item) == 1):\n",
    "        tmp = 0\n",
    "    else:\n",
    "        tmp = pd.to_datetime(\n",
    "            Data_Reviews_item[0]) - pd.to_datetime(Data_Reviews_item[1])\n",
    "\n",
    "    if tmp != 0:\n",
    "        return(str(tmp))\n",
    "\n",
    "\n",
    "def data_delta_to_int(data_delta_item):\n",
    "    tmp = str(data_delta_item)\n",
    "    if '-' in tmp:\n",
    "        tmp1 = tmp[1:-15]\n",
    "    elif 'None' in tmp:\n",
    "        tmp1 = '0'\n",
    "    else:\n",
    "        tmp1 = tmp[:-14]\n",
    "    return(int(tmp1))\n",
    "\n",
    "\n",
    "data['Data_Delta'] = data['Data_Reviews'].apply(data_delta)\n",
    "data['Data_Delta'] = data['Data_Delta'].apply(data_delta_to_int)\n",
    "\n",
    "\n",
    "#Убираем пропуски из столбцов Data_Reviews_х\n",
    "def error_date_to_zero(data_string):\n",
    "    if data_string == False:\n",
    "        return(int(0))\n",
    "    else:\n",
    "        return(data_string)\n",
    "\n",
    "data['Data_Reviews_1'] = data['Data_Reviews_1'].apply(error_date_to_zero)\n",
    "data['Data_Reviews_2'] = data['Data_Reviews_2'].apply(error_date_to_zero)"
   ]
  },
  {
   "cell_type": "markdown",
   "metadata": {},
   "source": [
    "Добавим признак - кол-во кухонь предоставленных в ресторане"
   ]
  },
  {
   "cell_type": "code",
   "execution_count": 52,
   "metadata": {},
   "outputs": [],
   "source": [
    "def cusine_counter(row):\n",
    "    cusine = []\n",
    "    for cus in row[1:-1].replace(\"'\", '').split(','):\n",
    "        cusine.append(cus)\n",
    "    return len(cusine)"
   ]
  },
  {
   "cell_type": "code",
   "execution_count": 53,
   "metadata": {},
   "outputs": [],
   "source": [
    "data['cusine_count'] = data['Cuisine Style'].apply(cusine_counter)"
   ]
  },
  {
   "cell_type": "markdown",
   "metadata": {},
   "source": [
    "Добавим признак - кол-во ресторанов в городе"
   ]
  },
  {
   "cell_type": "code",
   "execution_count": 54,
   "metadata": {},
   "outputs": [],
   "source": [
    "quantity_rest = data['City'].value_counts()"
   ]
  },
  {
   "cell_type": "code",
   "execution_count": 55,
   "metadata": {},
   "outputs": [],
   "source": [
    "data['quantity'] = data['City'].apply(lambda x: quantity_rest[x])"
   ]
  },
  {
   "cell_type": "markdown",
   "metadata": {},
   "source": [
    "Следующий признак - средняя оценка в городе  \n",
    "*Можно потом поменять на отклонение от средней оценки, если не устроят результаты*"
   ]
  },
  {
   "cell_type": "code",
   "execution_count": 56,
   "metadata": {},
   "outputs": [],
   "source": [
    "mean_rating_in_city = data.groupby('City')['Rating'].mean()"
   ]
  },
  {
   "cell_type": "code",
   "execution_count": 57,
   "metadata": {},
   "outputs": [],
   "source": [
    "data['mean_rating'] = data['City'].apply(lambda x: mean_rating_in_city[x])"
   ]
  },
  {
   "cell_type": "markdown",
   "metadata": {},
   "source": [
    "Признак - среднее кол-во отзывов о ресторане в городе"
   ]
  },
  {
   "cell_type": "code",
   "execution_count": 58,
   "metadata": {},
   "outputs": [],
   "source": [
    "mean_number_reviews_in_city = data.groupby('City')['Number of Reviews'].mean()"
   ]
  },
  {
   "cell_type": "code",
   "execution_count": 59,
   "metadata": {},
   "outputs": [],
   "source": [
    "data['mean_reviews'] = data['City'].apply(lambda x: mean_number_reviews_in_city[x])"
   ]
  },
  {
   "cell_type": "markdown",
   "metadata": {},
   "source": [
    "Создадим даммиз по кухням"
   ]
  },
  {
   "cell_type": "code",
   "execution_count": 60,
   "metadata": {},
   "outputs": [],
   "source": [
    "cuisines_rating = {}\n",
    "\n",
    "for cus in cusines:\n",
    "    cu_rating = data[data['Cuisine Style'].str.contains(cus)]['Rating'].median()\n",
    "    cuisines_rating[cus] = cu_rating"
   ]
  },
  {
   "cell_type": "code",
   "execution_count": 61,
   "metadata": {},
   "outputs": [],
   "source": [
    "def find_cuisine(row):\n",
    "    if cus in row:\n",
    "        return cuisines_rating[cus]\n",
    "    return 0"
   ]
  },
  {
   "cell_type": "code",
   "execution_count": 62,
   "metadata": {},
   "outputs": [],
   "source": [
    "for cus in list(cusines):\n",
    "    data[cus] = data['Cuisine Style'].apply(find_cuisine)"
   ]
  },
  {
   "cell_type": "markdown",
   "metadata": {},
   "source": [
    "# EDA \n",
    "[Exploratory Data Analysis](https://ru.wikipedia.org/wiki/Разведочный_анализ_данных) - Анализ данных\n",
    "На этом этапе мы строим графики, ищем закономерности, аномалии, выбросы или связи между признаками.\n",
    "В общем цель этого этапа понять, что эти данные могут нам дать и как признаки могут быть взаимосвязаны между собой.\n",
    "Понимание изначальных признаков позволит сгенерировать новые, более сильные и, тем самым, сделать нашу модель лучше.\n",
    "![](https://miro.medium.com/max/2598/1*RXdMb7Uk6mGqWqPguHULaQ.png)"
   ]
  },
  {
   "cell_type": "markdown",
   "metadata": {},
   "source": [
    "### Посмотрим распределение признака"
   ]
  },
  {
   "cell_type": "code",
   "execution_count": 63,
   "metadata": {},
   "outputs": [
    {
     "data": {
      "text/plain": [
       "<matplotlib.axes._subplots.AxesSubplot at 0x208a4004888>"
      ]
     },
     "execution_count": 63,
     "metadata": {},
     "output_type": "execute_result"
    },
    {
     "data": {
      "image/png": "[encoded data removed]",
      "text/plain": [
       "<Figure size 720x504 with 1 Axes>"
      ]
     },
     "metadata": {
      "needs_background": "light"
     },
     "output_type": "display_data"
    }
   ],
   "source": [
    "plt.rcParams['figure.figsize'] = (10,7)\n",
    "df_train['Ranking'].hist(bins=100)"
   ]
  },
  {
   "cell_type": "markdown",
   "metadata": {},
   "source": [
    "У нас много ресторанов, которые не дотягивают и до 2500 места в своем городе, а что там по городам?"
   ]
  },
  {
   "cell_type": "code",
   "execution_count": 64,
   "metadata": {},
   "outputs": [
    {
     "data": {
      "text/plain": [
       "<matplotlib.axes._subplots.AxesSubplot at 0x208a203f0c8>"
      ]
     },
     "execution_count": 64,
     "metadata": {},
     "output_type": "execute_result"
    },
    {
     "data": {
      "image/png": "[encoded data removed]",
      "text/plain": [
       "<Figure size 720x504 with 1 Axes>"
      ]
     },
     "metadata": {
      "needs_background": "light"
     },
     "output_type": "display_data"
    }
   ],
   "source": [
    "df_train['City'].value_counts(ascending=True).plot(kind='barh')"
   ]
  },
  {
   "cell_type": "markdown",
   "metadata": {},
   "source": [
    "А кто-то говорил, что французы любят поесть=) Посмотрим, как изменится распределение в большом городе:"
   ]
  },
  {
   "cell_type": "code",
   "execution_count": 65,
   "metadata": {},
   "outputs": [
    {
     "data": {
      "text/plain": [
       "<matplotlib.axes._subplots.AxesSubplot at 0x208a404b7c8>"
      ]
     },
     "execution_count": 65,
     "metadata": {},
     "output_type": "execute_result"
    },
    {
     "data": {
      "image/png": "[encoded data removed]",
      "text/plain": [
       "<Figure size 720x504 with 1 Axes>"
      ]
     },
     "metadata": {
      "needs_background": "light"
     },
     "output_type": "display_data"
    }
   ],
   "source": [
    "df_train['Ranking'][df_train['City'] =='London'].hist(bins=100)"
   ]
  },
  {
   "cell_type": "code",
   "execution_count": 66,
   "metadata": {},
   "outputs": [
    {
     "data": {
      "image/png": "[encoded data removed]",
      "text/plain": [
       "<Figure size 720x504 with 1 Axes>"
      ]
     },
     "metadata": {
      "needs_background": "light"
     },
     "output_type": "display_data"
    }
   ],
   "source": [
    "# посмотрим на топ 10 городов\n",
    "for x in (df_train['City'].value_counts())[0:10].index:\n",
    "    df_train['Ranking'][df_train['City'] == x].hist(bins=100)\n",
    "plt.show()"
   ]
  },
  {
   "cell_type": "markdown",
   "metadata": {},
   "source": [
    "Получается, что Ranking имеет нормальное распределение, просто в больших городах больше ресторанов, из-за мы этого имеем смещение.\n",
    "\n",
    ">Подумайте как из этого можно сделать признак для вашей модели. Я покажу вам пример, как визуализация помогает находить взаимосвязи. А далее действуйте без подсказок =) \n"
   ]
  },
  {
   "cell_type": "code",
   "execution_count": 67,
   "metadata": {},
   "outputs": [],
   "source": [
    "data['Ranking_global'] = data['Ranking'] / data['City'].apply(lambda x: quantity_rest[x])"
   ]
  },
  {
   "cell_type": "code",
   "execution_count": 68,
   "metadata": {},
   "outputs": [
    {
     "data": {
      "text/plain": [
       "<matplotlib.axes._subplots.AxesSubplot at 0x208a16c8488>"
      ]
     },
     "execution_count": 68,
     "metadata": {},
     "output_type": "execute_result"
    },
    {
     "data": {
      "image/png": "[encoded data removed]",
      "text/plain": [
       "<Figure size 720x504 with 1 Axes>"
      ]
     },
     "metadata": {
      "needs_background": "light"
     },
     "output_type": "display_data"
    }
   ],
   "source": [
    "data['Ranking_global'].hist(bins=100)"
   ]
  },
  {
   "cell_type": "markdown",
   "metadata": {},
   "source": [
    "### Посмотрим распределение целевой переменной"
   ]
  },
  {
   "cell_type": "code",
   "execution_count": 69,
   "metadata": {},
   "outputs": [
    {
     "data": {
      "text/plain": [
       "<matplotlib.axes._subplots.AxesSubplot at 0x208a8501ec8>"
      ]
     },
     "execution_count": 69,
     "metadata": {},
     "output_type": "execute_result"
    },
    {
     "data": {
      "image/png": "[encoded data removed]",
      "text/plain": [
       "<Figure size 720x504 with 1 Axes>"
      ]
     },
     "metadata": {
      "needs_background": "light"
     },
     "output_type": "display_data"
    }
   ],
   "source": [
    "df_train['Rating'].value_counts(ascending=True).plot(kind='barh')"
   ]
  },
  {
   "cell_type": "markdown",
   "metadata": {},
   "source": [
    "### Посмотрим распределение целевой переменной относительно признака"
   ]
  },
  {
   "cell_type": "code",
   "execution_count": 70,
   "metadata": {},
   "outputs": [
    {
     "data": {
      "text/plain": [
       "<matplotlib.axes._subplots.AxesSubplot at 0x208a86b4a88>"
      ]
     },
     "execution_count": 70,
     "metadata": {},
     "output_type": "execute_result"
    },
    {
     "data": {
      "image/png": "[encoded data removed]",
      "text/plain": [
       "<Figure size 720x504 with 1 Axes>"
      ]
     },
     "metadata": {
      "needs_background": "light"
     },
     "output_type": "display_data"
    }
   ],
   "source": [
    "df_train['Ranking'][df_train['Rating'] == 5].hist(bins=100)"
   ]
  },
  {
   "cell_type": "code",
   "execution_count": 71,
   "metadata": {},
   "outputs": [
    {
     "data": {
      "text/plain": [
       "<matplotlib.axes._subplots.AxesSubplot at 0x208a89a0988>"
      ]
     },
     "execution_count": 71,
     "metadata": {},
     "output_type": "execute_result"
    },
    {
     "data": {
      "image/png": "[encoded data removed]",
      "text/plain": [
       "<Figure size 720x504 with 1 Axes>"
      ]
     },
     "metadata": {
      "needs_background": "light"
     },
     "output_type": "display_data"
    }
   ],
   "source": [
    "df_train['Ranking'][df_train['Rating'] < 4].hist(bins=100)"
   ]
  },
  {
   "cell_type": "markdown",
   "metadata": {},
   "source": [
    "### И один из моих любимых - [корреляция признаков](https://ru.wikipedia.org/wiki/Корреляция)\n",
    "На этом графике уже сейчас вы сможете заметить, как признаки связаны между собой и с целевой переменной."
   ]
  },
  {
   "cell_type": "code",
   "execution_count": 72,
   "metadata": {},
   "outputs": [],
   "source": [
    "#plt.rcParams['figure.figsize'] = (15,10)\n",
    "#sns.heatmap(data.drop(['sample'], axis=1).corr(),)"
   ]
  },
  {
   "cell_type": "markdown",
   "metadata": {},
   "source": [
    "Вообще благодаря визуализации в этом датасете можно узнать много интересных фактов, например:\n",
    "* где больше Пицерий в Мадриде или Лондоне?\n",
    "* в каком городе кухня ресторанов более разнообразна?\n",
    "\n",
    "придумайте свои вопрос и найдите на него ответ в данных)"
   ]
  },
  {
   "cell_type": "markdown",
   "metadata": {},
   "source": [
    "#### Запускаем и проверяем что получилось"
   ]
  },
  {
   "cell_type": "code",
   "execution_count": 95,
   "metadata": {},
   "outputs": [],
   "source": [
    "#df_preproc = preproc_data(data)\n",
    "#df_preproc.sample(10)"
   ]
  },
  {
   "cell_type": "code",
   "execution_count": 74,
   "metadata": {},
   "outputs": [],
   "source": [
    "#df_preproc.info()"
   ]
  },
  {
   "cell_type": "code",
   "execution_count": 87,
   "metadata": {},
   "outputs": [],
   "source": [
    "object_columns = [s for s in data.columns if data[s].dtypes == 'object']\n",
    "#df_output.drop(object_columns, axis = 1, inplace=True)"
   ]
  },
  {
   "cell_type": "code",
   "execution_count": 103,
   "metadata": {},
   "outputs": [],
   "source": [
    "# Теперь выделим тестовую часть\n",
    "train_data = data.query('sample == 1').drop(['sample'], axis=1)\n",
    "test_data = data.query('sample == 0').drop(['sample'], axis=1)\n",
    "\n",
    "y = train_data.Rating.values            # наш таргет\n",
    "X = train_data.drop(['Rating'], axis=1)\n",
    "X = X.drop(object_columns, axis=1)"
   ]
  },
  {
   "cell_type": "markdown",
   "metadata": {},
   "source": [
    "**Перед тем как отправлять наши данные на обучение, разделим данные на еще один тест и трейн, для валидации. \n",
    "Это поможет нам проверить, как хорошо наша модель работает, до отправки submissiona на kaggle.**"
   ]
  },
  {
   "cell_type": "code",
   "execution_count": 105,
   "metadata": {},
   "outputs": [],
   "source": [
    "# Воспользуемся специальной функцие train_test_split для разбивки тестовых данных\n",
    "# выделим 20% данных на валидацию (параметр test_size)\n",
    "X_train, X_test, y_train, y_test = train_test_split(X, y, test_size=0.2, random_state=RANDOM_SEED)"
   ]
  },
  {
   "cell_type": "code",
   "execution_count": 106,
   "metadata": {},
   "outputs": [
    {
     "data": {
      "text/plain": [
       "((10000, 148), (40000, 148), (40000, 138), (32000, 138), (8000, 138))"
      ]
     },
     "execution_count": 106,
     "metadata": {},
     "output_type": "execute_result"
    }
   ],
   "source": [
    "# проверяем\n",
    "test_data.shape, train_data.shape, X.shape, X_train.shape, X_test.shape"
   ]
  },
  {
   "cell_type": "markdown",
   "metadata": {},
   "source": [
    "# Model \n",
    "Сам ML"
   ]
  },
  {
   "cell_type": "code",
   "execution_count": 80,
   "metadata": {},
   "outputs": [],
   "source": [
    "# Импортируем необходимые библиотеки:\n",
    "from sklearn.ensemble import RandomForestRegressor # инструмент для создания и обучения модели\n",
    "from sklearn import metrics # инструменты для оценки точности модели"
   ]
  },
  {
   "cell_type": "code",
   "execution_count": 107,
   "metadata": {},
   "outputs": [],
   "source": [
    "# Создаём модель (НАСТРОЙКИ НЕ ТРОГАЕМ)\n",
    "model = RandomForestRegressor(n_estimators=100, verbose=1, n_jobs=-1, random_state=RANDOM_SEED)"
   ]
  },
  {
   "cell_type": "code",
   "execution_count": 108,
   "metadata": {},
   "outputs": [
    {
     "name": "stderr",
     "output_type": "stream",
     "text": [
      "[Parallel(n_jobs=-1)]: Using backend ThreadingBackend with 4 concurrent workers.\n",
      "[Parallel(n_jobs=-1)]: Done  42 tasks      | elapsed:   10.1s\n",
      "[Parallel(n_jobs=-1)]: Done 100 out of 100 | elapsed:   23.4s finished\n",
      "[Parallel(n_jobs=4)]: Using backend ThreadingBackend with 4 concurrent workers.\n",
      "[Parallel(n_jobs=4)]: Done  42 tasks      | elapsed:    0.0s\n",
      "[Parallel(n_jobs=4)]: Done 100 out of 100 | elapsed:    0.0s finished\n"
     ]
    }
   ],
   "source": [
    "# Обучаем модель на тестовом наборе данных\n",
    "model.fit(X_train, y_train)\n",
    "\n",
    "# Используем обученную модель для предсказания рейтинга ресторанов в тестовой выборке.\n",
    "# Предсказанные значения записываем в переменную y_pred\n",
    "y_pred = model.predict(X_test)"
   ]
  },
  {
   "cell_type": "code",
   "execution_count": 109,
   "metadata": {},
   "outputs": [
    {
     "name": "stdout",
     "output_type": "stream",
     "text": [
      "MAE: 0.202393125\n"
     ]
    }
   ],
   "source": [
    "# Сравниваем предсказанные значения (y_pred) с реальными (y_test), и смотрим насколько они в среднем отличаются\n",
    "# Метрика называется Mean Absolute Error (MAE) и показывает среднее отклонение предсказанных значений от фактических.\n",
    "print('MAE:', metrics.mean_absolute_error(y_test, y_pred))"
   ]
  },
  {
   "cell_type": "code",
   "execution_count": 102,
   "metadata": {},
   "outputs": [
    {
     "data": {
      "text/plain": [
       "<matplotlib.axes._subplots.AxesSubplot at 0x208a7d777c8>"
      ]
     },
     "execution_count": 102,
     "metadata": {},
     "output_type": "execute_result"
    },
    {
     "data": {
      "image/png": "[encoded data removed]",
      "text/plain": [
       "<Figure size 720x720 with 1 Axes>"
      ]
     },
     "metadata": {
      "needs_background": "light"
     },
     "output_type": "display_data"
    }
   ],
   "source": [
    "# в RandomForestRegressor есть возможность вывести самые важные признаки для модели\n",
    "plt.rcParams['figure.figsize'] = (10,10)\n",
    "feat_importances = pd.Series(model.feature_importances_, index=X.columns)\n",
    "feat_importances.nlargest(15).plot(kind='barh')"
   ]
  },
  {
   "cell_type": "code",
   "execution_count": 86,
   "metadata": {},
   "outputs": [
    {
     "name": "stdout",
     "output_type": "stream",
     "text": [
      "<class 'pandas.core.frame.DataFrame'>\n",
      "RangeIndex: 50000 entries, 0 to 49999\n",
      "Columns: 149 entries, Restaurant_id to Ranking_global\n",
      "dtypes: float64(134), int64(6), object(9)\n",
      "memory usage: 56.8+ MB\n"
     ]
    }
   ],
   "source": [
    "data.info()"
   ]
  },
  {
   "cell_type": "code",
   "execution_count": null,
   "metadata": {},
   "outputs": [],
   "source": []
  },
  {
   "cell_type": "code",
   "execution_count": 85,
   "metadata": {},
   "outputs": [
    {
     "ename": "NameError",
     "evalue": "name 'f' is not defined",
     "output_type": "error",
     "traceback": [
      "\u001b[1;31m---------------------------------------------------------------------------\u001b[0m",
      "\u001b[1;31mNameError\u001b[0m                                 Traceback (most recent call last)",
      "\u001b[1;32m<ipython-input-85-3989f3354989>\u001b[0m in \u001b[0;36m<module>\u001b[1;34m\u001b[0m\n\u001b[1;32m----> 1\u001b[1;33m \u001b[0mf\u001b[0m\u001b[1;33m=\u001b[0m\u001b[0mf\u001b[0m\u001b[1;33m\u001b[0m\u001b[1;33m\u001b[0m\u001b[0m\n\u001b[0m",
      "\u001b[1;31mNameError\u001b[0m: name 'f' is not defined"
     ]
    }
   ],
   "source": [
    "f=f"
   ]
  },
  {
   "cell_type": "markdown",
   "metadata": {},
   "source": [
    "# Submission\n",
    "Если все устраевает - готовим Submission на кагл"
   ]
  },
  {
   "cell_type": "code",
   "execution_count": null,
   "metadata": {},
   "outputs": [],
   "source": [
    "test_data.sample(10)"
   ]
  },
  {
   "cell_type": "code",
   "execution_count": null,
   "metadata": {},
   "outputs": [],
   "source": [
    "test_data = test_data.drop(['Rating'], axis=1)"
   ]
  },
  {
   "cell_type": "code",
   "execution_count": null,
   "metadata": {},
   "outputs": [],
   "source": [
    "sample_submission"
   ]
  },
  {
   "cell_type": "code",
   "execution_count": null,
   "metadata": {},
   "outputs": [],
   "source": [
    "predict_submission = model.predict(test_data)"
   ]
  },
  {
   "cell_type": "code",
   "execution_count": null,
   "metadata": {},
   "outputs": [],
   "source": [
    "predict_submission"
   ]
  },
  {
   "cell_type": "code",
   "execution_count": null,
   "metadata": {},
   "outputs": [],
   "source": [
    "sample_submission['Rating'] = predict_submission\n",
    "sample_submission.to_csv('submission.csv', index=False)\n",
    "sample_submission.head(10)"
   ]
  },
  {
   "cell_type": "markdown",
   "metadata": {},
   "source": [
    "# What's next?\n",
    "Или что делать, чтоб улучшить результат:\n",
    "* Обработать оставшиеся признаки в понятный для машины формат\n",
    "* Посмотреть, что еще можно извлечь из признаков\n",
    "* Сгенерировать новые признаки\n",
    "* Подгрузить дополнительные данные, например: по населению или благосостоянию городов\n",
    "* Подобрать состав признаков\n",
    "\n",
    "В общем, процесс творческий и весьма увлекательный! Удачи в соревновании!\n"
   ]
  },
  {
   "cell_type": "code",
   "execution_count": null,
   "metadata": {},
   "outputs": [],
   "source": []
  },
  {
   "cell_type": "markdown",
   "metadata": {},
   "source": [
    "# Data Preprocessing\n",
    "Теперь, для удобства и воспроизводимости кода, завернем всю обработку в одну большую функцию."
   ]
  },
  {
   "cell_type": "code",
   "execution_count": null,
   "metadata": {},
   "outputs": [],
   "source": [
    "# на всякий случай, заново подгружаем данные\n",
    "df_train = pd.read_csv(DATA_DIR+'/main_task.csv')\n",
    "df_test = pd.read_csv(DATA_DIR+'/kaggle_task.csv')\n",
    "df_train['sample'] = 1 # помечаем где у нас трейн\n",
    "df_test['sample'] = 0 # помечаем где у нас тест\n",
    "df_test['Rating'] = 0 # в тесте у нас нет значения Rating, мы его должны предсказать, по этому пока просто заполняем нулями\n",
    "\n",
    "data = df_test.append(df_train, sort=False).reset_index(drop=True) # объединяем\n",
    "data.info()"
   ]
  },
  {
   "cell_type": "code",
   "execution_count": null,
   "metadata": {},
   "outputs": [],
   "source": [
    "def preproc_data(df_input):\n",
    "    '''includes several functions to pre-process the predictor data.'''\n",
    "    \n",
    "    df_output = df_input.copy()\n",
    "    \n",
    "    # ################### 1. Предобработка ############################################################## \n",
    "    # убираем не нужные для модели признаки\n",
    "    df_output.drop(['Restaurant_id','ID_TA',], axis = 1, inplace=True)\n",
    "    \n",
    "    \n",
    "    # ################### 2. NAN ############################################################## \n",
    "    # Далее заполняем пропуски, вы можете попробовать заполнением средним или средним по городу и тд...\n",
    "    df_output['Number of Reviews'].fillna(0, inplace=True)\n",
    "    # тут ваш код по обработке NAN\n",
    "    # ....\n",
    "    \n",
    "    \n",
    "    # ################### 3. Encoding ############################################################## \n",
    "    # для One-Hot Encoding в pandas есть готовая функция - get_dummies. Особенно радует параметр dummy_na\n",
    "    #df_output = pd.get_dummies(df_output, columns=[ 'City',], dummy_na=True)\n",
    "    \n",
    "    # ################### 4. Feature Engineering ####################################################\n",
    "    # тут ваш код не генерацию новых фитчей\n",
    "    #Готовим столбец Price Range для создания dummies\n",
    "    def price_range_rating (price_range_string):\n",
    "        if \"$$$$\" in str(price_range_string):\n",
    "            return(int(3))\n",
    "        elif \"$$ - $$$\" in str(price_range_string):\n",
    "            return(int(2))\n",
    "        elif \"$\" in str(price_range_string):\n",
    "            return(int(1))\n",
    "        elif str(0) in str(price_range_string):\n",
    "            return(int(0))\n",
    "    df_output['Price Range'] = df_output['Price Range'].apply(price_range_rating)\n",
    "    #Делаем dummies на основе изменного Price Range\n",
    "    df_output = pd.get_dummies(df_output, columns=['Price Range', ], dummy_na=True)\n",
    "    \n",
    "    # Добавляем новый признак \"Столица - Не столица\"\n",
    "    capitals = {'City': [\n",
    "    'London', 'Paris', 'Madrid', 'Barcelona', 'Berlin', 'Milan', 'Rome', 'Prague',\n",
    "    'Lisbon', 'Vienna', 'Amsterdam', 'Brussels', 'Hamburg', 'Munich', 'Lyon', 'Stockholm',\n",
    "    'Budapest', 'Warsaw', 'Dublin', 'Copenhagen', 'Athens', 'Edinburgh', 'Zurich', 'Oporto',\n",
    "    'Geneva', 'Krakow', 'Oslo', 'Helsinki', 'Bratislava', 'Luxembourg', 'Ljubljana'],\n",
    "    'Country': [\n",
    "    'United Kingdom', 'France', 'Spain', 'Spain', 'Germainy', 'Italy', 'Italy', 'Czech Republic',\n",
    "    'Portugal', 'Austria', 'Netherlands', 'Belgium', 'Germainy', 'Germainy', 'France', 'Sweden',\n",
    "    'Hungary', 'Poland', 'Ireland', 'Denmark', 'Greece', 'Scotland', 'Switzerland', 'Portugal',\n",
    "    'Switzerland', 'Poland', 'Norway', 'Finland', 'Slovakia', 'Luxembourg', 'Slovenia'],\n",
    "    'Is capital': [1, 1, 1, 0, 1, 0, 1, 1, 1, 1, 1, 1, 0, 0, 0, 1, 1, 1, 1, 1, 1, 1, 0, 0, 0, 0, 1, 1, 1, 1, 1]\n",
    "    }\n",
    "    capitals_list = []\n",
    "    for i,j in zip(capitals['City'], capitals['Is capital']):\n",
    "        if j == 1:\n",
    "            capitals_list.append(i)\n",
    "    def capital_sign(city_string):\n",
    "        if city_string in capitals_list:\n",
    "            return(1)\n",
    "        else:\n",
    "            return(0)\n",
    "    df_output['Is_capital'] = df_output['City'].apply(capital_sign)\n",
    "    #Делаем даммиз на основании нового признака\n",
    "    df_output = pd.get_dummies(df_output, columns=['Is_capital', ], dummy_na=True)\n",
    "    \n",
    "\n",
    "    # для One-Hot Encoding в pandas есть готовая функция - get_dummies. Особенно радует параметр dummy_na\n",
    "    df_output = pd.get_dummies(df_output, columns=[ 'City',], dummy_na=True)\n",
    "    \n",
    "    #Создаем новый признак из разницы между датами отзывов\n",
    "\n",
    "    # Вычленяем из строки даты и записываем в отдельный столбец\n",
    "    df_output['Number of Reviews'].fillna(0, inplace=True)\n",
    "    #Заполняем наны в столбце Reviews\n",
    "    df_output['Reviews'].fillna('[[], []]', inplace=True)\n",
    "    def data_extract(reviews_str):\n",
    "        pattern = re.compile('\\d\\d\\W\\d\\d\\W\\d\\d\\d\\d')\n",
    "        tmp_data = pattern.findall(reviews_str)\n",
    "        return(tmp_data)\n",
    "    df_output['Data_Reviews'] = df_output['Reviews'].apply(data_extract)\n",
    "    #Резделим даты отзывов на два столбца. Пригодится и для следующего задания\n",
    "    def data_reviews_separate_1(data_reviews_string):\n",
    "        tmp = 0\n",
    "        if len(data_reviews_string) == 0:\n",
    "            tmp = 0\n",
    "        else:\n",
    "            tmp = data_reviews_string[0]\n",
    "        return(tmp)\n",
    "\n",
    "    def data_reviews_separate_2(data_reviews_string):\n",
    "        tmp = 0\n",
    "        if len(data_reviews_string) == 0:\n",
    "            tmp = 0\n",
    "        elif len(data_reviews_string) == 1:\n",
    "            tmp = 0\n",
    "        elif len(data_reviews_string) == 2:\n",
    "            tmp = data_reviews_string[1]\n",
    "        return(tmp)\n",
    "\n",
    "    df_output['Data_Reviews_1'] = df_output['Data_Reviews'].apply(data_reviews_separate_1)\n",
    "    df_output['Data_Reviews_2'] = df_output['Data_Reviews'].apply(data_reviews_separate_2)\n",
    "\n",
    "    #Преобразовываем столбцы Data_Reviews_ в формат datetime\n",
    "    df_output['Data_Reviews_1'] = df_output['Data_Reviews_1'].apply(lambda x: pd.to_datetime(x) if x != 0 else False)\n",
    "    df_output['Data_Reviews_2'] = df_output['Data_Reviews_2'].apply(lambda x: pd.to_datetime(x) if x != 0 else False) \n",
    "\n",
    "    # Вычисляем разницу в днях между отзывами, чистим значения от None и преобразовываем в int\n",
    "    def data_delta(Data_Reviews_item):\n",
    "        if (len(Data_Reviews_item) == 0) or (len(Data_Reviews_item) == 1):\n",
    "            tmp = 0\n",
    "        else:\n",
    "            tmp = pd.to_datetime(\n",
    "                Data_Reviews_item[0]) - pd.to_datetime(Data_Reviews_item[1])\n",
    "\n",
    "        if tmp != 0:\n",
    "            return(str(tmp))\n",
    "\n",
    "\n",
    "    def data_delta_to_int(data_delta_item):\n",
    "        tmp = str(data_delta_item)\n",
    "        if '-' in tmp:\n",
    "            tmp1 = tmp[1:-15]\n",
    "        elif 'None' in tmp:\n",
    "            tmp1 = '0'\n",
    "        else:\n",
    "            tmp1 = tmp[:-14]\n",
    "        return(int(tmp1))\n",
    "\n",
    "\n",
    "    df_output['Data_Delta'] = df_output['Data_Reviews'].apply(data_delta)\n",
    "    df_output['Data_Delta'] = df_output['Data_Delta'].apply(data_delta_to_int)\n",
    "\n",
    "\n",
    "    #Убираем пропуски из столбцов Data_Reviews_х\n",
    "    def error_date_to_zero(data_string):\n",
    "        if data_string == False:\n",
    "            return(int(0))\n",
    "        else:\n",
    "            return(data_string)\n",
    "    df_output['Data_Reviews_1'] = df_output['Data_Reviews_1'].apply(error_date_to_zero)\n",
    "    df_output['Data_Reviews_2'] = df_output['Data_Reviews_2'].apply(error_date_to_zero)\n",
    "    \n",
    "    #Создаем даммиз из столбца с набором кухонь в ресторане\n",
    "\n",
    "    #Собираем множество из значений столбца data['Cuisine']\n",
    "    pd.options.mode.chained_assignment = None  # default='warn'\n",
    "    cuisine_set = set()\n",
    "    def clearing_string(cuisine_str):\n",
    "        tmp = str(cuisine_str).replace('\\'',\"\")\n",
    "        tmp = tmp.replace(' ',\"\")\n",
    "        tmp = tmp[1:-1]\n",
    "        tmp_lst = tmp.split(',')\n",
    "        for i in range(0,len(tmp_lst)):\n",
    "            cuisine_set.add(tmp_lst[i])\n",
    "        return(cuisine_set)\n",
    "    df_output['Cuisine Style'].apply(clearing_string)\n",
    "    cuisine_set.remove('a')\n",
    "\n",
    "    #Создаем даммиз из столбца с набором кухонь в ресторане\n",
    "\n",
    "    #Собираем множество из значений столбца data['Cuisine']\n",
    "    pd.options.mode.chained_assignment = None  # default='warn'\n",
    "    cuisine_set = set()\n",
    "    def clearing_string(cuisine_str):\n",
    "        tmp = str(cuisine_str).replace('\\'',\"\")\n",
    "        tmp = tmp.replace(' ',\"\")\n",
    "        tmp = tmp[1:-1]\n",
    "        tmp_lst = tmp.split(',')\n",
    "        for i in range(0,len(tmp_lst)):\n",
    "            cuisine_set.add(tmp_lst[i])\n",
    "        return(cuisine_set)\n",
    "    df_output['Cuisine Style'].apply(clearing_string)\n",
    "    cuisine_set.remove('a')\n",
    "\n",
    "\n",
    "    #Для начала преобразуем элементы столбца Cuisine из строк в списки\n",
    "    def cuisine_convert_to_list (cuisine_str):\n",
    "        tmp = str(cuisine_str).replace('\\'',\"\")\n",
    "        tmp = tmp.replace(' ',\"\")\n",
    "        tmp = tmp[1:-1]\n",
    "        tmp_lst = tmp.split(',')\n",
    "        return(tmp_lst)\n",
    "    #Преобразовываем элементы слобца 'Cuisine' из строк в списки\n",
    "    df_output['Cuisine Style'] = df_output['Cuisine Style'].apply(cuisine_convert_to_list)\n",
    "\n",
    "    #Создадим словарь из ключей - названий кухнь с нулевыми начениями\n",
    "    cuisine_list = list(cuisine_set)\n",
    "    cuisine_df = pd.DataFrame(cuisine_list)\n",
    "    cuisine_df = cuisine_df[0].sort_values()\n",
    "    cuisine_df = cuisine_df.reset_index(drop = True)\n",
    "    #Добавляем новые столбцы по именам кухонь для будущих признаков\n",
    "    for i in range (0, len(cuisine_list)):\n",
    "        df_output[cuisine_df[i]] = int(0)\n",
    "\n",
    "    #Проверяем есть ли имя столбца, одноименного с именем кухни, в строке \"Cuisine\". Если да, в соотв. ячеку столбца с именем кухни ставим 1\n",
    "    for i in range (0, len(cuisine_df)):\n",
    "        for j in range (0,len(df_output)):\n",
    "            if cuisine_df[i] in df_output['Cuisine Style'][j]:\n",
    "                df_output[cuisine_df[i]][j] = int(1)\n",
    "\n",
    "# ################### 5. Clean #################################################### \n",
    "# убираем признаки которые еще не успели обработать, \n",
    "# модель на признаках с dtypes \"object\" обучаться не будет, просто выберим их и удалим\n",
    "    object_columns = [s for s in df_output.columns if df_output[s].dtypes == 'object']\n",
    "    df_output.drop(object_columns, axis = 1, inplace=True)\n",
    "    return df_output"
   ]
  }
 ],
 "metadata": {
  "kernelspec": {
   "display_name": "Python 3",
   "language": "python",
   "name": "python3"
  },
  "language_info": {
   "codemirror_mode": {
    "name": "ipython",
    "version": 3
   },
   "file_extension": ".py",
   "mimetype": "text/x-python",
   "name": "python",
   "nbconvert_exporter": "python",
   "pygments_lexer": "ipython3",
   "version": "3.7.4"
  }
 },
 "nbformat": 4,
 "nbformat_minor": 4
}
