{
 "cells": [
  {
   "cell_type": "code",
   "execution_count": 1,
   "metadata": {},
   "outputs": [],
   "source": [
    "import pandas as pd\n",
    "from scipy.stats import norm"
   ]
  },
  {
   "cell_type": "code",
   "execution_count": 2,
   "metadata": {},
   "outputs": [],
   "source": [
    "X = [38, 39, 40, 41, 42, 43]\n",
    "PX = [0.1, 0.1, 0.3, 0.2, 0.2, 0.1]"
   ]
  },
  {
   "cell_type": "code",
   "execution_count": 3,
   "metadata": {},
   "outputs": [
    {
     "data": {
      "text/plain": [
       "38"
      ]
     },
     "execution_count": 3,
     "metadata": {},
     "output_type": "execute_result"
    }
   ],
   "source": [
    "X[0]"
   ]
  },
  {
   "cell_type": "code",
   "execution_count": 4,
   "metadata": {},
   "outputs": [
    {
     "name": "stdout",
     "output_type": "stream",
     "text": [
      "426.0\n"
     ]
    }
   ],
   "source": [
    "M = 0\n",
    "\n",
    "for i in range(len(X)):\n",
    "    M += ((((X[i]*10)+20) * PX[i]))\n",
    "    \n",
    "print(M)"
   ]
  },
  {
   "cell_type": "code",
   "execution_count": 5,
   "metadata": {},
   "outputs": [
    {
     "name": "stdout",
     "output_type": "stream",
     "text": [
      "204.00000000000003\n"
     ]
    }
   ],
   "source": [
    "var = 0\n",
    "\n",
    "for i in range(len(X)):\n",
    "    var += (((X[i]*10) + 20 - M)**2) * PX[i]\n",
    "\n",
    "print(var)"
   ]
  },
  {
   "cell_type": "code",
   "execution_count": 6,
   "metadata": {},
   "outputs": [
    {
     "name": "stdout",
     "output_type": "stream",
     "text": [
      "14.2828568570857\n"
     ]
    }
   ],
   "source": [
    "D = var**(1/2)\n",
    "print(D)"
   ]
  },
  {
   "cell_type": "code",
   "execution_count": 7,
   "metadata": {},
   "outputs": [],
   "source": [
    "X = [1, 2, 3, 4]\n",
    "PX = [0.2, 0.1, 0.4, 0.3]"
   ]
  },
  {
   "cell_type": "code",
   "execution_count": 8,
   "metadata": {},
   "outputs": [],
   "source": [
    "Y = [-1, 0, 1, 2]\n",
    "PY = [0.5, 0.2, 0.1, 0.2]"
   ]
  },
  {
   "cell_type": "code",
   "execution_count": 9,
   "metadata": {},
   "outputs": [],
   "source": [
    "def ex (x, px):\n",
    "    ''''Считаем вероятность'''\n",
    "    EX = 0\n",
    "    for i in range(len(x)):\n",
    "        EX += (x[i] * px[i])\n",
    "        \n",
    "    return EX"
   ]
  },
  {
   "cell_type": "code",
   "execution_count": 10,
   "metadata": {},
   "outputs": [],
   "source": [
    "def var (x, px):\n",
    "    ''''Находим дисперсию'''\n",
    "    \n",
    "    EX = 0\n",
    "    for i in range(len(x)):\n",
    "        EX += (x[i] * px[i])\n",
    "        \n",
    "    VAR = 0\n",
    "    \n",
    "    for i in range(len(x)):\n",
    "        VAR += ((x[i] - EX) ** 2) * px[i]\n",
    "        \n",
    "    return print('VAR = {}, E = {}'.format(VAR, EX))"
   ]
  },
  {
   "cell_type": "code",
   "execution_count": 11,
   "metadata": {},
   "outputs": [
    {
     "name": "stdout",
     "output_type": "stream",
     "text": [
      "VAR = 1.4, E = 0.0\n"
     ]
    }
   ],
   "source": [
    "var(Y, PY)"
   ]
  },
  {
   "cell_type": "code",
   "execution_count": 12,
   "metadata": {},
   "outputs": [],
   "source": [
    "U = []\n",
    "PU = PX\n",
    "\n",
    "for i in range(len(PU)):\n",
    "    u = (3 * X[i]) + 1\n",
    "    U.append(u)"
   ]
  },
  {
   "cell_type": "code",
   "execution_count": 13,
   "metadata": {},
   "outputs": [
    {
     "name": "stdout",
     "output_type": "stream",
     "text": [
      "VAR = 10.440000000000001, E = 9.4\n"
     ]
    }
   ],
   "source": [
    "var(U, PU)"
   ]
  },
  {
   "cell_type": "code",
   "execution_count": 14,
   "metadata": {},
   "outputs": [],
   "source": [
    "S = []\n",
    "PS = PY\n",
    "\n",
    "for i in range(len(PS)):\n",
    "    s = 5 - Y[i]\n",
    "    S.append(s)"
   ]
  },
  {
   "cell_type": "code",
   "execution_count": 15,
   "metadata": {},
   "outputs": [
    {
     "name": "stdout",
     "output_type": "stream",
     "text": [
      "VAR = 1.4, E = 5.0\n"
     ]
    }
   ],
   "source": [
    "var(S, PS)"
   ]
  },
  {
   "cell_type": "code",
   "execution_count": 33,
   "metadata": {},
   "outputs": [
    {
     "data": {
      "text/plain": [
       "0.9772498680518208"
      ]
     },
     "execution_count": 33,
     "metadata": {},
     "output_type": "execute_result"
    }
   ],
   "source": [
    "norm.cdf(2) # P(Z) < 2"
   ]
  },
  {
   "cell_type": "markdown",
   "metadata": {},
   "source": [
    "# Как найти вероятность X через Z?"
   ]
  },
  {
   "cell_type": "code",
   "execution_count": 34,
   "metadata": {},
   "outputs": [
    {
     "data": {
      "text/plain": [
       "0.02275013194817921"
      ]
     },
     "execution_count": 34,
     "metadata": {},
     "output_type": "execute_result"
    }
   ],
   "source": [
    "1-norm.cdf(2) # P(Z) > 2"
   ]
  },
  {
   "cell_type": "code",
   "execution_count": 68,
   "metadata": {},
   "outputs": [
    {
     "data": {
      "text/plain": [
       "1.2815515655446004"
      ]
     },
     "execution_count": 68,
     "metadata": {},
     "output_type": "execute_result"
    }
   ],
   "source": [
    "norm.ppf(0.9) # P(Z < z) = P(Z < 0.9)"
   ]
  },
  {
   "cell_type": "code",
   "execution_count": 69,
   "metadata": {},
   "outputs": [
    {
     "data": {
      "text/plain": [
       "-1.2815515655446004"
      ]
     },
     "execution_count": 69,
     "metadata": {},
     "output_type": "execute_result"
    }
   ],
   "source": [
    "norm.ppf(1-0.9) # P(Z > z) = P(Z > 0.9)"
   ]
  },
  {
   "cell_type": "markdown",
   "metadata": {},
   "source": [
    "# Как находить вероятности и значения для любой нормальной величины?"
   ]
  },
  {
   "cell_type": "markdown",
   "metadata": {},
   "source": [
    "### norm.cdf(x, loc = 0, scale = 1)  \n",
    "Возвращает нормальную функцию распределения для указанного среднего и стандартного отклонения.\n",
    "- x — значение, для которого строится распределение\n",
    "- loc — среднее арифметическое распределения\n",
    "- scale — стандартное отклонение распределения"
   ]
  },
  {
   "cell_type": "markdown",
   "metadata": {},
   "source": [
    "### norm.ppf(q, loc = 0, scale = 1)\n",
    "Возвращает обратное нормальное распределение для указанного среднего и стандартного отклонения.\n",
    "- q — вероятность, соответствующая нормальному распределению\n",
    "- loc — среднее арифметическое распределения\n",
    "- scale — стандартное отклонение распределения"
   ]
  },
  {
   "cell_type": "markdown",
   "metadata": {},
   "source": [
    "Например, если **X ~ N(4,2)**, можно найти **P(X <= 5)** через функцию **norm.cdf(5, 4, 2)** в Python."
   ]
  },
  {
   "cell_type": "code",
   "execution_count": 41,
   "metadata": {},
   "outputs": [
    {
     "data": {
      "text/plain": [
       "0.6914624612740131"
      ]
     },
     "execution_count": 41,
     "metadata": {},
     "output_type": "execute_result"
    }
   ],
   "source": [
    "norm.cdf(5, 4, 2)"
   ]
  },
  {
   "cell_type": "markdown",
   "metadata": {},
   "source": [
    "Вероятность значений в определенном интервале можно найти как разность вероятностей: **P(a≤X≤b)=P(X≤b)-P(X≤a)**, каждую из которых можно вычислить, используя **norm.cdf()**."
   ]
  },
  {
   "cell_type": "code",
   "execution_count": 43,
   "metadata": {},
   "outputs": [
    {
     "data": {
      "text/plain": [
       "0.38292492254802624"
      ]
     },
     "execution_count": 43,
     "metadata": {},
     "output_type": "execute_result"
    }
   ],
   "source": [
    "norm.cdf(5, 4, 2) - norm.cdf(3, 4, 2) #P(3 ≤ X ≤ 5)"
   ]
  },
  {
   "cell_type": "markdown",
   "metadata": {},
   "source": [
    "Также: P(X >= c) = 1 - P(X <= c)"
   ]
  },
  {
   "cell_type": "code",
   "execution_count": 44,
   "metadata": {},
   "outputs": [
    {
     "data": {
      "text/plain": [
       "0.3085375387259869"
      ]
     },
     "execution_count": 44,
     "metadata": {},
     "output_type": "execute_result"
    }
   ],
   "source": [
    "1-norm.cdf(5, 4, 2) #P(X >= 5)"
   ]
  },
  {
   "cell_type": "markdown",
   "metadata": {},
   "source": [
    "Если же вы хотите найти значение **C**, зная вероятность **P(X <= C)**, используйте функцию **norm.ppf()**.  \n",
    "Так, если **X~N(4, 2)**, и **P(X <= C) = 0.75**, то можно найти **C** через функцию **norm.ppf(0.75, 4, 2)**."
   ]
  },
  {
   "cell_type": "code",
   "execution_count": 45,
   "metadata": {},
   "outputs": [
    {
     "data": {
      "text/plain": [
       "5.348979500392163"
      ]
     },
     "execution_count": 45,
     "metadata": {},
     "output_type": "execute_result"
    }
   ],
   "source": [
    "norm.ppf(0.75, 4, 2)"
   ]
  },
  {
   "cell_type": "code",
   "execution_count": 67,
   "metadata": {},
   "outputs": [
    {
     "data": {
      "text/plain": [
       "1.64"
      ]
     },
     "execution_count": 67,
     "metadata": {},
     "output_type": "execute_result"
    }
   ],
   "source": [
    "round(norm.ppf(1-0.05), 2)"
   ]
  },
  {
   "cell_type": "code",
   "execution_count": 71,
   "metadata": {},
   "outputs": [],
   "source": [
    "#----"
   ]
  },
  {
   "cell_type": "code",
   "execution_count": 75,
   "metadata": {},
   "outputs": [
    {
     "data": {
      "text/plain": [
       "0.422"
      ]
     },
     "execution_count": 75,
     "metadata": {},
     "output_type": "execute_result"
    }
   ],
   "source": [
    "round(norm.cdf(75, 70, 5)**5, 3)"
   ]
  }
 ],
 "metadata": {
  "kernelspec": {
   "display_name": "Python 3",
   "language": "python",
   "name": "python3"
  },
  "language_info": {
   "codemirror_mode": {
    "name": "ipython",
    "version": 3
   },
   "file_extension": ".py",
   "mimetype": "text/x-python",
   "name": "python",
   "nbconvert_exporter": "python",
   "pygments_lexer": "ipython3",
   "version": "3.7.4"
  }
 },
 "nbformat": 4,
 "nbformat_minor": 2
}
