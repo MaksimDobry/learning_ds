{
 "cells": [
  {
   "cell_type": "markdown",
   "metadata": {
    "id": "ixiLbzIeVExY"
   },
   "source": [
    "Параметры\n",
    "**client_id** - идентификатор клиента  \n",
    "**app_date** - дата подачи заявки  \n",
    "**education** - уровень образования  \n",
    "**sex** - пол заёмщика  \n",
    "**age** - возраст заёмщика  \n",
    "**car** - флаг наличия автомобиля  \n",
    "**car_type** - флаг автомобиля-иномарки  \n",
    "**decline_app_cnt** - количество отказанных прошлых заявок  \n",
    "**good_work** - флаг наличия «хорошей» работы  \n",
    "**score_bki** - оценка по версии БКИ  \n",
    "**bki_request_cnt** - количество запросов в БКИ  \n",
    "**region_rating** - рейтинг региона  \n",
    "**home_address** - категоризатор домашнего адреса  \n",
    "**work_address** - категоризатор рабочего адреса  \n",
    "**income** - доход заёмщика  \n",
    "**sna** - связь заемщика с клиентами банка  \n",
    "**first_time** - давность наличия информации о заемщике  \n",
    "**foreign_passport** - наличие загранпаспорта  \n",
    "**default** - наличие дефолта  "
   ]
  },
  {
   "cell_type": "markdown",
   "metadata": {
    "id": "So4dLEkBVExM"
   },
   "source": [
    "# Загрузка данных"
   ]
  },
  {
   "cell_type": "code",
   "execution_count": 1,
   "metadata": {
    "id": "RDQ-fpbEVExT"
   },
   "outputs": [],
   "source": [
    "# Импортируем все необходимые библиотеки\n",
    "\n",
    "from pandas import Series\n",
    "import pandas as pd\n",
    "import numpy as np\n",
    "\n",
    "\n",
    "import matplotlib.pyplot as plt\n",
    "import seaborn as sns\n",
    "\n",
    "from sklearn.feature_selection import f_classif, mutual_info_classif\n",
    "from sklearn.preprocessing import LabelEncoder, OneHotEncoder, StandardScaler\n",
    "\n",
    "from sklearn.model_selection import train_test_split\n",
    "from sklearn.linear_model import LogisticRegression\n",
    "\n",
    "\n",
    "from sklearn.metrics import confusion_matrix\n",
    "from sklearn.metrics import auc, roc_auc_score, roc_curve\n",
    "\n",
    "from sklearn.model_selection import GridSearchCV, RandomizedSearchCV"
   ]
  },
  {
   "cell_type": "code",
   "execution_count": 2,
   "metadata": {
    "id": "NHauagEgenHg"
   },
   "outputs": [],
   "source": [
    "# Фиксируем сразу RANDOM_SEED\n",
    "\n",
    "RANDOM_SEED = 42"
   ]
  },
  {
   "cell_type": "code",
   "execution_count": 3,
   "metadata": {
    "id": "5MO1gjOKVExU"
   },
   "outputs": [],
   "source": [
    "# Импортируем датасеты и посмотрим на них глазами\n",
    "\n",
    "train = pd.read_csv('train.csv')\n",
    "test = pd.read_csv('test.csv')\n",
    "sample_submission = pd.read_csv('sample_submission.csv')"
   ]
  },
  {
   "cell_type": "code",
   "execution_count": 4,
   "metadata": {
    "colab": {
     "base_uri": "https://localhost:8080/",
     "height": 224
    },
    "id": "0FMBjeaiVExU",
    "outputId": "bd73158e-7b76-4817-d590-1eb751c44b0c"
   },
   "outputs": [
    {
     "data": {
      "text/html": [
       "<div>\n",
       "<style scoped>\n",
       "    .dataframe tbody tr th:only-of-type {\n",
       "        vertical-align: middle;\n",
       "    }\n",
       "\n",
       "    .dataframe tbody tr th {\n",
       "        vertical-align: top;\n",
       "    }\n",
       "\n",
       "    .dataframe thead th {\n",
       "        text-align: right;\n",
       "    }\n",
       "</style>\n",
       "<table border=\"1\" class=\"dataframe\">\n",
       "  <thead>\n",
       "    <tr style=\"text-align: right;\">\n",
       "      <th></th>\n",
       "      <th>client_id</th>\n",
       "      <th>app_date</th>\n",
       "      <th>education</th>\n",
       "      <th>sex</th>\n",
       "      <th>age</th>\n",
       "      <th>car</th>\n",
       "      <th>car_type</th>\n",
       "      <th>decline_app_cnt</th>\n",
       "      <th>good_work</th>\n",
       "      <th>score_bki</th>\n",
       "      <th>bki_request_cnt</th>\n",
       "      <th>region_rating</th>\n",
       "      <th>home_address</th>\n",
       "      <th>work_address</th>\n",
       "      <th>income</th>\n",
       "      <th>sna</th>\n",
       "      <th>first_time</th>\n",
       "      <th>foreign_passport</th>\n",
       "      <th>default</th>\n",
       "    </tr>\n",
       "  </thead>\n",
       "  <tbody>\n",
       "    <tr>\n",
       "      <th>0</th>\n",
       "      <td>25905</td>\n",
       "      <td>01FEB2014</td>\n",
       "      <td>SCH</td>\n",
       "      <td>M</td>\n",
       "      <td>62</td>\n",
       "      <td>Y</td>\n",
       "      <td>Y</td>\n",
       "      <td>0</td>\n",
       "      <td>0</td>\n",
       "      <td>-2.008753</td>\n",
       "      <td>1</td>\n",
       "      <td>50</td>\n",
       "      <td>1</td>\n",
       "      <td>2</td>\n",
       "      <td>18000</td>\n",
       "      <td>4</td>\n",
       "      <td>1</td>\n",
       "      <td>N</td>\n",
       "      <td>0</td>\n",
       "    </tr>\n",
       "    <tr>\n",
       "      <th>1</th>\n",
       "      <td>63161</td>\n",
       "      <td>12MAR2014</td>\n",
       "      <td>SCH</td>\n",
       "      <td>F</td>\n",
       "      <td>59</td>\n",
       "      <td>N</td>\n",
       "      <td>N</td>\n",
       "      <td>0</td>\n",
       "      <td>0</td>\n",
       "      <td>-1.532276</td>\n",
       "      <td>3</td>\n",
       "      <td>50</td>\n",
       "      <td>2</td>\n",
       "      <td>3</td>\n",
       "      <td>19000</td>\n",
       "      <td>4</td>\n",
       "      <td>1</td>\n",
       "      <td>N</td>\n",
       "      <td>0</td>\n",
       "    </tr>\n",
       "    <tr>\n",
       "      <th>2</th>\n",
       "      <td>25887</td>\n",
       "      <td>01FEB2014</td>\n",
       "      <td>SCH</td>\n",
       "      <td>M</td>\n",
       "      <td>25</td>\n",
       "      <td>Y</td>\n",
       "      <td>N</td>\n",
       "      <td>2</td>\n",
       "      <td>0</td>\n",
       "      <td>-1.408142</td>\n",
       "      <td>1</td>\n",
       "      <td>80</td>\n",
       "      <td>1</td>\n",
       "      <td>2</td>\n",
       "      <td>30000</td>\n",
       "      <td>1</td>\n",
       "      <td>4</td>\n",
       "      <td>Y</td>\n",
       "      <td>0</td>\n",
       "    </tr>\n",
       "    <tr>\n",
       "      <th>3</th>\n",
       "      <td>16222</td>\n",
       "      <td>23JAN2014</td>\n",
       "      <td>SCH</td>\n",
       "      <td>F</td>\n",
       "      <td>53</td>\n",
       "      <td>N</td>\n",
       "      <td>N</td>\n",
       "      <td>0</td>\n",
       "      <td>0</td>\n",
       "      <td>-2.057471</td>\n",
       "      <td>2</td>\n",
       "      <td>50</td>\n",
       "      <td>2</td>\n",
       "      <td>3</td>\n",
       "      <td>10000</td>\n",
       "      <td>1</td>\n",
       "      <td>3</td>\n",
       "      <td>N</td>\n",
       "      <td>0</td>\n",
       "    </tr>\n",
       "    <tr>\n",
       "      <th>4</th>\n",
       "      <td>101655</td>\n",
       "      <td>18APR2014</td>\n",
       "      <td>GRD</td>\n",
       "      <td>M</td>\n",
       "      <td>48</td>\n",
       "      <td>N</td>\n",
       "      <td>N</td>\n",
       "      <td>0</td>\n",
       "      <td>1</td>\n",
       "      <td>-1.244723</td>\n",
       "      <td>1</td>\n",
       "      <td>60</td>\n",
       "      <td>2</td>\n",
       "      <td>3</td>\n",
       "      <td>30000</td>\n",
       "      <td>1</td>\n",
       "      <td>4</td>\n",
       "      <td>Y</td>\n",
       "      <td>0</td>\n",
       "    </tr>\n",
       "  </tbody>\n",
       "</table>\n",
       "</div>"
      ],
      "text/plain": [
       "   client_id   app_date education sex  age car car_type  decline_app_cnt  \\\n",
       "0      25905  01FEB2014       SCH   M   62   Y        Y                0   \n",
       "1      63161  12MAR2014       SCH   F   59   N        N                0   \n",
       "2      25887  01FEB2014       SCH   M   25   Y        N                2   \n",
       "3      16222  23JAN2014       SCH   F   53   N        N                0   \n",
       "4     101655  18APR2014       GRD   M   48   N        N                0   \n",
       "\n",
       "   good_work  score_bki  bki_request_cnt  region_rating  home_address  \\\n",
       "0          0  -2.008753                1             50             1   \n",
       "1          0  -1.532276                3             50             2   \n",
       "2          0  -1.408142                1             80             1   \n",
       "3          0  -2.057471                2             50             2   \n",
       "4          1  -1.244723                1             60             2   \n",
       "\n",
       "   work_address  income  sna  first_time foreign_passport  default  \n",
       "0             2   18000    4           1                N        0  \n",
       "1             3   19000    4           1                N        0  \n",
       "2             2   30000    1           4                Y        0  \n",
       "3             3   10000    1           3                N        0  \n",
       "4             3   30000    1           4                Y        0  "
      ]
     },
     "execution_count": 4,
     "metadata": {},
     "output_type": "execute_result"
    }
   ],
   "source": [
    "train.head()"
   ]
  },
  {
   "cell_type": "code",
   "execution_count": 5,
   "metadata": {
    "colab": {
     "base_uri": "https://localhost:8080/",
     "height": 224
    },
    "id": "2_-4NIepVExV",
    "outputId": "0d2db822-70f1-40f6-e3ae-6cd2b10b5012"
   },
   "outputs": [
    {
     "data": {
      "text/html": [
       "<div>\n",
       "<style scoped>\n",
       "    .dataframe tbody tr th:only-of-type {\n",
       "        vertical-align: middle;\n",
       "    }\n",
       "\n",
       "    .dataframe tbody tr th {\n",
       "        vertical-align: top;\n",
       "    }\n",
       "\n",
       "    .dataframe thead th {\n",
       "        text-align: right;\n",
       "    }\n",
       "</style>\n",
       "<table border=\"1\" class=\"dataframe\">\n",
       "  <thead>\n",
       "    <tr style=\"text-align: right;\">\n",
       "      <th></th>\n",
       "      <th>client_id</th>\n",
       "      <th>app_date</th>\n",
       "      <th>education</th>\n",
       "      <th>sex</th>\n",
       "      <th>age</th>\n",
       "      <th>car</th>\n",
       "      <th>car_type</th>\n",
       "      <th>decline_app_cnt</th>\n",
       "      <th>good_work</th>\n",
       "      <th>score_bki</th>\n",
       "      <th>bki_request_cnt</th>\n",
       "      <th>region_rating</th>\n",
       "      <th>home_address</th>\n",
       "      <th>work_address</th>\n",
       "      <th>income</th>\n",
       "      <th>sna</th>\n",
       "      <th>first_time</th>\n",
       "      <th>foreign_passport</th>\n",
       "    </tr>\n",
       "  </thead>\n",
       "  <tbody>\n",
       "    <tr>\n",
       "      <th>0</th>\n",
       "      <td>74835</td>\n",
       "      <td>22MAR2014</td>\n",
       "      <td>GRD</td>\n",
       "      <td>M</td>\n",
       "      <td>29</td>\n",
       "      <td>Y</td>\n",
       "      <td>Y</td>\n",
       "      <td>0</td>\n",
       "      <td>0</td>\n",
       "      <td>-2.271884</td>\n",
       "      <td>3</td>\n",
       "      <td>50</td>\n",
       "      <td>1</td>\n",
       "      <td>2</td>\n",
       "      <td>50000</td>\n",
       "      <td>1</td>\n",
       "      <td>4</td>\n",
       "      <td>N</td>\n",
       "    </tr>\n",
       "    <tr>\n",
       "      <th>1</th>\n",
       "      <td>17527</td>\n",
       "      <td>24JAN2014</td>\n",
       "      <td>SCH</td>\n",
       "      <td>F</td>\n",
       "      <td>39</td>\n",
       "      <td>N</td>\n",
       "      <td>N</td>\n",
       "      <td>5</td>\n",
       "      <td>0</td>\n",
       "      <td>-1.504999</td>\n",
       "      <td>2</td>\n",
       "      <td>50</td>\n",
       "      <td>1</td>\n",
       "      <td>2</td>\n",
       "      <td>5000</td>\n",
       "      <td>4</td>\n",
       "      <td>3</td>\n",
       "      <td>N</td>\n",
       "    </tr>\n",
       "    <tr>\n",
       "      <th>2</th>\n",
       "      <td>75683</td>\n",
       "      <td>23MAR2014</td>\n",
       "      <td>UGR</td>\n",
       "      <td>M</td>\n",
       "      <td>50</td>\n",
       "      <td>Y</td>\n",
       "      <td>Y</td>\n",
       "      <td>0</td>\n",
       "      <td>0</td>\n",
       "      <td>-1.691339</td>\n",
       "      <td>1</td>\n",
       "      <td>50</td>\n",
       "      <td>1</td>\n",
       "      <td>2</td>\n",
       "      <td>30000</td>\n",
       "      <td>1</td>\n",
       "      <td>3</td>\n",
       "      <td>Y</td>\n",
       "    </tr>\n",
       "    <tr>\n",
       "      <th>3</th>\n",
       "      <td>26883</td>\n",
       "      <td>03FEB2014</td>\n",
       "      <td>SCH</td>\n",
       "      <td>M</td>\n",
       "      <td>56</td>\n",
       "      <td>N</td>\n",
       "      <td>N</td>\n",
       "      <td>0</td>\n",
       "      <td>0</td>\n",
       "      <td>-2.374182</td>\n",
       "      <td>1</td>\n",
       "      <td>40</td>\n",
       "      <td>1</td>\n",
       "      <td>2</td>\n",
       "      <td>17000</td>\n",
       "      <td>1</td>\n",
       "      <td>3</td>\n",
       "      <td>N</td>\n",
       "    </tr>\n",
       "    <tr>\n",
       "      <th>4</th>\n",
       "      <td>28862</td>\n",
       "      <td>04FEB2014</td>\n",
       "      <td>GRD</td>\n",
       "      <td>F</td>\n",
       "      <td>38</td>\n",
       "      <td>N</td>\n",
       "      <td>N</td>\n",
       "      <td>0</td>\n",
       "      <td>0</td>\n",
       "      <td>-2.487502</td>\n",
       "      <td>0</td>\n",
       "      <td>80</td>\n",
       "      <td>2</td>\n",
       "      <td>3</td>\n",
       "      <td>120000</td>\n",
       "      <td>1</td>\n",
       "      <td>3</td>\n",
       "      <td>N</td>\n",
       "    </tr>\n",
       "  </tbody>\n",
       "</table>\n",
       "</div>"
      ],
      "text/plain": [
       "   client_id   app_date education sex  age car car_type  decline_app_cnt  \\\n",
       "0      74835  22MAR2014       GRD   M   29   Y        Y                0   \n",
       "1      17527  24JAN2014       SCH   F   39   N        N                5   \n",
       "2      75683  23MAR2014       UGR   M   50   Y        Y                0   \n",
       "3      26883  03FEB2014       SCH   M   56   N        N                0   \n",
       "4      28862  04FEB2014       GRD   F   38   N        N                0   \n",
       "\n",
       "   good_work  score_bki  bki_request_cnt  region_rating  home_address  \\\n",
       "0          0  -2.271884                3             50             1   \n",
       "1          0  -1.504999                2             50             1   \n",
       "2          0  -1.691339                1             50             1   \n",
       "3          0  -2.374182                1             40             1   \n",
       "4          0  -2.487502                0             80             2   \n",
       "\n",
       "   work_address  income  sna  first_time foreign_passport  \n",
       "0             2   50000    1           4                N  \n",
       "1             2    5000    4           3                N  \n",
       "2             2   30000    1           3                Y  \n",
       "3             2   17000    1           3                N  \n",
       "4             3  120000    1           3                N  "
      ]
     },
     "execution_count": 5,
     "metadata": {},
     "output_type": "execute_result"
    }
   ],
   "source": [
    "test.head()"
   ]
  },
  {
   "cell_type": "code",
   "execution_count": 6,
   "metadata": {
    "colab": {
     "base_uri": "https://localhost:8080/",
     "height": 224
    },
    "id": "lf7TvY4jVExW",
    "outputId": "261d86e1-3c23-4454-a684-50d5d0d29af3"
   },
   "outputs": [
    {
     "data": {
      "text/html": [
       "<div>\n",
       "<style scoped>\n",
       "    .dataframe tbody tr th:only-of-type {\n",
       "        vertical-align: middle;\n",
       "    }\n",
       "\n",
       "    .dataframe tbody tr th {\n",
       "        vertical-align: top;\n",
       "    }\n",
       "\n",
       "    .dataframe thead th {\n",
       "        text-align: right;\n",
       "    }\n",
       "</style>\n",
       "<table border=\"1\" class=\"dataframe\">\n",
       "  <thead>\n",
       "    <tr style=\"text-align: right;\">\n",
       "      <th></th>\n",
       "      <th>client_id</th>\n",
       "      <th>default</th>\n",
       "    </tr>\n",
       "  </thead>\n",
       "  <tbody>\n",
       "    <tr>\n",
       "      <th>0</th>\n",
       "      <td>66799</td>\n",
       "      <td>0.441004</td>\n",
       "    </tr>\n",
       "    <tr>\n",
       "      <th>1</th>\n",
       "      <td>25379</td>\n",
       "      <td>0.138092</td>\n",
       "    </tr>\n",
       "    <tr>\n",
       "      <th>2</th>\n",
       "      <td>28825</td>\n",
       "      <td>0.373370</td>\n",
       "    </tr>\n",
       "    <tr>\n",
       "      <th>3</th>\n",
       "      <td>37530</td>\n",
       "      <td>0.476501</td>\n",
       "    </tr>\n",
       "    <tr>\n",
       "      <th>4</th>\n",
       "      <td>4264</td>\n",
       "      <td>0.304640</td>\n",
       "    </tr>\n",
       "  </tbody>\n",
       "</table>\n",
       "</div>"
      ],
      "text/plain": [
       "   client_id   default\n",
       "0      66799  0.441004\n",
       "1      25379  0.138092\n",
       "2      28825  0.373370\n",
       "3      37530  0.476501\n",
       "4       4264  0.304640"
      ]
     },
     "execution_count": 6,
     "metadata": {},
     "output_type": "execute_result"
    }
   ],
   "source": [
    "sample_submission.head()"
   ]
  },
  {
   "cell_type": "code",
   "execution_count": 7,
   "metadata": {
    "colab": {
     "base_uri": "https://localhost:8080/"
    },
    "id": "lXIIfPPpVExW",
    "outputId": "19b0670e-dbc3-46e1-fc58-ed7cb0a29986"
   },
   "outputs": [
    {
     "name": "stdout",
     "output_type": "stream",
     "text": [
      "<class 'pandas.core.frame.DataFrame'>\n",
      "RangeIndex: 73799 entries, 0 to 73798\n",
      "Data columns (total 19 columns):\n",
      " #   Column            Non-Null Count  Dtype  \n",
      "---  ------            --------------  -----  \n",
      " 0   client_id         73799 non-null  int64  \n",
      " 1   app_date          73799 non-null  object \n",
      " 2   education         73492 non-null  object \n",
      " 3   sex               73799 non-null  object \n",
      " 4   age               73799 non-null  int64  \n",
      " 5   car               73799 non-null  object \n",
      " 6   car_type          73799 non-null  object \n",
      " 7   decline_app_cnt   73799 non-null  int64  \n",
      " 8   good_work         73799 non-null  int64  \n",
      " 9   score_bki         73799 non-null  float64\n",
      " 10  bki_request_cnt   73799 non-null  int64  \n",
      " 11  region_rating     73799 non-null  int64  \n",
      " 12  home_address      73799 non-null  int64  \n",
      " 13  work_address      73799 non-null  int64  \n",
      " 14  income            73799 non-null  int64  \n",
      " 15  sna               73799 non-null  int64  \n",
      " 16  first_time        73799 non-null  int64  \n",
      " 17  foreign_passport  73799 non-null  object \n",
      " 18  default           73799 non-null  int64  \n",
      "dtypes: float64(1), int64(12), object(6)\n",
      "memory usage: 10.7+ MB\n"
     ]
    },
    {
     "data": {
      "text/plain": [
       "client_id             0\n",
       "app_date              0\n",
       "education           307\n",
       "sex                   0\n",
       "age                   0\n",
       "car                   0\n",
       "car_type              0\n",
       "decline_app_cnt       0\n",
       "good_work             0\n",
       "score_bki             0\n",
       "bki_request_cnt       0\n",
       "region_rating         0\n",
       "home_address          0\n",
       "work_address          0\n",
       "income                0\n",
       "sna                   0\n",
       "first_time            0\n",
       "foreign_passport      0\n",
       "default               0\n",
       "dtype: int64"
      ]
     },
     "execution_count": 7,
     "metadata": {},
     "output_type": "execute_result"
    }
   ],
   "source": [
    "train.info()\n",
    "train.isna().sum()"
   ]
  },
  {
   "cell_type": "code",
   "execution_count": 8,
   "metadata": {
    "colab": {
     "base_uri": "https://localhost:8080/"
    },
    "id": "wXCh0OpuVExX",
    "outputId": "151ece3d-3872-46ca-92ad-d2b2e4b5f872"
   },
   "outputs": [
    {
     "name": "stdout",
     "output_type": "stream",
     "text": [
      "<class 'pandas.core.frame.DataFrame'>\n",
      "RangeIndex: 36349 entries, 0 to 36348\n",
      "Data columns (total 18 columns):\n",
      " #   Column            Non-Null Count  Dtype  \n",
      "---  ------            --------------  -----  \n",
      " 0   client_id         36349 non-null  int64  \n",
      " 1   app_date          36349 non-null  object \n",
      " 2   education         36178 non-null  object \n",
      " 3   sex               36349 non-null  object \n",
      " 4   age               36349 non-null  int64  \n",
      " 5   car               36349 non-null  object \n",
      " 6   car_type          36349 non-null  object \n",
      " 7   decline_app_cnt   36349 non-null  int64  \n",
      " 8   good_work         36349 non-null  int64  \n",
      " 9   score_bki         36349 non-null  float64\n",
      " 10  bki_request_cnt   36349 non-null  int64  \n",
      " 11  region_rating     36349 non-null  int64  \n",
      " 12  home_address      36349 non-null  int64  \n",
      " 13  work_address      36349 non-null  int64  \n",
      " 14  income            36349 non-null  int64  \n",
      " 15  sna               36349 non-null  int64  \n",
      " 16  first_time        36349 non-null  int64  \n",
      " 17  foreign_passport  36349 non-null  object \n",
      "dtypes: float64(1), int64(11), object(6)\n",
      "memory usage: 5.0+ MB\n"
     ]
    },
    {
     "data": {
      "text/plain": [
       "client_id             0\n",
       "app_date              0\n",
       "education           171\n",
       "sex                   0\n",
       "age                   0\n",
       "car                   0\n",
       "car_type              0\n",
       "decline_app_cnt       0\n",
       "good_work             0\n",
       "score_bki             0\n",
       "bki_request_cnt       0\n",
       "region_rating         0\n",
       "home_address          0\n",
       "work_address          0\n",
       "income                0\n",
       "sna                   0\n",
       "first_time            0\n",
       "foreign_passport      0\n",
       "dtype: int64"
      ]
     },
     "execution_count": 8,
     "metadata": {},
     "output_type": "execute_result"
    }
   ],
   "source": [
    "test.info()\n",
    "test.isna().sum()"
   ]
  },
  {
   "cell_type": "code",
   "execution_count": 9,
   "metadata": {
    "colab": {
     "base_uri": "https://localhost:8080/"
    },
    "id": "GbHIsB0uVExX",
    "outputId": "2eef8de7-553f-4253-804d-75e89f9115d8"
   },
   "outputs": [
    {
     "name": "stdout",
     "output_type": "stream",
     "text": [
      "<class 'pandas.core.frame.DataFrame'>\n",
      "RangeIndex: 24354 entries, 0 to 24353\n",
      "Data columns (total 2 columns):\n",
      " #   Column     Non-Null Count  Dtype  \n",
      "---  ------     --------------  -----  \n",
      " 0   client_id  24354 non-null  int64  \n",
      " 1   default    24354 non-null  float64\n",
      "dtypes: float64(1), int64(1)\n",
      "memory usage: 380.7 KB\n"
     ]
    },
    {
     "data": {
      "text/plain": [
       "client_id    0\n",
       "default      0\n",
       "dtype: int64"
      ]
     },
     "execution_count": 9,
     "metadata": {},
     "output_type": "execute_result"
    }
   ],
   "source": [
    "sample_submission.info()\n",
    "sample_submission.isna().sum()"
   ]
  },
  {
   "cell_type": "code",
   "execution_count": 10,
   "metadata": {
    "id": "Z4KrVJjVVExY"
   },
   "outputs": [],
   "source": [
    "train['Train'] = 1 # помечаем трейн\n",
    "test['Train'] = 0 # помечаем тест\n",
    "\n",
    "df = train.append(test, sort=False).reset_index(drop=True)"
   ]
  },
  {
   "cell_type": "code",
   "execution_count": 11,
   "metadata": {
    "colab": {
     "base_uri": "https://localhost:8080/",
     "height": 224
    },
    "id": "sBhVuWCSVExY",
    "outputId": "6ec64c6c-c0d9-4e32-c081-03b65d87a3c0"
   },
   "outputs": [
    {
     "data": {
      "text/html": [
       "<div>\n",
       "<style scoped>\n",
       "    .dataframe tbody tr th:only-of-type {\n",
       "        vertical-align: middle;\n",
       "    }\n",
       "\n",
       "    .dataframe tbody tr th {\n",
       "        vertical-align: top;\n",
       "    }\n",
       "\n",
       "    .dataframe thead th {\n",
       "        text-align: right;\n",
       "    }\n",
       "</style>\n",
       "<table border=\"1\" class=\"dataframe\">\n",
       "  <thead>\n",
       "    <tr style=\"text-align: right;\">\n",
       "      <th></th>\n",
       "      <th>client_id</th>\n",
       "      <th>app_date</th>\n",
       "      <th>education</th>\n",
       "      <th>sex</th>\n",
       "      <th>age</th>\n",
       "      <th>car</th>\n",
       "      <th>car_type</th>\n",
       "      <th>decline_app_cnt</th>\n",
       "      <th>good_work</th>\n",
       "      <th>score_bki</th>\n",
       "      <th>bki_request_cnt</th>\n",
       "      <th>region_rating</th>\n",
       "      <th>home_address</th>\n",
       "      <th>work_address</th>\n",
       "      <th>income</th>\n",
       "      <th>sna</th>\n",
       "      <th>first_time</th>\n",
       "      <th>foreign_passport</th>\n",
       "      <th>default</th>\n",
       "      <th>Train</th>\n",
       "    </tr>\n",
       "  </thead>\n",
       "  <tbody>\n",
       "    <tr>\n",
       "      <th>0</th>\n",
       "      <td>25905</td>\n",
       "      <td>01FEB2014</td>\n",
       "      <td>SCH</td>\n",
       "      <td>M</td>\n",
       "      <td>62</td>\n",
       "      <td>Y</td>\n",
       "      <td>Y</td>\n",
       "      <td>0</td>\n",
       "      <td>0</td>\n",
       "      <td>-2.008753</td>\n",
       "      <td>1</td>\n",
       "      <td>50</td>\n",
       "      <td>1</td>\n",
       "      <td>2</td>\n",
       "      <td>18000</td>\n",
       "      <td>4</td>\n",
       "      <td>1</td>\n",
       "      <td>N</td>\n",
       "      <td>0.0</td>\n",
       "      <td>1</td>\n",
       "    </tr>\n",
       "    <tr>\n",
       "      <th>1</th>\n",
       "      <td>63161</td>\n",
       "      <td>12MAR2014</td>\n",
       "      <td>SCH</td>\n",
       "      <td>F</td>\n",
       "      <td>59</td>\n",
       "      <td>N</td>\n",
       "      <td>N</td>\n",
       "      <td>0</td>\n",
       "      <td>0</td>\n",
       "      <td>-1.532276</td>\n",
       "      <td>3</td>\n",
       "      <td>50</td>\n",
       "      <td>2</td>\n",
       "      <td>3</td>\n",
       "      <td>19000</td>\n",
       "      <td>4</td>\n",
       "      <td>1</td>\n",
       "      <td>N</td>\n",
       "      <td>0.0</td>\n",
       "      <td>1</td>\n",
       "    </tr>\n",
       "    <tr>\n",
       "      <th>2</th>\n",
       "      <td>25887</td>\n",
       "      <td>01FEB2014</td>\n",
       "      <td>SCH</td>\n",
       "      <td>M</td>\n",
       "      <td>25</td>\n",
       "      <td>Y</td>\n",
       "      <td>N</td>\n",
       "      <td>2</td>\n",
       "      <td>0</td>\n",
       "      <td>-1.408142</td>\n",
       "      <td>1</td>\n",
       "      <td>80</td>\n",
       "      <td>1</td>\n",
       "      <td>2</td>\n",
       "      <td>30000</td>\n",
       "      <td>1</td>\n",
       "      <td>4</td>\n",
       "      <td>Y</td>\n",
       "      <td>0.0</td>\n",
       "      <td>1</td>\n",
       "    </tr>\n",
       "    <tr>\n",
       "      <th>3</th>\n",
       "      <td>16222</td>\n",
       "      <td>23JAN2014</td>\n",
       "      <td>SCH</td>\n",
       "      <td>F</td>\n",
       "      <td>53</td>\n",
       "      <td>N</td>\n",
       "      <td>N</td>\n",
       "      <td>0</td>\n",
       "      <td>0</td>\n",
       "      <td>-2.057471</td>\n",
       "      <td>2</td>\n",
       "      <td>50</td>\n",
       "      <td>2</td>\n",
       "      <td>3</td>\n",
       "      <td>10000</td>\n",
       "      <td>1</td>\n",
       "      <td>3</td>\n",
       "      <td>N</td>\n",
       "      <td>0.0</td>\n",
       "      <td>1</td>\n",
       "    </tr>\n",
       "    <tr>\n",
       "      <th>4</th>\n",
       "      <td>101655</td>\n",
       "      <td>18APR2014</td>\n",
       "      <td>GRD</td>\n",
       "      <td>M</td>\n",
       "      <td>48</td>\n",
       "      <td>N</td>\n",
       "      <td>N</td>\n",
       "      <td>0</td>\n",
       "      <td>1</td>\n",
       "      <td>-1.244723</td>\n",
       "      <td>1</td>\n",
       "      <td>60</td>\n",
       "      <td>2</td>\n",
       "      <td>3</td>\n",
       "      <td>30000</td>\n",
       "      <td>1</td>\n",
       "      <td>4</td>\n",
       "      <td>Y</td>\n",
       "      <td>0.0</td>\n",
       "      <td>1</td>\n",
       "    </tr>\n",
       "  </tbody>\n",
       "</table>\n",
       "</div>"
      ],
      "text/plain": [
       "   client_id   app_date education sex  age car car_type  decline_app_cnt  \\\n",
       "0      25905  01FEB2014       SCH   M   62   Y        Y                0   \n",
       "1      63161  12MAR2014       SCH   F   59   N        N                0   \n",
       "2      25887  01FEB2014       SCH   M   25   Y        N                2   \n",
       "3      16222  23JAN2014       SCH   F   53   N        N                0   \n",
       "4     101655  18APR2014       GRD   M   48   N        N                0   \n",
       "\n",
       "   good_work  score_bki  bki_request_cnt  region_rating  home_address  \\\n",
       "0          0  -2.008753                1             50             1   \n",
       "1          0  -1.532276                3             50             2   \n",
       "2          0  -1.408142                1             80             1   \n",
       "3          0  -2.057471                2             50             2   \n",
       "4          1  -1.244723                1             60             2   \n",
       "\n",
       "   work_address  income  sna  first_time foreign_passport  default  Train  \n",
       "0             2   18000    4           1                N      0.0      1  \n",
       "1             3   19000    4           1                N      0.0      1  \n",
       "2             2   30000    1           4                Y      0.0      1  \n",
       "3             3   10000    1           3                N      0.0      1  \n",
       "4             3   30000    1           4                Y      0.0      1  "
      ]
     },
     "execution_count": 11,
     "metadata": {},
     "output_type": "execute_result"
    }
   ],
   "source": [
    "df.head()"
   ]
  },
  {
   "cell_type": "markdown",
   "metadata": {
    "id": "gnFwiez27Ziz"
   },
   "source": [
    "# Предобработка"
   ]
  },
  {
   "cell_type": "code",
   "execution_count": 12,
   "metadata": {
    "id": "xI1JkZp6VExc"
   },
   "outputs": [],
   "source": [
    "# Переведем время в нормальный формат\n",
    "from datetime import datetime\n",
    "\n",
    "df['app_date'] = pd.to_datetime(df['app_date'], format='%d%b%Y')"
   ]
  },
  {
   "cell_type": "code",
   "execution_count": 13,
   "metadata": {
    "colab": {
     "base_uri": "https://localhost:8080/"
    },
    "id": "y_24zujhR8vZ",
    "outputId": "afd5dd07-534a-4f43-ce8a-f2f41e92f9a0"
   },
   "outputs": [
    {
     "data": {
      "text/plain": [
       "Timestamp('2014-01-01 00:00:00')"
      ]
     },
     "execution_count": 13,
     "metadata": {},
     "output_type": "execute_result"
    }
   ],
   "source": [
    "df['app_date'].min()"
   ]
  },
  {
   "cell_type": "code",
   "execution_count": 14,
   "metadata": {
    "colab": {
     "base_uri": "https://localhost:8080/"
    },
    "id": "oLyEdJ1xR3rm",
    "outputId": "794a7959-7e51-4f59-965d-0f22c8794db5"
   },
   "outputs": [
    {
     "data": {
      "text/plain": [
       "Timestamp('2014-04-30 00:00:00')"
      ]
     },
     "execution_count": 14,
     "metadata": {},
     "output_type": "execute_result"
    }
   ],
   "source": [
    "df['app_date'].max()"
   ]
  },
  {
   "cell_type": "code",
   "execution_count": 15,
   "metadata": {
    "id": "vHyoutR7FD7t"
   },
   "outputs": [],
   "source": [
    "# создадим новый признак, который будет показывать как давно заемщик обращался в банка\n",
    "\n",
    "finish_day = df['app_date'].max()\n",
    "\n",
    "df['days'] = df['app_date'].apply(lambda x: (finish_day - x).days)"
   ]
  },
  {
   "cell_type": "code",
   "execution_count": 16,
   "metadata": {
    "id": "Ua2cAMN-VExZ"
   },
   "outputs": [],
   "source": [
    "# объеденим признаки для более удобного анализа\n",
    "num_cols = ['age','decline_app_cnt','score_bki','bki_request_cnt','income', 'days']\n",
    "bin_cols = ['sex', 'car', 'car_type', 'good_work', 'foreign_passport']\n",
    "cat_cols = ['education', 'region_rating', 'home_address', 'work_address', 'sna', 'first_time']\n",
    "date_cols = ['app_date']"
   ]
  },
  {
   "cell_type": "code",
   "execution_count": 17,
   "metadata": {
    "colab": {
     "base_uri": "https://localhost:8080/"
    },
    "id": "e7Z2cqW4VExa",
    "outputId": "3241b5fe-eb55-4ec8-a953-844b04d5dfbd"
   },
   "outputs": [
    {
     "name": "stdout",
     "output_type": "stream",
     "text": [
      "Какое кол-во уникальных значений имеет каждый числовой признак\n",
      "\n",
      "52 - age\n",
      "24 - decline_app_cnt\n",
      "102618 - score_bki\n",
      "40 - bki_request_cnt\n",
      "1207 - income\n",
      "120 - days\n"
     ]
    }
   ],
   "source": [
    "# Анализируем числовые признаки\n",
    "\n",
    "print('Какое кол-во уникальных значений имеет каждый числовой признак')\n",
    "print()\n",
    "\n",
    "for col in num_cols:\n",
    "    n = df[col].nunique()\n",
    "    print('{} - {}'.format(n, col))"
   ]
  },
  {
   "cell_type": "code",
   "execution_count": 18,
   "metadata": {
    "colab": {
     "base_uri": "https://localhost:8080/"
    },
    "id": "Ims3s-d2VExa",
    "outputId": "028c8d38-a5cd-49ce-b8a6-00991a6fb86c"
   },
   "outputs": [
    {
     "name": "stdout",
     "output_type": "stream",
     "text": [
      "Какое кол-во уникальных значений имеет каждый бинарный признак\n",
      "\n",
      "2 - sex\n",
      "2 - car\n",
      "2 - car_type\n",
      "2 - good_work\n",
      "2 - foreign_passport\n"
     ]
    }
   ],
   "source": [
    "# Анализируем бинарные признаки\n",
    "\n",
    "print('Какое кол-во уникальных значений имеет каждый бинарный признак')\n",
    "print()\n",
    "\n",
    "for col in bin_cols:\n",
    "    n = df[col].nunique()\n",
    "    print('{} - {}'.format(n, col))"
   ]
  },
  {
   "cell_type": "code",
   "execution_count": 19,
   "metadata": {
    "colab": {
     "base_uri": "https://localhost:8080/"
    },
    "id": "GRAsMGayVExb",
    "outputId": "d8b3681e-c339-4397-eab2-ed5fab7b2794"
   },
   "outputs": [
    {
     "name": "stdout",
     "output_type": "stream",
     "text": [
      "Какое кол-во уникальных значений имеет каждый категориальный признак\n",
      "\n",
      "5 - education\n",
      "7 - region_rating\n",
      "3 - home_address\n",
      "3 - work_address\n",
      "4 - sna\n",
      "4 - first_time\n"
     ]
    }
   ],
   "source": [
    "# Анализируем категориальные признаки\n",
    "\n",
    "print('Какое кол-во уникальных значений имеет каждый категориальный признак')\n",
    "print()\n",
    "\n",
    "for col in cat_cols:\n",
    "    n = df[col].nunique()\n",
    "    print('{} - {}'.format(n, col))"
   ]
  },
  {
   "cell_type": "markdown",
   "metadata": {
    "id": "vgNFyxbFVExc"
   },
   "source": [
    "Нужно заполнить пропуски с образованием. Интересно как изменится распределение, если посмотрим в разрезе хорошей работы"
   ]
  },
  {
   "cell_type": "code",
   "execution_count": 20,
   "metadata": {
    "colab": {
     "base_uri": "https://localhost:8080/",
     "height": 71
    },
    "id": "PSKBiVUHVExd",
    "outputId": "9431fee9-6dc2-43aa-ec7b-82a899382fcd"
   },
   "outputs": [
    {
     "data": {
      "text/plain": [
       "<matplotlib.axes._subplots.AxesSubplot at 0x7fee3fc22910>"
      ]
     },
     "execution_count": 20,
     "metadata": {},
     "output_type": "execute_result"
    },
    {
     "data": {
      "image/png": "[encoded data removed]",
      "text/plain": [
       "<Figure size 432x288 with 1 Axes>"
      ]
     },
     "metadata": {
      "needs_background": "light"
     },
     "output_type": "display_data"
    }
   ],
   "source": [
    "df[df['good_work'] == 0]['education'].value_counts().plot.barh()"
   ]
  },
  {
   "cell_type": "code",
   "execution_count": 21,
   "metadata": {
    "colab": {
     "base_uri": "https://localhost:8080/",
     "height": 71
    },
    "id": "TCqF7vAPVExd",
    "outputId": "9996053e-a269-4c3d-e11b-ca619acbefb8"
   },
   "outputs": [
    {
     "data": {
      "text/plain": [
       "<matplotlib.axes._subplots.AxesSubplot at 0x7fee3fcdd1c0>"
      ]
     },
     "execution_count": 21,
     "metadata": {},
     "output_type": "execute_result"
    },
    {
     "data": {
      "image/png": "[encoded data removed]",
      "text/plain": [
       "<Figure size 432x288 with 1 Axes>"
      ]
     },
     "metadata": {
      "needs_background": "light"
     },
     "output_type": "display_data"
    }
   ],
   "source": [
    "df[df['good_work'] == 1]['education'].value_counts().plot.barh()"
   ]
  },
  {
   "cell_type": "markdown",
   "metadata": {
    "id": "lfO65fcLVExd"
   },
   "source": [
    "мы видим, что у кого хорошая работа, то чаще образование GRD, в остальных случаях SCH.  \n",
    "По такому принципу и заполним пропуски в образовании"
   ]
  },
  {
   "cell_type": "code",
   "execution_count": 22,
   "metadata": {
    "id": "h5Jes4atVExd"
   },
   "outputs": [],
   "source": [
    "# Пишем ф-цию, которая на основе работы будет заполнять пропуски с образованием\n",
    "\n",
    "def get_education(education, good_work):\n",
    "    if pd.isna(education) == True and good_work == 0:\n",
    "        return 'SCH'\n",
    "    elif pd.isna(education) == True and good_work == 1:\n",
    "        return 'GRD'\n",
    "    else:\n",
    "        return education"
   ]
  },
  {
   "cell_type": "code",
   "execution_count": 23,
   "metadata": {
    "id": "HQpF0djDVExe"
   },
   "outputs": [],
   "source": [
    "df['education'] = df.apply(lambda x: get_education(x['education'], x['good_work']), axis=1)"
   ]
  },
  {
   "cell_type": "code",
   "execution_count": 24,
   "metadata": {
    "colab": {
     "base_uri": "https://localhost:8080/",
     "height": 139
    },
    "id": "NmXrzq0KVExe",
    "outputId": "2a1e88c9-264f-4311-f625-a33fd8067080"
   },
   "outputs": [
    {
     "data": {
      "image/png": "[encoded data removed]",
      "text/plain": [
       "<Figure size 1152x288 with 4 Axes>"
      ]
     },
     "metadata": {
      "needs_background": "light"
     },
     "output_type": "display_data"
    },
    {
     "data": {
      "image/png": "[encoded data removed]",
      "text/plain": [
       "<Figure size 1152x288 with 4 Axes>"
      ]
     },
     "metadata": {
      "needs_background": "light"
     },
     "output_type": "display_data"
    },
    {
     "data": {
      "image/png": "[encoded data removed]",
      "text/plain": [
       "<Figure size 1152x288 with 4 Axes>"
      ]
     },
     "metadata": {
      "needs_background": "light"
     },
     "output_type": "display_data"
    },
    {
     "data": {
      "image/png": "[encoded data removed]",
      "text/plain": [
       "<Figure size 1152x288 with 4 Axes>"
      ]
     },
     "metadata": {
      "needs_background": "light"
     },
     "output_type": "display_data"
    },
    {
     "data": {
      "image/png": "[encoded data removed]",
      "text/plain": [
       "<Figure size 1152x288 with 4 Axes>"
      ]
     },
     "metadata": {
      "needs_background": "light"
     },
     "output_type": "display_data"
    },
    {
     "data": {
      "image/png": "[encoded data removed]",
      "text/plain": [
       "<Figure size 1152x288 with 4 Axes>"
      ]
     },
     "metadata": {
      "needs_background": "light"
     },
     "output_type": "display_data"
    }
   ],
   "source": [
    "# Анализируем распределение числовых признаков и их логарифмов\n",
    "\n",
    "for i in num_cols:\n",
    "    fig, axes = plt.subplots(1, 4, figsize=(16, 4))\n",
    "\n",
    "    axes[0].hist(df[i][df[i] > 0])\n",
    "    axes[0].set_title(i + ' - обычное')\n",
    "    \n",
    "    axes[1].boxplot(df[i][df[i] > 0])\n",
    "    axes[1].set_title(i + ' - обычное')\n",
    "    \n",
    "    axes[2].hist(df[i][df[i] > 0].dropna().apply(lambda x: np.log(x)))\n",
    "    axes[2].set_title(i + ' - логарифм')\n",
    "    \n",
    "    axes[3].boxplot(df[i][df[i] > 0].dropna().apply(lambda x: np.log(x)))\n",
    "    axes[3].set_title(i + ' - логарифм')"
   ]
  },
  {
   "cell_type": "code",
   "execution_count": 25,
   "metadata": {
    "id": "tIG_xrCJVExe"
   },
   "outputs": [],
   "source": [
    "# Есть смысл прологорифмировать только age и income\n",
    "# Так распределение будет более нормальное\n",
    "\n",
    "df[['age', 'income']] = df[['age', 'income']].apply(lambda x: np.log(x), axis=1)"
   ]
  },
  {
   "cell_type": "code",
   "execution_count": 26,
   "metadata": {
    "colab": {
     "base_uri": "https://localhost:8080/",
     "height": 71
    },
    "id": "oeNZjXq1VExf",
    "outputId": "b0cab482-6677-4ae0-b68e-a006c7358726"
   },
   "outputs": [
    {
     "data": {
      "text/plain": [
       "<matplotlib.axes._subplots.AxesSubplot at 0x7fee49e95df0>"
      ]
     },
     "execution_count": 26,
     "metadata": {},
     "output_type": "execute_result"
    },
    {
     "data": {
      "image/png": "[encoded data removed]",
      "text/plain": [
       "<Figure size 432x288 with 2 Axes>"
      ]
     },
     "metadata": {
      "needs_background": "light"
     },
     "output_type": "display_data"
    }
   ],
   "source": [
    "# Проверяем корреляцию числовых признаков\n",
    "\n",
    "sns.heatmap(df[num_cols].corr().abs(), vmin=0, vmax=1, annot=True)"
   ]
  },
  {
   "cell_type": "code",
   "execution_count": 27,
   "metadata": {
    "colab": {
     "base_uri": "https://localhost:8080/",
     "height": 54
    },
    "id": "r814zVoLVExf",
    "outputId": "c8ccb3a5-186d-40d7-a79f-89b04ce3f7f8"
   },
   "outputs": [
    {
     "data": {
      "image/png": "[encoded data removed]",
      "text/plain": [
       "<Figure size 432x288 with 1 Axes>"
      ]
     },
     "metadata": {
      "needs_background": "light"
     },
     "output_type": "display_data"
    }
   ],
   "source": [
    "# Проверяем корреляцию числовых признаков к целевой переменной\n",
    "\n",
    "correlations = df[num_cols].corrwith(df['default']).sort_values(ascending=False)\n",
    "\n",
    "plot = sns.barplot(y=correlations.index, x=correlations)"
   ]
  },
  {
   "cell_type": "markdown",
   "metadata": {
    "id": "q_CmY_0LVExh"
   },
   "source": [
    "Корреляция низка. Соответственно это то, что нам нужно. Числовые столбцы оставляем все"
   ]
  },
  {
   "cell_type": "markdown",
   "metadata": {
    "id": "pshgyIhYRxZD"
   },
   "source": [
    "# Формирование признаков"
   ]
  },
  {
   "cell_type": "code",
   "execution_count": 28,
   "metadata": {
    "id": "geOm0M6nYbJ_"
   },
   "outputs": [],
   "source": [
    "label_encoder = LabelEncoder()"
   ]
  },
  {
   "cell_type": "code",
   "execution_count": 29,
   "metadata": {
    "id": "PWnHdQYzahKO"
   },
   "outputs": [],
   "source": [
    "# Создадим словарь, в котором будем хранить расшифровки кодировок\n",
    "\n",
    "decoder = {}"
   ]
  },
  {
   "cell_type": "markdown",
   "metadata": {
    "id": "gG31J56C1c6R"
   },
   "source": [
    "Закодируем все признаки кроме числовых.  \n",
    "Так же соберем словарь с расшифровками"
   ]
  },
  {
   "cell_type": "code",
   "execution_count": 30,
   "metadata": {
    "id": "E0GWIjlDahEI"
   },
   "outputs": [],
   "source": [
    "for col in bin_cols:\n",
    "  df[col] = df[[col]].apply(label_encoder.fit_transform)\n",
    "  decoder[col] = dict(enumerate(label_encoder.classes_))"
   ]
  },
  {
   "cell_type": "code",
   "execution_count": 31,
   "metadata": {
    "id": "q1cEqjGMag63"
   },
   "outputs": [],
   "source": [
    "for col in cat_cols:\n",
    "  df[col] = df[[col]].apply(label_encoder.fit_transform)\n",
    "  decoder[col] = dict(enumerate(label_encoder.classes_))"
   ]
  },
  {
   "cell_type": "code",
   "execution_count": 32,
   "metadata": {
    "colab": {
     "base_uri": "https://localhost:8080/"
    },
    "id": "o0sQTzrlagv4",
    "outputId": "b5a4f089-8928-4b74-f699-07b3e0268a39"
   },
   "outputs": [
    {
     "data": {
      "text/plain": [
       "{'sex': {0: 'F', 1: 'M'},\n",
       " 'car': {0: 'N', 1: 'Y'},\n",
       " 'car_type': {0: 'N', 1: 'Y'},\n",
       " 'good_work': {0: 0, 1: 1},\n",
       " 'foreign_passport': {0: 'N', 1: 'Y'},\n",
       " 'education': {0: 'ACD', 1: 'GRD', 2: 'PGR', 3: 'SCH', 4: 'UGR'},\n",
       " 'region_rating': {0: 20, 1: 30, 2: 40, 3: 50, 4: 60, 5: 70, 6: 80},\n",
       " 'home_address': {0: 1, 1: 2, 2: 3},\n",
       " 'work_address': {0: 1, 1: 2, 2: 3},\n",
       " 'sna': {0: 1, 1: 2, 2: 3, 3: 4},\n",
       " 'first_time': {0: 1, 1: 2, 2: 3, 3: 4}}"
      ]
     },
     "execution_count": 32,
     "metadata": {},
     "output_type": "execute_result"
    }
   ],
   "source": [
    "decoder"
   ]
  },
  {
   "cell_type": "markdown",
   "metadata": {
    "id": "IL7Jjag9PPZZ"
   },
   "source": [
    "# Смотрим значимость"
   ]
  },
  {
   "cell_type": "code",
   "execution_count": 33,
   "metadata": {
    "id": "b51ucoTxQPQc"
   },
   "outputs": [],
   "source": [
    "data = df[df['Train'] == 1].isna().sum()"
   ]
  },
  {
   "cell_type": "code",
   "execution_count": 34,
   "metadata": {
    "colab": {
     "base_uri": "https://localhost:8080/",
     "height": 71
    },
    "id": "xIH_VkBkPTIn",
    "outputId": "aef83c5c-84f6-44e4-9634-8a1d14c94c55"
   },
   "outputs": [
    {
     "data": {
      "text/plain": [
       "<matplotlib.axes._subplots.AxesSubplot at 0x7fee3fceb640>"
      ]
     },
     "execution_count": 34,
     "metadata": {},
     "output_type": "execute_result"
    },
    {
     "data": {
      "image/png": "[encoded data removed]",
      "text/plain": [
       "<Figure size 432x288 with 1 Axes>"
      ]
     },
     "metadata": {
      "needs_background": "light"
     },
     "output_type": "display_data"
    }
   ],
   "source": [
    "imp_num = pd.Series(f_classif(df[df['Train'] == 1][num_cols],\n",
    "                              df[df['Train'] == 1]['default'])[0], index=num_cols)\n",
    "imp_num.sort_values(inplace=True)\n",
    "imp_num.plot(kind='barh')"
   ]
  },
  {
   "cell_type": "code",
   "execution_count": 35,
   "metadata": {
    "colab": {
     "base_uri": "https://localhost:8080/",
     "height": 71
    },
    "id": "nLOQyunOPesG",
    "outputId": "ace381c4-931d-45c2-dfc6-b8632c948c61"
   },
   "outputs": [
    {
     "data": {
      "text/plain": [
       "<matplotlib.axes._subplots.AxesSubplot at 0x7fee3fc22f10>"
      ]
     },
     "execution_count": 35,
     "metadata": {},
     "output_type": "execute_result"
    },
    {
     "data": {
      "image/png": "[encoded data removed]",
      "text/plain": [
       "<Figure size 432x288 with 1 Axes>"
      ]
     },
     "metadata": {
      "needs_background": "light"
     },
     "output_type": "display_data"
    }
   ],
   "source": [
    "imp_cat = Series(mutual_info_classif(df[df['Train'] == 1][bin_cols + cat_cols], df[df['Train'] == 1]['default'],\n",
    "                                     discrete_features =True), index = bin_cols + cat_cols)\n",
    "imp_cat.sort_values(inplace = True)\n",
    "imp_cat.plot(kind = 'barh')"
   ]
  },
  {
   "cell_type": "markdown",
   "metadata": {
    "id": "OAeaENQ9c_oS"
   },
   "source": [
    "# Строим модель"
   ]
  },
  {
   "cell_type": "code",
   "execution_count": 36,
   "metadata": {
    "id": "uvxOFrnHZaez"
   },
   "outputs": [],
   "source": [
    "# Делим датасет на обучающий и тестовый\n",
    "\n",
    "train = df[df['Train'] == 1].drop(['Train', 'app_date', 'client_id'], axis=1)\n",
    "test = df[df['Train'] == 0].drop(['Train', 'app_date', 'client_id'], axis=1)"
   ]
  },
  {
   "cell_type": "code",
   "execution_count": 37,
   "metadata": {
    "id": "VuYsfg8od7ox"
   },
   "outputs": [],
   "source": [
    "X = train.drop(['default'], axis=1)\n",
    "y = train['default']"
   ]
  },
  {
   "cell_type": "code",
   "execution_count": 38,
   "metadata": {
    "id": "2NGP0VRqdhe4"
   },
   "outputs": [],
   "source": [
    "X_train, X_test, y_train, y_test = train_test_split(X, y, test_size = 0.2, random_state = RANDOM_SEED)"
   ]
  },
  {
   "cell_type": "code",
   "execution_count": 39,
   "metadata": {
    "colab": {
     "base_uri": "https://localhost:8080/",
     "height": 190
    },
    "id": "tTkX2a-PfEuL",
    "outputId": "a9f974c2-d395-40d2-a56b-6e2de4b030d5"
   },
   "outputs": [
    {
     "name": "stderr",
     "output_type": "stream",
     "text": [
      "/opt/anaconda3/lib/python3.8/site-packages/sklearn/linear_model/_logistic.py:762: ConvergenceWarning: lbfgs failed to converge (status=1):\n",
      "STOP: TOTAL NO. of ITERATIONS REACHED LIMIT.\n",
      "\n",
      "Increase the number of iterations (max_iter) or scale the data as shown in:\n",
      "    https://scikit-learn.org/stable/modules/preprocessing.html\n",
      "Please also refer to the documentation for alternative solver options:\n",
      "    https://scikit-learn.org/stable/modules/linear_model.html#logistic-regression\n",
      "  n_iter_i = _check_optimize_result(\n"
     ]
    },
    {
     "data": {
      "image/png": "[encoded data removed]",
      "text/plain": [
       "<Figure size 432x288 with 1 Axes>"
      ]
     },
     "metadata": {
      "needs_background": "light"
     },
     "output_type": "display_data"
    }
   ],
   "source": [
    "# строим саму модель и смотрим результаты\n",
    "\n",
    "model = LogisticRegression()\n",
    "model.fit(X_train, y_train)\n",
    "\n",
    "probs = model.predict_proba(X_test)\n",
    "probs = probs[:,1]\n",
    "\n",
    "\n",
    "fpr, tpr, threshold = roc_curve(y_test, probs)\n",
    "roc_auc = roc_auc_score(y_test, probs)\n",
    "\n",
    "plt.figure()\n",
    "plt.plot([0, 1], label='Baseline', linestyle='--')\n",
    "plt.plot(fpr, tpr, label = 'Regression')\n",
    "plt.title('Logistic Regression ROC AUC = %0.3f' % roc_auc)\n",
    "plt.ylabel('True Positive Rate')\n",
    "plt.xlabel('False Positive Rate')\n",
    "plt.legend(loc = 'lower right')\n",
    "plt.show()"
   ]
  },
  {
   "cell_type": "markdown",
   "metadata": {
    "id": "H37PANO_VCAy"
   },
   "source": [
    "# Поиск оптимальных параметров"
   ]
  },
  {
   "cell_type": "code",
   "execution_count": 40,
   "metadata": {
    "colab": {
     "base_uri": "https://localhost:8080/"
    },
    "id": "oSbfUs2-fpKg",
    "outputId": "f609c73b-9c77-4275-83ab-4478e2595f77"
   },
   "outputs": [
    {
     "name": "stdout",
     "output_type": "stream",
     "text": [
      "C 1.0 \n",
      "\n",
      "class_weight balanced \n",
      "\n",
      "dual False \n",
      "\n",
      "fit_intercept True \n",
      "\n",
      "intercept_scaling 1 \n",
      "\n",
      "l1_ratio None \n",
      "\n",
      "max_iter 100 \n",
      "\n",
      "multi_class auto \n",
      "\n",
      "n_jobs None \n",
      "\n",
      "penalty none \n",
      "\n",
      "random_state None \n",
      "\n",
      "solver newton-cg \n",
      "\n",
      "tol 0.0001 \n",
      "\n",
      "verbose 0 \n",
      "\n",
      "warm_start False \n",
      "\n"
     ]
    }
   ],
   "source": [
    "model = LogisticRegression()\n",
    "\n",
    "param_grid = [\n",
    "    {'penalty': ['l1'], \n",
    "     'solver': ['liblinear', 'lbfgs'], \n",
    "     'class_weight':['none', 'balanced'], \n",
    "     'multi_class': ['auto','ovr']}, \n",
    "    {'penalty': ['l2'], \n",
    "     'solver': ['newton-cg', 'lbfgs', 'liblinear', 'sag', 'saga'], \n",
    "     'class_weight':['none', 'balanced'], \n",
    "     'multi_class': ['auto','ovr']}, \n",
    "    {'penalty': ['none'], \n",
    "     'solver': ['newton-cg', 'lbfgs', 'sag', 'saga'], \n",
    "     'class_weight':['none', 'balanced'], \n",
    "     'multi_class': ['auto','ovr']} \n",
    "]\n",
    "\n",
    "gridsearch = GridSearchCV(model, param_grid, scoring='f1', n_jobs=-1)\n",
    "gridsearch.fit(X_train, y_train)\n",
    "model = gridsearch.best_estimator_\n",
    "\n",
    "## печатаем параметры\n",
    "best_parameters = model.get_params()\n",
    "for param_name in best_parameters:\n",
    "        print(param_name, best_parameters[param_name], '\\n')"
   ]
  },
  {
   "cell_type": "code",
   "execution_count": 41,
   "metadata": {
    "colab": {
     "base_uri": "https://localhost:8080/",
     "height": 54
    },
    "id": "ESCe43lXVQmD",
    "outputId": "793dd658-79c0-42bc-fe51-72501a2000a6"
   },
   "outputs": [
    {
     "data": {
      "image/png": "[encoded data removed]",
      "text/plain": [
       "<Figure size 432x288 with 1 Axes>"
      ]
     },
     "metadata": {
      "needs_background": "light"
     },
     "output_type": "display_data"
    }
   ],
   "source": [
    "# строим модель с лучшими параметрами и смотрим результаты\n",
    "\n",
    "new_model = LogisticRegression(random_state = None, \n",
    "                               C = 1.0, \n",
    "                               class_weight = 'balanced', \n",
    "                               dual = False, \n",
    "                               fit_intercept = True, \n",
    "                               intercept_scaling = 1, \n",
    "                               l1_ratio = None, \n",
    "                               max_iter = 100, \n",
    "                               multi_class = 'auto', \n",
    "                               n_jobs = None, \n",
    "                               penalty = 'none', \n",
    "                               solver = 'newton-cg', \n",
    "                               tol = 0.0001,\n",
    "                               verbose = 0, \n",
    "                               warm_start = False)\n",
    "new_model.fit(X_train, y_train)\n",
    "\n",
    "probs = new_model.predict_proba(X_test)\n",
    "probs = probs[:,1]\n",
    "\n",
    "\n",
    "fpr, tpr, threshold = roc_curve(y_test, probs)\n",
    "roc_auc = roc_auc_score(y_test, probs)\n",
    "\n",
    "plt.figure()\n",
    "plt.plot([0, 1], label='Baseline', linestyle='--')\n",
    "plt.plot(fpr, tpr, label = 'Regression')\n",
    "plt.title('Logistic Regression ROC AUC = %0.3f' % roc_auc)\n",
    "plt.ylabel('True Positive Rate')\n",
    "plt.xlabel('False Positive Rate')\n",
    "plt.legend(loc = 'lower right')\n",
    "plt.show()"
   ]
  },
  {
   "cell_type": "markdown",
   "metadata": {},
   "source": [
    "# Submission"
   ]
  },
  {
   "cell_type": "code",
   "execution_count": 42,
   "metadata": {},
   "outputs": [],
   "source": [
    "test_data = df[df['Train'] == 0].drop(['Train'], axis=1)"
   ]
  },
  {
   "cell_type": "code",
   "execution_count": 43,
   "metadata": {},
   "outputs": [],
   "source": [
    "X = test_data.drop(['default', 'client_id', 'app_date'], axis=1)"
   ]
  },
  {
   "cell_type": "code",
   "execution_count": 44,
   "metadata": {},
   "outputs": [
    {
     "name": "stderr",
     "output_type": "stream",
     "text": [
      "<ipython-input-44-ff372598d0e8>:4: SettingWithCopyWarning: \n",
      "A value is trying to be set on a copy of a slice from a DataFrame.\n",
      "Try using .loc[row_indexer,col_indexer] = value instead\n",
      "\n",
      "See the caveats in the documentation: https://pandas.pydata.org/pandas-docs/stable/user_guide/indexing.html#returning-a-view-versus-a-copy\n",
      "  submit['default']=predict_submission\n"
     ]
    },
    {
     "data": {
      "text/html": [
       "<div>\n",
       "<style scoped>\n",
       "    .dataframe tbody tr th:only-of-type {\n",
       "        vertical-align: middle;\n",
       "    }\n",
       "\n",
       "    .dataframe tbody tr th {\n",
       "        vertical-align: top;\n",
       "    }\n",
       "\n",
       "    .dataframe thead th {\n",
       "        text-align: right;\n",
       "    }\n",
       "</style>\n",
       "<table border=\"1\" class=\"dataframe\">\n",
       "  <thead>\n",
       "    <tr style=\"text-align: right;\">\n",
       "      <th></th>\n",
       "      <th>client_id</th>\n",
       "      <th>default</th>\n",
       "    </tr>\n",
       "  </thead>\n",
       "  <tbody>\n",
       "    <tr>\n",
       "      <th>73799</th>\n",
       "      <td>74835</td>\n",
       "      <td>0.217401</td>\n",
       "    </tr>\n",
       "    <tr>\n",
       "      <th>73800</th>\n",
       "      <td>17527</td>\n",
       "      <td>0.806020</td>\n",
       "    </tr>\n",
       "    <tr>\n",
       "      <th>73801</th>\n",
       "      <td>75683</td>\n",
       "      <td>0.350679</td>\n",
       "    </tr>\n",
       "    <tr>\n",
       "      <th>73802</th>\n",
       "      <td>26883</td>\n",
       "      <td>0.407408</td>\n",
       "    </tr>\n",
       "    <tr>\n",
       "      <th>73803</th>\n",
       "      <td>28862</td>\n",
       "      <td>0.158145</td>\n",
       "    </tr>\n",
       "    <tr>\n",
       "      <th>73804</th>\n",
       "      <td>99881</td>\n",
       "      <td>0.747366</td>\n",
       "    </tr>\n",
       "    <tr>\n",
       "      <th>73805</th>\n",
       "      <td>26630</td>\n",
       "      <td>0.754103</td>\n",
       "    </tr>\n",
       "    <tr>\n",
       "      <th>73806</th>\n",
       "      <td>79934</td>\n",
       "      <td>0.208670</td>\n",
       "    </tr>\n",
       "    <tr>\n",
       "      <th>73807</th>\n",
       "      <td>16605</td>\n",
       "      <td>0.158927</td>\n",
       "    </tr>\n",
       "    <tr>\n",
       "      <th>73808</th>\n",
       "      <td>105449</td>\n",
       "      <td>0.179924</td>\n",
       "    </tr>\n",
       "  </tbody>\n",
       "</table>\n",
       "</div>"
      ],
      "text/plain": [
       "       client_id   default\n",
       "73799      74835  0.217401\n",
       "73800      17527  0.806020\n",
       "73801      75683  0.350679\n",
       "73802      26883  0.407408\n",
       "73803      28862  0.158145\n",
       "73804      99881  0.747366\n",
       "73805      26630  0.754103\n",
       "73806      79934  0.208670\n",
       "73807      16605  0.158927\n",
       "73808     105449  0.179924"
      ]
     },
     "metadata": {},
     "output_type": "display_data"
    }
   ],
   "source": [
    "predict_submission = new_model.predict_proba(X)[:, 1]\n",
    "\n",
    "submit = test_data[['client_id']]\n",
    "submit['default']=predict_submission\n",
    "submit.to_csv('submission.csv', index=False)\n",
    "display(submit.head(10))"
   ]
  },
  {
   "cell_type": "code",
   "execution_count": null,
   "metadata": {},
   "outputs": [],
   "source": []
  }
 ],
 "metadata": {
  "colab": {
   "name": "Untitled.ipynb",
   "provenance": [],
   "toc_visible": true
  },
  "kernelspec": {
   "display_name": "Python 3",
   "language": "python",
   "name": "python3"
  },
  "language_info": {
   "codemirror_mode": {
    "name": "ipython",
    "version": 3
   },
   "file_extension": ".py",
   "mimetype": "text/x-python",
   "name": "python",
   "nbconvert_exporter": "python",
   "pygments_lexer": "ipython3",
   "version": "3.8.3"
  }
 },
 "nbformat": 4,
 "nbformat_minor": 1
}
