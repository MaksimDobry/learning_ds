{
 "cells": [
  {
   "cell_type": "markdown",
   "metadata": {},
   "source": [
    "# IMPORT"
   ]
  },
  {
   "cell_type": "code",
   "execution_count": 1,
   "metadata": {},
   "outputs": [],
   "source": [
    "import numpy as np # linear algebra\n",
    "import pandas as pd # data processing, CSV file I/O (e.g. pd.read_csv)\n",
    "import re\n",
    "import datetime\n",
    "\n",
    "import matplotlib.pyplot as plt\n",
    "import seaborn as sns \n",
    "%matplotlib inline\n",
    "\n",
    "# Загружаем специальный удобный инструмент для разделения датасета:\n",
    "from sklearn.model_selection import train_test_split\n",
    "\n",
    "# Input data files are available in the \"../input/\" directory.\n",
    "# For example, running this (by clicking run or pressing Shift+Enter) will list all files under the input directory\n",
    "\n",
    "import os\n",
    "\n",
    "from sklearn.ensemble import RandomForestRegressor # инструмент для создания и обучения модели\n",
    "from sklearn import metrics # инструменты для оценки точности модели"
   ]
  },
  {
   "cell_type": "code",
   "execution_count": 2,
   "metadata": {},
   "outputs": [],
   "source": [
    "# всегда фиксируйте RANDOM_SEED, чтобы ваши эксперименты были воспроизводимы!\n",
    "RANDOM_SEED = 42"
   ]
  },
  {
   "cell_type": "code",
   "execution_count": 3,
   "metadata": {},
   "outputs": [],
   "source": [
    "# зафиксируем версию пакетов, чтобы эксперименты были воспроизводимы:\n",
    "!pip freeze > requirements.txt"
   ]
  },
  {
   "cell_type": "markdown",
   "metadata": {},
   "source": [
    "# DATA"
   ]
  },
  {
   "cell_type": "code",
   "execution_count": 4,
   "metadata": {
    "_cell_guid": "79c7e3d0-c299-4dcb-8224-4455121ee9b0",
    "_uuid": "d629ff2d2480ee46fbb7e2d37f6b5fab8052498a"
   },
   "outputs": [],
   "source": [
    "df_train = pd.read_csv('main_task.csv')\n",
    "df_test = pd.read_csv('kaggle_task.csv')\n",
    "sample_submission = pd.read_csv('sample_submission.csv')"
   ]
  },
  {
   "cell_type": "markdown",
   "metadata": {},
   "source": [
    "Посмотрим имеющиеся датасеты на предмет того, сколько строк и столбцов в них, сколько пропусков и какие тип данных.  \n",
    "Так же сравним, чтобы одинаковые признаки имели одинаковый тип данных.  "
   ]
  },
  {
   "cell_type": "code",
   "execution_count": 5,
   "metadata": {},
   "outputs": [
    {
     "name": "stdout",
     "output_type": "stream",
     "text": [
      "<class 'pandas.core.frame.DataFrame'>\n",
      "RangeIndex: 40000 entries, 0 to 39999\n",
      "Data columns (total 10 columns):\n",
      "Restaurant_id        40000 non-null object\n",
      "City                 40000 non-null object\n",
      "Cuisine Style        30717 non-null object\n",
      "Ranking              40000 non-null float64\n",
      "Rating               40000 non-null float64\n",
      "Price Range          26114 non-null object\n",
      "Number of Reviews    37457 non-null float64\n",
      "Reviews              40000 non-null object\n",
      "URL_TA               40000 non-null object\n",
      "ID_TA                40000 non-null object\n",
      "dtypes: float64(3), object(7)\n",
      "memory usage: 3.1+ MB\n"
     ]
    }
   ],
   "source": [
    "df_train.info()"
   ]
  },
  {
   "cell_type": "code",
   "execution_count": 6,
   "metadata": {},
   "outputs": [
    {
     "data": {
      "text/html": [
       "<div>\n",
       "<style scoped>\n",
       "    .dataframe tbody tr th:only-of-type {\n",
       "        vertical-align: middle;\n",
       "    }\n",
       "\n",
       "    .dataframe tbody tr th {\n",
       "        vertical-align: top;\n",
       "    }\n",
       "\n",
       "    .dataframe thead th {\n",
       "        text-align: right;\n",
       "    }\n",
       "</style>\n",
       "<table border=\"1\" class=\"dataframe\">\n",
       "  <thead>\n",
       "    <tr style=\"text-align: right;\">\n",
       "      <th></th>\n",
       "      <th>Restaurant_id</th>\n",
       "      <th>City</th>\n",
       "      <th>Cuisine Style</th>\n",
       "      <th>Ranking</th>\n",
       "      <th>Rating</th>\n",
       "      <th>Price Range</th>\n",
       "      <th>Number of Reviews</th>\n",
       "      <th>Reviews</th>\n",
       "      <th>URL_TA</th>\n",
       "      <th>ID_TA</th>\n",
       "    </tr>\n",
       "  </thead>\n",
       "  <tbody>\n",
       "    <tr>\n",
       "      <td>0</td>\n",
       "      <td>id_5569</td>\n",
       "      <td>Paris</td>\n",
       "      <td>['European', 'French', 'International']</td>\n",
       "      <td>5570.0</td>\n",
       "      <td>3.5</td>\n",
       "      <td>$$ - $$$</td>\n",
       "      <td>194.0</td>\n",
       "      <td>[['Good food at your doorstep', 'A good hotel ...</td>\n",
       "      <td>/Restaurant_Review-g187147-d1912643-Reviews-R_...</td>\n",
       "      <td>d1912643</td>\n",
       "    </tr>\n",
       "    <tr>\n",
       "      <td>1</td>\n",
       "      <td>id_1535</td>\n",
       "      <td>Stockholm</td>\n",
       "      <td>NaN</td>\n",
       "      <td>1537.0</td>\n",
       "      <td>4.0</td>\n",
       "      <td>NaN</td>\n",
       "      <td>10.0</td>\n",
       "      <td>[['Unique cuisine', 'Delicious Nepalese food']...</td>\n",
       "      <td>/Restaurant_Review-g189852-d7992032-Reviews-Bu...</td>\n",
       "      <td>d7992032</td>\n",
       "    </tr>\n",
       "    <tr>\n",
       "      <td>2</td>\n",
       "      <td>id_352</td>\n",
       "      <td>London</td>\n",
       "      <td>['Japanese', 'Sushi', 'Asian', 'Grill', 'Veget...</td>\n",
       "      <td>353.0</td>\n",
       "      <td>4.5</td>\n",
       "      <td>$$$$</td>\n",
       "      <td>688.0</td>\n",
       "      <td>[['Catch up with friends', 'Not exceptional'],...</td>\n",
       "      <td>/Restaurant_Review-g186338-d8632781-Reviews-RO...</td>\n",
       "      <td>d8632781</td>\n",
       "    </tr>\n",
       "    <tr>\n",
       "      <td>3</td>\n",
       "      <td>id_3456</td>\n",
       "      <td>Berlin</td>\n",
       "      <td>NaN</td>\n",
       "      <td>3458.0</td>\n",
       "      <td>5.0</td>\n",
       "      <td>NaN</td>\n",
       "      <td>3.0</td>\n",
       "      <td>[[], []]</td>\n",
       "      <td>/Restaurant_Review-g187323-d1358776-Reviews-Es...</td>\n",
       "      <td>d1358776</td>\n",
       "    </tr>\n",
       "    <tr>\n",
       "      <td>4</td>\n",
       "      <td>id_615</td>\n",
       "      <td>Munich</td>\n",
       "      <td>['German', 'Central European', 'Vegetarian Fri...</td>\n",
       "      <td>621.0</td>\n",
       "      <td>4.0</td>\n",
       "      <td>$$ - $$$</td>\n",
       "      <td>84.0</td>\n",
       "      <td>[['Best place to try a Bavarian food', 'Nice b...</td>\n",
       "      <td>/Restaurant_Review-g187309-d6864963-Reviews-Au...</td>\n",
       "      <td>d6864963</td>\n",
       "    </tr>\n",
       "  </tbody>\n",
       "</table>\n",
       "</div>"
      ],
      "text/plain": [
       "  Restaurant_id       City                                      Cuisine Style  \\\n",
       "0       id_5569      Paris            ['European', 'French', 'International']   \n",
       "1       id_1535  Stockholm                                                NaN   \n",
       "2        id_352     London  ['Japanese', 'Sushi', 'Asian', 'Grill', 'Veget...   \n",
       "3       id_3456     Berlin                                                NaN   \n",
       "4        id_615     Munich  ['German', 'Central European', 'Vegetarian Fri...   \n",
       "\n",
       "   Ranking  Rating Price Range  Number of Reviews  \\\n",
       "0   5570.0     3.5    $$ - $$$              194.0   \n",
       "1   1537.0     4.0         NaN               10.0   \n",
       "2    353.0     4.5        $$$$              688.0   \n",
       "3   3458.0     5.0         NaN                3.0   \n",
       "4    621.0     4.0    $$ - $$$               84.0   \n",
       "\n",
       "                                             Reviews  \\\n",
       "0  [['Good food at your doorstep', 'A good hotel ...   \n",
       "1  [['Unique cuisine', 'Delicious Nepalese food']...   \n",
       "2  [['Catch up with friends', 'Not exceptional'],...   \n",
       "3                                           [[], []]   \n",
       "4  [['Best place to try a Bavarian food', 'Nice b...   \n",
       "\n",
       "                                              URL_TA     ID_TA  \n",
       "0  /Restaurant_Review-g187147-d1912643-Reviews-R_...  d1912643  \n",
       "1  /Restaurant_Review-g189852-d7992032-Reviews-Bu...  d7992032  \n",
       "2  /Restaurant_Review-g186338-d8632781-Reviews-RO...  d8632781  \n",
       "3  /Restaurant_Review-g187323-d1358776-Reviews-Es...  d1358776  \n",
       "4  /Restaurant_Review-g187309-d6864963-Reviews-Au...  d6864963  "
      ]
     },
     "execution_count": 6,
     "metadata": {},
     "output_type": "execute_result"
    }
   ],
   "source": [
    "df_train.head(5)"
   ]
  },
  {
   "cell_type": "code",
   "execution_count": 7,
   "metadata": {},
   "outputs": [
    {
     "name": "stdout",
     "output_type": "stream",
     "text": [
      "<class 'pandas.core.frame.DataFrame'>\n",
      "RangeIndex: 10000 entries, 0 to 9999\n",
      "Data columns (total 9 columns):\n",
      "Restaurant_id        10000 non-null object\n",
      "City                 10000 non-null object\n",
      "Cuisine Style        7693 non-null object\n",
      "Ranking              10000 non-null float64\n",
      "Price Range          6525 non-null object\n",
      "Number of Reviews    9343 non-null float64\n",
      "Reviews              9998 non-null object\n",
      "URL_TA               10000 non-null object\n",
      "ID_TA                10000 non-null object\n",
      "dtypes: float64(2), object(7)\n",
      "memory usage: 703.2+ KB\n"
     ]
    }
   ],
   "source": [
    "df_test.info()"
   ]
  },
  {
   "cell_type": "code",
   "execution_count": 8,
   "metadata": {},
   "outputs": [
    {
     "data": {
      "text/html": [
       "<div>\n",
       "<style scoped>\n",
       "    .dataframe tbody tr th:only-of-type {\n",
       "        vertical-align: middle;\n",
       "    }\n",
       "\n",
       "    .dataframe tbody tr th {\n",
       "        vertical-align: top;\n",
       "    }\n",
       "\n",
       "    .dataframe thead th {\n",
       "        text-align: right;\n",
       "    }\n",
       "</style>\n",
       "<table border=\"1\" class=\"dataframe\">\n",
       "  <thead>\n",
       "    <tr style=\"text-align: right;\">\n",
       "      <th></th>\n",
       "      <th>Restaurant_id</th>\n",
       "      <th>City</th>\n",
       "      <th>Cuisine Style</th>\n",
       "      <th>Ranking</th>\n",
       "      <th>Price Range</th>\n",
       "      <th>Number of Reviews</th>\n",
       "      <th>Reviews</th>\n",
       "      <th>URL_TA</th>\n",
       "      <th>ID_TA</th>\n",
       "    </tr>\n",
       "  </thead>\n",
       "  <tbody>\n",
       "    <tr>\n",
       "      <td>0</td>\n",
       "      <td>id_0</td>\n",
       "      <td>Paris</td>\n",
       "      <td>['Bar', 'Pub']</td>\n",
       "      <td>12963.0</td>\n",
       "      <td>$$ - $$$</td>\n",
       "      <td>4.0</td>\n",
       "      <td>[[], []]</td>\n",
       "      <td>/Restaurant_Review-g187147-d10746918-Reviews-L...</td>\n",
       "      <td>d10746918</td>\n",
       "    </tr>\n",
       "    <tr>\n",
       "      <td>1</td>\n",
       "      <td>id_1</td>\n",
       "      <td>Helsinki</td>\n",
       "      <td>['European', 'Scandinavian', 'Gluten Free Opti...</td>\n",
       "      <td>106.0</td>\n",
       "      <td>$$ - $$$</td>\n",
       "      <td>97.0</td>\n",
       "      <td>[['Very good reviews!', 'Fine dining in Hakani...</td>\n",
       "      <td>/Restaurant_Review-g189934-d6674944-Reviews-Ra...</td>\n",
       "      <td>d6674944</td>\n",
       "    </tr>\n",
       "    <tr>\n",
       "      <td>2</td>\n",
       "      <td>id_2</td>\n",
       "      <td>Edinburgh</td>\n",
       "      <td>['Vegetarian Friendly']</td>\n",
       "      <td>810.0</td>\n",
       "      <td>$$ - $$$</td>\n",
       "      <td>28.0</td>\n",
       "      <td>[['Better than the Links', 'Ivy Black'], ['12/...</td>\n",
       "      <td>/Restaurant_Review-g186525-d13129638-Reviews-B...</td>\n",
       "      <td>d13129638</td>\n",
       "    </tr>\n",
       "    <tr>\n",
       "      <td>3</td>\n",
       "      <td>id_3</td>\n",
       "      <td>London</td>\n",
       "      <td>['Italian', 'Mediterranean', 'European', 'Vege...</td>\n",
       "      <td>1669.0</td>\n",
       "      <td>$$$$</td>\n",
       "      <td>202.0</td>\n",
       "      <td>[['Most exquisite', 'Delicious and authentic']...</td>\n",
       "      <td>/Restaurant_Review-g186338-d680417-Reviews-Qui...</td>\n",
       "      <td>d680417</td>\n",
       "    </tr>\n",
       "    <tr>\n",
       "      <td>4</td>\n",
       "      <td>id_4</td>\n",
       "      <td>Bratislava</td>\n",
       "      <td>['Italian', 'Mediterranean', 'European', 'Seaf...</td>\n",
       "      <td>37.0</td>\n",
       "      <td>$$$$</td>\n",
       "      <td>162.0</td>\n",
       "      <td>[['Always the best in bratislava', 'Very good ...</td>\n",
       "      <td>/Restaurant_Review-g274924-d1112354-Reviews-Ma...</td>\n",
       "      <td>d1112354</td>\n",
       "    </tr>\n",
       "  </tbody>\n",
       "</table>\n",
       "</div>"
      ],
      "text/plain": [
       "  Restaurant_id        City  \\\n",
       "0          id_0       Paris   \n",
       "1          id_1    Helsinki   \n",
       "2          id_2   Edinburgh   \n",
       "3          id_3      London   \n",
       "4          id_4  Bratislava   \n",
       "\n",
       "                                       Cuisine Style  Ranking Price Range  \\\n",
       "0                                     ['Bar', 'Pub']  12963.0    $$ - $$$   \n",
       "1  ['European', 'Scandinavian', 'Gluten Free Opti...    106.0    $$ - $$$   \n",
       "2                            ['Vegetarian Friendly']    810.0    $$ - $$$   \n",
       "3  ['Italian', 'Mediterranean', 'European', 'Vege...   1669.0        $$$$   \n",
       "4  ['Italian', 'Mediterranean', 'European', 'Seaf...     37.0        $$$$   \n",
       "\n",
       "   Number of Reviews                                            Reviews  \\\n",
       "0                4.0                                           [[], []]   \n",
       "1               97.0  [['Very good reviews!', 'Fine dining in Hakani...   \n",
       "2               28.0  [['Better than the Links', 'Ivy Black'], ['12/...   \n",
       "3              202.0  [['Most exquisite', 'Delicious and authentic']...   \n",
       "4              162.0  [['Always the best in bratislava', 'Very good ...   \n",
       "\n",
       "                                              URL_TA      ID_TA  \n",
       "0  /Restaurant_Review-g187147-d10746918-Reviews-L...  d10746918  \n",
       "1  /Restaurant_Review-g189934-d6674944-Reviews-Ra...   d6674944  \n",
       "2  /Restaurant_Review-g186525-d13129638-Reviews-B...  d13129638  \n",
       "3  /Restaurant_Review-g186338-d680417-Reviews-Qui...    d680417  \n",
       "4  /Restaurant_Review-g274924-d1112354-Reviews-Ma...   d1112354  "
      ]
     },
     "execution_count": 8,
     "metadata": {},
     "output_type": "execute_result"
    }
   ],
   "source": [
    "df_test.head(5)"
   ]
  },
  {
   "cell_type": "code",
   "execution_count": 9,
   "metadata": {},
   "outputs": [
    {
     "data": {
      "text/html": [
       "<div>\n",
       "<style scoped>\n",
       "    .dataframe tbody tr th:only-of-type {\n",
       "        vertical-align: middle;\n",
       "    }\n",
       "\n",
       "    .dataframe tbody tr th {\n",
       "        vertical-align: top;\n",
       "    }\n",
       "\n",
       "    .dataframe thead th {\n",
       "        text-align: right;\n",
       "    }\n",
       "</style>\n",
       "<table border=\"1\" class=\"dataframe\">\n",
       "  <thead>\n",
       "    <tr style=\"text-align: right;\">\n",
       "      <th></th>\n",
       "      <th>Restaurant_id</th>\n",
       "      <th>Rating</th>\n",
       "    </tr>\n",
       "  </thead>\n",
       "  <tbody>\n",
       "    <tr>\n",
       "      <td>0</td>\n",
       "      <td>id_0</td>\n",
       "      <td>2.0</td>\n",
       "    </tr>\n",
       "    <tr>\n",
       "      <td>1</td>\n",
       "      <td>id_1</td>\n",
       "      <td>2.5</td>\n",
       "    </tr>\n",
       "    <tr>\n",
       "      <td>2</td>\n",
       "      <td>id_2</td>\n",
       "      <td>4.0</td>\n",
       "    </tr>\n",
       "    <tr>\n",
       "      <td>3</td>\n",
       "      <td>id_3</td>\n",
       "      <td>1.0</td>\n",
       "    </tr>\n",
       "    <tr>\n",
       "      <td>4</td>\n",
       "      <td>id_4</td>\n",
       "      <td>4.0</td>\n",
       "    </tr>\n",
       "  </tbody>\n",
       "</table>\n",
       "</div>"
      ],
      "text/plain": [
       "  Restaurant_id  Rating\n",
       "0          id_0     2.0\n",
       "1          id_1     2.5\n",
       "2          id_2     4.0\n",
       "3          id_3     1.0\n",
       "4          id_4     4.0"
      ]
     },
     "execution_count": 9,
     "metadata": {},
     "output_type": "execute_result"
    }
   ],
   "source": [
    "sample_submission.head(5)"
   ]
  },
  {
   "cell_type": "code",
   "execution_count": 10,
   "metadata": {
    "scrolled": true
   },
   "outputs": [
    {
     "name": "stdout",
     "output_type": "stream",
     "text": [
      "<class 'pandas.core.frame.DataFrame'>\n",
      "RangeIndex: 10000 entries, 0 to 9999\n",
      "Data columns (total 2 columns):\n",
      "Restaurant_id    10000 non-null object\n",
      "Rating           10000 non-null float64\n",
      "dtypes: float64(1), object(1)\n",
      "memory usage: 156.4+ KB\n"
     ]
    }
   ],
   "source": [
    "sample_submission.info()"
   ]
  },
  {
   "cell_type": "code",
   "execution_count": 11,
   "metadata": {},
   "outputs": [],
   "source": [
    "# ВАЖНО! дря корректной обработки признаков объединяем трейн и тест в один датасет\n",
    "df_train['sample'] = 1 # помечаем где у нас трейн\n",
    "df_test['sample'] = 0 # помечаем где у нас тест\n",
    "df_test['Rating'] = 0 # в тесте у нас нет значения Rating, мы его должны предсказать, по этому пока просто заполняем нулями\n",
    "\n",
    "data = df_test.append(df_train, sort=False).reset_index(drop=True) # объединяем"
   ]
  },
  {
   "cell_type": "code",
   "execution_count": 12,
   "metadata": {},
   "outputs": [
    {
     "name": "stdout",
     "output_type": "stream",
     "text": [
      "<class 'pandas.core.frame.DataFrame'>\n",
      "RangeIndex: 50000 entries, 0 to 49999\n",
      "Data columns (total 11 columns):\n",
      "Restaurant_id        50000 non-null object\n",
      "City                 50000 non-null object\n",
      "Cuisine Style        38410 non-null object\n",
      "Ranking              50000 non-null float64\n",
      "Price Range          32639 non-null object\n",
      "Number of Reviews    46800 non-null float64\n",
      "Reviews              49998 non-null object\n",
      "URL_TA               50000 non-null object\n",
      "ID_TA                50000 non-null object\n",
      "sample               50000 non-null int64\n",
      "Rating               50000 non-null float64\n",
      "dtypes: float64(3), int64(1), object(7)\n",
      "memory usage: 4.2+ MB\n"
     ]
    }
   ],
   "source": [
    "data.info()"
   ]
  },
  {
   "cell_type": "markdown",
   "metadata": {},
   "source": [
    "В итоговом датасете видим:  \n",
    "- 50 тыс строк с индексами от 0 до 49999\n",
    "- 11 столбцов\n",
    "- 4 столбца с числовыми значениями, 7 с текстовыми"
   ]
  },
  {
   "cell_type": "markdown",
   "metadata": {},
   "source": [
    "Подробнее по признакам:\n",
    "* City: Город \n",
    "* Cuisine Style: Кухня\n",
    "* Ranking: Ранг ресторана относительно других ресторанов в этом городе\n",
    "* Price Range: Цены в ресторане в 3 категориях\n",
    "* Number of Reviews: Количество отзывов\n",
    "* Reviews: 2 последних отзыва и даты этих отзывов\n",
    "* URL_TA: страница ресторана на 'www.tripadvisor.com' \n",
    "* ID_TA: ID ресторана в TripAdvisor\n",
    "* Rating: Рейтинг ресторана"
   ]
  },
  {
   "cell_type": "code",
   "execution_count": 13,
   "metadata": {
    "scrolled": true
   },
   "outputs": [
    {
     "data": {
      "text/html": [
       "<div>\n",
       "<style scoped>\n",
       "    .dataframe tbody tr th:only-of-type {\n",
       "        vertical-align: middle;\n",
       "    }\n",
       "\n",
       "    .dataframe tbody tr th {\n",
       "        vertical-align: top;\n",
       "    }\n",
       "\n",
       "    .dataframe thead th {\n",
       "        text-align: right;\n",
       "    }\n",
       "</style>\n",
       "<table border=\"1\" class=\"dataframe\">\n",
       "  <thead>\n",
       "    <tr style=\"text-align: right;\">\n",
       "      <th></th>\n",
       "      <th>Restaurant_id</th>\n",
       "      <th>City</th>\n",
       "      <th>Cuisine Style</th>\n",
       "      <th>Ranking</th>\n",
       "      <th>Price Range</th>\n",
       "      <th>Number of Reviews</th>\n",
       "      <th>Reviews</th>\n",
       "      <th>URL_TA</th>\n",
       "      <th>ID_TA</th>\n",
       "      <th>sample</th>\n",
       "      <th>Rating</th>\n",
       "    </tr>\n",
       "  </thead>\n",
       "  <tbody>\n",
       "    <tr>\n",
       "      <td>36223</td>\n",
       "      <td>id_3003</td>\n",
       "      <td>Barcelona</td>\n",
       "      <td>['Chinese']</td>\n",
       "      <td>3004.0</td>\n",
       "      <td>$</td>\n",
       "      <td>36.0</td>\n",
       "      <td>[['Good food for the price, no skimping, they....</td>\n",
       "      <td>/Restaurant_Review-g187497-d7917267-Reviews-Pa...</td>\n",
       "      <td>d7917267</td>\n",
       "      <td>1</td>\n",
       "      <td>4.0</td>\n",
       "    </tr>\n",
       "    <tr>\n",
       "      <td>33707</td>\n",
       "      <td>id_258</td>\n",
       "      <td>Copenhagen</td>\n",
       "      <td>['Spanish', 'Wine Bar', 'European']</td>\n",
       "      <td>259.0</td>\n",
       "      <td>$$ - $$$</td>\n",
       "      <td>126.0</td>\n",
       "      <td>[['Good Wine, Friendly Atmosphere', 'Great con...</td>\n",
       "      <td>/Restaurant_Review-g189541-d7078270-Reviews-Vi...</td>\n",
       "      <td>d7078270</td>\n",
       "      <td>1</td>\n",
       "      <td>4.0</td>\n",
       "    </tr>\n",
       "    <tr>\n",
       "      <td>9728</td>\n",
       "      <td>id_9728</td>\n",
       "      <td>Berlin</td>\n",
       "      <td>NaN</td>\n",
       "      <td>3273.0</td>\n",
       "      <td>NaN</td>\n",
       "      <td>NaN</td>\n",
       "      <td>[[], []]</td>\n",
       "      <td>/Restaurant_Review-g187323-d9768082-Reviews-Bu...</td>\n",
       "      <td>d9768082</td>\n",
       "      <td>0</td>\n",
       "      <td>0.0</td>\n",
       "    </tr>\n",
       "    <tr>\n",
       "      <td>2525</td>\n",
       "      <td>id_2525</td>\n",
       "      <td>Madrid</td>\n",
       "      <td>['Bar', 'Cafe', 'Spanish', 'Pub', 'Fusion']</td>\n",
       "      <td>3776.0</td>\n",
       "      <td>$$ - $$$</td>\n",
       "      <td>5.0</td>\n",
       "      <td>[[], []]</td>\n",
       "      <td>/Restaurant_Review-g187514-d13160174-Reviews-S...</td>\n",
       "      <td>d13160174</td>\n",
       "      <td>0</td>\n",
       "      <td>0.0</td>\n",
       "    </tr>\n",
       "    <tr>\n",
       "      <td>19861</td>\n",
       "      <td>id_13203</td>\n",
       "      <td>Paris</td>\n",
       "      <td>NaN</td>\n",
       "      <td>13205.0</td>\n",
       "      <td>NaN</td>\n",
       "      <td>43.0</td>\n",
       "      <td>[['Top service and top food', 'Fresh'], ['04/1...</td>\n",
       "      <td>/Restaurant_Review-g187147-d5808791-Reviews-GR...</td>\n",
       "      <td>d5808791</td>\n",
       "      <td>1</td>\n",
       "      <td>3.5</td>\n",
       "    </tr>\n",
       "  </tbody>\n",
       "</table>\n",
       "</div>"
      ],
      "text/plain": [
       "      Restaurant_id        City                                Cuisine Style  \\\n",
       "36223       id_3003   Barcelona                                  ['Chinese']   \n",
       "33707        id_258  Copenhagen          ['Spanish', 'Wine Bar', 'European']   \n",
       "9728        id_9728      Berlin                                          NaN   \n",
       "2525        id_2525      Madrid  ['Bar', 'Cafe', 'Spanish', 'Pub', 'Fusion']   \n",
       "19861      id_13203       Paris                                          NaN   \n",
       "\n",
       "       Ranking Price Range  Number of Reviews  \\\n",
       "36223   3004.0           $               36.0   \n",
       "33707    259.0    $$ - $$$              126.0   \n",
       "9728    3273.0         NaN                NaN   \n",
       "2525    3776.0    $$ - $$$                5.0   \n",
       "19861  13205.0         NaN               43.0   \n",
       "\n",
       "                                                 Reviews  \\\n",
       "36223  [['Good food for the price, no skimping, they....   \n",
       "33707  [['Good Wine, Friendly Atmosphere', 'Great con...   \n",
       "9728                                            [[], []]   \n",
       "2525                                            [[], []]   \n",
       "19861  [['Top service and top food', 'Fresh'], ['04/1...   \n",
       "\n",
       "                                                  URL_TA      ID_TA  sample  \\\n",
       "36223  /Restaurant_Review-g187497-d7917267-Reviews-Pa...   d7917267       1   \n",
       "33707  /Restaurant_Review-g189541-d7078270-Reviews-Vi...   d7078270       1   \n",
       "9728   /Restaurant_Review-g187323-d9768082-Reviews-Bu...   d9768082       0   \n",
       "2525   /Restaurant_Review-g187514-d13160174-Reviews-S...  d13160174       0   \n",
       "19861  /Restaurant_Review-g187147-d5808791-Reviews-GR...   d5808791       1   \n",
       "\n",
       "       Rating  \n",
       "36223     4.0  \n",
       "33707     4.0  \n",
       "9728      0.0  \n",
       "2525      0.0  \n",
       "19861     3.5  "
      ]
     },
     "execution_count": 13,
     "metadata": {},
     "output_type": "execute_result"
    }
   ],
   "source": [
    "data.sample(5) # посмотрим случайные строки для лучшего понимания, как выглядит датасет"
   ]
  },
  {
   "cell_type": "markdown",
   "metadata": {},
   "source": [
    "Как видим, большинство признаков у нас требует очистки и предварительной обработки."
   ]
  },
  {
   "cell_type": "markdown",
   "metadata": {},
   "source": [
    "# Изучаем подробно каждый признак"
   ]
  },
  {
   "cell_type": "code",
   "execution_count": 14,
   "metadata": {},
   "outputs": [],
   "source": [
    "def values_information(col):\n",
    "    '''Ф-ция принимает на вход название столбца, а возвращает \n",
    "    инфу о пропусках, уникальных значениях и о типе данных'''\n",
    "    \n",
    "    skip = pd.isna(data[col]).sum()\n",
    "    uniq = data[col].nunique()\n",
    "    d_types = data[col].dtypes\n",
    "    \n",
    "    print(col)\n",
    "    print('{} - пропусков'.format(skip))\n",
    "    print('{} - уникальных значений'.format(uniq))\n",
    "    print('{} - тип данных'.format(d_types))"
   ]
  },
  {
   "cell_type": "markdown",
   "metadata": {},
   "source": [
    "## 1. Restaurant_id"
   ]
  },
  {
   "cell_type": "code",
   "execution_count": 15,
   "metadata": {},
   "outputs": [
    {
     "name": "stdout",
     "output_type": "stream",
     "text": [
      "Restaurant_id\n",
      "0 - пропусков\n",
      "13094 - уникальных значений\n",
      "object - тип данных\n"
     ]
    }
   ],
   "source": [
    "values_information('Restaurant_id')"
   ]
  },
  {
   "cell_type": "code",
   "execution_count": 16,
   "metadata": {},
   "outputs": [
    {
     "data": {
      "text/plain": [
       "id_633      19\n",
       "id_871      19\n",
       "id_227      19\n",
       "id_436      19\n",
       "id_534      18\n",
       "            ..\n",
       "id_14449     1\n",
       "id_11542     1\n",
       "id_5681      1\n",
       "id_11637     1\n",
       "id_8275      1\n",
       "Name: Restaurant_id, Length: 13094, dtype: int64"
      ]
     },
     "execution_count": 16,
     "metadata": {},
     "output_type": "execute_result"
    }
   ],
   "source": [
    "data['Restaurant_id'].value_counts()"
   ]
  },
  {
   "cell_type": "markdown",
   "metadata": {},
   "source": [
    "Сразу видим интересный момент. Есть много ресторанов с одинаковыми **Restaurant_id**.  \n",
    "Попробуем разобраться дальше, что это может означать"
   ]
  },
  {
   "cell_type": "markdown",
   "metadata": {},
   "source": [
    "## 2. City"
   ]
  },
  {
   "cell_type": "code",
   "execution_count": 17,
   "metadata": {},
   "outputs": [
    {
     "name": "stdout",
     "output_type": "stream",
     "text": [
      "City\n",
      "0 - пропусков\n",
      "31 - уникальных значений\n",
      "object - тип данных\n"
     ]
    }
   ],
   "source": [
    "values_information('City')"
   ]
  },
  {
   "cell_type": "markdown",
   "metadata": {},
   "source": [
    "## 3. Cuisine Style"
   ]
  },
  {
   "cell_type": "code",
   "execution_count": 18,
   "metadata": {},
   "outputs": [
    {
     "name": "stdout",
     "output_type": "stream",
     "text": [
      "Cuisine Style\n",
      "11590 - пропусков\n",
      "10731 - уникальных значений\n",
      "object - тип данных\n"
     ]
    }
   ],
   "source": [
    "values_information('Cuisine Style')"
   ]
  },
  {
   "cell_type": "markdown",
   "metadata": {},
   "source": [
    "Много пропусков. Дальше заполним их отдельным значением и посмотрим на работу модели. Возможо в пропусках есть закономерность"
   ]
  },
  {
   "cell_type": "markdown",
   "metadata": {},
   "source": [
    "## 4. Ranking"
   ]
  },
  {
   "cell_type": "code",
   "execution_count": 19,
   "metadata": {},
   "outputs": [
    {
     "name": "stdout",
     "output_type": "stream",
     "text": [
      "Ranking\n",
      "0 - пропусков\n",
      "12975 - уникальных значений\n",
      "float64 - тип данных\n"
     ]
    }
   ],
   "source": [
    "values_information('Ranking')"
   ]
  },
  {
   "cell_type": "markdown",
   "metadata": {},
   "source": [
    "### Изучим распределение числового признака\n"
   ]
  },
  {
   "cell_type": "code",
   "execution_count": 20,
   "metadata": {},
   "outputs": [
    {
     "data": {
      "text/plain": [
       "Text(0.5, 0, 'Ranking')"
      ]
     },
     "execution_count": 20,
     "metadata": {},
     "output_type": "execute_result"
    },
    {
     "data": {
      "image/png": "[encoded data removed]",
      "text/plain": [
       "<Figure size 432x288 with 1 Axes>"
      ]
     },
     "metadata": {
      "needs_background": "light"
     },
     "output_type": "display_data"
    }
   ],
   "source": [
    "fig = plt.figure()\n",
    "axes = fig.add_axes([0, 0, 1, 1])\n",
    "axes.hist(df_train['Ranking'], bins=100)\n",
    "axes.set_title('Распределение параметра \"Ranking\"')\n",
    "axes.set_ylabel('Кол-во ресторанов')\n",
    "axes.set_xlabel('Ranking')"
   ]
  },
  {
   "cell_type": "markdown",
   "metadata": {},
   "source": [
    "У нас много ресторанов, которые не дотягивают и до 2500 места в своем городе, а что там по городам?"
   ]
  },
  {
   "cell_type": "code",
   "execution_count": 21,
   "metadata": {},
   "outputs": [
    {
     "data": {
      "text/plain": [
       "<matplotlib.axes._subplots.AxesSubplot at 0x1f438d6de88>"
      ]
     },
     "execution_count": 21,
     "metadata": {},
     "output_type": "execute_result"
    },
    {
     "data": {
      "image/png": "[encoded data removed]",
      "text/plain": [
       "<Figure size 432x288 with 1 Axes>"
      ]
     },
     "metadata": {
      "needs_background": "light"
     },
     "output_type": "display_data"
    }
   ],
   "source": [
    "df_train['City'].value_counts(ascending=True).plot(kind='barh', title='Кол-во ресторанов в городе')"
   ]
  },
  {
   "cell_type": "markdown",
   "metadata": {},
   "source": [
    "Посмотрим, как изменится распределение в большом городе:"
   ]
  },
  {
   "cell_type": "code",
   "execution_count": 22,
   "metadata": {},
   "outputs": [
    {
     "data": {
      "text/plain": [
       "Text(0.5, 0, 'Ranking')"
      ]
     },
     "execution_count": 22,
     "metadata": {},
     "output_type": "execute_result"
    },
    {
     "data": {
      "image/png": "[encoded data removed]",
      "text/plain": [
       "<Figure size 432x288 with 1 Axes>"
      ]
     },
     "metadata": {
      "needs_background": "light"
     },
     "output_type": "display_data"
    }
   ],
   "source": [
    "fig = plt.figure()\n",
    "axes = fig.add_axes([0, 0, 1, 1])\n",
    "axes.hist(df_train['Ranking'][df_train['City'] =='London'], bins=100)\n",
    "axes.set_title('Распределение параметра \"Ranking\" в Лондоне')\n",
    "axes.set_ylabel('Кол-во ресторанов')\n",
    "axes.set_xlabel('Ranking')"
   ]
  },
  {
   "cell_type": "code",
   "execution_count": 23,
   "metadata": {},
   "outputs": [
    {
     "data": {
      "image/png": "[encoded data removed]",
      "text/plain": [
       "<Figure size 432x288 with 1 Axes>"
      ]
     },
     "metadata": {
      "needs_background": "light"
     },
     "output_type": "display_data"
    }
   ],
   "source": [
    "fig = plt.figure()\n",
    "axes = fig.add_axes([0, 0, 1, 1])\n",
    "axes.set_title('Распределение параметра \"Ranking\" в ТОП10 городов')\n",
    "axes.set_ylabel('Кол-во ресторанов')\n",
    "axes.set_xlabel('Ranking')\n",
    "\n",
    "\n",
    "for x in (df_train['City'].value_counts())[0:10].index:\n",
    "    axes.hist(df_train['Ranking'][df_train['City'] == x], bins=100)"
   ]
  },
  {
   "cell_type": "markdown",
   "metadata": {},
   "source": [
    "Получается, что Ranking имеет нормальное распределение, просто в больших городах больше ресторанов, из-за мы этого имеем смещение.\n",
    "\n",
    ">Нужно создать признак который нормализует **\"Ranking\"**. Для этого **\"Ranking\"** поделим на **кол-во ресторанов в городе**"
   ]
  },
  {
   "cell_type": "markdown",
   "metadata": {},
   "source": [
    "## 5. Price Range"
   ]
  },
  {
   "cell_type": "code",
   "execution_count": 24,
   "metadata": {},
   "outputs": [
    {
     "name": "stdout",
     "output_type": "stream",
     "text": [
      "Price Range\n",
      "17361 - пропусков\n",
      "3 - уникальных значений\n",
      "object - тип данных\n"
     ]
    }
   ],
   "source": [
    "values_information('Price Range')"
   ]
  },
  {
   "cell_type": "code",
   "execution_count": 25,
   "metadata": {},
   "outputs": [
    {
     "data": {
      "text/plain": [
       "$$ - $$$    23041\n",
       "$            7816\n",
       "$$$$         1782\n",
       "Name: Price Range, dtype: int64"
      ]
     },
     "execution_count": 25,
     "metadata": {},
     "output_type": "execute_result"
    }
   ],
   "source": [
    "data['Price Range'].value_counts()"
   ]
  },
  {
   "cell_type": "markdown",
   "metadata": {},
   "source": [
    ">- Этот признак можно поменять на числовой, т.к. чем выше значение, тем выше ценовой сегмент ресторана\n",
    ">- Очень много ресторанов в среднем сегменте. Можно Пропуски заполнить им"
   ]
  },
  {
   "cell_type": "markdown",
   "metadata": {},
   "source": [
    "## 6. Number of Reviews"
   ]
  },
  {
   "cell_type": "code",
   "execution_count": 26,
   "metadata": {},
   "outputs": [
    {
     "name": "stdout",
     "output_type": "stream",
     "text": [
      "Number of Reviews\n",
      "3200 - пропусков\n",
      "1573 - уникальных значений\n",
      "float64 - тип данных\n"
     ]
    }
   ],
   "source": [
    "values_information('Number of Reviews')"
   ]
  },
  {
   "cell_type": "markdown",
   "metadata": {},
   "source": [
    "Посмотрим распределение признака 'Number of Reviews'  \n",
    "Сколько ресторанов (по оси Y) имеют какое кол-во оценок (По оси X)"
   ]
  },
  {
   "cell_type": "code",
   "execution_count": 27,
   "metadata": {},
   "outputs": [
    {
     "data": {
      "text/plain": [
       "<matplotlib.axes._subplots.AxesSubplot at 0x1f439e2d108>"
      ]
     },
     "execution_count": 27,
     "metadata": {},
     "output_type": "execute_result"
    },
    {
     "data": {
      "image/png": "[encoded data removed]",
      "text/plain": [
       "<Figure size 432x288 with 1 Axes>"
      ]
     },
     "metadata": {
      "needs_background": "light"
     },
     "output_type": "display_data"
    }
   ],
   "source": [
    "data['Number of Reviews'].hist(bins=100)"
   ]
  },
  {
   "cell_type": "markdown",
   "metadata": {},
   "source": [
    "## 7. Reviews"
   ]
  },
  {
   "cell_type": "code",
   "execution_count": 28,
   "metadata": {},
   "outputs": [
    {
     "name": "stdout",
     "output_type": "stream",
     "text": [
      "Reviews\n",
      "2 - пропусков\n",
      "41857 - уникальных значений\n",
      "object - тип данных\n"
     ]
    }
   ],
   "source": [
    "values_information('Reviews')"
   ]
  },
  {
   "cell_type": "markdown",
   "metadata": {},
   "source": [
    "Пропуски Можно смело заполнить **\"[[], []]\"** - такие значения уже есть  \n",
    "Сразу же это и сделаем"
   ]
  },
  {
   "cell_type": "code",
   "execution_count": 29,
   "metadata": {},
   "outputs": [],
   "source": [
    "data['Reviews'].fillna(\"[[], []]\", inplace=True)"
   ]
  },
  {
   "cell_type": "markdown",
   "metadata": {},
   "source": [
    "Так же мы тут видим, что строки со значением **\"[[], []]\"** имеют много пропусков в столбце кол-ва отзывов.  \n",
    "Т.о. делаем выводы, что тут кол-во отзывов скорее всего = 0"
   ]
  },
  {
   "cell_type": "code",
   "execution_count": 30,
   "metadata": {},
   "outputs": [
    {
     "data": {
      "text/html": [
       "<div>\n",
       "<style scoped>\n",
       "    .dataframe tbody tr th:only-of-type {\n",
       "        vertical-align: middle;\n",
       "    }\n",
       "\n",
       "    .dataframe tbody tr th {\n",
       "        vertical-align: top;\n",
       "    }\n",
       "\n",
       "    .dataframe thead th {\n",
       "        text-align: right;\n",
       "    }\n",
       "</style>\n",
       "<table border=\"1\" class=\"dataframe\">\n",
       "  <thead>\n",
       "    <tr style=\"text-align: right;\">\n",
       "      <th></th>\n",
       "      <th>Restaurant_id</th>\n",
       "      <th>City</th>\n",
       "      <th>Cuisine Style</th>\n",
       "      <th>Ranking</th>\n",
       "      <th>Price Range</th>\n",
       "      <th>Number of Reviews</th>\n",
       "      <th>Reviews</th>\n",
       "      <th>URL_TA</th>\n",
       "      <th>ID_TA</th>\n",
       "      <th>sample</th>\n",
       "      <th>Rating</th>\n",
       "    </tr>\n",
       "  </thead>\n",
       "  <tbody>\n",
       "    <tr>\n",
       "      <td>7</td>\n",
       "      <td>id_7</td>\n",
       "      <td>Budapest</td>\n",
       "      <td>NaN</td>\n",
       "      <td>2330.0</td>\n",
       "      <td>NaN</td>\n",
       "      <td>NaN</td>\n",
       "      <td>[[], []]</td>\n",
       "      <td>/Restaurant_Review-g274887-d8286886-Reviews-Be...</td>\n",
       "      <td>d8286886</td>\n",
       "      <td>0</td>\n",
       "      <td>0.0</td>\n",
       "    </tr>\n",
       "    <tr>\n",
       "      <td>25</td>\n",
       "      <td>id_25</td>\n",
       "      <td>Madrid</td>\n",
       "      <td>NaN</td>\n",
       "      <td>5828.0</td>\n",
       "      <td>NaN</td>\n",
       "      <td>NaN</td>\n",
       "      <td>[[], []]</td>\n",
       "      <td>/Restaurant_Review-g187514-d13202032-Reviews-W...</td>\n",
       "      <td>d13202032</td>\n",
       "      <td>0</td>\n",
       "      <td>0.0</td>\n",
       "    </tr>\n",
       "    <tr>\n",
       "      <td>53</td>\n",
       "      <td>id_53</td>\n",
       "      <td>Prague</td>\n",
       "      <td>NaN</td>\n",
       "      <td>2095.0</td>\n",
       "      <td>NaN</td>\n",
       "      <td>NaN</td>\n",
       "      <td>[[], []]</td>\n",
       "      <td>/Restaurant_Review-g274707-d7124128-Reviews-Ch...</td>\n",
       "      <td>d7124128</td>\n",
       "      <td>0</td>\n",
       "      <td>0.0</td>\n",
       "    </tr>\n",
       "    <tr>\n",
       "      <td>81</td>\n",
       "      <td>id_81</td>\n",
       "      <td>Barcelona</td>\n",
       "      <td>['Peruvian', 'South American']</td>\n",
       "      <td>4325.0</td>\n",
       "      <td>$$ - $$$</td>\n",
       "      <td>NaN</td>\n",
       "      <td>[[], []]</td>\n",
       "      <td>/Restaurant_Review-g187497-d10088997-Reviews-N...</td>\n",
       "      <td>d10088997</td>\n",
       "      <td>0</td>\n",
       "      <td>0.0</td>\n",
       "    </tr>\n",
       "    <tr>\n",
       "      <td>114</td>\n",
       "      <td>id_114</td>\n",
       "      <td>Lyon</td>\n",
       "      <td>NaN</td>\n",
       "      <td>2001.0</td>\n",
       "      <td>NaN</td>\n",
       "      <td>NaN</td>\n",
       "      <td>[[], []]</td>\n",
       "      <td>/Restaurant_Review-g1166685-d12644341-Reviews-...</td>\n",
       "      <td>d12644341</td>\n",
       "      <td>0</td>\n",
       "      <td>0.0</td>\n",
       "    </tr>\n",
       "  </tbody>\n",
       "</table>\n",
       "</div>"
      ],
      "text/plain": [
       "    Restaurant_id       City                   Cuisine Style  Ranking  \\\n",
       "7            id_7   Budapest                             NaN   2330.0   \n",
       "25          id_25     Madrid                             NaN   5828.0   \n",
       "53          id_53     Prague                             NaN   2095.0   \n",
       "81          id_81  Barcelona  ['Peruvian', 'South American']   4325.0   \n",
       "114        id_114       Lyon                             NaN   2001.0   \n",
       "\n",
       "    Price Range  Number of Reviews   Reviews  \\\n",
       "7           NaN                NaN  [[], []]   \n",
       "25          NaN                NaN  [[], []]   \n",
       "53          NaN                NaN  [[], []]   \n",
       "81     $$ - $$$                NaN  [[], []]   \n",
       "114         NaN                NaN  [[], []]   \n",
       "\n",
       "                                                URL_TA      ID_TA  sample  \\\n",
       "7    /Restaurant_Review-g274887-d8286886-Reviews-Be...   d8286886       0   \n",
       "25   /Restaurant_Review-g187514-d13202032-Reviews-W...  d13202032       0   \n",
       "53   /Restaurant_Review-g274707-d7124128-Reviews-Ch...   d7124128       0   \n",
       "81   /Restaurant_Review-g187497-d10088997-Reviews-N...  d10088997       0   \n",
       "114  /Restaurant_Review-g1166685-d12644341-Reviews-...  d12644341       0   \n",
       "\n",
       "     Rating  \n",
       "7       0.0  \n",
       "25      0.0  \n",
       "53      0.0  \n",
       "81      0.0  \n",
       "114     0.0  "
      ]
     },
     "execution_count": 30,
     "metadata": {},
     "output_type": "execute_result"
    }
   ],
   "source": [
    "data[(data['Reviews'] == \"[[], []]\") & (pd.isna(data['Number of Reviews']))].head()"
   ]
  },
  {
   "cell_type": "markdown",
   "metadata": {},
   "source": [
    "Так-же если мы посмотрим остальные пропуски по кол-ву отзывов, то там в каждом случае только 1 отзыв."
   ]
  },
  {
   "cell_type": "code",
   "execution_count": 31,
   "metadata": {},
   "outputs": [
    {
     "data": {
      "text/html": [
       "<div>\n",
       "<style scoped>\n",
       "    .dataframe tbody tr th:only-of-type {\n",
       "        vertical-align: middle;\n",
       "    }\n",
       "\n",
       "    .dataframe tbody tr th {\n",
       "        vertical-align: top;\n",
       "    }\n",
       "\n",
       "    .dataframe thead th {\n",
       "        text-align: right;\n",
       "    }\n",
       "</style>\n",
       "<table border=\"1\" class=\"dataframe\">\n",
       "  <thead>\n",
       "    <tr style=\"text-align: right;\">\n",
       "      <th></th>\n",
       "      <th>Restaurant_id</th>\n",
       "      <th>City</th>\n",
       "      <th>Cuisine Style</th>\n",
       "      <th>Ranking</th>\n",
       "      <th>Price Range</th>\n",
       "      <th>Number of Reviews</th>\n",
       "      <th>Reviews</th>\n",
       "      <th>URL_TA</th>\n",
       "      <th>ID_TA</th>\n",
       "      <th>sample</th>\n",
       "      <th>Rating</th>\n",
       "    </tr>\n",
       "  </thead>\n",
       "  <tbody>\n",
       "    <tr>\n",
       "      <td>37705</td>\n",
       "      <td>id_367</td>\n",
       "      <td>Bratislava</td>\n",
       "      <td>NaN</td>\n",
       "      <td>368.0</td>\n",
       "      <td>NaN</td>\n",
       "      <td>NaN</td>\n",
       "      <td>[['Place, where people love, what they do'], [...</td>\n",
       "      <td>/Restaurant_Review-g274924-d12511629-Reviews-P...</td>\n",
       "      <td>d12511629</td>\n",
       "      <td>1</td>\n",
       "      <td>5.0</td>\n",
       "    </tr>\n",
       "    <tr>\n",
       "      <td>10540</td>\n",
       "      <td>id_3052</td>\n",
       "      <td>Prague</td>\n",
       "      <td>NaN</td>\n",
       "      <td>3059.0</td>\n",
       "      <td>NaN</td>\n",
       "      <td>NaN</td>\n",
       "      <td>[['Good fast food'], ['02/25/2017']]</td>\n",
       "      <td>/Restaurant_Review-g274707-d12172734-Reviews-C...</td>\n",
       "      <td>d12172734</td>\n",
       "      <td>1</td>\n",
       "      <td>4.0</td>\n",
       "    </tr>\n",
       "    <tr>\n",
       "      <td>74</td>\n",
       "      <td>id_74</td>\n",
       "      <td>Prague</td>\n",
       "      <td>['Cafe', 'European', 'Czech']</td>\n",
       "      <td>2052.0</td>\n",
       "      <td>$</td>\n",
       "      <td>NaN</td>\n",
       "      <td>[[\"Nova' Doba\"], ['01/26/2017']]</td>\n",
       "      <td>/Restaurant_Review-g274707-d12032989-Reviews-C...</td>\n",
       "      <td>d12032989</td>\n",
       "      <td>0</td>\n",
       "      <td>0.0</td>\n",
       "    </tr>\n",
       "    <tr>\n",
       "      <td>41721</td>\n",
       "      <td>id_4142</td>\n",
       "      <td>Prague</td>\n",
       "      <td>NaN</td>\n",
       "      <td>4162.0</td>\n",
       "      <td>NaN</td>\n",
       "      <td>NaN</td>\n",
       "      <td>[['Horrible chef'], ['12/18/2017']]</td>\n",
       "      <td>/Restaurant_Review-g274707-d11538644-Reviews-H...</td>\n",
       "      <td>d11538644</td>\n",
       "      <td>1</td>\n",
       "      <td>1.0</td>\n",
       "    </tr>\n",
       "    <tr>\n",
       "      <td>19367</td>\n",
       "      <td>id_3104</td>\n",
       "      <td>Prague</td>\n",
       "      <td>NaN</td>\n",
       "      <td>3111.0</td>\n",
       "      <td>NaN</td>\n",
       "      <td>NaN</td>\n",
       "      <td>[['Good cakes'], ['02/09/2015']]</td>\n",
       "      <td>/Restaurant_Review-g274707-d7124051-Reviews-Cu...</td>\n",
       "      <td>d7124051</td>\n",
       "      <td>1</td>\n",
       "      <td>4.0</td>\n",
       "    </tr>\n",
       "  </tbody>\n",
       "</table>\n",
       "</div>"
      ],
      "text/plain": [
       "      Restaurant_id        City                  Cuisine Style  Ranking  \\\n",
       "37705        id_367  Bratislava                            NaN    368.0   \n",
       "10540       id_3052      Prague                            NaN   3059.0   \n",
       "74            id_74      Prague  ['Cafe', 'European', 'Czech']   2052.0   \n",
       "41721       id_4142      Prague                            NaN   4162.0   \n",
       "19367       id_3104      Prague                            NaN   3111.0   \n",
       "\n",
       "      Price Range  Number of Reviews  \\\n",
       "37705         NaN                NaN   \n",
       "10540         NaN                NaN   \n",
       "74              $                NaN   \n",
       "41721         NaN                NaN   \n",
       "19367         NaN                NaN   \n",
       "\n",
       "                                                 Reviews  \\\n",
       "37705  [['Place, where people love, what they do'], [...   \n",
       "10540               [['Good fast food'], ['02/25/2017']]   \n",
       "74                      [[\"Nova' Doba\"], ['01/26/2017']]   \n",
       "41721                [['Horrible chef'], ['12/18/2017']]   \n",
       "19367                   [['Good cakes'], ['02/09/2015']]   \n",
       "\n",
       "                                                  URL_TA      ID_TA  sample  \\\n",
       "37705  /Restaurant_Review-g274924-d12511629-Reviews-P...  d12511629       1   \n",
       "10540  /Restaurant_Review-g274707-d12172734-Reviews-C...  d12172734       1   \n",
       "74     /Restaurant_Review-g274707-d12032989-Reviews-C...  d12032989       0   \n",
       "41721  /Restaurant_Review-g274707-d11538644-Reviews-H...  d11538644       1   \n",
       "19367  /Restaurant_Review-g274707-d7124051-Reviews-Cu...   d7124051       1   \n",
       "\n",
       "       Rating  \n",
       "37705     5.0  \n",
       "10540     4.0  \n",
       "74        0.0  \n",
       "41721     1.0  \n",
       "19367     4.0  "
      ]
     },
     "execution_count": 31,
     "metadata": {},
     "output_type": "execute_result"
    }
   ],
   "source": [
    "data[(data['Reviews'] != \"[[], []]\") & (pd.isna(data['Number of Reviews']))].sample(5)"
   ]
  },
  {
   "cell_type": "markdown",
   "metadata": {},
   "source": [
    "Следовательно после анализа параметров \"отзывы\" и \"кол-во\" отзывов, мы имеем представление, чем заполнять пропуски параметра \"Кол-во отзывов\""
   ]
  },
  {
   "cell_type": "markdown",
   "metadata": {},
   "source": [
    "## 8. URL_TA"
   ]
  },
  {
   "cell_type": "code",
   "execution_count": 32,
   "metadata": {},
   "outputs": [
    {
     "name": "stdout",
     "output_type": "stream",
     "text": [
      "URL_TA\n",
      "0 - пропусков\n",
      "49963 - уникальных значений\n",
      "object - тип данных\n"
     ]
    }
   ],
   "source": [
    "values_information('URL_TA')"
   ]
  },
  {
   "cell_type": "markdown",
   "metadata": {},
   "source": [
    "Найдем значения, которые дублируются"
   ]
  },
  {
   "cell_type": "code",
   "execution_count": 33,
   "metadata": {},
   "outputs": [
    {
     "data": {
      "text/plain": [
       "/Restaurant_Review-g187514-d3685055-Reviews-Shukran-Madrid.html                                         2\n",
       "/Restaurant_Review-g187514-d2477531-Reviews-Haya_19-Madrid.html                                         2\n",
       "/Restaurant_Review-g187514-d2669414-Reviews-Vips-Madrid.html                                            2\n",
       "/Restaurant_Review-g187514-d11698990-Reviews-Verdello_Restaurante-Madrid.html                           2\n",
       "/Restaurant_Review-g187514-d10047799-Reviews-Entrepuntos-Madrid.html                                    2\n",
       "                                                                                                       ..\n",
       "/Restaurant_Review-g190454-d13197046-Reviews-Eatalia-Vienna.html                                        1\n",
       "/Restaurant_Review-g187514-d12214046-Reviews-Tripea-Madrid.html                                         1\n",
       "/Restaurant_Review-g186338-d4925037-Reviews-Shanghai_Surprise-London_England.html                       1\n",
       "/Restaurant_Review-g187147-d2392323-Reviews-Chettinadu-Paris_Ile_de_France.html                         1\n",
       "/Restaurant_Review-g189180-d8445071-Reviews-Adega_Bodega-Porto_Porto_District_Northern_Portugal.html    1\n",
       "Name: URL_TA, Length: 49963, dtype: int64"
      ]
     },
     "execution_count": 33,
     "metadata": {},
     "output_type": "execute_result"
    }
   ],
   "source": [
    "data['URL_TA'].value_counts()"
   ]
  },
  {
   "cell_type": "code",
   "execution_count": 34,
   "metadata": {},
   "outputs": [],
   "source": [
    "doble_urlta = data['URL_TA'].value_counts()"
   ]
  },
  {
   "cell_type": "code",
   "execution_count": 35,
   "metadata": {},
   "outputs": [
    {
     "data": {
      "text/plain": [
       "Index(['/Restaurant_Review-g187514-d3685055-Reviews-Shukran-Madrid.html',\n",
       "       '/Restaurant_Review-g187514-d2477531-Reviews-Haya_19-Madrid.html',\n",
       "       '/Restaurant_Review-g187514-d2669414-Reviews-Vips-Madrid.html',\n",
       "       '/Restaurant_Review-g187514-d11698990-Reviews-Verdello_Restaurante-Madrid.html',\n",
       "       '/Restaurant_Review-g187514-d10047799-Reviews-Entrepuntos-Madrid.html',\n",
       "       '/Restaurant_Review-g187514-d3647024-Reviews-La_Zamorana-Madrid.html',\n",
       "       '/Restaurant_Review-g187514-d5617412-Reviews-Green_Marta_Iii-Madrid.html',\n",
       "       '/Restaurant_Review-g187514-d13002276-Reviews-Delish_Vegan_Doughnuts-Madrid.html',\n",
       "       '/Restaurant_Review-g274856-d10316215-Reviews-Basico_Pizza-Warsaw_Mazovia_Province_Central_Poland.html',\n",
       "       '/Restaurant_Review-g187514-d987900-Reviews-Compostela_Restaurante-Madrid.html',\n",
       "       '/Restaurant_Review-g187514-d10440367-Reviews-Banyui_Thai_Restaurant-Madrid.html',\n",
       "       '/Restaurant_Review-g187514-d1315077-Reviews-El_Pimiento_Verde-Madrid.html',\n",
       "       '/Restaurant_Review-g187514-d11921719-Reviews-Crepets-Madrid.html',\n",
       "       '/Restaurant_Review-g187514-d9877640-Reviews-Raku_Sushi-Madrid.html',\n",
       "       '/Restaurant_Review-g187514-d7827387-Reviews-El_Gusto_Es_Nuestro-Madrid.html',\n",
       "       '/Restaurant_Review-g187514-d3748757-Reviews-D_O_C_C_Prado-Madrid.html',\n",
       "       '/Restaurant_Review-g187514-d7342803-Reviews-Los_Hierros-Madrid.html',\n",
       "       '/Restaurant_Review-g187514-d11999956-Reviews-SugarCane_Madrid-Madrid.html',\n",
       "       '/Restaurant_Review-g187514-d7337366-Reviews-Lady_Madonna-Madrid.html',\n",
       "       '/Restaurant_Review-g187514-d9802625-Reviews-La_Vie_en_Doux-Madrid.html',\n",
       "       '/Restaurant_Review-g187514-d1235635-Reviews-Restaurante_Arroceria_Puerta_de_Atocha-Madrid.html',\n",
       "       '/Restaurant_Review-g187514-d8753348-Reviews-Tropecientos-Madrid.html',\n",
       "       '/Restaurant_Review-g187514-d2360290-Reviews-Lounge_Yi-Madrid.html',\n",
       "       '/Restaurant_Review-g274856-d3396817-Reviews-Restauracja_Olive_Garden-Warsaw_Mazovia_Province_Central_Poland.html',\n",
       "       '/Restaurant_Review-g187514-d4914988-Reviews-Xiang_Asia_Restaurant-Madrid.html',\n",
       "       '/Restaurant_Review-g187514-d11674463-Reviews-Beerhouse-Madrid.html',\n",
       "       '/Restaurant_Review-g187514-d5618007-Reviews-Juanyta_ME_MATA-Madrid.html',\n",
       "       '/Restaurant_Review-g187514-d3161682-Reviews-Cerveceria_La_Surena-Madrid.html',\n",
       "       '/Restaurant_Review-g187514-d7809594-Reviews-La_Guapa-Madrid.html',\n",
       "       '/Restaurant_Review-g187514-d12488993-Reviews-Kathmandu_Tandoori_House_Nepali_Indian_Cuisine-Madrid.html',\n",
       "       '/Restaurant_Review-g187514-d1028622-Reviews-La_Terraza_del_Urban-Madrid.html',\n",
       "       '/Restaurant_Review-g187514-d697406-Reviews-Al_Mounia-Madrid.html',\n",
       "       '/Restaurant_Review-g187514-d793170-Reviews-Caripen_Bistro-Madrid.html',\n",
       "       '/Restaurant_Review-g187514-d4600226-Reviews-Cafeteria_Teresa-Madrid.html',\n",
       "       '/Restaurant_Review-g187514-d1568045-Reviews-Restaurante_Lateral_Santa_Ana-Madrid.html',\n",
       "       '/Restaurant_Review-g187514-d2010743-Reviews-Restaurant_Furusato-Madrid.html',\n",
       "       '/Restaurant_Review-g187514-d4748208-Reviews-Restaurante_Te_Oriental-Madrid.html'],\n",
       "      dtype='object')"
      ]
     },
     "execution_count": 35,
     "metadata": {},
     "output_type": "execute_result"
    }
   ],
   "source": [
    "doble_urlta[doble_urlta > 1].index"
   ]
  },
  {
   "cell_type": "markdown",
   "metadata": {},
   "source": [
    "Первое, что бросается в глаза, так это с структуре ссылке повторяющийся эелемент вида **g187514**\n",
    "Пока в ручном режиме сформируем срезы, которые содержат дублирующиеся значения и разные **g_____** в ссылке"
   ]
  },
  {
   "cell_type": "code",
   "execution_count": 36,
   "metadata": {
    "scrolled": true
   },
   "outputs": [
    {
     "data": {
      "text/html": [
       "<div>\n",
       "<style scoped>\n",
       "    .dataframe tbody tr th:only-of-type {\n",
       "        vertical-align: middle;\n",
       "    }\n",
       "\n",
       "    .dataframe tbody tr th {\n",
       "        vertical-align: top;\n",
       "    }\n",
       "\n",
       "    .dataframe thead th {\n",
       "        text-align: right;\n",
       "    }\n",
       "</style>\n",
       "<table border=\"1\" class=\"dataframe\">\n",
       "  <thead>\n",
       "    <tr style=\"text-align: right;\">\n",
       "      <th></th>\n",
       "      <th>Restaurant_id</th>\n",
       "      <th>City</th>\n",
       "      <th>Cuisine Style</th>\n",
       "      <th>Ranking</th>\n",
       "      <th>Price Range</th>\n",
       "      <th>Number of Reviews</th>\n",
       "      <th>Reviews</th>\n",
       "      <th>URL_TA</th>\n",
       "      <th>ID_TA</th>\n",
       "      <th>sample</th>\n",
       "      <th>Rating</th>\n",
       "    </tr>\n",
       "  </thead>\n",
       "  <tbody>\n",
       "    <tr>\n",
       "      <td>14732</td>\n",
       "      <td>id_3804</td>\n",
       "      <td>Madrid</td>\n",
       "      <td>['American', 'German', 'European', 'Central Eu...</td>\n",
       "      <td>3806.0</td>\n",
       "      <td>NaN</td>\n",
       "      <td>8.0</td>\n",
       "      <td>[[], []]</td>\n",
       "      <td>/Restaurant_Review-g187514-d11674463-Reviews-B...</td>\n",
       "      <td>d11674463</td>\n",
       "      <td>1</td>\n",
       "      <td>4.0</td>\n",
       "    </tr>\n",
       "    <tr>\n",
       "      <td>21583</td>\n",
       "      <td>id_3810</td>\n",
       "      <td>Madrid</td>\n",
       "      <td>['American', 'German', 'European', 'Central Eu...</td>\n",
       "      <td>3812.0</td>\n",
       "      <td>NaN</td>\n",
       "      <td>8.0</td>\n",
       "      <td>[[], []]</td>\n",
       "      <td>/Restaurant_Review-g187514-d11674463-Reviews-B...</td>\n",
       "      <td>d11674463</td>\n",
       "      <td>1</td>\n",
       "      <td>4.0</td>\n",
       "    </tr>\n",
       "  </tbody>\n",
       "</table>\n",
       "</div>"
      ],
      "text/plain": [
       "      Restaurant_id    City  \\\n",
       "14732       id_3804  Madrid   \n",
       "21583       id_3810  Madrid   \n",
       "\n",
       "                                           Cuisine Style  Ranking Price Range  \\\n",
       "14732  ['American', 'German', 'European', 'Central Eu...   3806.0         NaN   \n",
       "21583  ['American', 'German', 'European', 'Central Eu...   3812.0         NaN   \n",
       "\n",
       "       Number of Reviews   Reviews  \\\n",
       "14732                8.0  [[], []]   \n",
       "21583                8.0  [[], []]   \n",
       "\n",
       "                                                  URL_TA      ID_TA  sample  \\\n",
       "14732  /Restaurant_Review-g187514-d11674463-Reviews-B...  d11674463       1   \n",
       "21583  /Restaurant_Review-g187514-d11674463-Reviews-B...  d11674463       1   \n",
       "\n",
       "       Rating  \n",
       "14732     4.0  \n",
       "21583     4.0  "
      ]
     },
     "execution_count": 36,
     "metadata": {},
     "output_type": "execute_result"
    }
   ],
   "source": [
    "data[data['URL_TA'] == '/Restaurant_Review-g187514-d11674463-Reviews-Beerhouse-Madrid.html']"
   ]
  },
  {
   "cell_type": "code",
   "execution_count": 37,
   "metadata": {
    "scrolled": true
   },
   "outputs": [
    {
     "data": {
      "text/html": [
       "<div>\n",
       "<style scoped>\n",
       "    .dataframe tbody tr th:only-of-type {\n",
       "        vertical-align: middle;\n",
       "    }\n",
       "\n",
       "    .dataframe tbody tr th {\n",
       "        vertical-align: top;\n",
       "    }\n",
       "\n",
       "    .dataframe thead th {\n",
       "        text-align: right;\n",
       "    }\n",
       "</style>\n",
       "<table border=\"1\" class=\"dataframe\">\n",
       "  <thead>\n",
       "    <tr style=\"text-align: right;\">\n",
       "      <th></th>\n",
       "      <th>Restaurant_id</th>\n",
       "      <th>City</th>\n",
       "      <th>Cuisine Style</th>\n",
       "      <th>Ranking</th>\n",
       "      <th>Price Range</th>\n",
       "      <th>Number of Reviews</th>\n",
       "      <th>Reviews</th>\n",
       "      <th>URL_TA</th>\n",
       "      <th>ID_TA</th>\n",
       "      <th>sample</th>\n",
       "      <th>Rating</th>\n",
       "    </tr>\n",
       "  </thead>\n",
       "  <tbody>\n",
       "    <tr>\n",
       "      <td>35251</td>\n",
       "      <td>id_3575</td>\n",
       "      <td>Madrid</td>\n",
       "      <td>['Spanish', 'Bar']</td>\n",
       "      <td>3577.0</td>\n",
       "      <td>$</td>\n",
       "      <td>217.0</td>\n",
       "      <td>[['Thursday snack', 'Good value for money &amp; go...</td>\n",
       "      <td>/Restaurant_Review-g187514-d3161682-Reviews-Ce...</td>\n",
       "      <td>d3161682</td>\n",
       "      <td>1</td>\n",
       "      <td>3.5</td>\n",
       "    </tr>\n",
       "    <tr>\n",
       "      <td>49847</td>\n",
       "      <td>id_3709</td>\n",
       "      <td>Madrid</td>\n",
       "      <td>['Spanish', 'Bar']</td>\n",
       "      <td>3711.0</td>\n",
       "      <td>$</td>\n",
       "      <td>217.0</td>\n",
       "      <td>[['Thursday snack', 'Good value for money &amp; go...</td>\n",
       "      <td>/Restaurant_Review-g187514-d3161682-Reviews-Ce...</td>\n",
       "      <td>d3161682</td>\n",
       "      <td>1</td>\n",
       "      <td>3.5</td>\n",
       "    </tr>\n",
       "  </tbody>\n",
       "</table>\n",
       "</div>"
      ],
      "text/plain": [
       "      Restaurant_id    City       Cuisine Style  Ranking Price Range  \\\n",
       "35251       id_3575  Madrid  ['Spanish', 'Bar']   3577.0           $   \n",
       "49847       id_3709  Madrid  ['Spanish', 'Bar']   3711.0           $   \n",
       "\n",
       "       Number of Reviews                                            Reviews  \\\n",
       "35251              217.0  [['Thursday snack', 'Good value for money & go...   \n",
       "49847              217.0  [['Thursday snack', 'Good value for money & go...   \n",
       "\n",
       "                                                  URL_TA     ID_TA  sample  \\\n",
       "35251  /Restaurant_Review-g187514-d3161682-Reviews-Ce...  d3161682       1   \n",
       "49847  /Restaurant_Review-g187514-d3161682-Reviews-Ce...  d3161682       1   \n",
       "\n",
       "       Rating  \n",
       "35251     3.5  \n",
       "49847     3.5  "
      ]
     },
     "execution_count": 37,
     "metadata": {},
     "output_type": "execute_result"
    }
   ],
   "source": [
    "data[data['URL_TA'] == '/Restaurant_Review-g187514-d3161682-Reviews-Cerveceria_La_Surena-Madrid.html']"
   ]
  },
  {
   "cell_type": "code",
   "execution_count": 38,
   "metadata": {
    "scrolled": true
   },
   "outputs": [
    {
     "data": {
      "text/html": [
       "<div>\n",
       "<style scoped>\n",
       "    .dataframe tbody tr th:only-of-type {\n",
       "        vertical-align: middle;\n",
       "    }\n",
       "\n",
       "    .dataframe tbody tr th {\n",
       "        vertical-align: top;\n",
       "    }\n",
       "\n",
       "    .dataframe thead th {\n",
       "        text-align: right;\n",
       "    }\n",
       "</style>\n",
       "<table border=\"1\" class=\"dataframe\">\n",
       "  <thead>\n",
       "    <tr style=\"text-align: right;\">\n",
       "      <th></th>\n",
       "      <th>Restaurant_id</th>\n",
       "      <th>City</th>\n",
       "      <th>Cuisine Style</th>\n",
       "      <th>Ranking</th>\n",
       "      <th>Price Range</th>\n",
       "      <th>Number of Reviews</th>\n",
       "      <th>Reviews</th>\n",
       "      <th>URL_TA</th>\n",
       "      <th>ID_TA</th>\n",
       "      <th>sample</th>\n",
       "      <th>Rating</th>\n",
       "    </tr>\n",
       "  </thead>\n",
       "  <tbody>\n",
       "    <tr>\n",
       "      <td>4323</td>\n",
       "      <td>id_4323</td>\n",
       "      <td>Warsaw</td>\n",
       "      <td>['Mediterranean', 'Middle Eastern', 'Italian',...</td>\n",
       "      <td>1981.0</td>\n",
       "      <td>$$ - $$$</td>\n",
       "      <td>16.0</td>\n",
       "      <td>[['Good restaurant for one meal.', 'Olive Gard...</td>\n",
       "      <td>/Restaurant_Review-g274856-d3396817-Reviews-Re...</td>\n",
       "      <td>d3396817</td>\n",
       "      <td>0</td>\n",
       "      <td>0.0</td>\n",
       "    </tr>\n",
       "    <tr>\n",
       "      <td>15544</td>\n",
       "      <td>id_1980</td>\n",
       "      <td>Warsaw</td>\n",
       "      <td>['Mediterranean', 'Middle Eastern', 'Italian',...</td>\n",
       "      <td>1981.0</td>\n",
       "      <td>$$ - $$$</td>\n",
       "      <td>16.0</td>\n",
       "      <td>[['Good restaurant for one meal.', 'Olive Gard...</td>\n",
       "      <td>/Restaurant_Review-g274856-d3396817-Reviews-Re...</td>\n",
       "      <td>d3396817</td>\n",
       "      <td>1</td>\n",
       "      <td>4.0</td>\n",
       "    </tr>\n",
       "  </tbody>\n",
       "</table>\n",
       "</div>"
      ],
      "text/plain": [
       "      Restaurant_id    City  \\\n",
       "4323        id_4323  Warsaw   \n",
       "15544       id_1980  Warsaw   \n",
       "\n",
       "                                           Cuisine Style  Ranking Price Range  \\\n",
       "4323   ['Mediterranean', 'Middle Eastern', 'Italian',...   1981.0    $$ - $$$   \n",
       "15544  ['Mediterranean', 'Middle Eastern', 'Italian',...   1981.0    $$ - $$$   \n",
       "\n",
       "       Number of Reviews                                            Reviews  \\\n",
       "4323                16.0  [['Good restaurant for one meal.', 'Olive Gard...   \n",
       "15544               16.0  [['Good restaurant for one meal.', 'Olive Gard...   \n",
       "\n",
       "                                                  URL_TA     ID_TA  sample  \\\n",
       "4323   /Restaurant_Review-g274856-d3396817-Reviews-Re...  d3396817       0   \n",
       "15544  /Restaurant_Review-g274856-d3396817-Reviews-Re...  d3396817       1   \n",
       "\n",
       "       Rating  \n",
       "4323      0.0  \n",
       "15544     4.0  "
      ]
     },
     "execution_count": 38,
     "metadata": {},
     "output_type": "execute_result"
    }
   ],
   "source": [
    "data[data['URL_TA'] == '/Restaurant_Review-g274856-d3396817-Reviews-Restauracja_Olive_Garden-Warsaw_Mazovia_Province_Central_Poland.html']"
   ]
  },
  {
   "cell_type": "code",
   "execution_count": 39,
   "metadata": {
    "scrolled": true
   },
   "outputs": [
    {
     "data": {
      "text/html": [
       "<div>\n",
       "<style scoped>\n",
       "    .dataframe tbody tr th:only-of-type {\n",
       "        vertical-align: middle;\n",
       "    }\n",
       "\n",
       "    .dataframe tbody tr th {\n",
       "        vertical-align: top;\n",
       "    }\n",
       "\n",
       "    .dataframe thead th {\n",
       "        text-align: right;\n",
       "    }\n",
       "</style>\n",
       "<table border=\"1\" class=\"dataframe\">\n",
       "  <thead>\n",
       "    <tr style=\"text-align: right;\">\n",
       "      <th></th>\n",
       "      <th>Restaurant_id</th>\n",
       "      <th>City</th>\n",
       "      <th>Cuisine Style</th>\n",
       "      <th>Ranking</th>\n",
       "      <th>Price Range</th>\n",
       "      <th>Number of Reviews</th>\n",
       "      <th>Reviews</th>\n",
       "      <th>URL_TA</th>\n",
       "      <th>ID_TA</th>\n",
       "      <th>sample</th>\n",
       "      <th>Rating</th>\n",
       "    </tr>\n",
       "  </thead>\n",
       "  <tbody>\n",
       "    <tr>\n",
       "      <td>118</td>\n",
       "      <td>id_118</td>\n",
       "      <td>Warsaw</td>\n",
       "      <td>['Italian']</td>\n",
       "      <td>1801.0</td>\n",
       "      <td>$</td>\n",
       "      <td>3.0</td>\n",
       "      <td>[[], []]</td>\n",
       "      <td>/Restaurant_Review-g274856-d10316215-Reviews-B...</td>\n",
       "      <td>d10316215</td>\n",
       "      <td>0</td>\n",
       "      <td>0.0</td>\n",
       "    </tr>\n",
       "    <tr>\n",
       "      <td>36920</td>\n",
       "      <td>id_1800</td>\n",
       "      <td>Warsaw</td>\n",
       "      <td>['Italian']</td>\n",
       "      <td>1801.0</td>\n",
       "      <td>$</td>\n",
       "      <td>3.0</td>\n",
       "      <td>[[], []]</td>\n",
       "      <td>/Restaurant_Review-g274856-d10316215-Reviews-B...</td>\n",
       "      <td>d10316215</td>\n",
       "      <td>1</td>\n",
       "      <td>3.5</td>\n",
       "    </tr>\n",
       "  </tbody>\n",
       "</table>\n",
       "</div>"
      ],
      "text/plain": [
       "      Restaurant_id    City Cuisine Style  Ranking Price Range  \\\n",
       "118          id_118  Warsaw   ['Italian']   1801.0           $   \n",
       "36920       id_1800  Warsaw   ['Italian']   1801.0           $   \n",
       "\n",
       "       Number of Reviews   Reviews  \\\n",
       "118                  3.0  [[], []]   \n",
       "36920                3.0  [[], []]   \n",
       "\n",
       "                                                  URL_TA      ID_TA  sample  \\\n",
       "118    /Restaurant_Review-g274856-d10316215-Reviews-B...  d10316215       0   \n",
       "36920  /Restaurant_Review-g274856-d10316215-Reviews-B...  d10316215       1   \n",
       "\n",
       "       Rating  \n",
       "118       0.0  \n",
       "36920     3.5  "
      ]
     },
     "execution_count": 39,
     "metadata": {},
     "output_type": "execute_result"
    }
   ],
   "source": [
    "data[data['URL_TA'] == '/Restaurant_Review-g274856-d10316215-Reviews-Basico_Pizza-Warsaw_Mazovia_Province_Central_Poland.html']"
   ]
  },
  {
   "cell_type": "markdown",
   "metadata": {},
   "source": [
    "Очень интересно получается. Похоже, что это один и тот же ресторан, только, например, распооженный на разных улицах.\n",
    "Но почему тогда разные Restaurant_id ? Ведь есть рестораны с одинаковыми Restaurant_id"
   ]
  },
  {
   "cell_type": "markdown",
   "metadata": {},
   "source": [
    "### Посмотрим поближе на **g_____** в линке\n",
    "Сделаем отдельный признак и изучим его"
   ]
  },
  {
   "cell_type": "code",
   "execution_count": 40,
   "metadata": {},
   "outputs": [],
   "source": [
    "data['g_link'] = data['URL_TA'].apply(lambda x: x[19:26])"
   ]
  },
  {
   "cell_type": "code",
   "execution_count": 41,
   "metadata": {},
   "outputs": [
    {
     "data": {
      "text/plain": [
       "g186338    7193\n",
       "g187147    6108\n",
       "g187514    3813\n",
       "g187497    3395\n",
       "g187323    2705\n",
       "           ... \n",
       "g950783       2\n",
       "g950782       2\n",
       "g691944       1\n",
       "g328492       1\n",
       "g143960       1\n",
       "Name: g_link, Length: 70, dtype: int64"
      ]
     },
     "execution_count": 41,
     "metadata": {},
     "output_type": "execute_result"
    }
   ],
   "source": [
    "data['g_link'].value_counts()"
   ]
  },
  {
   "cell_type": "markdown",
   "metadata": {},
   "source": [
    "Сколько не смотрел, не смог понять, что за признак.  \n",
    "Как правило каждое значение соответствует отдельному городу. Но городов 31, а значений 70.  \n",
    "Возможно модель МЛ лучше разберется ;)"
   ]
  },
  {
   "cell_type": "markdown",
   "metadata": {},
   "source": [
    "## 9. ID_TA"
   ]
  },
  {
   "cell_type": "code",
   "execution_count": 42,
   "metadata": {},
   "outputs": [
    {
     "name": "stdout",
     "output_type": "stream",
     "text": [
      "ID_TA\n",
      "0 - пропусков\n",
      "49963 - уникальных значений\n",
      "object - тип данных\n"
     ]
    }
   ],
   "source": [
    "values_information('ID_TA')"
   ]
  },
  {
   "cell_type": "code",
   "execution_count": 43,
   "metadata": {},
   "outputs": [
    {
     "data": {
      "text/plain": [
       "d10047799    2\n",
       "d8753348     2\n",
       "d7827387     2\n",
       "d5617412     2\n",
       "d3161682     2\n",
       "            ..\n",
       "d1057679     1\n",
       "d8802637     1\n",
       "d1163117     1\n",
       "d816637      1\n",
       "d10815566    1\n",
       "Name: ID_TA, Length: 49963, dtype: int64"
      ]
     },
     "execution_count": 43,
     "metadata": {},
     "output_type": "execute_result"
    }
   ],
   "source": [
    "data['ID_TA'].value_counts()"
   ]
  },
  {
   "cell_type": "markdown",
   "metadata": {},
   "source": [
    "Собственно тут мы уже понимаем, откуда дубли"
   ]
  },
  {
   "cell_type": "markdown",
   "metadata": {},
   "source": [
    "## 10. Rating"
   ]
  },
  {
   "cell_type": "code",
   "execution_count": 44,
   "metadata": {},
   "outputs": [
    {
     "name": "stdout",
     "output_type": "stream",
     "text": [
      "Rating\n",
      "0 - пропусков\n",
      "10 - уникальных значений\n",
      "float64 - тип данных\n"
     ]
    }
   ],
   "source": [
    "values_information('Rating')"
   ]
  },
  {
   "cell_type": "code",
   "execution_count": 45,
   "metadata": {},
   "outputs": [
    {
     "data": {
      "text/plain": [
       "4.0    13692\n",
       "4.5    10929\n",
       "0.0    10000\n",
       "3.5     6824\n",
       "5.0     3879\n",
       "3.0     2955\n",
       "2.5      915\n",
       "2.0      466\n",
       "1.0      201\n",
       "1.5      139\n",
       "Name: Rating, dtype: int64"
      ]
     },
     "execution_count": 45,
     "metadata": {},
     "output_type": "execute_result"
    }
   ],
   "source": [
    "data['Rating'].value_counts()"
   ]
  },
  {
   "cell_type": "markdown",
   "metadata": {},
   "source": [
    "### Посмотрим распределение целевой переменной"
   ]
  },
  {
   "cell_type": "markdown",
   "metadata": {},
   "source": [
    "А именно посмотрим каких оценок больше всего, а каких меньше"
   ]
  },
  {
   "cell_type": "code",
   "execution_count": 46,
   "metadata": {},
   "outputs": [
    {
     "data": {
      "text/plain": [
       "<matplotlib.axes._subplots.AxesSubplot at 0x1f43a558dc8>"
      ]
     },
     "execution_count": 46,
     "metadata": {},
     "output_type": "execute_result"
    },
    {
     "data": {
      "image/png": "[encoded data removed]",
      "text/plain": [
       "<Figure size 432x288 with 1 Axes>"
      ]
     },
     "metadata": {
      "needs_background": "light"
     },
     "output_type": "display_data"
    }
   ],
   "source": [
    "df_train['Rating'].value_counts(ascending=True).plot(kind='barh')"
   ]
  },
  {
   "cell_type": "markdown",
   "metadata": {},
   "source": [
    "### Посмотрим распределение целевой переменной относительно признака Ranking"
   ]
  },
  {
   "cell_type": "code",
   "execution_count": 47,
   "metadata": {},
   "outputs": [
    {
     "data": {
      "text/plain": [
       "<matplotlib.axes._subplots.AxesSubplot at 0x1f43a5cf3c8>"
      ]
     },
     "execution_count": 47,
     "metadata": {},
     "output_type": "execute_result"
    },
    {
     "data": {
      "image/png": "[encoded data removed]",
      "text/plain": [
       "<Figure size 432x288 with 1 Axes>"
      ]
     },
     "metadata": {
      "needs_background": "light"
     },
     "output_type": "display_data"
    }
   ],
   "source": [
    "df_train['Ranking'][df_train['Rating'] == 5].hist(bins=100)"
   ]
  },
  {
   "cell_type": "code",
   "execution_count": 48,
   "metadata": {},
   "outputs": [
    {
     "data": {
      "text/plain": [
       "<matplotlib.axes._subplots.AxesSubplot at 0x1f43a757d88>"
      ]
     },
     "execution_count": 48,
     "metadata": {},
     "output_type": "execute_result"
    },
    {
     "data": {
      "image/png": "[encoded data removed]",
      "text/plain": [
       "<Figure size 432x288 with 1 Axes>"
      ]
     },
     "metadata": {
      "needs_background": "light"
     },
     "output_type": "display_data"
    }
   ],
   "source": [
    "df_train['Ranking'][df_train['Rating'] >= 4].hist(bins=100)"
   ]
  },
  {
   "cell_type": "code",
   "execution_count": 49,
   "metadata": {},
   "outputs": [
    {
     "data": {
      "text/plain": [
       "<matplotlib.axes._subplots.AxesSubplot at 0x1f43bb1f088>"
      ]
     },
     "execution_count": 49,
     "metadata": {},
     "output_type": "execute_result"
    },
    {
     "data": {
      "image/png": "[encoded data removed]",
      "text/plain": [
       "<Figure size 432x288 with 1 Axes>"
      ]
     },
     "metadata": {
      "needs_background": "light"
     },
     "output_type": "display_data"
    }
   ],
   "source": [
    "df_train['Ranking'][df_train['Rating'] <= 3].hist(bins=100)"
   ]
  },
  {
   "cell_type": "markdown",
   "metadata": {},
   "source": [
    "Интересное наблюдение. Получается ресторан с высоким рейтингом может быть в локальном рейтинге относительно других ресторанов в самом конце.  \n",
    "Стоит посмотреть на этот признак еще позже, когда нормализуем **Ranking**"
   ]
  },
  {
   "cell_type": "markdown",
   "metadata": {},
   "source": [
    "------------"
   ]
  },
  {
   "cell_type": "markdown",
   "metadata": {},
   "source": [
    "# ОБРАБОТКА NaN"
   ]
  },
  {
   "cell_type": "markdown",
   "metadata": {},
   "source": [
    "Для начала мы создадим отдельный признка, где пометим какие строки имели пропуски  \n",
    "Вот с какими признаками работаем:\n",
    "- Cuisine Style\n",
    "- Price Range\n",
    "- Number of Reviews"
   ]
  },
  {
   "cell_type": "code",
   "execution_count": 50,
   "metadata": {},
   "outputs": [],
   "source": [
    "data['Price RangeNAN'] = pd.isna(data['Price Range']).astype('uint8')"
   ]
  },
  {
   "cell_type": "markdown",
   "metadata": {},
   "source": [
    "Price Range\n",
    "--"
   ]
  },
  {
   "cell_type": "markdown",
   "metadata": {},
   "source": [
    "Для удобства мы сделаем этот признак цифрами.  \n",
    "Так как это признак цен в ресторане, то это будет корректно."
   ]
  },
  {
   "cell_type": "code",
   "execution_count": 51,
   "metadata": {},
   "outputs": [],
   "source": [
    "data['Price Range'] = data['Price Range'].map({'$': 1, '$$ - $$$': 2, '$$$$': 3})"
   ]
  },
  {
   "cell_type": "code",
   "execution_count": 52,
   "metadata": {},
   "outputs": [],
   "source": [
    "data['Price Range'] = data['Price Range'].apply(lambda x: 2 if pd.isna(x) else x)"
   ]
  },
  {
   "cell_type": "markdown",
   "metadata": {},
   "source": [
    "Number of Reviews\n",
    "--"
   ]
  },
  {
   "cell_type": "code",
   "execution_count": 53,
   "metadata": {},
   "outputs": [],
   "source": [
    "# Если ['Reviews'] == \"[[], []]\" и пропуск в ['Number of Reviews'] - заполняем 0\n",
    "# Если ['Reviews'] == \"[[], []]\" и в ['Number of Reviews'] есть отзыв - заполняем 1\n",
    "# Создаем сразу список со значениями и преобразуем его в серию\n",
    "\n",
    "new_number_of_reviews = []\n",
    "\n",
    "for i in range(data.shape[0]):\n",
    "    if pd.isna(data.loc[i]['Number of Reviews']):\n",
    "        if data.loc[i]['Reviews'] == \"[[], []]\":\n",
    "            new_number_of_reviews.append(0)\n",
    "        else:\n",
    "            new_number_of_reviews.append(1)\n",
    "    else:\n",
    "        new_number_of_reviews.append(data.loc[i]['Number of Reviews'])"
   ]
  },
  {
   "cell_type": "code",
   "execution_count": 54,
   "metadata": {},
   "outputs": [],
   "source": [
    "# Обновляем ['Number of Reviews'] и тем самым заполняем пропуски\n",
    "data['Number of Reviews'] = pd.Series(new_number_of_reviews)"
   ]
  },
  {
   "cell_type": "markdown",
   "metadata": {},
   "source": [
    "Cuisine Style\n",
    "--"
   ]
  },
  {
   "cell_type": "code",
   "execution_count": 55,
   "metadata": {},
   "outputs": [],
   "source": [
    "# Заполним пропуски значением 'skip' для дальнейшего удобства\n",
    "data['Cuisine Style'] = data['Cuisine Style'].apply(lambda x: 'skip' if pd.isna(x) else x)"
   ]
  },
  {
   "cell_type": "markdown",
   "metadata": {},
   "source": [
    "--------------"
   ]
  },
  {
   "cell_type": "markdown",
   "metadata": {},
   "source": [
    "# FUTURE ENGINEERING"
   ]
  },
  {
   "cell_type": "markdown",
   "metadata": {},
   "source": [
    "Dummies по кухням\n",
    "--"
   ]
  },
  {
   "cell_type": "code",
   "execution_count": 56,
   "metadata": {},
   "outputs": [],
   "source": [
    "# соберем все кухни в один список\n",
    "\n",
    "cuisines = set()\n",
    "for row in data['Cuisine Style']:\n",
    "    if pd.isna(row) == False:\n",
    "        for cuisine in row[1:-1].replace(\"'\", '').split(','):\n",
    "            if cuisine[0] != ' ':\n",
    "                cuisines.add(cuisine)\n",
    "            else:\n",
    "                cuisines.add(cuisine[1:])\n",
    "        \n",
    "cuisines.add('skip') # учтем значение, которое не попадет циклом"
   ]
  },
  {
   "cell_type": "markdown",
   "metadata": {},
   "source": [
    "Отберем ТОП5 популярных кухонь и именно по ним сделаем Даммиз"
   ]
  },
  {
   "cell_type": "code",
   "execution_count": 57,
   "metadata": {},
   "outputs": [],
   "source": [
    "# Сделаем 2 списка и заполним значениями \"Кухня\" и \"Кол-во ресторанов с такой кухней\"\n",
    "\n",
    "cuisines_counter = []\n",
    "counter_values = []\n",
    "\n",
    "for cuisine in cuisines:\n",
    "    counter = len(data[data['Cuisine Style'].str.contains(cuisine)])\n",
    "    \n",
    "    cuisines_counter.append(cuisine)\n",
    "    counter_values.append(counter)\n",
    "    "
   ]
  },
  {
   "cell_type": "code",
   "execution_count": 58,
   "metadata": {},
   "outputs": [],
   "source": [
    "# Сделаем отдельный датафрейм с значениями \"Кухня\" и \"Кол-во ресторанов с такой кухней\"\n",
    "\n",
    "top_cuisines = pd.DataFrame(cuisines_counter, counter_values).reset_index(). \\\n",
    "rename(columns={'index': 'quantity', 0: 'cuisine'})"
   ]
  },
  {
   "cell_type": "code",
   "execution_count": 59,
   "metadata": {},
   "outputs": [],
   "source": [
    "# отберем ТОП5 самых популярных кухонь\n",
    "\n",
    "top5_cuisines = top_cuisines.sort_values('quantity', ascending=False).head(5)"
   ]
  },
  {
   "cell_type": "code",
   "execution_count": 60,
   "metadata": {},
   "outputs": [],
   "source": [
    "def find_cuisine(row):\n",
    "    ''''Функция принимает на вход строковое значение.\n",
    "    Если значение стречается в строке - возвращает - 1\n",
    "    Если значения нет, то возвращает - 0'''\n",
    "    \n",
    "    if cuisine in row:\n",
    "        return 1\n",
    "    return 0"
   ]
  },
  {
   "cell_type": "code",
   "execution_count": 61,
   "metadata": {},
   "outputs": [],
   "source": [
    "# Цикл который создает даммиз по 5 самым популярным кухням\n",
    "for cuisine in top5_cuisines['cuisine'].to_list():\n",
    "    data[cuisine] = data['Cuisine Style'].apply(find_cuisine)"
   ]
  },
  {
   "cell_type": "code",
   "execution_count": 62,
   "metadata": {},
   "outputs": [
    {
     "data": {
      "text/html": [
       "<div>\n",
       "<style scoped>\n",
       "    .dataframe tbody tr th:only-of-type {\n",
       "        vertical-align: middle;\n",
       "    }\n",
       "\n",
       "    .dataframe tbody tr th {\n",
       "        vertical-align: top;\n",
       "    }\n",
       "\n",
       "    .dataframe thead th {\n",
       "        text-align: right;\n",
       "    }\n",
       "</style>\n",
       "<table border=\"1\" class=\"dataframe\">\n",
       "  <thead>\n",
       "    <tr style=\"text-align: right;\">\n",
       "      <th></th>\n",
       "      <th>Restaurant_id</th>\n",
       "      <th>City</th>\n",
       "      <th>Cuisine Style</th>\n",
       "      <th>Ranking</th>\n",
       "      <th>Price Range</th>\n",
       "      <th>Number of Reviews</th>\n",
       "      <th>Reviews</th>\n",
       "      <th>URL_TA</th>\n",
       "      <th>ID_TA</th>\n",
       "      <th>sample</th>\n",
       "      <th>Rating</th>\n",
       "      <th>g_link</th>\n",
       "      <th>Price RangeNAN</th>\n",
       "      <th>Vegetarian Friendly</th>\n",
       "      <th>European</th>\n",
       "      <th>ki</th>\n",
       "      <th>skip</th>\n",
       "      <th>Mediterranean</th>\n",
       "    </tr>\n",
       "  </thead>\n",
       "  <tbody>\n",
       "    <tr>\n",
       "      <td>23362</td>\n",
       "      <td>id_3932</td>\n",
       "      <td>Paris</td>\n",
       "      <td>['French', 'European', 'Cafe']</td>\n",
       "      <td>3933.0</td>\n",
       "      <td>2.0</td>\n",
       "      <td>55.0</td>\n",
       "      <td>[['Cake and Sandwiches', 'Hands down the best ...</td>\n",
       "      <td>/Restaurant_Review-g187147-d8020843-Reviews-Pa...</td>\n",
       "      <td>d8020843</td>\n",
       "      <td>1</td>\n",
       "      <td>4.0</td>\n",
       "      <td>g187147</td>\n",
       "      <td>0</td>\n",
       "      <td>0</td>\n",
       "      <td>1</td>\n",
       "      <td>0</td>\n",
       "      <td>0</td>\n",
       "      <td>0</td>\n",
       "    </tr>\n",
       "    <tr>\n",
       "      <td>2651</td>\n",
       "      <td>id_2651</td>\n",
       "      <td>Prague</td>\n",
       "      <td>['European', 'Czech']</td>\n",
       "      <td>2469.0</td>\n",
       "      <td>2.0</td>\n",
       "      <td>9.0</td>\n",
       "      <td>[['Superb service and food', 'best freshwater ...</td>\n",
       "      <td>/Restaurant_Review-g274707-d3589443-Reviews-Sl...</td>\n",
       "      <td>d3589443</td>\n",
       "      <td>0</td>\n",
       "      <td>0.0</td>\n",
       "      <td>g274707</td>\n",
       "      <td>1</td>\n",
       "      <td>0</td>\n",
       "      <td>1</td>\n",
       "      <td>0</td>\n",
       "      <td>0</td>\n",
       "      <td>0</td>\n",
       "    </tr>\n",
       "    <tr>\n",
       "      <td>7123</td>\n",
       "      <td>id_7123</td>\n",
       "      <td>Budapest</td>\n",
       "      <td>['American', 'Steakhouse', 'Barbecue', 'Vegeta...</td>\n",
       "      <td>25.0</td>\n",
       "      <td>2.0</td>\n",
       "      <td>436.0</td>\n",
       "      <td>[['Best burgers EVER....', 'Wonderful evening'...</td>\n",
       "      <td>/Restaurant_Review-g274887-d12392130-Reviews-B...</td>\n",
       "      <td>d12392130</td>\n",
       "      <td>0</td>\n",
       "      <td>0.0</td>\n",
       "      <td>g274887</td>\n",
       "      <td>0</td>\n",
       "      <td>1</td>\n",
       "      <td>0</td>\n",
       "      <td>0</td>\n",
       "      <td>0</td>\n",
       "      <td>0</td>\n",
       "    </tr>\n",
       "    <tr>\n",
       "      <td>3602</td>\n",
       "      <td>id_3602</td>\n",
       "      <td>Prague</td>\n",
       "      <td>['Italian', 'Pizza']</td>\n",
       "      <td>2371.0</td>\n",
       "      <td>2.0</td>\n",
       "      <td>18.0</td>\n",
       "      <td>[['Local pub with aspirations', 'Deliciou pizz...</td>\n",
       "      <td>/Restaurant_Review-g274707-d4768586-Reviews-Lu...</td>\n",
       "      <td>d4768586</td>\n",
       "      <td>0</td>\n",
       "      <td>0.0</td>\n",
       "      <td>g274707</td>\n",
       "      <td>0</td>\n",
       "      <td>0</td>\n",
       "      <td>0</td>\n",
       "      <td>0</td>\n",
       "      <td>0</td>\n",
       "      <td>0</td>\n",
       "    </tr>\n",
       "    <tr>\n",
       "      <td>30441</td>\n",
       "      <td>id_1296</td>\n",
       "      <td>Prague</td>\n",
       "      <td>skip</td>\n",
       "      <td>1297.0</td>\n",
       "      <td>2.0</td>\n",
       "      <td>9.0</td>\n",
       "      <td>[['Cozy environment with freshly prepared mea....</td>\n",
       "      <td>/Restaurant_Review-g274707-d10594399-Reviews-B...</td>\n",
       "      <td>d10594399</td>\n",
       "      <td>1</td>\n",
       "      <td>5.0</td>\n",
       "      <td>g274707</td>\n",
       "      <td>1</td>\n",
       "      <td>0</td>\n",
       "      <td>0</td>\n",
       "      <td>1</td>\n",
       "      <td>1</td>\n",
       "      <td>0</td>\n",
       "    </tr>\n",
       "    <tr>\n",
       "      <td>32832</td>\n",
       "      <td>id_9411</td>\n",
       "      <td>London</td>\n",
       "      <td>['African', 'European']</td>\n",
       "      <td>9420.0</td>\n",
       "      <td>3.0</td>\n",
       "      <td>1.0</td>\n",
       "      <td>[['Perfection in Peckham'], ['12/23/2017']]</td>\n",
       "      <td>/Restaurant_Review-g186338-d13294491-Reviews-K...</td>\n",
       "      <td>d13294491</td>\n",
       "      <td>1</td>\n",
       "      <td>5.0</td>\n",
       "      <td>g186338</td>\n",
       "      <td>0</td>\n",
       "      <td>0</td>\n",
       "      <td>1</td>\n",
       "      <td>0</td>\n",
       "      <td>0</td>\n",
       "      <td>0</td>\n",
       "    </tr>\n",
       "    <tr>\n",
       "      <td>44745</td>\n",
       "      <td>id_4799</td>\n",
       "      <td>Milan</td>\n",
       "      <td>skip</td>\n",
       "      <td>4802.0</td>\n",
       "      <td>2.0</td>\n",
       "      <td>5.0</td>\n",
       "      <td>[['Great value coffee in an interesting area']...</td>\n",
       "      <td>/Restaurant_Review-g187849-d5870930-Reviews-No...</td>\n",
       "      <td>d5870930</td>\n",
       "      <td>1</td>\n",
       "      <td>4.0</td>\n",
       "      <td>g187849</td>\n",
       "      <td>1</td>\n",
       "      <td>0</td>\n",
       "      <td>0</td>\n",
       "      <td>1</td>\n",
       "      <td>1</td>\n",
       "      <td>0</td>\n",
       "    </tr>\n",
       "    <tr>\n",
       "      <td>21588</td>\n",
       "      <td>id_666</td>\n",
       "      <td>Berlin</td>\n",
       "      <td>['Italian', 'Mediterranean', 'European', 'Vege...</td>\n",
       "      <td>667.0</td>\n",
       "      <td>2.0</td>\n",
       "      <td>98.0</td>\n",
       "      <td>[['superb late dinner', 'ok, but not very spec...</td>\n",
       "      <td>/Restaurant_Review-g187323-d1979100-Reviews-Ca...</td>\n",
       "      <td>d1979100</td>\n",
       "      <td>1</td>\n",
       "      <td>4.5</td>\n",
       "      <td>g187323</td>\n",
       "      <td>0</td>\n",
       "      <td>1</td>\n",
       "      <td>1</td>\n",
       "      <td>0</td>\n",
       "      <td>0</td>\n",
       "      <td>1</td>\n",
       "    </tr>\n",
       "    <tr>\n",
       "      <td>19325</td>\n",
       "      <td>id_1134</td>\n",
       "      <td>Prague</td>\n",
       "      <td>['Czech', 'Central European', 'Bar', 'European...</td>\n",
       "      <td>1135.0</td>\n",
       "      <td>2.0</td>\n",
       "      <td>89.0</td>\n",
       "      <td>[['Great time with friends', 'Czech Hospoda'],...</td>\n",
       "      <td>/Restaurant_Review-g274707-d2659513-Reviews-Ho...</td>\n",
       "      <td>d2659513</td>\n",
       "      <td>1</td>\n",
       "      <td>4.0</td>\n",
       "      <td>g274707</td>\n",
       "      <td>0</td>\n",
       "      <td>0</td>\n",
       "      <td>1</td>\n",
       "      <td>0</td>\n",
       "      <td>0</td>\n",
       "      <td>0</td>\n",
       "    </tr>\n",
       "    <tr>\n",
       "      <td>37250</td>\n",
       "      <td>id_2661</td>\n",
       "      <td>Hamburg</td>\n",
       "      <td>skip</td>\n",
       "      <td>2669.0</td>\n",
       "      <td>2.0</td>\n",
       "      <td>0.0</td>\n",
       "      <td>[[], []]</td>\n",
       "      <td>/Restaurant_Review-g187331-d10819872-Reviews-W...</td>\n",
       "      <td>d10819872</td>\n",
       "      <td>1</td>\n",
       "      <td>2.0</td>\n",
       "      <td>g187331</td>\n",
       "      <td>1</td>\n",
       "      <td>0</td>\n",
       "      <td>0</td>\n",
       "      <td>1</td>\n",
       "      <td>1</td>\n",
       "      <td>0</td>\n",
       "    </tr>\n",
       "    <tr>\n",
       "      <td>34754</td>\n",
       "      <td>id_1623</td>\n",
       "      <td>London</td>\n",
       "      <td>['British', 'Healthy', 'Bar', 'Gluten Free Opt...</td>\n",
       "      <td>1626.0</td>\n",
       "      <td>2.0</td>\n",
       "      <td>120.0</td>\n",
       "      <td>[['Great for Gin-Lovers', 'C'], ['01/08/2018',...</td>\n",
       "      <td>/Restaurant_Review-g186338-d6726141-Reviews-As...</td>\n",
       "      <td>d6726141</td>\n",
       "      <td>1</td>\n",
       "      <td>4.5</td>\n",
       "      <td>g186338</td>\n",
       "      <td>0</td>\n",
       "      <td>1</td>\n",
       "      <td>0</td>\n",
       "      <td>0</td>\n",
       "      <td>0</td>\n",
       "      <td>0</td>\n",
       "    </tr>\n",
       "    <tr>\n",
       "      <td>35538</td>\n",
       "      <td>id_567</td>\n",
       "      <td>Edinburgh</td>\n",
       "      <td>['Italian', 'Pizza', 'Vegetarian Friendly', 'V...</td>\n",
       "      <td>568.0</td>\n",
       "      <td>2.0</td>\n",
       "      <td>425.0</td>\n",
       "      <td>[['Pre match lunch was good', 'Very Good'], ['...</td>\n",
       "      <td>/Restaurant_Review-g186525-d941867-Reviews-Ziz...</td>\n",
       "      <td>d941867</td>\n",
       "      <td>1</td>\n",
       "      <td>4.0</td>\n",
       "      <td>g186525</td>\n",
       "      <td>0</td>\n",
       "      <td>1</td>\n",
       "      <td>0</td>\n",
       "      <td>0</td>\n",
       "      <td>0</td>\n",
       "      <td>0</td>\n",
       "    </tr>\n",
       "    <tr>\n",
       "      <td>46477</td>\n",
       "      <td>id_2033</td>\n",
       "      <td>Brussels</td>\n",
       "      <td>skip</td>\n",
       "      <td>2034.0</td>\n",
       "      <td>2.0</td>\n",
       "      <td>8.0</td>\n",
       "      <td>[['New owner. New Name. New Game.'], ['03/25/2...</td>\n",
       "      <td>/Restaurant_Review-g188644-d7153919-Reviews-Le...</td>\n",
       "      <td>d7153919</td>\n",
       "      <td>1</td>\n",
       "      <td>4.0</td>\n",
       "      <td>g188644</td>\n",
       "      <td>1</td>\n",
       "      <td>0</td>\n",
       "      <td>0</td>\n",
       "      <td>1</td>\n",
       "      <td>1</td>\n",
       "      <td>0</td>\n",
       "    </tr>\n",
       "    <tr>\n",
       "      <td>36451</td>\n",
       "      <td>id_392</td>\n",
       "      <td>Oslo</td>\n",
       "      <td>['American', 'Bar', 'Pub', 'European', 'Gluten...</td>\n",
       "      <td>393.0</td>\n",
       "      <td>2.0</td>\n",
       "      <td>151.0</td>\n",
       "      <td>[['Christine', 'Friends at lunch'], ['10/18/20...</td>\n",
       "      <td>/Restaurant_Review-g190479-d5770894-Reviews-Ho...</td>\n",
       "      <td>d5770894</td>\n",
       "      <td>1</td>\n",
       "      <td>3.5</td>\n",
       "      <td>g190479</td>\n",
       "      <td>0</td>\n",
       "      <td>1</td>\n",
       "      <td>1</td>\n",
       "      <td>0</td>\n",
       "      <td>0</td>\n",
       "      <td>0</td>\n",
       "    </tr>\n",
       "    <tr>\n",
       "      <td>40517</td>\n",
       "      <td>id_4915</td>\n",
       "      <td>Rome</td>\n",
       "      <td>skip</td>\n",
       "      <td>4916.0</td>\n",
       "      <td>2.0</td>\n",
       "      <td>9.0</td>\n",
       "      <td>[['Tempting food', 'Time to explore and meet p...</td>\n",
       "      <td>/Restaurant_Review-g187791-d8370106-Reviews-Il...</td>\n",
       "      <td>d8370106</td>\n",
       "      <td>1</td>\n",
       "      <td>4.5</td>\n",
       "      <td>g187791</td>\n",
       "      <td>1</td>\n",
       "      <td>0</td>\n",
       "      <td>0</td>\n",
       "      <td>1</td>\n",
       "      <td>1</td>\n",
       "      <td>0</td>\n",
       "    </tr>\n",
       "    <tr>\n",
       "      <td>31912</td>\n",
       "      <td>id_1538</td>\n",
       "      <td>Madrid</td>\n",
       "      <td>['Mediterranean', 'Spanish']</td>\n",
       "      <td>1540.0</td>\n",
       "      <td>2.0</td>\n",
       "      <td>94.0</td>\n",
       "      <td>[['The best paella in Madrid!', 'Delicious!'],...</td>\n",
       "      <td>/Restaurant_Review-g187514-d1314795-Reviews-El...</td>\n",
       "      <td>d1314795</td>\n",
       "      <td>1</td>\n",
       "      <td>4.0</td>\n",
       "      <td>g187514</td>\n",
       "      <td>0</td>\n",
       "      <td>0</td>\n",
       "      <td>0</td>\n",
       "      <td>0</td>\n",
       "      <td>0</td>\n",
       "      <td>1</td>\n",
       "    </tr>\n",
       "    <tr>\n",
       "      <td>16928</td>\n",
       "      <td>id_4939</td>\n",
       "      <td>London</td>\n",
       "      <td>['Mediterranean', 'Turkish', 'Barbecue', 'Midd...</td>\n",
       "      <td>4948.0</td>\n",
       "      <td>2.0</td>\n",
       "      <td>79.0</td>\n",
       "      <td>[['One of best Turkish restaurants that I lov....</td>\n",
       "      <td>/Restaurant_Review-g186338-d1062182-Reviews-19...</td>\n",
       "      <td>d1062182</td>\n",
       "      <td>1</td>\n",
       "      <td>4.5</td>\n",
       "      <td>g186338</td>\n",
       "      <td>0</td>\n",
       "      <td>1</td>\n",
       "      <td>0</td>\n",
       "      <td>1</td>\n",
       "      <td>0</td>\n",
       "      <td>1</td>\n",
       "    </tr>\n",
       "    <tr>\n",
       "      <td>23275</td>\n",
       "      <td>id_3658</td>\n",
       "      <td>Paris</td>\n",
       "      <td>['Fast Food', 'International', 'Healthy', 'Sou...</td>\n",
       "      <td>3659.0</td>\n",
       "      <td>1.0</td>\n",
       "      <td>35.0</td>\n",
       "      <td>[['Very nice vegan brunch', 'Simple, healthy f...</td>\n",
       "      <td>/Restaurant_Review-g187147-d12069105-Reviews-C...</td>\n",
       "      <td>d12069105</td>\n",
       "      <td>1</td>\n",
       "      <td>4.0</td>\n",
       "      <td>g187147</td>\n",
       "      <td>0</td>\n",
       "      <td>1</td>\n",
       "      <td>0</td>\n",
       "      <td>0</td>\n",
       "      <td>0</td>\n",
       "      <td>0</td>\n",
       "    </tr>\n",
       "    <tr>\n",
       "      <td>41468</td>\n",
       "      <td>id_2652</td>\n",
       "      <td>Lyon</td>\n",
       "      <td>skip</td>\n",
       "      <td>2653.0</td>\n",
       "      <td>2.0</td>\n",
       "      <td>4.0</td>\n",
       "      <td>[[], []]</td>\n",
       "      <td>/Restaurant_Review-g1080938-d10642457-Reviews-...</td>\n",
       "      <td>d10642457</td>\n",
       "      <td>1</td>\n",
       "      <td>1.5</td>\n",
       "      <td>g108093</td>\n",
       "      <td>1</td>\n",
       "      <td>0</td>\n",
       "      <td>0</td>\n",
       "      <td>1</td>\n",
       "      <td>1</td>\n",
       "      <td>0</td>\n",
       "    </tr>\n",
       "    <tr>\n",
       "      <td>33762</td>\n",
       "      <td>id_822</td>\n",
       "      <td>Copenhagen</td>\n",
       "      <td>skip</td>\n",
       "      <td>823.0</td>\n",
       "      <td>2.0</td>\n",
       "      <td>9.0</td>\n",
       "      <td>[['Cool!', 'good selection of beers no food!']...</td>\n",
       "      <td>/Restaurant_Review-g189541-d9867424-Reviews-Ba...</td>\n",
       "      <td>d9867424</td>\n",
       "      <td>1</td>\n",
       "      <td>4.5</td>\n",
       "      <td>g189541</td>\n",
       "      <td>1</td>\n",
       "      <td>0</td>\n",
       "      <td>0</td>\n",
       "      <td>1</td>\n",
       "      <td>1</td>\n",
       "      <td>0</td>\n",
       "    </tr>\n",
       "  </tbody>\n",
       "</table>\n",
       "</div>"
      ],
      "text/plain": [
       "      Restaurant_id        City  \\\n",
       "23362       id_3932       Paris   \n",
       "2651        id_2651      Prague   \n",
       "7123        id_7123    Budapest   \n",
       "3602        id_3602      Prague   \n",
       "30441       id_1296      Prague   \n",
       "32832       id_9411      London   \n",
       "44745       id_4799       Milan   \n",
       "21588        id_666      Berlin   \n",
       "19325       id_1134      Prague   \n",
       "37250       id_2661     Hamburg   \n",
       "34754       id_1623      London   \n",
       "35538        id_567   Edinburgh   \n",
       "46477       id_2033    Brussels   \n",
       "36451        id_392        Oslo   \n",
       "40517       id_4915        Rome   \n",
       "31912       id_1538      Madrid   \n",
       "16928       id_4939      London   \n",
       "23275       id_3658       Paris   \n",
       "41468       id_2652        Lyon   \n",
       "33762        id_822  Copenhagen   \n",
       "\n",
       "                                           Cuisine Style  Ranking  \\\n",
       "23362                     ['French', 'European', 'Cafe']   3933.0   \n",
       "2651                               ['European', 'Czech']   2469.0   \n",
       "7123   ['American', 'Steakhouse', 'Barbecue', 'Vegeta...     25.0   \n",
       "3602                                ['Italian', 'Pizza']   2371.0   \n",
       "30441                                               skip   1297.0   \n",
       "32832                            ['African', 'European']   9420.0   \n",
       "44745                                               skip   4802.0   \n",
       "21588  ['Italian', 'Mediterranean', 'European', 'Vege...    667.0   \n",
       "19325  ['Czech', 'Central European', 'Bar', 'European...   1135.0   \n",
       "37250                                               skip   2669.0   \n",
       "34754  ['British', 'Healthy', 'Bar', 'Gluten Free Opt...   1626.0   \n",
       "35538  ['Italian', 'Pizza', 'Vegetarian Friendly', 'V...    568.0   \n",
       "46477                                               skip   2034.0   \n",
       "36451  ['American', 'Bar', 'Pub', 'European', 'Gluten...    393.0   \n",
       "40517                                               skip   4916.0   \n",
       "31912                       ['Mediterranean', 'Spanish']   1540.0   \n",
       "16928  ['Mediterranean', 'Turkish', 'Barbecue', 'Midd...   4948.0   \n",
       "23275  ['Fast Food', 'International', 'Healthy', 'Sou...   3659.0   \n",
       "41468                                               skip   2653.0   \n",
       "33762                                               skip    823.0   \n",
       "\n",
       "       Price Range  Number of Reviews  \\\n",
       "23362          2.0               55.0   \n",
       "2651           2.0                9.0   \n",
       "7123           2.0              436.0   \n",
       "3602           2.0               18.0   \n",
       "30441          2.0                9.0   \n",
       "32832          3.0                1.0   \n",
       "44745          2.0                5.0   \n",
       "21588          2.0               98.0   \n",
       "19325          2.0               89.0   \n",
       "37250          2.0                0.0   \n",
       "34754          2.0              120.0   \n",
       "35538          2.0              425.0   \n",
       "46477          2.0                8.0   \n",
       "36451          2.0              151.0   \n",
       "40517          2.0                9.0   \n",
       "31912          2.0               94.0   \n",
       "16928          2.0               79.0   \n",
       "23275          1.0               35.0   \n",
       "41468          2.0                4.0   \n",
       "33762          2.0                9.0   \n",
       "\n",
       "                                                 Reviews  \\\n",
       "23362  [['Cake and Sandwiches', 'Hands down the best ...   \n",
       "2651   [['Superb service and food', 'best freshwater ...   \n",
       "7123   [['Best burgers EVER....', 'Wonderful evening'...   \n",
       "3602   [['Local pub with aspirations', 'Deliciou pizz...   \n",
       "30441  [['Cozy environment with freshly prepared mea....   \n",
       "32832        [['Perfection in Peckham'], ['12/23/2017']]   \n",
       "44745  [['Great value coffee in an interesting area']...   \n",
       "21588  [['superb late dinner', 'ok, but not very spec...   \n",
       "19325  [['Great time with friends', 'Czech Hospoda'],...   \n",
       "37250                                           [[], []]   \n",
       "34754  [['Great for Gin-Lovers', 'C'], ['01/08/2018',...   \n",
       "35538  [['Pre match lunch was good', 'Very Good'], ['...   \n",
       "46477  [['New owner. New Name. New Game.'], ['03/25/2...   \n",
       "36451  [['Christine', 'Friends at lunch'], ['10/18/20...   \n",
       "40517  [['Tempting food', 'Time to explore and meet p...   \n",
       "31912  [['The best paella in Madrid!', 'Delicious!'],...   \n",
       "16928  [['One of best Turkish restaurants that I lov....   \n",
       "23275  [['Very nice vegan brunch', 'Simple, healthy f...   \n",
       "41468                                           [[], []]   \n",
       "33762  [['Cool!', 'good selection of beers no food!']...   \n",
       "\n",
       "                                                  URL_TA      ID_TA  sample  \\\n",
       "23362  /Restaurant_Review-g187147-d8020843-Reviews-Pa...   d8020843       1   \n",
       "2651   /Restaurant_Review-g274707-d3589443-Reviews-Sl...   d3589443       0   \n",
       "7123   /Restaurant_Review-g274887-d12392130-Reviews-B...  d12392130       0   \n",
       "3602   /Restaurant_Review-g274707-d4768586-Reviews-Lu...   d4768586       0   \n",
       "30441  /Restaurant_Review-g274707-d10594399-Reviews-B...  d10594399       1   \n",
       "32832  /Restaurant_Review-g186338-d13294491-Reviews-K...  d13294491       1   \n",
       "44745  /Restaurant_Review-g187849-d5870930-Reviews-No...   d5870930       1   \n",
       "21588  /Restaurant_Review-g187323-d1979100-Reviews-Ca...   d1979100       1   \n",
       "19325  /Restaurant_Review-g274707-d2659513-Reviews-Ho...   d2659513       1   \n",
       "37250  /Restaurant_Review-g187331-d10819872-Reviews-W...  d10819872       1   \n",
       "34754  /Restaurant_Review-g186338-d6726141-Reviews-As...   d6726141       1   \n",
       "35538  /Restaurant_Review-g186525-d941867-Reviews-Ziz...    d941867       1   \n",
       "46477  /Restaurant_Review-g188644-d7153919-Reviews-Le...   d7153919       1   \n",
       "36451  /Restaurant_Review-g190479-d5770894-Reviews-Ho...   d5770894       1   \n",
       "40517  /Restaurant_Review-g187791-d8370106-Reviews-Il...   d8370106       1   \n",
       "31912  /Restaurant_Review-g187514-d1314795-Reviews-El...   d1314795       1   \n",
       "16928  /Restaurant_Review-g186338-d1062182-Reviews-19...   d1062182       1   \n",
       "23275  /Restaurant_Review-g187147-d12069105-Reviews-C...  d12069105       1   \n",
       "41468  /Restaurant_Review-g1080938-d10642457-Reviews-...  d10642457       1   \n",
       "33762  /Restaurant_Review-g189541-d9867424-Reviews-Ba...   d9867424       1   \n",
       "\n",
       "       Rating   g_link  Price RangeNAN  Vegetarian Friendly  European  ki  \\\n",
       "23362     4.0  g187147               0                    0         1   0   \n",
       "2651      0.0  g274707               1                    0         1   0   \n",
       "7123      0.0  g274887               0                    1         0   0   \n",
       "3602      0.0  g274707               0                    0         0   0   \n",
       "30441     5.0  g274707               1                    0         0   1   \n",
       "32832     5.0  g186338               0                    0         1   0   \n",
       "44745     4.0  g187849               1                    0         0   1   \n",
       "21588     4.5  g187323               0                    1         1   0   \n",
       "19325     4.0  g274707               0                    0         1   0   \n",
       "37250     2.0  g187331               1                    0         0   1   \n",
       "34754     4.5  g186338               0                    1         0   0   \n",
       "35538     4.0  g186525               0                    1         0   0   \n",
       "46477     4.0  g188644               1                    0         0   1   \n",
       "36451     3.5  g190479               0                    1         1   0   \n",
       "40517     4.5  g187791               1                    0         0   1   \n",
       "31912     4.0  g187514               0                    0         0   0   \n",
       "16928     4.5  g186338               0                    1         0   1   \n",
       "23275     4.0  g187147               0                    1         0   0   \n",
       "41468     1.5  g108093               1                    0         0   1   \n",
       "33762     4.5  g189541               1                    0         0   1   \n",
       "\n",
       "       skip  Mediterranean  \n",
       "23362     0              0  \n",
       "2651      0              0  \n",
       "7123      0              0  \n",
       "3602      0              0  \n",
       "30441     1              0  \n",
       "32832     0              0  \n",
       "44745     1              0  \n",
       "21588     0              1  \n",
       "19325     0              0  \n",
       "37250     1              0  \n",
       "34754     0              0  \n",
       "35538     0              0  \n",
       "46477     1              0  \n",
       "36451     0              0  \n",
       "40517     1              0  \n",
       "31912     0              1  \n",
       "16928     0              1  \n",
       "23275     0              0  \n",
       "41468     1              0  \n",
       "33762     1              0  "
      ]
     },
     "execution_count": 62,
     "metadata": {},
     "output_type": "execute_result"
    }
   ],
   "source": [
    "# Проверим нормально ли создался признак\n",
    "data.sample(20)"
   ]
  },
  {
   "cell_type": "markdown",
   "metadata": {},
   "source": [
    "Столица\n",
    "--"
   ]
  },
  {
   "cell_type": "code",
   "execution_count": 63,
   "metadata": {},
   "outputs": [],
   "source": [
    "# Добавляем новый признак \"Столица - Не столица\"\n",
    "capitals = {'City': [\n",
    "    'London', 'Paris', 'Madrid', 'Barcelona', 'Berlin', 'Milan', 'Rome', 'Prague',\n",
    "    'Lisbon', 'Vienna', 'Amsterdam', 'Brussels', 'Hamburg', 'Munich', 'Lyon', 'Stockholm',\n",
    "    'Budapest', 'Warsaw', 'Dublin', 'Copenhagen', 'Athens', 'Edinburgh', 'Zurich', 'Oporto',\n",
    "    'Geneva', 'Krakow', 'Oslo', 'Helsinki', 'Bratislava', 'Luxembourg', 'Ljubljana'],\n",
    "    'Country': [\n",
    "    'United Kingdom', 'France', 'Spain', 'Spain', 'Germainy', 'Italy', 'Italy', 'Czech Republic',\n",
    "    'Portugal', 'Austria', 'Netherlands', 'Belgium', 'Germainy', 'Germainy', 'France', 'Sweden',\n",
    "    'Hungary', 'Poland', 'Ireland', 'Denmark', 'Greece', 'Scotland', 'Switzerland', 'Portugal',\n",
    "    'Switzerland', 'Poland', 'Norway', 'Finland', 'Slovakia', 'Luxembourg', 'Slovenia'],\n",
    "    'Is capital': [1, 1, 1, 0, 1, 0, 1, 1, 1, 1, 1, 1, 0, 0, 0, 1, 1, 1, 1, 1, 1, 1, 0, 0, 0, 0, 1, 1, 1, 1, 1]\n",
    "}"
   ]
  },
  {
   "cell_type": "code",
   "execution_count": 64,
   "metadata": {},
   "outputs": [],
   "source": [
    "capitals_list = []\n",
    "\n",
    "for i,j in zip(capitals['City'], capitals['Is capital']):\n",
    "    if j == 1:\n",
    "        capitals_list.append(i)"
   ]
  },
  {
   "cell_type": "code",
   "execution_count": 65,
   "metadata": {},
   "outputs": [],
   "source": [
    "def capital_sign(city_string):\n",
    "    '''Данная функция возвращает 1 - если столица, в противном случае - 0'''\n",
    "    \n",
    "    if city_string in capitals_list:\n",
    "        return(1)\n",
    "    else:\n",
    "        return(0)"
   ]
  },
  {
   "cell_type": "code",
   "execution_count": 66,
   "metadata": {},
   "outputs": [],
   "source": [
    "# Создаем новый признак по столицам\n",
    "data['Is_capital'] = data['City'].apply(capital_sign)"
   ]
  },
  {
   "cell_type": "markdown",
   "metadata": {},
   "source": [
    "Разница между отзывами\n",
    "--"
   ]
  },
  {
   "cell_type": "code",
   "execution_count": 67,
   "metadata": {},
   "outputs": [],
   "source": [
    "#Создаем новый признак из разницы между датами отзывов\n",
    "\n",
    "# Вычленяем из строки даты и записываем в отдельный столбец\n",
    "data['Number of Reviews'].fillna(0, inplace=True)\n",
    "\n",
    "#Заполняем наны в столбце Reviews\n",
    "data['Reviews'].fillna('[[], []]', inplace=True)\n",
    "\n",
    "def data_extract(reviews_str):\n",
    "    pattern = re.compile('\\d\\d\\W\\d\\d\\W\\d\\d\\d\\d')\n",
    "    tmp_data = pattern.findall(reviews_str)\n",
    "    return(tmp_data)\n",
    "\n",
    "data['Data_Reviews'] = data['Reviews'].apply(data_extract)\n",
    "\n",
    "#Резделим даты отзывов на два столбца. Пригодится и для следующего задания\n",
    "def data_reviews_separate_1(data_reviews_string):\n",
    "    tmp = 0\n",
    "    if len(data_reviews_string) == 0:\n",
    "        tmp = 0\n",
    "    else:\n",
    "        tmp = data_reviews_string[0]\n",
    "    return(tmp)\n",
    "\n",
    "def data_reviews_separate_2(data_reviews_string):\n",
    "    tmp = 0\n",
    "    if len(data_reviews_string) == 0:\n",
    "        tmp = 0\n",
    "    elif len(data_reviews_string) == 1:\n",
    "        tmp = 0\n",
    "    elif len(data_reviews_string) == 2:\n",
    "        tmp = data_reviews_string[1]\n",
    "    return(tmp)\n",
    "\n",
    "data['Data_Reviews_1'] = data['Data_Reviews'].apply(data_reviews_separate_1)\n",
    "data['Data_Reviews_2'] = data['Data_Reviews'].apply(data_reviews_separate_2)\n",
    "\n",
    "#Преобразовываем столбцы Data_Reviews_ в формат datetime\n",
    "data['Data_Reviews_1'] = data['Data_Reviews_1'].apply(lambda x: pd.to_datetime(x) if x != 0 else False)\n",
    "data['Data_Reviews_2'] = data['Data_Reviews_2'].apply(lambda x: pd.to_datetime(x) if x != 0 else False) \n",
    "\n",
    "# Вычисляем разницу в днях между отзывами, чистим значения от None и преобразовываем в int\n",
    "def data_delta(Data_Reviews_item):\n",
    "    if (len(Data_Reviews_item) == 0) or (len(Data_Reviews_item) == 1):\n",
    "        tmp = 0\n",
    "    else:\n",
    "        tmp = pd.to_datetime(\n",
    "            Data_Reviews_item[0]) - pd.to_datetime(Data_Reviews_item[1])\n",
    "\n",
    "    if tmp != 0:\n",
    "        return(str(tmp))\n",
    "\n",
    "\n",
    "def data_delta_to_int(data_delta_item):\n",
    "    tmp = str(data_delta_item)\n",
    "    if '-' in tmp:\n",
    "        tmp1 = tmp[1:-15]\n",
    "    elif 'None' in tmp:\n",
    "        tmp1 = '0'\n",
    "    else:\n",
    "        tmp1 = tmp[:-14]\n",
    "    return(int(tmp1))\n",
    "\n",
    "\n",
    "data['Data_Delta'] = data['Data_Reviews'].apply(data_delta)\n",
    "data['Data_Delta'] = data['Data_Delta'].apply(data_delta_to_int)\n",
    "\n",
    "\n",
    "#Убираем пропуски из столбцов Data_Reviews_х\n",
    "def error_date_to_zero(data_string):\n",
    "    if data_string == False:\n",
    "        return(int(0))\n",
    "    else:\n",
    "        return(data_string)\n",
    "\n",
    "data['Data_Reviews_1'] = data['Data_Reviews_1'].apply(error_date_to_zero)\n",
    "data['Data_Reviews_2'] = data['Data_Reviews_2'].apply(error_date_to_zero)"
   ]
  },
  {
   "cell_type": "markdown",
   "metadata": {},
   "source": [
    "Кол-во кухонь предоставленных в ресторане\n",
    "---"
   ]
  },
  {
   "cell_type": "code",
   "execution_count": 68,
   "metadata": {},
   "outputs": [],
   "source": [
    "def cusine_counter(row):\n",
    "    '''Ф-ция возвращает кол-во кухонь предоставленных в ресторане'''\n",
    "    \n",
    "    cusine = []\n",
    "    for cus in row[1:-1].replace(\"'\", '').split(','):\n",
    "        cusine.append(cus)\n",
    "    return len(cusine)"
   ]
  },
  {
   "cell_type": "code",
   "execution_count": 69,
   "metadata": {},
   "outputs": [],
   "source": [
    "data['cusine_count'] = data['Cuisine Style'].apply(cusine_counter)"
   ]
  },
  {
   "cell_type": "markdown",
   "metadata": {},
   "source": [
    "Кол-во ресторанов в городе\n",
    "--"
   ]
  },
  {
   "cell_type": "code",
   "execution_count": 70,
   "metadata": {},
   "outputs": [],
   "source": [
    "quantity_rest = data['City'].value_counts()"
   ]
  },
  {
   "cell_type": "code",
   "execution_count": 71,
   "metadata": {},
   "outputs": [],
   "source": [
    "data['quantity'] = data['City'].apply(lambda x: quantity_rest[x])"
   ]
  },
  {
   "cell_type": "markdown",
   "metadata": {},
   "source": [
    "Средняя оценка в городе  \n",
    "--"
   ]
  },
  {
   "cell_type": "code",
   "execution_count": 72,
   "metadata": {},
   "outputs": [],
   "source": [
    "mean_rating_in_city = data.groupby('City')['Rating'].mean()"
   ]
  },
  {
   "cell_type": "code",
   "execution_count": 73,
   "metadata": {},
   "outputs": [],
   "source": [
    "data['mean_rating'] = data['City'].apply(lambda x: mean_rating_in_city[x])"
   ]
  },
  {
   "cell_type": "markdown",
   "metadata": {},
   "source": [
    "Ranking global\n",
    "--"
   ]
  },
  {
   "cell_type": "code",
   "execution_count": 74,
   "metadata": {},
   "outputs": [],
   "source": [
    "data['Ranking_global'] = data['Ranking'] / data['quantity']\n",
    "#data['City'].apply(lambda x: quantity_rest[x])"
   ]
  },
  {
   "cell_type": "markdown",
   "metadata": {},
   "source": [
    "Убедимся что распределение признака равномерное (похоже на Ranking для каждого города)"
   ]
  },
  {
   "cell_type": "code",
   "execution_count": 75,
   "metadata": {
    "scrolled": true
   },
   "outputs": [
    {
     "data": {
      "text/plain": [
       "<matplotlib.axes._subplots.AxesSubplot at 0x1f43daac808>"
      ]
     },
     "execution_count": 75,
     "metadata": {},
     "output_type": "execute_result"
    },
    {
     "data": {
      "image/png": "[encoded data removed]",
      "text/plain": [
       "<Figure size 432x288 with 1 Axes>"
      ]
     },
     "metadata": {
      "needs_background": "light"
     },
     "output_type": "display_data"
    }
   ],
   "source": [
    "data['Ranking_global'].hist(bins=100)"
   ]
  },
  {
   "cell_type": "markdown",
   "metadata": {},
   "source": [
    "Посмотрим распределение признака относительно конкретных оценок"
   ]
  },
  {
   "cell_type": "code",
   "execution_count": 76,
   "metadata": {},
   "outputs": [
    {
     "data": {
      "text/plain": [
       "<matplotlib.axes._subplots.AxesSubplot at 0x1f43c339bc8>"
      ]
     },
     "execution_count": 76,
     "metadata": {},
     "output_type": "execute_result"
    },
    {
     "data": {
      "image/png": "[encoded data removed]",
      "text/plain": [
       "<Figure size 432x288 with 1 Axes>"
      ]
     },
     "metadata": {
      "needs_background": "light"
     },
     "output_type": "display_data"
    }
   ],
   "source": [
    "data['Ranking_global'][data['Rating'] == 5].hist(bins=100)"
   ]
  },
  {
   "cell_type": "code",
   "execution_count": 77,
   "metadata": {},
   "outputs": [
    {
     "data": {
      "text/plain": [
       "<matplotlib.axes._subplots.AxesSubplot at 0x1f43c3b6bc8>"
      ]
     },
     "execution_count": 77,
     "metadata": {},
     "output_type": "execute_result"
    },
    {
     "data": {
      "image/png": "[encoded data removed]",
      "text/plain": [
       "<Figure size 432x288 with 1 Axes>"
      ]
     },
     "metadata": {
      "needs_background": "light"
     },
     "output_type": "display_data"
    }
   ],
   "source": [
    "data['Ranking_global'][data['Rating'] >= 4].hist(bins=100)"
   ]
  },
  {
   "cell_type": "code",
   "execution_count": 78,
   "metadata": {},
   "outputs": [
    {
     "data": {
      "text/plain": [
       "<matplotlib.axes._subplots.AxesSubplot at 0x1f43c6c8248>"
      ]
     },
     "execution_count": 78,
     "metadata": {},
     "output_type": "execute_result"
    },
    {
     "data": {
      "image/png": "[encoded data removed]",
      "text/plain": [
       "<Figure size 432x288 with 1 Axes>"
      ]
     },
     "metadata": {
      "needs_background": "light"
     },
     "output_type": "display_data"
    }
   ],
   "source": [
    "data['Ranking_global'][data['Rating'] < 4].hist(bins=100)"
   ]
  },
  {
   "cell_type": "markdown",
   "metadata": {},
   "source": [
    "С большего распределение нормированного Ranking смещается в сторону оценки. Но интересная ситуация с ресторанами самого высокого рейтинга.  \n",
    "Большинство ресторанов с высоким рейтингом не самые популярные в городе"
   ]
  },
  {
   "cell_type": "markdown",
   "metadata": {},
   "source": [
    "Среднее кол-во отзывов о ресторане в городе\n",
    "--"
   ]
  },
  {
   "cell_type": "code",
   "execution_count": 79,
   "metadata": {},
   "outputs": [],
   "source": [
    "mean_number_reviews_in_city = data.groupby('City')['Number of Reviews'].mean()"
   ]
  },
  {
   "cell_type": "code",
   "execution_count": 80,
   "metadata": {},
   "outputs": [],
   "source": [
    "data['mean_reviews'] = data['City'].apply(lambda x: mean_number_reviews_in_city[x])"
   ]
  },
  {
   "cell_type": "markdown",
   "metadata": {},
   "source": [
    "Doble ID_TA\n",
    "--"
   ]
  },
  {
   "cell_type": "code",
   "execution_count": 81,
   "metadata": {},
   "outputs": [],
   "source": [
    "doble_id = data['ID_TA'].value_counts()"
   ]
  },
  {
   "cell_type": "code",
   "execution_count": 82,
   "metadata": {},
   "outputs": [],
   "source": [
    "doble_id_l = doble_id[doble_id > 1].index"
   ]
  },
  {
   "cell_type": "code",
   "execution_count": 83,
   "metadata": {},
   "outputs": [],
   "source": [
    "data['doble_id'] = data['ID_TA'].apply(lambda x: 1 if x in doble_id_l else 0)"
   ]
  },
  {
   "cell_type": "markdown",
   "metadata": {},
   "source": [
    "Средний рейтинг по g_link\n",
    "--"
   ]
  },
  {
   "cell_type": "code",
   "execution_count": 84,
   "metadata": {},
   "outputs": [],
   "source": [
    "g_link_rating = data.groupby('g_link').median()['Rating']"
   ]
  },
  {
   "cell_type": "code",
   "execution_count": 85,
   "metadata": {},
   "outputs": [],
   "source": [
    "data['rating_g_link'] = data['g_link'].apply(lambda x: g_link_rating[x])"
   ]
  },
  {
   "cell_type": "markdown",
   "metadata": {},
   "source": [
    "## Проверим корреляцию"
   ]
  },
  {
   "cell_type": "code",
   "execution_count": 86,
   "metadata": {},
   "outputs": [
    {
     "data": {
      "text/plain": [
       "(20.0, 0.0)"
      ]
     },
     "execution_count": 86,
     "metadata": {},
     "output_type": "execute_result"
    },
    {
     "data": {
      "image/png": "[encoded data removed]",
      "text/plain": [
       "<Figure size 1728x864 with 2 Axes>"
      ]
     },
     "metadata": {
      "needs_background": "light"
     },
     "output_type": "display_data"
    }
   ],
   "source": [
    "#df_temp = df.loc[df['Sample'] == 1, list(feat_importances.nlargest(15).index[0:15])]\n",
    "plt.rcParams['figure.figsize'] = (24,12)\n",
    "ax = sns.heatmap(data.corr(), annot=True, fmt='.2g')\n",
    "i, k = ax.get_ylim()\n",
    "ax.set_ylim(i+0.5, k-0.5)"
   ]
  },
  {
   "cell_type": "markdown",
   "metadata": {},
   "source": [
    "## Готовим датасет для ML"
   ]
  },
  {
   "cell_type": "code",
   "execution_count": 87,
   "metadata": {},
   "outputs": [],
   "source": [
    "object_columns = [s for s in data.columns if data[s].dtypes == 'object']\n",
    "#df_output.drop(object_columns, axis = 1, inplace=True)"
   ]
  },
  {
   "cell_type": "code",
   "execution_count": 88,
   "metadata": {},
   "outputs": [],
   "source": [
    "# Теперь выделим тестовую часть\n",
    "train_data = data.query('sample == 1').drop(['sample'], axis=1)\n",
    "test_data = data.query('sample == 0').drop(['sample'], axis=1)\n",
    "\n",
    "y = train_data.Rating.values            # наш таргет\n",
    "X = train_data.drop(['Rating'], axis=1)\n",
    "X = X.drop(object_columns, axis=1)"
   ]
  },
  {
   "cell_type": "markdown",
   "metadata": {},
   "source": [
    "**Перед тем как отправлять наши данные на обучение, разделим данные на еще один тест и трейн, для валидации. \n",
    "Это поможет нам проверить, как хорошо наша модель работает, до отправки submissiona на kaggle.**"
   ]
  },
  {
   "cell_type": "code",
   "execution_count": 89,
   "metadata": {},
   "outputs": [],
   "source": [
    "# Воспользуемся специальной функцие train_test_split для разбивки тестовых данных\n",
    "# выделим 20% данных на валидацию (параметр test_size)\n",
    "X_train, X_test, y_train, y_test = train_test_split(X, y, test_size=0.2, random_state=RANDOM_SEED)"
   ]
  },
  {
   "cell_type": "code",
   "execution_count": 90,
   "metadata": {},
   "outputs": [
    {
     "data": {
      "text/plain": [
       "((10000, 29), (40000, 29), (40000, 18), (32000, 18), (8000, 18))"
      ]
     },
     "execution_count": 90,
     "metadata": {},
     "output_type": "execute_result"
    }
   ],
   "source": [
    "# проверяем\n",
    "test_data.shape, train_data.shape, X.shape, X_train.shape, X_test.shape"
   ]
  },
  {
   "cell_type": "markdown",
   "metadata": {},
   "source": [
    "# Model \n",
    "Сам ML"
   ]
  },
  {
   "cell_type": "code",
   "execution_count": 91,
   "metadata": {},
   "outputs": [],
   "source": [
    "# Создаём модель (НАСТРОЙКИ НЕ ТРОГАЕМ)\n",
    "model = RandomForestRegressor(n_estimators=100, verbose=1, n_jobs=-1, random_state=RANDOM_SEED)"
   ]
  },
  {
   "cell_type": "code",
   "execution_count": 92,
   "metadata": {},
   "outputs": [
    {
     "name": "stderr",
     "output_type": "stream",
     "text": [
      "[Parallel(n_jobs=-1)]: Using backend ThreadingBackend with 4 concurrent workers.\n",
      "[Parallel(n_jobs=-1)]: Done  42 tasks      | elapsed:    4.1s\n",
      "[Parallel(n_jobs=-1)]: Done 100 out of 100 | elapsed:   10.5s finished\n",
      "[Parallel(n_jobs=4)]: Using backend ThreadingBackend with 4 concurrent workers.\n",
      "[Parallel(n_jobs=4)]: Done  42 tasks      | elapsed:    0.0s\n",
      "[Parallel(n_jobs=4)]: Done 100 out of 100 | elapsed:    0.0s finished\n"
     ]
    }
   ],
   "source": [
    "# Обучаем модель на тестовом наборе данных\n",
    "model.fit(X_train, y_train)\n",
    "\n",
    "# Используем обученную модель для предсказания рейтинга ресторанов в тестовой выборке.\n",
    "# Предсказанные значения записываем в переменную y_pred\n",
    "y_pred = model.predict(X_test)"
   ]
  },
  {
   "cell_type": "code",
   "execution_count": 93,
   "metadata": {},
   "outputs": [
    {
     "name": "stdout",
     "output_type": "stream",
     "text": [
      "MAE: 0.20430874999999998\n"
     ]
    }
   ],
   "source": [
    "# Сравниваем предсказанные значения (y_pred) с реальными (y_test), и смотрим насколько они в среднем отличаются\n",
    "# Метрика называется Mean Absolute Error (MAE) и показывает среднее отклонение предсказанных значений от фактических.\n",
    "print('MAE:', metrics.mean_absolute_error(y_test, y_pred))"
   ]
  },
  {
   "cell_type": "code",
   "execution_count": 94,
   "metadata": {},
   "outputs": [
    {
     "data": {
      "text/plain": [
       "<matplotlib.axes._subplots.AxesSubplot at 0x1f43ea2d388>"
      ]
     },
     "execution_count": 94,
     "metadata": {},
     "output_type": "execute_result"
    },
    {
     "data": {
      "image/png": "[encoded data removed]",
      "text/plain": [
       "<Figure size 720x720 with 1 Axes>"
      ]
     },
     "metadata": {
      "needs_background": "light"
     },
     "output_type": "display_data"
    }
   ],
   "source": [
    "# в RandomForestRegressor есть возможность вывести самые важные признаки для модели\n",
    "plt.rcParams['figure.figsize'] = (10,10)\n",
    "feat_importances = pd.Series(model.feature_importances_, index=X.columns)\n",
    "feat_importances.nlargest(15).plot(kind='barh')"
   ]
  },
  {
   "cell_type": "markdown",
   "metadata": {},
   "source": [
    "# Submission\n",
    "готовим Submission на кагл"
   ]
  },
  {
   "cell_type": "code",
   "execution_count": 95,
   "metadata": {},
   "outputs": [],
   "source": [
    "test_data = test_data.drop(object_columns, axis=1)"
   ]
  },
  {
   "cell_type": "code",
   "execution_count": 96,
   "metadata": {},
   "outputs": [
    {
     "data": {
      "text/html": [
       "<div>\n",
       "<style scoped>\n",
       "    .dataframe tbody tr th:only-of-type {\n",
       "        vertical-align: middle;\n",
       "    }\n",
       "\n",
       "    .dataframe tbody tr th {\n",
       "        vertical-align: top;\n",
       "    }\n",
       "\n",
       "    .dataframe thead th {\n",
       "        text-align: right;\n",
       "    }\n",
       "</style>\n",
       "<table border=\"1\" class=\"dataframe\">\n",
       "  <thead>\n",
       "    <tr style=\"text-align: right;\">\n",
       "      <th></th>\n",
       "      <th>Ranking</th>\n",
       "      <th>Price Range</th>\n",
       "      <th>Number of Reviews</th>\n",
       "      <th>Rating</th>\n",
       "      <th>Price RangeNAN</th>\n",
       "      <th>Vegetarian Friendly</th>\n",
       "      <th>European</th>\n",
       "      <th>ki</th>\n",
       "      <th>skip</th>\n",
       "      <th>Mediterranean</th>\n",
       "      <th>Is_capital</th>\n",
       "      <th>Data_Delta</th>\n",
       "      <th>cusine_count</th>\n",
       "      <th>quantity</th>\n",
       "      <th>mean_rating</th>\n",
       "      <th>Ranking_global</th>\n",
       "      <th>mean_reviews</th>\n",
       "      <th>doble_id</th>\n",
       "      <th>rating_g_link</th>\n",
       "    </tr>\n",
       "  </thead>\n",
       "  <tbody>\n",
       "    <tr>\n",
       "      <td>2510</td>\n",
       "      <td>53.0</td>\n",
       "      <td>3.0</td>\n",
       "      <td>233.0</td>\n",
       "      <td>0.0</td>\n",
       "      <td>0</td>\n",
       "      <td>1</td>\n",
       "      <td>1</td>\n",
       "      <td>0</td>\n",
       "      <td>0</td>\n",
       "      <td>0</td>\n",
       "      <td>1</td>\n",
       "      <td>26</td>\n",
       "      <td>3</td>\n",
       "      <td>1314</td>\n",
       "      <td>3.153349</td>\n",
       "      <td>0.040335</td>\n",
       "      <td>86.745053</td>\n",
       "      <td>0</td>\n",
       "      <td>4.0</td>\n",
       "    </tr>\n",
       "    <tr>\n",
       "      <td>458</td>\n",
       "      <td>2571.0</td>\n",
       "      <td>2.0</td>\n",
       "      <td>13.0</td>\n",
       "      <td>0.0</td>\n",
       "      <td>1</td>\n",
       "      <td>0</td>\n",
       "      <td>0</td>\n",
       "      <td>1</td>\n",
       "      <td>1</td>\n",
       "      <td>0</td>\n",
       "      <td>0</td>\n",
       "      <td>734</td>\n",
       "      <td>1</td>\n",
       "      <td>1145</td>\n",
       "      <td>3.156332</td>\n",
       "      <td>2.245415</td>\n",
       "      <td>71.971179</td>\n",
       "      <td>0</td>\n",
       "      <td>4.0</td>\n",
       "    </tr>\n",
       "    <tr>\n",
       "      <td>3770</td>\n",
       "      <td>2387.0</td>\n",
       "      <td>2.0</td>\n",
       "      <td>4.0</td>\n",
       "      <td>0.0</td>\n",
       "      <td>1</td>\n",
       "      <td>0</td>\n",
       "      <td>1</td>\n",
       "      <td>0</td>\n",
       "      <td>0</td>\n",
       "      <td>0</td>\n",
       "      <td>1</td>\n",
       "      <td>0</td>\n",
       "      <td>3</td>\n",
       "      <td>1314</td>\n",
       "      <td>3.153349</td>\n",
       "      <td>1.816591</td>\n",
       "      <td>86.745053</td>\n",
       "      <td>0</td>\n",
       "      <td>4.0</td>\n",
       "    </tr>\n",
       "    <tr>\n",
       "      <td>3172</td>\n",
       "      <td>994.0</td>\n",
       "      <td>2.0</td>\n",
       "      <td>66.0</td>\n",
       "      <td>0.0</td>\n",
       "      <td>0</td>\n",
       "      <td>0</td>\n",
       "      <td>1</td>\n",
       "      <td>0</td>\n",
       "      <td>0</td>\n",
       "      <td>0</td>\n",
       "      <td>1</td>\n",
       "      <td>181</td>\n",
       "      <td>5</td>\n",
       "      <td>1021</td>\n",
       "      <td>3.268854</td>\n",
       "      <td>0.973555</td>\n",
       "      <td>145.351616</td>\n",
       "      <td>0</td>\n",
       "      <td>4.0</td>\n",
       "    </tr>\n",
       "    <tr>\n",
       "      <td>8791</td>\n",
       "      <td>1889.0</td>\n",
       "      <td>2.0</td>\n",
       "      <td>1.0</td>\n",
       "      <td>0.0</td>\n",
       "      <td>1</td>\n",
       "      <td>0</td>\n",
       "      <td>1</td>\n",
       "      <td>0</td>\n",
       "      <td>0</td>\n",
       "      <td>0</td>\n",
       "      <td>1</td>\n",
       "      <td>0</td>\n",
       "      <td>3</td>\n",
       "      <td>1021</td>\n",
       "      <td>3.268854</td>\n",
       "      <td>1.850147</td>\n",
       "      <td>145.351616</td>\n",
       "      <td>0</td>\n",
       "      <td>4.0</td>\n",
       "    </tr>\n",
       "    <tr>\n",
       "      <td>8838</td>\n",
       "      <td>362.0</td>\n",
       "      <td>2.0</td>\n",
       "      <td>74.0</td>\n",
       "      <td>0.0</td>\n",
       "      <td>0</td>\n",
       "      <td>1</td>\n",
       "      <td>0</td>\n",
       "      <td>0</td>\n",
       "      <td>0</td>\n",
       "      <td>0</td>\n",
       "      <td>1</td>\n",
       "      <td>33</td>\n",
       "      <td>5</td>\n",
       "      <td>1816</td>\n",
       "      <td>3.204295</td>\n",
       "      <td>0.199339</td>\n",
       "      <td>110.104075</td>\n",
       "      <td>0</td>\n",
       "      <td>4.0</td>\n",
       "    </tr>\n",
       "    <tr>\n",
       "      <td>3958</td>\n",
       "      <td>3715.0</td>\n",
       "      <td>2.0</td>\n",
       "      <td>33.0</td>\n",
       "      <td>0.0</td>\n",
       "      <td>1</td>\n",
       "      <td>0</td>\n",
       "      <td>0</td>\n",
       "      <td>1</td>\n",
       "      <td>1</td>\n",
       "      <td>0</td>\n",
       "      <td>0</td>\n",
       "      <td>0</td>\n",
       "      <td>1</td>\n",
       "      <td>2694</td>\n",
       "      <td>3.028396</td>\n",
       "      <td>1.378990</td>\n",
       "      <td>160.118411</td>\n",
       "      <td>0</td>\n",
       "      <td>3.5</td>\n",
       "    </tr>\n",
       "    <tr>\n",
       "      <td>4069</td>\n",
       "      <td>4723.0</td>\n",
       "      <td>2.0</td>\n",
       "      <td>2.0</td>\n",
       "      <td>0.0</td>\n",
       "      <td>0</td>\n",
       "      <td>0</td>\n",
       "      <td>0</td>\n",
       "      <td>0</td>\n",
       "      <td>0</td>\n",
       "      <td>1</td>\n",
       "      <td>0</td>\n",
       "      <td>0</td>\n",
       "      <td>3</td>\n",
       "      <td>3395</td>\n",
       "      <td>3.189985</td>\n",
       "      <td>1.391163</td>\n",
       "      <td>126.506627</td>\n",
       "      <td>0</td>\n",
       "      <td>4.0</td>\n",
       "    </tr>\n",
       "    <tr>\n",
       "      <td>4591</td>\n",
       "      <td>1604.0</td>\n",
       "      <td>2.0</td>\n",
       "      <td>7.0</td>\n",
       "      <td>0.0</td>\n",
       "      <td>0</td>\n",
       "      <td>0</td>\n",
       "      <td>0</td>\n",
       "      <td>0</td>\n",
       "      <td>0</td>\n",
       "      <td>0</td>\n",
       "      <td>1</td>\n",
       "      <td>33</td>\n",
       "      <td>1</td>\n",
       "      <td>819</td>\n",
       "      <td>3.206960</td>\n",
       "      <td>1.958486</td>\n",
       "      <td>89.974359</td>\n",
       "      <td>0</td>\n",
       "      <td>4.0</td>\n",
       "    </tr>\n",
       "    <tr>\n",
       "      <td>9567</td>\n",
       "      <td>2168.0</td>\n",
       "      <td>2.0</td>\n",
       "      <td>237.0</td>\n",
       "      <td>0.0</td>\n",
       "      <td>0</td>\n",
       "      <td>1</td>\n",
       "      <td>0</td>\n",
       "      <td>0</td>\n",
       "      <td>0</td>\n",
       "      <td>0</td>\n",
       "      <td>1</td>\n",
       "      <td>10</td>\n",
       "      <td>4</td>\n",
       "      <td>6108</td>\n",
       "      <td>3.160773</td>\n",
       "      <td>0.354944</td>\n",
       "      <td>111.475933</td>\n",
       "      <td>0</td>\n",
       "      <td>4.0</td>\n",
       "    </tr>\n",
       "  </tbody>\n",
       "</table>\n",
       "</div>"
      ],
      "text/plain": [
       "      Ranking  Price Range  Number of Reviews  Rating  Price RangeNAN  \\\n",
       "2510     53.0          3.0              233.0     0.0               0   \n",
       "458    2571.0          2.0               13.0     0.0               1   \n",
       "3770   2387.0          2.0                4.0     0.0               1   \n",
       "3172    994.0          2.0               66.0     0.0               0   \n",
       "8791   1889.0          2.0                1.0     0.0               1   \n",
       "8838    362.0          2.0               74.0     0.0               0   \n",
       "3958   3715.0          2.0               33.0     0.0               1   \n",
       "4069   4723.0          2.0                2.0     0.0               0   \n",
       "4591   1604.0          2.0                7.0     0.0               0   \n",
       "9567   2168.0          2.0              237.0     0.0               0   \n",
       "\n",
       "      Vegetarian Friendly  European  ki  skip  Mediterranean  Is_capital  \\\n",
       "2510                    1         1   0     0              0           1   \n",
       "458                     0         0   1     1              0           0   \n",
       "3770                    0         1   0     0              0           1   \n",
       "3172                    0         1   0     0              0           1   \n",
       "8791                    0         1   0     0              0           1   \n",
       "8838                    1         0   0     0              0           1   \n",
       "3958                    0         0   1     1              0           0   \n",
       "4069                    0         0   0     0              1           0   \n",
       "4591                    0         0   0     0              0           1   \n",
       "9567                    1         0   0     0              0           1   \n",
       "\n",
       "      Data_Delta  cusine_count  quantity  mean_rating  Ranking_global  \\\n",
       "2510          26             3      1314     3.153349        0.040335   \n",
       "458          734             1      1145     3.156332        2.245415   \n",
       "3770           0             3      1314     3.153349        1.816591   \n",
       "3172         181             5      1021     3.268854        0.973555   \n",
       "8791           0             3      1021     3.268854        1.850147   \n",
       "8838          33             5      1816     3.204295        0.199339   \n",
       "3958           0             1      2694     3.028396        1.378990   \n",
       "4069           0             3      3395     3.189985        1.391163   \n",
       "4591          33             1       819     3.206960        1.958486   \n",
       "9567          10             4      6108     3.160773        0.354944   \n",
       "\n",
       "      mean_reviews  doble_id  rating_g_link  \n",
       "2510     86.745053         0            4.0  \n",
       "458      71.971179         0            4.0  \n",
       "3770     86.745053         0            4.0  \n",
       "3172    145.351616         0            4.0  \n",
       "8791    145.351616         0            4.0  \n",
       "8838    110.104075         0            4.0  \n",
       "3958    160.118411         0            3.5  \n",
       "4069    126.506627         0            4.0  \n",
       "4591     89.974359         0            4.0  \n",
       "9567    111.475933         0            4.0  "
      ]
     },
     "execution_count": 96,
     "metadata": {},
     "output_type": "execute_result"
    }
   ],
   "source": [
    "test_data.sample(10)"
   ]
  },
  {
   "cell_type": "code",
   "execution_count": 97,
   "metadata": {},
   "outputs": [],
   "source": [
    "test_data = test_data.drop(['Rating'], axis=1)"
   ]
  },
  {
   "cell_type": "code",
   "execution_count": 98,
   "metadata": {},
   "outputs": [
    {
     "data": {
      "text/html": [
       "<div>\n",
       "<style scoped>\n",
       "    .dataframe tbody tr th:only-of-type {\n",
       "        vertical-align: middle;\n",
       "    }\n",
       "\n",
       "    .dataframe tbody tr th {\n",
       "        vertical-align: top;\n",
       "    }\n",
       "\n",
       "    .dataframe thead th {\n",
       "        text-align: right;\n",
       "    }\n",
       "</style>\n",
       "<table border=\"1\" class=\"dataframe\">\n",
       "  <thead>\n",
       "    <tr style=\"text-align: right;\">\n",
       "      <th></th>\n",
       "      <th>Restaurant_id</th>\n",
       "      <th>Rating</th>\n",
       "    </tr>\n",
       "  </thead>\n",
       "  <tbody>\n",
       "    <tr>\n",
       "      <td>0</td>\n",
       "      <td>id_0</td>\n",
       "      <td>2.0</td>\n",
       "    </tr>\n",
       "    <tr>\n",
       "      <td>1</td>\n",
       "      <td>id_1</td>\n",
       "      <td>2.5</td>\n",
       "    </tr>\n",
       "    <tr>\n",
       "      <td>2</td>\n",
       "      <td>id_2</td>\n",
       "      <td>4.0</td>\n",
       "    </tr>\n",
       "    <tr>\n",
       "      <td>3</td>\n",
       "      <td>id_3</td>\n",
       "      <td>1.0</td>\n",
       "    </tr>\n",
       "    <tr>\n",
       "      <td>4</td>\n",
       "      <td>id_4</td>\n",
       "      <td>4.0</td>\n",
       "    </tr>\n",
       "    <tr>\n",
       "      <td>...</td>\n",
       "      <td>...</td>\n",
       "      <td>...</td>\n",
       "    </tr>\n",
       "    <tr>\n",
       "      <td>9995</td>\n",
       "      <td>id_9995</td>\n",
       "      <td>3.0</td>\n",
       "    </tr>\n",
       "    <tr>\n",
       "      <td>9996</td>\n",
       "      <td>id_9996</td>\n",
       "      <td>1.5</td>\n",
       "    </tr>\n",
       "    <tr>\n",
       "      <td>9997</td>\n",
       "      <td>id_9997</td>\n",
       "      <td>4.5</td>\n",
       "    </tr>\n",
       "    <tr>\n",
       "      <td>9998</td>\n",
       "      <td>id_9998</td>\n",
       "      <td>1.0</td>\n",
       "    </tr>\n",
       "    <tr>\n",
       "      <td>9999</td>\n",
       "      <td>id_9999</td>\n",
       "      <td>2.5</td>\n",
       "    </tr>\n",
       "  </tbody>\n",
       "</table>\n",
       "<p>10000 rows × 2 columns</p>\n",
       "</div>"
      ],
      "text/plain": [
       "     Restaurant_id  Rating\n",
       "0             id_0     2.0\n",
       "1             id_1     2.5\n",
       "2             id_2     4.0\n",
       "3             id_3     1.0\n",
       "4             id_4     4.0\n",
       "...            ...     ...\n",
       "9995       id_9995     3.0\n",
       "9996       id_9996     1.5\n",
       "9997       id_9997     4.5\n",
       "9998       id_9998     1.0\n",
       "9999       id_9999     2.5\n",
       "\n",
       "[10000 rows x 2 columns]"
      ]
     },
     "execution_count": 98,
     "metadata": {},
     "output_type": "execute_result"
    }
   ],
   "source": [
    "sample_submission"
   ]
  },
  {
   "cell_type": "code",
   "execution_count": 99,
   "metadata": {},
   "outputs": [
    {
     "name": "stderr",
     "output_type": "stream",
     "text": [
      "[Parallel(n_jobs=4)]: Using backend ThreadingBackend with 4 concurrent workers.\n",
      "[Parallel(n_jobs=4)]: Done  42 tasks      | elapsed:    0.0s\n",
      "[Parallel(n_jobs=4)]: Done 100 out of 100 | elapsed:    0.0s finished\n"
     ]
    }
   ],
   "source": [
    "predict_submission = model.predict(test_data)"
   ]
  },
  {
   "cell_type": "code",
   "execution_count": 100,
   "metadata": {},
   "outputs": [
    {
     "data": {
      "text/plain": [
       "array([3.07 , 4.225, 4.485, ..., 3.065, 4.495, 4.16 ])"
      ]
     },
     "execution_count": 100,
     "metadata": {},
     "output_type": "execute_result"
    }
   ],
   "source": [
    "predict_submission"
   ]
  },
  {
   "cell_type": "code",
   "execution_count": 101,
   "metadata": {},
   "outputs": [
    {
     "data": {
      "text/html": [
       "<div>\n",
       "<style scoped>\n",
       "    .dataframe tbody tr th:only-of-type {\n",
       "        vertical-align: middle;\n",
       "    }\n",
       "\n",
       "    .dataframe tbody tr th {\n",
       "        vertical-align: top;\n",
       "    }\n",
       "\n",
       "    .dataframe thead th {\n",
       "        text-align: right;\n",
       "    }\n",
       "</style>\n",
       "<table border=\"1\" class=\"dataframe\">\n",
       "  <thead>\n",
       "    <tr style=\"text-align: right;\">\n",
       "      <th></th>\n",
       "      <th>Restaurant_id</th>\n",
       "      <th>Rating</th>\n",
       "    </tr>\n",
       "  </thead>\n",
       "  <tbody>\n",
       "    <tr>\n",
       "      <td>0</td>\n",
       "      <td>id_0</td>\n",
       "      <td>3.070</td>\n",
       "    </tr>\n",
       "    <tr>\n",
       "      <td>1</td>\n",
       "      <td>id_1</td>\n",
       "      <td>4.225</td>\n",
       "    </tr>\n",
       "    <tr>\n",
       "      <td>2</td>\n",
       "      <td>id_2</td>\n",
       "      <td>4.485</td>\n",
       "    </tr>\n",
       "    <tr>\n",
       "      <td>3</td>\n",
       "      <td>id_3</td>\n",
       "      <td>4.305</td>\n",
       "    </tr>\n",
       "    <tr>\n",
       "      <td>4</td>\n",
       "      <td>id_4</td>\n",
       "      <td>4.395</td>\n",
       "    </tr>\n",
       "    <tr>\n",
       "      <td>5</td>\n",
       "      <td>id_5</td>\n",
       "      <td>4.425</td>\n",
       "    </tr>\n",
       "    <tr>\n",
       "      <td>6</td>\n",
       "      <td>id_6</td>\n",
       "      <td>3.020</td>\n",
       "    </tr>\n",
       "    <tr>\n",
       "      <td>7</td>\n",
       "      <td>id_7</td>\n",
       "      <td>2.470</td>\n",
       "    </tr>\n",
       "    <tr>\n",
       "      <td>8</td>\n",
       "      <td>id_8</td>\n",
       "      <td>4.080</td>\n",
       "    </tr>\n",
       "    <tr>\n",
       "      <td>9</td>\n",
       "      <td>id_9</td>\n",
       "      <td>4.620</td>\n",
       "    </tr>\n",
       "  </tbody>\n",
       "</table>\n",
       "</div>"
      ],
      "text/plain": [
       "  Restaurant_id  Rating\n",
       "0          id_0   3.070\n",
       "1          id_1   4.225\n",
       "2          id_2   4.485\n",
       "3          id_3   4.305\n",
       "4          id_4   4.395\n",
       "5          id_5   4.425\n",
       "6          id_6   3.020\n",
       "7          id_7   2.470\n",
       "8          id_8   4.080\n",
       "9          id_9   4.620"
      ]
     },
     "execution_count": 101,
     "metadata": {},
     "output_type": "execute_result"
    }
   ],
   "source": [
    "sample_submission['Rating'] = predict_submission\n",
    "sample_submission.to_csv('submission.csv', index=False)\n",
    "sample_submission.head(10)"
   ]
  }
 ],
 "metadata": {
  "kernelspec": {
   "display_name": "Python 3",
   "language": "python",
   "name": "python3"
  },
  "language_info": {
   "codemirror_mode": {
    "name": "ipython",
    "version": 3
   },
   "file_extension": ".py",
   "mimetype": "text/x-python",
   "name": "python",
   "nbconvert_exporter": "python",
   "pygments_lexer": "ipython3",
   "version": "3.7.4"
  }
 },
 "nbformat": 4,
 "nbformat_minor": 2
}
