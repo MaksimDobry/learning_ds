{
 "cells": [
  {
   "cell_type": "markdown",
   "metadata": {},
   "source": [
    "# IMPORT"
   ]
  },
  {
   "cell_type": "code",
   "execution_count": 1,
   "metadata": {},
   "outputs": [],
   "source": [
    "import numpy as np # linear algebra\n",
    "import pandas as pd # data processing, CSV file I/O (e.g. pd.read_csv)\n",
    "import re\n",
    "import datetime\n",
    "\n",
    "import matplotlib.pyplot as plt\n",
    "import seaborn as sns \n",
    "%matplotlib inline\n",
    "\n",
    "# Загружаем специальный удобный инструмент для разделения датасета:\n",
    "from sklearn.model_selection import train_test_split\n",
    "\n",
    "# Input data files are available in the \"../input/\" directory.\n",
    "# For example, running this (by clicking run or pressing Shift+Enter) will list all files under the input directory\n",
    "\n",
    "import os\n",
    "\n",
    "from sklearn.ensemble import RandomForestRegressor # инструмент для создания и обучения модели\n",
    "from sklearn import metrics # инструменты для оценки точности модели"
   ]
  },
  {
   "cell_type": "code",
   "execution_count": 2,
   "metadata": {},
   "outputs": [],
   "source": [
    "# всегда фиксируйте RANDOM_SEED, чтобы ваши эксперименты были воспроизводимы!\n",
    "RANDOM_SEED = 42"
   ]
  },
  {
   "cell_type": "code",
   "execution_count": 3,
   "metadata": {},
   "outputs": [],
   "source": [
    "# зафиксируем версию пакетов, чтобы эксперименты были воспроизводимы:\n",
    "!pip freeze > requirements.txt"
   ]
  },
  {
   "cell_type": "markdown",
   "metadata": {},
   "source": [
    "# DATA"
   ]
  },
  {
   "cell_type": "code",
   "execution_count": 4,
   "metadata": {
    "_cell_guid": "79c7e3d0-c299-4dcb-8224-4455121ee9b0",
    "_uuid": "d629ff2d2480ee46fbb7e2d37f6b5fab8052498a"
   },
   "outputs": [],
   "source": [
    "df_train = pd.read_csv('main_task.csv')\n",
    "df_test = pd.read_csv('kaggle_task.csv')\n",
    "sample_submission = pd.read_csv('sample_submission.csv')"
   ]
  },
  {
   "cell_type": "code",
   "execution_count": 5,
   "metadata": {},
   "outputs": [
    {
     "name": "stdout",
     "output_type": "stream",
     "text": [
      "<class 'pandas.core.frame.DataFrame'>\n",
      "RangeIndex: 40000 entries, 0 to 39999\n",
      "Data columns (total 10 columns):\n",
      "Restaurant_id        40000 non-null object\n",
      "City                 40000 non-null object\n",
      "Cuisine Style        30717 non-null object\n",
      "Ranking              40000 non-null float64\n",
      "Rating               40000 non-null float64\n",
      "Price Range          26114 non-null object\n",
      "Number of Reviews    37457 non-null float64\n",
      "Reviews              40000 non-null object\n",
      "URL_TA               40000 non-null object\n",
      "ID_TA                40000 non-null object\n",
      "dtypes: float64(3), object(7)\n",
      "memory usage: 3.1+ MB\n"
     ]
    }
   ],
   "source": [
    "df_train.info()"
   ]
  },
  {
   "cell_type": "code",
   "execution_count": 6,
   "metadata": {},
   "outputs": [
    {
     "data": {
      "text/html": [
       "<div>\n",
       "<style scoped>\n",
       "    .dataframe tbody tr th:only-of-type {\n",
       "        vertical-align: middle;\n",
       "    }\n",
       "\n",
       "    .dataframe tbody tr th {\n",
       "        vertical-align: top;\n",
       "    }\n",
       "\n",
       "    .dataframe thead th {\n",
       "        text-align: right;\n",
       "    }\n",
       "</style>\n",
       "<table border=\"1\" class=\"dataframe\">\n",
       "  <thead>\n",
       "    <tr style=\"text-align: right;\">\n",
       "      <th></th>\n",
       "      <th>Restaurant_id</th>\n",
       "      <th>City</th>\n",
       "      <th>Cuisine Style</th>\n",
       "      <th>Ranking</th>\n",
       "      <th>Rating</th>\n",
       "      <th>Price Range</th>\n",
       "      <th>Number of Reviews</th>\n",
       "      <th>Reviews</th>\n",
       "      <th>URL_TA</th>\n",
       "      <th>ID_TA</th>\n",
       "    </tr>\n",
       "  </thead>\n",
       "  <tbody>\n",
       "    <tr>\n",
       "      <td>0</td>\n",
       "      <td>id_5569</td>\n",
       "      <td>Paris</td>\n",
       "      <td>['European', 'French', 'International']</td>\n",
       "      <td>5570.0</td>\n",
       "      <td>3.5</td>\n",
       "      <td>$$ - $$$</td>\n",
       "      <td>194.0</td>\n",
       "      <td>[['Good food at your doorstep', 'A good hotel ...</td>\n",
       "      <td>/Restaurant_Review-g187147-d1912643-Reviews-R_...</td>\n",
       "      <td>d1912643</td>\n",
       "    </tr>\n",
       "    <tr>\n",
       "      <td>1</td>\n",
       "      <td>id_1535</td>\n",
       "      <td>Stockholm</td>\n",
       "      <td>NaN</td>\n",
       "      <td>1537.0</td>\n",
       "      <td>4.0</td>\n",
       "      <td>NaN</td>\n",
       "      <td>10.0</td>\n",
       "      <td>[['Unique cuisine', 'Delicious Nepalese food']...</td>\n",
       "      <td>/Restaurant_Review-g189852-d7992032-Reviews-Bu...</td>\n",
       "      <td>d7992032</td>\n",
       "    </tr>\n",
       "    <tr>\n",
       "      <td>2</td>\n",
       "      <td>id_352</td>\n",
       "      <td>London</td>\n",
       "      <td>['Japanese', 'Sushi', 'Asian', 'Grill', 'Veget...</td>\n",
       "      <td>353.0</td>\n",
       "      <td>4.5</td>\n",
       "      <td>$$$$</td>\n",
       "      <td>688.0</td>\n",
       "      <td>[['Catch up with friends', 'Not exceptional'],...</td>\n",
       "      <td>/Restaurant_Review-g186338-d8632781-Reviews-RO...</td>\n",
       "      <td>d8632781</td>\n",
       "    </tr>\n",
       "    <tr>\n",
       "      <td>3</td>\n",
       "      <td>id_3456</td>\n",
       "      <td>Berlin</td>\n",
       "      <td>NaN</td>\n",
       "      <td>3458.0</td>\n",
       "      <td>5.0</td>\n",
       "      <td>NaN</td>\n",
       "      <td>3.0</td>\n",
       "      <td>[[], []]</td>\n",
       "      <td>/Restaurant_Review-g187323-d1358776-Reviews-Es...</td>\n",
       "      <td>d1358776</td>\n",
       "    </tr>\n",
       "    <tr>\n",
       "      <td>4</td>\n",
       "      <td>id_615</td>\n",
       "      <td>Munich</td>\n",
       "      <td>['German', 'Central European', 'Vegetarian Fri...</td>\n",
       "      <td>621.0</td>\n",
       "      <td>4.0</td>\n",
       "      <td>$$ - $$$</td>\n",
       "      <td>84.0</td>\n",
       "      <td>[['Best place to try a Bavarian food', 'Nice b...</td>\n",
       "      <td>/Restaurant_Review-g187309-d6864963-Reviews-Au...</td>\n",
       "      <td>d6864963</td>\n",
       "    </tr>\n",
       "  </tbody>\n",
       "</table>\n",
       "</div>"
      ],
      "text/plain": [
       "  Restaurant_id       City                                      Cuisine Style  \\\n",
       "0       id_5569      Paris            ['European', 'French', 'International']   \n",
       "1       id_1535  Stockholm                                                NaN   \n",
       "2        id_352     London  ['Japanese', 'Sushi', 'Asian', 'Grill', 'Veget...   \n",
       "3       id_3456     Berlin                                                NaN   \n",
       "4        id_615     Munich  ['German', 'Central European', 'Vegetarian Fri...   \n",
       "\n",
       "   Ranking  Rating Price Range  Number of Reviews  \\\n",
       "0   5570.0     3.5    $$ - $$$              194.0   \n",
       "1   1537.0     4.0         NaN               10.0   \n",
       "2    353.0     4.5        $$$$              688.0   \n",
       "3   3458.0     5.0         NaN                3.0   \n",
       "4    621.0     4.0    $$ - $$$               84.0   \n",
       "\n",
       "                                             Reviews  \\\n",
       "0  [['Good food at your doorstep', 'A good hotel ...   \n",
       "1  [['Unique cuisine', 'Delicious Nepalese food']...   \n",
       "2  [['Catch up with friends', 'Not exceptional'],...   \n",
       "3                                           [[], []]   \n",
       "4  [['Best place to try a Bavarian food', 'Nice b...   \n",
       "\n",
       "                                              URL_TA     ID_TA  \n",
       "0  /Restaurant_Review-g187147-d1912643-Reviews-R_...  d1912643  \n",
       "1  /Restaurant_Review-g189852-d7992032-Reviews-Bu...  d7992032  \n",
       "2  /Restaurant_Review-g186338-d8632781-Reviews-RO...  d8632781  \n",
       "3  /Restaurant_Review-g187323-d1358776-Reviews-Es...  d1358776  \n",
       "4  /Restaurant_Review-g187309-d6864963-Reviews-Au...  d6864963  "
      ]
     },
     "execution_count": 6,
     "metadata": {},
     "output_type": "execute_result"
    }
   ],
   "source": [
    "df_train.head(5)"
   ]
  },
  {
   "cell_type": "code",
   "execution_count": 7,
   "metadata": {},
   "outputs": [
    {
     "name": "stdout",
     "output_type": "stream",
     "text": [
      "<class 'pandas.core.frame.DataFrame'>\n",
      "RangeIndex: 10000 entries, 0 to 9999\n",
      "Data columns (total 9 columns):\n",
      "Restaurant_id        10000 non-null object\n",
      "City                 10000 non-null object\n",
      "Cuisine Style        7693 non-null object\n",
      "Ranking              10000 non-null float64\n",
      "Price Range          6525 non-null object\n",
      "Number of Reviews    9343 non-null float64\n",
      "Reviews              9998 non-null object\n",
      "URL_TA               10000 non-null object\n",
      "ID_TA                10000 non-null object\n",
      "dtypes: float64(2), object(7)\n",
      "memory usage: 703.2+ KB\n"
     ]
    }
   ],
   "source": [
    "df_test.info()"
   ]
  },
  {
   "cell_type": "code",
   "execution_count": 8,
   "metadata": {},
   "outputs": [
    {
     "data": {
      "text/html": [
       "<div>\n",
       "<style scoped>\n",
       "    .dataframe tbody tr th:only-of-type {\n",
       "        vertical-align: middle;\n",
       "    }\n",
       "\n",
       "    .dataframe tbody tr th {\n",
       "        vertical-align: top;\n",
       "    }\n",
       "\n",
       "    .dataframe thead th {\n",
       "        text-align: right;\n",
       "    }\n",
       "</style>\n",
       "<table border=\"1\" class=\"dataframe\">\n",
       "  <thead>\n",
       "    <tr style=\"text-align: right;\">\n",
       "      <th></th>\n",
       "      <th>Restaurant_id</th>\n",
       "      <th>City</th>\n",
       "      <th>Cuisine Style</th>\n",
       "      <th>Ranking</th>\n",
       "      <th>Price Range</th>\n",
       "      <th>Number of Reviews</th>\n",
       "      <th>Reviews</th>\n",
       "      <th>URL_TA</th>\n",
       "      <th>ID_TA</th>\n",
       "    </tr>\n",
       "  </thead>\n",
       "  <tbody>\n",
       "    <tr>\n",
       "      <td>0</td>\n",
       "      <td>id_0</td>\n",
       "      <td>Paris</td>\n",
       "      <td>['Bar', 'Pub']</td>\n",
       "      <td>12963.0</td>\n",
       "      <td>$$ - $$$</td>\n",
       "      <td>4.0</td>\n",
       "      <td>[[], []]</td>\n",
       "      <td>/Restaurant_Review-g187147-d10746918-Reviews-L...</td>\n",
       "      <td>d10746918</td>\n",
       "    </tr>\n",
       "    <tr>\n",
       "      <td>1</td>\n",
       "      <td>id_1</td>\n",
       "      <td>Helsinki</td>\n",
       "      <td>['European', 'Scandinavian', 'Gluten Free Opti...</td>\n",
       "      <td>106.0</td>\n",
       "      <td>$$ - $$$</td>\n",
       "      <td>97.0</td>\n",
       "      <td>[['Very good reviews!', 'Fine dining in Hakani...</td>\n",
       "      <td>/Restaurant_Review-g189934-d6674944-Reviews-Ra...</td>\n",
       "      <td>d6674944</td>\n",
       "    </tr>\n",
       "    <tr>\n",
       "      <td>2</td>\n",
       "      <td>id_2</td>\n",
       "      <td>Edinburgh</td>\n",
       "      <td>['Vegetarian Friendly']</td>\n",
       "      <td>810.0</td>\n",
       "      <td>$$ - $$$</td>\n",
       "      <td>28.0</td>\n",
       "      <td>[['Better than the Links', 'Ivy Black'], ['12/...</td>\n",
       "      <td>/Restaurant_Review-g186525-d13129638-Reviews-B...</td>\n",
       "      <td>d13129638</td>\n",
       "    </tr>\n",
       "    <tr>\n",
       "      <td>3</td>\n",
       "      <td>id_3</td>\n",
       "      <td>London</td>\n",
       "      <td>['Italian', 'Mediterranean', 'European', 'Vege...</td>\n",
       "      <td>1669.0</td>\n",
       "      <td>$$$$</td>\n",
       "      <td>202.0</td>\n",
       "      <td>[['Most exquisite', 'Delicious and authentic']...</td>\n",
       "      <td>/Restaurant_Review-g186338-d680417-Reviews-Qui...</td>\n",
       "      <td>d680417</td>\n",
       "    </tr>\n",
       "    <tr>\n",
       "      <td>4</td>\n",
       "      <td>id_4</td>\n",
       "      <td>Bratislava</td>\n",
       "      <td>['Italian', 'Mediterranean', 'European', 'Seaf...</td>\n",
       "      <td>37.0</td>\n",
       "      <td>$$$$</td>\n",
       "      <td>162.0</td>\n",
       "      <td>[['Always the best in bratislava', 'Very good ...</td>\n",
       "      <td>/Restaurant_Review-g274924-d1112354-Reviews-Ma...</td>\n",
       "      <td>d1112354</td>\n",
       "    </tr>\n",
       "  </tbody>\n",
       "</table>\n",
       "</div>"
      ],
      "text/plain": [
       "  Restaurant_id        City  \\\n",
       "0          id_0       Paris   \n",
       "1          id_1    Helsinki   \n",
       "2          id_2   Edinburgh   \n",
       "3          id_3      London   \n",
       "4          id_4  Bratislava   \n",
       "\n",
       "                                       Cuisine Style  Ranking Price Range  \\\n",
       "0                                     ['Bar', 'Pub']  12963.0    $$ - $$$   \n",
       "1  ['European', 'Scandinavian', 'Gluten Free Opti...    106.0    $$ - $$$   \n",
       "2                            ['Vegetarian Friendly']    810.0    $$ - $$$   \n",
       "3  ['Italian', 'Mediterranean', 'European', 'Vege...   1669.0        $$$$   \n",
       "4  ['Italian', 'Mediterranean', 'European', 'Seaf...     37.0        $$$$   \n",
       "\n",
       "   Number of Reviews                                            Reviews  \\\n",
       "0                4.0                                           [[], []]   \n",
       "1               97.0  [['Very good reviews!', 'Fine dining in Hakani...   \n",
       "2               28.0  [['Better than the Links', 'Ivy Black'], ['12/...   \n",
       "3              202.0  [['Most exquisite', 'Delicious and authentic']...   \n",
       "4              162.0  [['Always the best in bratislava', 'Very good ...   \n",
       "\n",
       "                                              URL_TA      ID_TA  \n",
       "0  /Restaurant_Review-g187147-d10746918-Reviews-L...  d10746918  \n",
       "1  /Restaurant_Review-g189934-d6674944-Reviews-Ra...   d6674944  \n",
       "2  /Restaurant_Review-g186525-d13129638-Reviews-B...  d13129638  \n",
       "3  /Restaurant_Review-g186338-d680417-Reviews-Qui...    d680417  \n",
       "4  /Restaurant_Review-g274924-d1112354-Reviews-Ma...   d1112354  "
      ]
     },
     "execution_count": 8,
     "metadata": {},
     "output_type": "execute_result"
    }
   ],
   "source": [
    "df_test.head(5)"
   ]
  },
  {
   "cell_type": "code",
   "execution_count": 9,
   "metadata": {},
   "outputs": [
    {
     "data": {
      "text/html": [
       "<div>\n",
       "<style scoped>\n",
       "    .dataframe tbody tr th:only-of-type {\n",
       "        vertical-align: middle;\n",
       "    }\n",
       "\n",
       "    .dataframe tbody tr th {\n",
       "        vertical-align: top;\n",
       "    }\n",
       "\n",
       "    .dataframe thead th {\n",
       "        text-align: right;\n",
       "    }\n",
       "</style>\n",
       "<table border=\"1\" class=\"dataframe\">\n",
       "  <thead>\n",
       "    <tr style=\"text-align: right;\">\n",
       "      <th></th>\n",
       "      <th>Restaurant_id</th>\n",
       "      <th>Rating</th>\n",
       "    </tr>\n",
       "  </thead>\n",
       "  <tbody>\n",
       "    <tr>\n",
       "      <td>0</td>\n",
       "      <td>id_0</td>\n",
       "      <td>2.0</td>\n",
       "    </tr>\n",
       "    <tr>\n",
       "      <td>1</td>\n",
       "      <td>id_1</td>\n",
       "      <td>2.5</td>\n",
       "    </tr>\n",
       "    <tr>\n",
       "      <td>2</td>\n",
       "      <td>id_2</td>\n",
       "      <td>4.0</td>\n",
       "    </tr>\n",
       "    <tr>\n",
       "      <td>3</td>\n",
       "      <td>id_3</td>\n",
       "      <td>1.0</td>\n",
       "    </tr>\n",
       "    <tr>\n",
       "      <td>4</td>\n",
       "      <td>id_4</td>\n",
       "      <td>4.0</td>\n",
       "    </tr>\n",
       "  </tbody>\n",
       "</table>\n",
       "</div>"
      ],
      "text/plain": [
       "  Restaurant_id  Rating\n",
       "0          id_0     2.0\n",
       "1          id_1     2.5\n",
       "2          id_2     4.0\n",
       "3          id_3     1.0\n",
       "4          id_4     4.0"
      ]
     },
     "execution_count": 9,
     "metadata": {},
     "output_type": "execute_result"
    }
   ],
   "source": [
    "sample_submission.head(5)"
   ]
  },
  {
   "cell_type": "code",
   "execution_count": 10,
   "metadata": {
    "scrolled": true
   },
   "outputs": [
    {
     "name": "stdout",
     "output_type": "stream",
     "text": [
      "<class 'pandas.core.frame.DataFrame'>\n",
      "RangeIndex: 10000 entries, 0 to 9999\n",
      "Data columns (total 2 columns):\n",
      "Restaurant_id    10000 non-null object\n",
      "Rating           10000 non-null float64\n",
      "dtypes: float64(1), object(1)\n",
      "memory usage: 156.4+ KB\n"
     ]
    }
   ],
   "source": [
    "sample_submission.info()"
   ]
  },
  {
   "cell_type": "code",
   "execution_count": 11,
   "metadata": {},
   "outputs": [],
   "source": [
    "# ВАЖНО! дря корректной обработки признаков объединяем трейн и тест в один датасет\n",
    "df_train['sample'] = 1 # помечаем где у нас трейн\n",
    "df_test['sample'] = 0 # помечаем где у нас тест\n",
    "df_test['Rating'] = 0 # в тесте у нас нет значения Rating, мы его должны предсказать, по этому пока просто заполняем нулями\n",
    "\n",
    "data = df_test.append(df_train, sort=False).reset_index(drop=True) # объединяем"
   ]
  },
  {
   "cell_type": "code",
   "execution_count": 12,
   "metadata": {},
   "outputs": [
    {
     "name": "stdout",
     "output_type": "stream",
     "text": [
      "<class 'pandas.core.frame.DataFrame'>\n",
      "RangeIndex: 50000 entries, 0 to 49999\n",
      "Data columns (total 11 columns):\n",
      "Restaurant_id        50000 non-null object\n",
      "City                 50000 non-null object\n",
      "Cuisine Style        38410 non-null object\n",
      "Ranking              50000 non-null float64\n",
      "Price Range          32639 non-null object\n",
      "Number of Reviews    46800 non-null float64\n",
      "Reviews              49998 non-null object\n",
      "URL_TA               50000 non-null object\n",
      "ID_TA                50000 non-null object\n",
      "sample               50000 non-null int64\n",
      "Rating               50000 non-null float64\n",
      "dtypes: float64(3), int64(1), object(7)\n",
      "memory usage: 4.2+ MB\n"
     ]
    }
   ],
   "source": [
    "data.info()"
   ]
  },
  {
   "cell_type": "markdown",
   "metadata": {},
   "source": [
    "Подробнее по признакам:\n",
    "* City: Город \n",
    "* Cuisine Style: Кухня\n",
    "* Ranking: Ранг ресторана относительно других ресторанов в этом городе\n",
    "* Price Range: Цены в ресторане в 3 категориях\n",
    "* Number of Reviews: Количество отзывов\n",
    "* Reviews: 2 последних отзыва и даты этих отзывов\n",
    "* URL_TA: страница ресторана на 'www.tripadvisor.com' \n",
    "* ID_TA: ID ресторана в TripAdvisor\n",
    "* Rating: Рейтинг ресторана"
   ]
  },
  {
   "cell_type": "code",
   "execution_count": 13,
   "metadata": {},
   "outputs": [
    {
     "data": {
      "text/html": [
       "<div>\n",
       "<style scoped>\n",
       "    .dataframe tbody tr th:only-of-type {\n",
       "        vertical-align: middle;\n",
       "    }\n",
       "\n",
       "    .dataframe tbody tr th {\n",
       "        vertical-align: top;\n",
       "    }\n",
       "\n",
       "    .dataframe thead th {\n",
       "        text-align: right;\n",
       "    }\n",
       "</style>\n",
       "<table border=\"1\" class=\"dataframe\">\n",
       "  <thead>\n",
       "    <tr style=\"text-align: right;\">\n",
       "      <th></th>\n",
       "      <th>Restaurant_id</th>\n",
       "      <th>City</th>\n",
       "      <th>Cuisine Style</th>\n",
       "      <th>Ranking</th>\n",
       "      <th>Price Range</th>\n",
       "      <th>Number of Reviews</th>\n",
       "      <th>Reviews</th>\n",
       "      <th>URL_TA</th>\n",
       "      <th>ID_TA</th>\n",
       "      <th>sample</th>\n",
       "      <th>Rating</th>\n",
       "    </tr>\n",
       "  </thead>\n",
       "  <tbody>\n",
       "    <tr>\n",
       "      <td>28257</td>\n",
       "      <td>id_10451</td>\n",
       "      <td>London</td>\n",
       "      <td>['American', 'Middle Eastern']</td>\n",
       "      <td>10460.0</td>\n",
       "      <td>$$ - $$$</td>\n",
       "      <td>5.0</td>\n",
       "      <td>[[\"Who doesn't like a good hummus?\", 'Excellen...</td>\n",
       "      <td>/Restaurant_Review-g186338-d13273674-Reviews-H...</td>\n",
       "      <td>d13273674</td>\n",
       "      <td>1</td>\n",
       "      <td>4.5</td>\n",
       "    </tr>\n",
       "    <tr>\n",
       "      <td>27979</td>\n",
       "      <td>id_3942</td>\n",
       "      <td>Barcelona</td>\n",
       "      <td>['Bar', 'Mediterranean', 'Spanish']</td>\n",
       "      <td>3943.0</td>\n",
       "      <td>$$ - $$$</td>\n",
       "      <td>208.0</td>\n",
       "      <td>[['Delicious Food Great Service', 'Take it fro...</td>\n",
       "      <td>/Restaurant_Review-g187497-d1632878-Reviews-Ca...</td>\n",
       "      <td>d1632878</td>\n",
       "      <td>1</td>\n",
       "      <td>3.0</td>\n",
       "    </tr>\n",
       "    <tr>\n",
       "      <td>28440</td>\n",
       "      <td>id_350</td>\n",
       "      <td>Copenhagen</td>\n",
       "      <td>['European', 'Croatian']</td>\n",
       "      <td>351.0</td>\n",
       "      <td>$$ - $$$</td>\n",
       "      <td>74.0</td>\n",
       "      <td>[['This is what you want', 'Feels like a famil...</td>\n",
       "      <td>/Restaurant_Review-g189541-d4247572-Reviews-Re...</td>\n",
       "      <td>d4247572</td>\n",
       "      <td>1</td>\n",
       "      <td>4.0</td>\n",
       "    </tr>\n",
       "    <tr>\n",
       "      <td>38549</td>\n",
       "      <td>id_548</td>\n",
       "      <td>Krakow</td>\n",
       "      <td>['Polish', 'Mediterranean', 'European', 'Fusio...</td>\n",
       "      <td>549.0</td>\n",
       "      <td>$$ - $$$</td>\n",
       "      <td>25.0</td>\n",
       "      <td>[['Honestly one of the best in Krakow', 'Good ...</td>\n",
       "      <td>/Restaurant_Review-g274772-d6498849-Reviews-Tr...</td>\n",
       "      <td>d6498849</td>\n",
       "      <td>1</td>\n",
       "      <td>4.0</td>\n",
       "    </tr>\n",
       "    <tr>\n",
       "      <td>45792</td>\n",
       "      <td>id_336</td>\n",
       "      <td>Edinburgh</td>\n",
       "      <td>['Chinese', 'Asian', 'Vegetarian Friendly']</td>\n",
       "      <td>337.0</td>\n",
       "      <td>$$ - $$$</td>\n",
       "      <td>192.0</td>\n",
       "      <td>[['Best Chinese food we have eaten in Edinbur....</td>\n",
       "      <td>/Restaurant_Review-g186525-d3452115-Reviews-B_...</td>\n",
       "      <td>d3452115</td>\n",
       "      <td>1</td>\n",
       "      <td>4.5</td>\n",
       "    </tr>\n",
       "  </tbody>\n",
       "</table>\n",
       "</div>"
      ],
      "text/plain": [
       "      Restaurant_id        City  \\\n",
       "28257      id_10451      London   \n",
       "27979       id_3942   Barcelona   \n",
       "28440        id_350  Copenhagen   \n",
       "38549        id_548      Krakow   \n",
       "45792        id_336   Edinburgh   \n",
       "\n",
       "                                           Cuisine Style  Ranking Price Range  \\\n",
       "28257                     ['American', 'Middle Eastern']  10460.0    $$ - $$$   \n",
       "27979                ['Bar', 'Mediterranean', 'Spanish']   3943.0    $$ - $$$   \n",
       "28440                           ['European', 'Croatian']    351.0    $$ - $$$   \n",
       "38549  ['Polish', 'Mediterranean', 'European', 'Fusio...    549.0    $$ - $$$   \n",
       "45792        ['Chinese', 'Asian', 'Vegetarian Friendly']    337.0    $$ - $$$   \n",
       "\n",
       "       Number of Reviews                                            Reviews  \\\n",
       "28257                5.0  [[\"Who doesn't like a good hummus?\", 'Excellen...   \n",
       "27979              208.0  [['Delicious Food Great Service', 'Take it fro...   \n",
       "28440               74.0  [['This is what you want', 'Feels like a famil...   \n",
       "38549               25.0  [['Honestly one of the best in Krakow', 'Good ...   \n",
       "45792              192.0  [['Best Chinese food we have eaten in Edinbur....   \n",
       "\n",
       "                                                  URL_TA      ID_TA  sample  \\\n",
       "28257  /Restaurant_Review-g186338-d13273674-Reviews-H...  d13273674       1   \n",
       "27979  /Restaurant_Review-g187497-d1632878-Reviews-Ca...   d1632878       1   \n",
       "28440  /Restaurant_Review-g189541-d4247572-Reviews-Re...   d4247572       1   \n",
       "38549  /Restaurant_Review-g274772-d6498849-Reviews-Tr...   d6498849       1   \n",
       "45792  /Restaurant_Review-g186525-d3452115-Reviews-B_...   d3452115       1   \n",
       "\n",
       "       Rating  \n",
       "28257     4.5  \n",
       "27979     3.0  \n",
       "28440     4.0  \n",
       "38549     4.0  \n",
       "45792     4.5  "
      ]
     },
     "execution_count": 13,
     "metadata": {},
     "output_type": "execute_result"
    }
   ],
   "source": [
    "data.sample(5)"
   ]
  },
  {
   "cell_type": "markdown",
   "metadata": {},
   "source": [
    "Как видим, большинство признаков у нас требует очистки и предварительной обработки."
   ]
  },
  {
   "cell_type": "markdown",
   "metadata": {},
   "source": [
    "# Изучаем подробно каждый признак"
   ]
  },
  {
   "cell_type": "code",
   "execution_count": 14,
   "metadata": {},
   "outputs": [],
   "source": [
    "def values_information(col):\n",
    "    skip = pd.isna(data[col]).sum()\n",
    "    uniq = data[col].nunique()\n",
    "    d_types = data[col].dtypes\n",
    "    \n",
    "    print(col)\n",
    "    print('{} - пропусков'.format(skip))\n",
    "    print('{} - уникальных значений'.format(uniq))\n",
    "    print('{} - тип данных'.format(d_types))"
   ]
  },
  {
   "cell_type": "markdown",
   "metadata": {},
   "source": [
    "## 1. Restaurant_id"
   ]
  },
  {
   "cell_type": "code",
   "execution_count": 15,
   "metadata": {},
   "outputs": [
    {
     "name": "stdout",
     "output_type": "stream",
     "text": [
      "Restaurant_id\n",
      "0 - пропусков\n",
      "13094 - уникальных значений\n",
      "object - тип данных\n"
     ]
    }
   ],
   "source": [
    "values_information('Restaurant_id')"
   ]
  },
  {
   "cell_type": "code",
   "execution_count": 16,
   "metadata": {},
   "outputs": [
    {
     "data": {
      "text/plain": [
       "id_436      19\n",
       "id_871      19\n",
       "id_227      19\n",
       "id_633      19\n",
       "id_585      18\n",
       "            ..\n",
       "id_13638     1\n",
       "id_9560      1\n",
       "id_8264      1\n",
       "id_14506     1\n",
       "id_12986     1\n",
       "Name: Restaurant_id, Length: 13094, dtype: int64"
      ]
     },
     "execution_count": 16,
     "metadata": {},
     "output_type": "execute_result"
    }
   ],
   "source": [
    "data['Restaurant_id'].value_counts()"
   ]
  },
  {
   "cell_type": "markdown",
   "metadata": {},
   "source": [
    "Сразу видим интересный момент.  \n",
    "Предполагалось, что **Restaurant_id** будет уникальным признаком. Но мы видим, что уникальных значений 13 тыс, а пропусков тут нету.  \n",
    "Делаем предположение, что рестораны одной сети могут быть под одним ID. Но посмотрим на признак поближе"
   ]
  },
  {
   "cell_type": "code",
   "execution_count": 17,
   "metadata": {},
   "outputs": [
    {
     "data": {
      "text/html": [
       "<div>\n",
       "<style scoped>\n",
       "    .dataframe tbody tr th:only-of-type {\n",
       "        vertical-align: middle;\n",
       "    }\n",
       "\n",
       "    .dataframe tbody tr th {\n",
       "        vertical-align: top;\n",
       "    }\n",
       "\n",
       "    .dataframe thead th {\n",
       "        text-align: right;\n",
       "    }\n",
       "</style>\n",
       "<table border=\"1\" class=\"dataframe\">\n",
       "  <thead>\n",
       "    <tr style=\"text-align: right;\">\n",
       "      <th></th>\n",
       "      <th>Restaurant_id</th>\n",
       "      <th>City</th>\n",
       "      <th>Cuisine Style</th>\n",
       "      <th>Ranking</th>\n",
       "      <th>Price Range</th>\n",
       "      <th>Number of Reviews</th>\n",
       "      <th>Reviews</th>\n",
       "      <th>URL_TA</th>\n",
       "      <th>ID_TA</th>\n",
       "      <th>sample</th>\n",
       "      <th>Rating</th>\n",
       "    </tr>\n",
       "  </thead>\n",
       "  <tbody>\n",
       "    <tr>\n",
       "      <td>48500</td>\n",
       "      <td>id_1076</td>\n",
       "      <td>London</td>\n",
       "      <td>['Indian', 'Asian', 'Vegetarian Friendly', 'Ve...</td>\n",
       "      <td>1078.0</td>\n",
       "      <td>$$ - $$$</td>\n",
       "      <td>133.0</td>\n",
       "      <td>[['Interesting and prisey', 'New years eve 201...</td>\n",
       "      <td>/Restaurant_Review-g186338-d10455238-Reviews-F...</td>\n",
       "      <td>d10455238</td>\n",
       "      <td>1</td>\n",
       "      <td>4.5</td>\n",
       "    </tr>\n",
       "    <tr>\n",
       "      <td>14840</td>\n",
       "      <td>id_1076</td>\n",
       "      <td>Krakow</td>\n",
       "      <td>['Polish', 'European']</td>\n",
       "      <td>1077.0</td>\n",
       "      <td>$$ - $$$</td>\n",
       "      <td>13.0</td>\n",
       "      <td>[['Would give it 3.5 if I could', 'Very good, ...</td>\n",
       "      <td>/Restaurant_Review-g274772-d12932699-Reviews-L...</td>\n",
       "      <td>d12932699</td>\n",
       "      <td>1</td>\n",
       "      <td>3.0</td>\n",
       "    </tr>\n",
       "    <tr>\n",
       "      <td>31879</td>\n",
       "      <td>id_1076</td>\n",
       "      <td>Geneva</td>\n",
       "      <td>NaN</td>\n",
       "      <td>1080.0</td>\n",
       "      <td>NaN</td>\n",
       "      <td>NaN</td>\n",
       "      <td>[['Petit Dejeuner'], ['06/26/2017']]</td>\n",
       "      <td>/Restaurant_Review-g188057-d12588631-Reviews-C...</td>\n",
       "      <td>d12588631</td>\n",
       "      <td>1</td>\n",
       "      <td>4.0</td>\n",
       "    </tr>\n",
       "    <tr>\n",
       "      <td>30351</td>\n",
       "      <td>id_1076</td>\n",
       "      <td>Copenhagen</td>\n",
       "      <td>NaN</td>\n",
       "      <td>1078.0</td>\n",
       "      <td>NaN</td>\n",
       "      <td>6.0</td>\n",
       "      <td>[['Simple yet satisfying.', 'Informal, relaxed...</td>\n",
       "      <td>/Restaurant_Review-g189541-d11856762-Reviews-A...</td>\n",
       "      <td>d11856762</td>\n",
       "      <td>1</td>\n",
       "      <td>4.0</td>\n",
       "    </tr>\n",
       "    <tr>\n",
       "      <td>10025</td>\n",
       "      <td>id_1076</td>\n",
       "      <td>Warsaw</td>\n",
       "      <td>['Polish', 'International', 'European', 'Fusion']</td>\n",
       "      <td>1077.0</td>\n",
       "      <td>$</td>\n",
       "      <td>2.0</td>\n",
       "      <td>[[], []]</td>\n",
       "      <td>/Restaurant_Review-g274856-d12018194-Reviews-T...</td>\n",
       "      <td>d12018194</td>\n",
       "      <td>1</td>\n",
       "      <td>5.0</td>\n",
       "    </tr>\n",
       "  </tbody>\n",
       "</table>\n",
       "</div>"
      ],
      "text/plain": [
       "      Restaurant_id        City  \\\n",
       "48500       id_1076      London   \n",
       "14840       id_1076      Krakow   \n",
       "31879       id_1076      Geneva   \n",
       "30351       id_1076  Copenhagen   \n",
       "10025       id_1076      Warsaw   \n",
       "\n",
       "                                           Cuisine Style  Ranking Price Range  \\\n",
       "48500  ['Indian', 'Asian', 'Vegetarian Friendly', 'Ve...   1078.0    $$ - $$$   \n",
       "14840                             ['Polish', 'European']   1077.0    $$ - $$$   \n",
       "31879                                                NaN   1080.0         NaN   \n",
       "30351                                                NaN   1078.0         NaN   \n",
       "10025  ['Polish', 'International', 'European', 'Fusion']   1077.0           $   \n",
       "\n",
       "       Number of Reviews                                            Reviews  \\\n",
       "48500              133.0  [['Interesting and prisey', 'New years eve 201...   \n",
       "14840               13.0  [['Would give it 3.5 if I could', 'Very good, ...   \n",
       "31879                NaN               [['Petit Dejeuner'], ['06/26/2017']]   \n",
       "30351                6.0  [['Simple yet satisfying.', 'Informal, relaxed...   \n",
       "10025                2.0                                           [[], []]   \n",
       "\n",
       "                                                  URL_TA      ID_TA  sample  \\\n",
       "48500  /Restaurant_Review-g186338-d10455238-Reviews-F...  d10455238       1   \n",
       "14840  /Restaurant_Review-g274772-d12932699-Reviews-L...  d12932699       1   \n",
       "31879  /Restaurant_Review-g188057-d12588631-Reviews-C...  d12588631       1   \n",
       "30351  /Restaurant_Review-g189541-d11856762-Reviews-A...  d11856762       1   \n",
       "10025  /Restaurant_Review-g274856-d12018194-Reviews-T...  d12018194       1   \n",
       "\n",
       "       Rating  \n",
       "48500     4.5  \n",
       "14840     3.0  \n",
       "31879     4.0  \n",
       "30351     4.0  \n",
       "10025     5.0  "
      ]
     },
     "execution_count": 17,
     "metadata": {},
     "output_type": "execute_result"
    }
   ],
   "source": [
    "data[data['Restaurant_id'] == 'id_1076'].sample(5)"
   ]
  },
  {
   "cell_type": "markdown",
   "metadata": {},
   "source": [
    "В итоге не подтвердилась теория о том, что это рестораны из одной сети. Позже будет видно, что принадлежность к сети по другому ID отслеживается.  \n",
    "Но тут мы заметили, что если одинаковый **Restaurant_id**, то похоже, что одинаковая ценовая категория. Проверим эту гипотезу."
   ]
  },
  {
   "cell_type": "code",
   "execution_count": 18,
   "metadata": {},
   "outputs": [],
   "source": [
    "doble_restid_s = data['Restaurant_id'].value_counts()\n",
    "doble_restid_l = doble_restid_s[doble_restid_s > 10].index"
   ]
  },
  {
   "cell_type": "code",
   "execution_count": 19,
   "metadata": {},
   "outputs": [],
   "source": [
    "data['doble_restid_1'] = data['Restaurant_id'].apply(lambda x: 1 if x in doble_restid_l else 0)"
   ]
  },
  {
   "cell_type": "code",
   "execution_count": 20,
   "metadata": {},
   "outputs": [],
   "source": [
    "a = data[data['doble_restid_1'] == 1]"
   ]
  },
  {
   "cell_type": "code",
   "execution_count": 21,
   "metadata": {},
   "outputs": [
    {
     "data": {
      "text/html": [
       "<div>\n",
       "<style scoped>\n",
       "    .dataframe tbody tr th:only-of-type {\n",
       "        vertical-align: middle;\n",
       "    }\n",
       "\n",
       "    .dataframe tbody tr th {\n",
       "        vertical-align: top;\n",
       "    }\n",
       "\n",
       "    .dataframe thead th {\n",
       "        text-align: right;\n",
       "    }\n",
       "</style>\n",
       "<table border=\"1\" class=\"dataframe\">\n",
       "  <thead>\n",
       "    <tr style=\"text-align: right;\">\n",
       "      <th>Price Range</th>\n",
       "      <th>$</th>\n",
       "      <th>$$ - $$$</th>\n",
       "      <th>$$$$</th>\n",
       "    </tr>\n",
       "    <tr>\n",
       "      <th>Restaurant_id</th>\n",
       "      <th></th>\n",
       "      <th></th>\n",
       "      <th></th>\n",
       "    </tr>\n",
       "  </thead>\n",
       "  <tbody>\n",
       "    <tr>\n",
       "      <td>id_1870</td>\n",
       "      <td>1.0</td>\n",
       "      <td>10.0</td>\n",
       "      <td>NaN</td>\n",
       "    </tr>\n",
       "    <tr>\n",
       "      <td>id_1368</td>\n",
       "      <td>2.0</td>\n",
       "      <td>6.0</td>\n",
       "      <td>1.0</td>\n",
       "    </tr>\n",
       "    <tr>\n",
       "      <td>id_64</td>\n",
       "      <td>1.0</td>\n",
       "      <td>11.0</td>\n",
       "      <td>1.0</td>\n",
       "    </tr>\n",
       "    <tr>\n",
       "      <td>id_511</td>\n",
       "      <td>1.0</td>\n",
       "      <td>5.0</td>\n",
       "      <td>1.0</td>\n",
       "    </tr>\n",
       "    <tr>\n",
       "      <td>id_752</td>\n",
       "      <td>1.0</td>\n",
       "      <td>10.0</td>\n",
       "      <td>NaN</td>\n",
       "    </tr>\n",
       "    <tr>\n",
       "      <td>id_1638</td>\n",
       "      <td>2.0</td>\n",
       "      <td>6.0</td>\n",
       "      <td>NaN</td>\n",
       "    </tr>\n",
       "    <tr>\n",
       "      <td>id_1574</td>\n",
       "      <td>4.0</td>\n",
       "      <td>4.0</td>\n",
       "      <td>NaN</td>\n",
       "    </tr>\n",
       "    <tr>\n",
       "      <td>id_32</td>\n",
       "      <td>1.0</td>\n",
       "      <td>10.0</td>\n",
       "      <td>1.0</td>\n",
       "    </tr>\n",
       "    <tr>\n",
       "      <td>id_68</td>\n",
       "      <td>1.0</td>\n",
       "      <td>8.0</td>\n",
       "      <td>2.0</td>\n",
       "    </tr>\n",
       "    <tr>\n",
       "      <td>id_256</td>\n",
       "      <td>3.0</td>\n",
       "      <td>13.0</td>\n",
       "      <td>NaN</td>\n",
       "    </tr>\n",
       "  </tbody>\n",
       "</table>\n",
       "</div>"
      ],
      "text/plain": [
       "Price Range      $  $$ - $$$  $$$$\n",
       "Restaurant_id                     \n",
       "id_1870        1.0      10.0   NaN\n",
       "id_1368        2.0       6.0   1.0\n",
       "id_64          1.0      11.0   1.0\n",
       "id_511         1.0       5.0   1.0\n",
       "id_752         1.0      10.0   NaN\n",
       "id_1638        2.0       6.0   NaN\n",
       "id_1574        4.0       4.0   NaN\n",
       "id_32          1.0      10.0   1.0\n",
       "id_68          1.0       8.0   2.0\n",
       "id_256         3.0      13.0   NaN"
      ]
     },
     "execution_count": 21,
     "metadata": {},
     "output_type": "execute_result"
    }
   ],
   "source": [
    "a.pivot_table(index='Restaurant_id', columns='Price Range', aggfunc='count')['City'].sample(10)"
   ]
  },
  {
   "cell_type": "markdown",
   "metadata": {},
   "source": [
    "В итоге не придумал я, что можно сделать с этой информацией"
   ]
  },
  {
   "cell_type": "code",
   "execution_count": 22,
   "metadata": {},
   "outputs": [],
   "source": [
    "data.drop(['doble_restid_1'], axis=1, inplace=True)"
   ]
  },
  {
   "cell_type": "markdown",
   "metadata": {},
   "source": [
    "## 2. City"
   ]
  },
  {
   "cell_type": "code",
   "execution_count": 23,
   "metadata": {},
   "outputs": [
    {
     "name": "stdout",
     "output_type": "stream",
     "text": [
      "City\n",
      "0 - пропусков\n",
      "31 - уникальных значений\n",
      "object - тип данных\n"
     ]
    }
   ],
   "source": [
    "values_information('City')"
   ]
  },
  {
   "cell_type": "markdown",
   "metadata": {},
   "source": [
    "## 3. Cuisine Style"
   ]
  },
  {
   "cell_type": "code",
   "execution_count": 24,
   "metadata": {},
   "outputs": [
    {
     "name": "stdout",
     "output_type": "stream",
     "text": [
      "Cuisine Style\n",
      "11590 - пропусков\n",
      "10731 - уникальных значений\n",
      "object - тип данных\n"
     ]
    }
   ],
   "source": [
    "values_information('Cuisine Style')"
   ]
  },
  {
   "cell_type": "markdown",
   "metadata": {},
   "source": [
    "## 4. Ranking"
   ]
  },
  {
   "cell_type": "code",
   "execution_count": 25,
   "metadata": {},
   "outputs": [
    {
     "name": "stdout",
     "output_type": "stream",
     "text": [
      "Ranking\n",
      "0 - пропусков\n",
      "12975 - уникальных значений\n",
      "float64 - тип данных\n"
     ]
    }
   ],
   "source": [
    "values_information('Ranking')"
   ]
  },
  {
   "cell_type": "markdown",
   "metadata": {},
   "source": [
    "## 5. Price Range"
   ]
  },
  {
   "cell_type": "code",
   "execution_count": 26,
   "metadata": {},
   "outputs": [
    {
     "name": "stdout",
     "output_type": "stream",
     "text": [
      "Price Range\n",
      "17361 - пропусков\n",
      "3 - уникальных значений\n",
      "object - тип данных\n"
     ]
    }
   ],
   "source": [
    "values_information('Price Range')"
   ]
  },
  {
   "cell_type": "code",
   "execution_count": 27,
   "metadata": {},
   "outputs": [
    {
     "data": {
      "text/plain": [
       "$$ - $$$    23041\n",
       "$            7816\n",
       "$$$$         1782\n",
       "Name: Price Range, dtype: int64"
      ]
     },
     "execution_count": 27,
     "metadata": {},
     "output_type": "execute_result"
    }
   ],
   "source": [
    "data['Price Range'].value_counts()"
   ]
  },
  {
   "cell_type": "markdown",
   "metadata": {},
   "source": [
    "1. Этот признак можно поменять на числовой, т.к. чем выше значение, тем выше ценовой сегмент ресторана\n",
    "2. Очень много ресторанов в среднем сегменте. Можно Пропуски заполнить им"
   ]
  },
  {
   "cell_type": "markdown",
   "metadata": {},
   "source": [
    "## 6. Number of Reviews"
   ]
  },
  {
   "cell_type": "code",
   "execution_count": 28,
   "metadata": {},
   "outputs": [
    {
     "name": "stdout",
     "output_type": "stream",
     "text": [
      "Number of Reviews\n",
      "3200 - пропусков\n",
      "1573 - уникальных значений\n",
      "float64 - тип данных\n"
     ]
    }
   ],
   "source": [
    "values_information('Number of Reviews')"
   ]
  },
  {
   "cell_type": "markdown",
   "metadata": {},
   "source": [
    "## 7. Reviews"
   ]
  },
  {
   "cell_type": "code",
   "execution_count": 29,
   "metadata": {},
   "outputs": [
    {
     "name": "stdout",
     "output_type": "stream",
     "text": [
      "Reviews\n",
      "2 - пропусков\n",
      "41857 - уникальных значений\n",
      "object - тип данных\n"
     ]
    }
   ],
   "source": [
    "values_information('Reviews')"
   ]
  },
  {
   "cell_type": "markdown",
   "metadata": {},
   "source": [
    "Пропуски Можно смело заполнить **\"[[], []]\"** - такие значения уже есть  \n",
    "Сразу же это и сделаем"
   ]
  },
  {
   "cell_type": "code",
   "execution_count": 30,
   "metadata": {},
   "outputs": [],
   "source": [
    "data['Reviews'].fillna(\"[[], []]\", inplace=True)"
   ]
  },
  {
   "cell_type": "markdown",
   "metadata": {},
   "source": [
    "Так же мы тут видим, что строки со значением **\"[[], []]\"** имеют много пропусков в столбце кол-ва отзывов.  \n",
    "Т.о. делаем выводы, что тут кол-во отзывов скорее всего = 0"
   ]
  },
  {
   "cell_type": "code",
   "execution_count": 31,
   "metadata": {},
   "outputs": [
    {
     "data": {
      "text/html": [
       "<div>\n",
       "<style scoped>\n",
       "    .dataframe tbody tr th:only-of-type {\n",
       "        vertical-align: middle;\n",
       "    }\n",
       "\n",
       "    .dataframe tbody tr th {\n",
       "        vertical-align: top;\n",
       "    }\n",
       "\n",
       "    .dataframe thead th {\n",
       "        text-align: right;\n",
       "    }\n",
       "</style>\n",
       "<table border=\"1\" class=\"dataframe\">\n",
       "  <thead>\n",
       "    <tr style=\"text-align: right;\">\n",
       "      <th></th>\n",
       "      <th>Restaurant_id</th>\n",
       "      <th>City</th>\n",
       "      <th>Cuisine Style</th>\n",
       "      <th>Ranking</th>\n",
       "      <th>Price Range</th>\n",
       "      <th>Number of Reviews</th>\n",
       "      <th>Reviews</th>\n",
       "      <th>URL_TA</th>\n",
       "      <th>ID_TA</th>\n",
       "      <th>sample</th>\n",
       "      <th>Rating</th>\n",
       "    </tr>\n",
       "  </thead>\n",
       "  <tbody>\n",
       "    <tr>\n",
       "      <td>7</td>\n",
       "      <td>id_7</td>\n",
       "      <td>Budapest</td>\n",
       "      <td>NaN</td>\n",
       "      <td>2330.0</td>\n",
       "      <td>NaN</td>\n",
       "      <td>NaN</td>\n",
       "      <td>[[], []]</td>\n",
       "      <td>/Restaurant_Review-g274887-d8286886-Reviews-Be...</td>\n",
       "      <td>d8286886</td>\n",
       "      <td>0</td>\n",
       "      <td>0.0</td>\n",
       "    </tr>\n",
       "    <tr>\n",
       "      <td>25</td>\n",
       "      <td>id_25</td>\n",
       "      <td>Madrid</td>\n",
       "      <td>NaN</td>\n",
       "      <td>5828.0</td>\n",
       "      <td>NaN</td>\n",
       "      <td>NaN</td>\n",
       "      <td>[[], []]</td>\n",
       "      <td>/Restaurant_Review-g187514-d13202032-Reviews-W...</td>\n",
       "      <td>d13202032</td>\n",
       "      <td>0</td>\n",
       "      <td>0.0</td>\n",
       "    </tr>\n",
       "    <tr>\n",
       "      <td>53</td>\n",
       "      <td>id_53</td>\n",
       "      <td>Prague</td>\n",
       "      <td>NaN</td>\n",
       "      <td>2095.0</td>\n",
       "      <td>NaN</td>\n",
       "      <td>NaN</td>\n",
       "      <td>[[], []]</td>\n",
       "      <td>/Restaurant_Review-g274707-d7124128-Reviews-Ch...</td>\n",
       "      <td>d7124128</td>\n",
       "      <td>0</td>\n",
       "      <td>0.0</td>\n",
       "    </tr>\n",
       "    <tr>\n",
       "      <td>81</td>\n",
       "      <td>id_81</td>\n",
       "      <td>Barcelona</td>\n",
       "      <td>['Peruvian', 'South American']</td>\n",
       "      <td>4325.0</td>\n",
       "      <td>$$ - $$$</td>\n",
       "      <td>NaN</td>\n",
       "      <td>[[], []]</td>\n",
       "      <td>/Restaurant_Review-g187497-d10088997-Reviews-N...</td>\n",
       "      <td>d10088997</td>\n",
       "      <td>0</td>\n",
       "      <td>0.0</td>\n",
       "    </tr>\n",
       "    <tr>\n",
       "      <td>114</td>\n",
       "      <td>id_114</td>\n",
       "      <td>Lyon</td>\n",
       "      <td>NaN</td>\n",
       "      <td>2001.0</td>\n",
       "      <td>NaN</td>\n",
       "      <td>NaN</td>\n",
       "      <td>[[], []]</td>\n",
       "      <td>/Restaurant_Review-g1166685-d12644341-Reviews-...</td>\n",
       "      <td>d12644341</td>\n",
       "      <td>0</td>\n",
       "      <td>0.0</td>\n",
       "    </tr>\n",
       "  </tbody>\n",
       "</table>\n",
       "</div>"
      ],
      "text/plain": [
       "    Restaurant_id       City                   Cuisine Style  Ranking  \\\n",
       "7            id_7   Budapest                             NaN   2330.0   \n",
       "25          id_25     Madrid                             NaN   5828.0   \n",
       "53          id_53     Prague                             NaN   2095.0   \n",
       "81          id_81  Barcelona  ['Peruvian', 'South American']   4325.0   \n",
       "114        id_114       Lyon                             NaN   2001.0   \n",
       "\n",
       "    Price Range  Number of Reviews   Reviews  \\\n",
       "7           NaN                NaN  [[], []]   \n",
       "25          NaN                NaN  [[], []]   \n",
       "53          NaN                NaN  [[], []]   \n",
       "81     $$ - $$$                NaN  [[], []]   \n",
       "114         NaN                NaN  [[], []]   \n",
       "\n",
       "                                                URL_TA      ID_TA  sample  \\\n",
       "7    /Restaurant_Review-g274887-d8286886-Reviews-Be...   d8286886       0   \n",
       "25   /Restaurant_Review-g187514-d13202032-Reviews-W...  d13202032       0   \n",
       "53   /Restaurant_Review-g274707-d7124128-Reviews-Ch...   d7124128       0   \n",
       "81   /Restaurant_Review-g187497-d10088997-Reviews-N...  d10088997       0   \n",
       "114  /Restaurant_Review-g1166685-d12644341-Reviews-...  d12644341       0   \n",
       "\n",
       "     Rating  \n",
       "7       0.0  \n",
       "25      0.0  \n",
       "53      0.0  \n",
       "81      0.0  \n",
       "114     0.0  "
      ]
     },
     "execution_count": 31,
     "metadata": {},
     "output_type": "execute_result"
    }
   ],
   "source": [
    "data[(data['Reviews'] == \"[[], []]\") & (pd.isna(data['Number of Reviews']))].head()"
   ]
  },
  {
   "cell_type": "markdown",
   "metadata": {},
   "source": [
    "Так-же если мы посмотрим остальные пропуски по кол-ву отзывов, то там в каждом случае только 1 отзыв."
   ]
  },
  {
   "cell_type": "code",
   "execution_count": 32,
   "metadata": {},
   "outputs": [
    {
     "data": {
      "text/html": [
       "<div>\n",
       "<style scoped>\n",
       "    .dataframe tbody tr th:only-of-type {\n",
       "        vertical-align: middle;\n",
       "    }\n",
       "\n",
       "    .dataframe tbody tr th {\n",
       "        vertical-align: top;\n",
       "    }\n",
       "\n",
       "    .dataframe thead th {\n",
       "        text-align: right;\n",
       "    }\n",
       "</style>\n",
       "<table border=\"1\" class=\"dataframe\">\n",
       "  <thead>\n",
       "    <tr style=\"text-align: right;\">\n",
       "      <th></th>\n",
       "      <th>Restaurant_id</th>\n",
       "      <th>City</th>\n",
       "      <th>Cuisine Style</th>\n",
       "      <th>Ranking</th>\n",
       "      <th>Price Range</th>\n",
       "      <th>Number of Reviews</th>\n",
       "      <th>Reviews</th>\n",
       "      <th>URL_TA</th>\n",
       "      <th>ID_TA</th>\n",
       "      <th>sample</th>\n",
       "      <th>Rating</th>\n",
       "    </tr>\n",
       "  </thead>\n",
       "  <tbody>\n",
       "    <tr>\n",
       "      <td>38328</td>\n",
       "      <td>id_2931</td>\n",
       "      <td>Lisbon</td>\n",
       "      <td>['European', 'Portuguese']</td>\n",
       "      <td>2934.0</td>\n",
       "      <td>NaN</td>\n",
       "      <td>NaN</td>\n",
       "      <td>[['Tipical portugese food'], ['01/06/2018']]</td>\n",
       "      <td>/Restaurant_Review-g189158-d13341137-Reviews-R...</td>\n",
       "      <td>d13341137</td>\n",
       "      <td>1</td>\n",
       "      <td>4.0</td>\n",
       "    </tr>\n",
       "    <tr>\n",
       "      <td>31318</td>\n",
       "      <td>id_3499</td>\n",
       "      <td>Berlin</td>\n",
       "      <td>NaN</td>\n",
       "      <td>3501.0</td>\n",
       "      <td>NaN</td>\n",
       "      <td>NaN</td>\n",
       "      <td>[['Good and fresh'], ['10/21/2017']]</td>\n",
       "      <td>/Restaurant_Review-g187323-d5518843-Reviews-GV...</td>\n",
       "      <td>d5518843</td>\n",
       "      <td>1</td>\n",
       "      <td>5.0</td>\n",
       "    </tr>\n",
       "    <tr>\n",
       "      <td>48513</td>\n",
       "      <td>id_8991</td>\n",
       "      <td>London</td>\n",
       "      <td>NaN</td>\n",
       "      <td>9000.0</td>\n",
       "      <td>NaN</td>\n",
       "      <td>NaN</td>\n",
       "      <td>[['The bast Food and bast Service'], ['08/14/2...</td>\n",
       "      <td>/Restaurant_Review-g186338-d5433577-Reviews-Mu...</td>\n",
       "      <td>d5433577</td>\n",
       "      <td>1</td>\n",
       "      <td>5.0</td>\n",
       "    </tr>\n",
       "    <tr>\n",
       "      <td>47668</td>\n",
       "      <td>id_8931</td>\n",
       "      <td>London</td>\n",
       "      <td>NaN</td>\n",
       "      <td>8940.0</td>\n",
       "      <td>NaN</td>\n",
       "      <td>NaN</td>\n",
       "      <td>[['Beautiful food'], ['07/11/2017']]</td>\n",
       "      <td>/Restaurant_Review-g186338-d8527701-Reviews-Ho...</td>\n",
       "      <td>d8527701</td>\n",
       "      <td>1</td>\n",
       "      <td>5.0</td>\n",
       "    </tr>\n",
       "    <tr>\n",
       "      <td>36813</td>\n",
       "      <td>id_9482</td>\n",
       "      <td>London</td>\n",
       "      <td>['International']</td>\n",
       "      <td>9491.0</td>\n",
       "      <td>$$$$</td>\n",
       "      <td>NaN</td>\n",
       "      <td>[['Chills and Breath taking'], ['01/10/2016']]</td>\n",
       "      <td>/Restaurant_Review-g186338-d731913-Reviews-Sea...</td>\n",
       "      <td>d731913</td>\n",
       "      <td>1</td>\n",
       "      <td>5.0</td>\n",
       "    </tr>\n",
       "  </tbody>\n",
       "</table>\n",
       "</div>"
      ],
      "text/plain": [
       "      Restaurant_id    City               Cuisine Style  Ranking Price Range  \\\n",
       "38328       id_2931  Lisbon  ['European', 'Portuguese']   2934.0         NaN   \n",
       "31318       id_3499  Berlin                         NaN   3501.0         NaN   \n",
       "48513       id_8991  London                         NaN   9000.0         NaN   \n",
       "47668       id_8931  London                         NaN   8940.0         NaN   \n",
       "36813       id_9482  London           ['International']   9491.0        $$$$   \n",
       "\n",
       "       Number of Reviews                                            Reviews  \\\n",
       "38328                NaN       [['Tipical portugese food'], ['01/06/2018']]   \n",
       "31318                NaN               [['Good and fresh'], ['10/21/2017']]   \n",
       "48513                NaN  [['The bast Food and bast Service'], ['08/14/2...   \n",
       "47668                NaN               [['Beautiful food'], ['07/11/2017']]   \n",
       "36813                NaN     [['Chills and Breath taking'], ['01/10/2016']]   \n",
       "\n",
       "                                                  URL_TA      ID_TA  sample  \\\n",
       "38328  /Restaurant_Review-g189158-d13341137-Reviews-R...  d13341137       1   \n",
       "31318  /Restaurant_Review-g187323-d5518843-Reviews-GV...   d5518843       1   \n",
       "48513  /Restaurant_Review-g186338-d5433577-Reviews-Mu...   d5433577       1   \n",
       "47668  /Restaurant_Review-g186338-d8527701-Reviews-Ho...   d8527701       1   \n",
       "36813  /Restaurant_Review-g186338-d731913-Reviews-Sea...    d731913       1   \n",
       "\n",
       "       Rating  \n",
       "38328     4.0  \n",
       "31318     5.0  \n",
       "48513     5.0  \n",
       "47668     5.0  \n",
       "36813     5.0  "
      ]
     },
     "execution_count": 32,
     "metadata": {},
     "output_type": "execute_result"
    }
   ],
   "source": [
    "data[(data['Reviews'] != \"[[], []]\") & (pd.isna(data['Number of Reviews']))].sample(5)"
   ]
  },
  {
   "cell_type": "markdown",
   "metadata": {},
   "source": [
    "Следовательно после анализа параметров \"отзывы\" и \"кол-во\" отзывов, мы имеем представление, чем заполнять пропуски параметра \"Кол-во отзывов\""
   ]
  },
  {
   "cell_type": "markdown",
   "metadata": {},
   "source": [
    "## 8. URL_TA"
   ]
  },
  {
   "cell_type": "code",
   "execution_count": 33,
   "metadata": {},
   "outputs": [
    {
     "name": "stdout",
     "output_type": "stream",
     "text": [
      "URL_TA\n",
      "0 - пропусков\n",
      "49963 - уникальных значений\n",
      "object - тип данных\n"
     ]
    }
   ],
   "source": [
    "values_information('URL_TA')"
   ]
  },
  {
   "cell_type": "markdown",
   "metadata": {},
   "source": [
    "Найдем значения, которые дублируются"
   ]
  },
  {
   "cell_type": "code",
   "execution_count": 34,
   "metadata": {},
   "outputs": [],
   "source": [
    "doble_urlta = data['URL_TA'].value_counts()"
   ]
  },
  {
   "cell_type": "code",
   "execution_count": 35,
   "metadata": {},
   "outputs": [
    {
     "data": {
      "text/plain": [
       "Index(['/Restaurant_Review-g187514-d3161682-Reviews-Cerveceria_La_Surena-Madrid.html',\n",
       "       '/Restaurant_Review-g187514-d5617412-Reviews-Green_Marta_Iii-Madrid.html',\n",
       "       '/Restaurant_Review-g187514-d1235635-Reviews-Restaurante_Arroceria_Puerta_de_Atocha-Madrid.html',\n",
       "       '/Restaurant_Review-g187514-d697406-Reviews-Al_Mounia-Madrid.html',\n",
       "       '/Restaurant_Review-g187514-d3748757-Reviews-D_O_C_C_Prado-Madrid.html',\n",
       "       '/Restaurant_Review-g187514-d1028622-Reviews-La_Terraza_del_Urban-Madrid.html',\n",
       "       '/Restaurant_Review-g187514-d1315077-Reviews-El_Pimiento_Verde-Madrid.html',\n",
       "       '/Restaurant_Review-g187514-d7809594-Reviews-La_Guapa-Madrid.html',\n",
       "       '/Restaurant_Review-g187514-d7342803-Reviews-Los_Hierros-Madrid.html',\n",
       "       '/Restaurant_Review-g187514-d11674463-Reviews-Beerhouse-Madrid.html',\n",
       "       '/Restaurant_Review-g187514-d793170-Reviews-Caripen_Bistro-Madrid.html',\n",
       "       '/Restaurant_Review-g187514-d9802625-Reviews-La_Vie_en_Doux-Madrid.html',\n",
       "       '/Restaurant_Review-g187514-d11921719-Reviews-Crepets-Madrid.html',\n",
       "       '/Restaurant_Review-g187514-d3685055-Reviews-Shukran-Madrid.html',\n",
       "       '/Restaurant_Review-g187514-d7827387-Reviews-El_Gusto_Es_Nuestro-Madrid.html',\n",
       "       '/Restaurant_Review-g274856-d3396817-Reviews-Restauracja_Olive_Garden-Warsaw_Mazovia_Province_Central_Poland.html',\n",
       "       '/Restaurant_Review-g187514-d11698990-Reviews-Verdello_Restaurante-Madrid.html',\n",
       "       '/Restaurant_Review-g187514-d10047799-Reviews-Entrepuntos-Madrid.html',\n",
       "       '/Restaurant_Review-g187514-d4748208-Reviews-Restaurante_Te_Oriental-Madrid.html',\n",
       "       '/Restaurant_Review-g187514-d987900-Reviews-Compostela_Restaurante-Madrid.html',\n",
       "       '/Restaurant_Review-g187514-d12488993-Reviews-Kathmandu_Tandoori_House_Nepali_Indian_Cuisine-Madrid.html',\n",
       "       '/Restaurant_Review-g187514-d11999956-Reviews-SugarCane_Madrid-Madrid.html',\n",
       "       '/Restaurant_Review-g187514-d10440367-Reviews-Banyui_Thai_Restaurant-Madrid.html',\n",
       "       '/Restaurant_Review-g187514-d7337366-Reviews-Lady_Madonna-Madrid.html',\n",
       "       '/Restaurant_Review-g187514-d2360290-Reviews-Lounge_Yi-Madrid.html',\n",
       "       '/Restaurant_Review-g187514-d2010743-Reviews-Restaurant_Furusato-Madrid.html',\n",
       "       '/Restaurant_Review-g187514-d8753348-Reviews-Tropecientos-Madrid.html',\n",
       "       '/Restaurant_Review-g187514-d9877640-Reviews-Raku_Sushi-Madrid.html',\n",
       "       '/Restaurant_Review-g187514-d2477531-Reviews-Haya_19-Madrid.html',\n",
       "       '/Restaurant_Review-g187514-d5618007-Reviews-Juanyta_ME_MATA-Madrid.html',\n",
       "       '/Restaurant_Review-g274856-d10316215-Reviews-Basico_Pizza-Warsaw_Mazovia_Province_Central_Poland.html',\n",
       "       '/Restaurant_Review-g187514-d4600226-Reviews-Cafeteria_Teresa-Madrid.html',\n",
       "       '/Restaurant_Review-g187514-d3647024-Reviews-La_Zamorana-Madrid.html',\n",
       "       '/Restaurant_Review-g187514-d1568045-Reviews-Restaurante_Lateral_Santa_Ana-Madrid.html',\n",
       "       '/Restaurant_Review-g187514-d4914988-Reviews-Xiang_Asia_Restaurant-Madrid.html',\n",
       "       '/Restaurant_Review-g187514-d2669414-Reviews-Vips-Madrid.html',\n",
       "       '/Restaurant_Review-g187514-d13002276-Reviews-Delish_Vegan_Doughnuts-Madrid.html'],\n",
       "      dtype='object')"
      ]
     },
     "execution_count": 35,
     "metadata": {},
     "output_type": "execute_result"
    }
   ],
   "source": [
    "doble_urlta[doble_urlta > 1].index"
   ]
  },
  {
   "cell_type": "markdown",
   "metadata": {},
   "source": [
    "Первое, что бросается в глаза, так это с структуре ссылке повторяющийся эелемент вида **g187514**\n",
    "Пока в ручном режиме сформируем срезы, которые содержат дублирующиеся значения и разные **g_____** в ссылке"
   ]
  },
  {
   "cell_type": "code",
   "execution_count": 36,
   "metadata": {
    "scrolled": true
   },
   "outputs": [
    {
     "data": {
      "text/html": [
       "<div>\n",
       "<style scoped>\n",
       "    .dataframe tbody tr th:only-of-type {\n",
       "        vertical-align: middle;\n",
       "    }\n",
       "\n",
       "    .dataframe tbody tr th {\n",
       "        vertical-align: top;\n",
       "    }\n",
       "\n",
       "    .dataframe thead th {\n",
       "        text-align: right;\n",
       "    }\n",
       "</style>\n",
       "<table border=\"1\" class=\"dataframe\">\n",
       "  <thead>\n",
       "    <tr style=\"text-align: right;\">\n",
       "      <th></th>\n",
       "      <th>Restaurant_id</th>\n",
       "      <th>City</th>\n",
       "      <th>Cuisine Style</th>\n",
       "      <th>Ranking</th>\n",
       "      <th>Price Range</th>\n",
       "      <th>Number of Reviews</th>\n",
       "      <th>Reviews</th>\n",
       "      <th>URL_TA</th>\n",
       "      <th>ID_TA</th>\n",
       "      <th>sample</th>\n",
       "      <th>Rating</th>\n",
       "    </tr>\n",
       "  </thead>\n",
       "  <tbody>\n",
       "    <tr>\n",
       "      <td>14732</td>\n",
       "      <td>id_3804</td>\n",
       "      <td>Madrid</td>\n",
       "      <td>['American', 'German', 'European', 'Central Eu...</td>\n",
       "      <td>3806.0</td>\n",
       "      <td>NaN</td>\n",
       "      <td>8.0</td>\n",
       "      <td>[[], []]</td>\n",
       "      <td>/Restaurant_Review-g187514-d11674463-Reviews-B...</td>\n",
       "      <td>d11674463</td>\n",
       "      <td>1</td>\n",
       "      <td>4.0</td>\n",
       "    </tr>\n",
       "    <tr>\n",
       "      <td>21583</td>\n",
       "      <td>id_3810</td>\n",
       "      <td>Madrid</td>\n",
       "      <td>['American', 'German', 'European', 'Central Eu...</td>\n",
       "      <td>3812.0</td>\n",
       "      <td>NaN</td>\n",
       "      <td>8.0</td>\n",
       "      <td>[[], []]</td>\n",
       "      <td>/Restaurant_Review-g187514-d11674463-Reviews-B...</td>\n",
       "      <td>d11674463</td>\n",
       "      <td>1</td>\n",
       "      <td>4.0</td>\n",
       "    </tr>\n",
       "  </tbody>\n",
       "</table>\n",
       "</div>"
      ],
      "text/plain": [
       "      Restaurant_id    City  \\\n",
       "14732       id_3804  Madrid   \n",
       "21583       id_3810  Madrid   \n",
       "\n",
       "                                           Cuisine Style  Ranking Price Range  \\\n",
       "14732  ['American', 'German', 'European', 'Central Eu...   3806.0         NaN   \n",
       "21583  ['American', 'German', 'European', 'Central Eu...   3812.0         NaN   \n",
       "\n",
       "       Number of Reviews   Reviews  \\\n",
       "14732                8.0  [[], []]   \n",
       "21583                8.0  [[], []]   \n",
       "\n",
       "                                                  URL_TA      ID_TA  sample  \\\n",
       "14732  /Restaurant_Review-g187514-d11674463-Reviews-B...  d11674463       1   \n",
       "21583  /Restaurant_Review-g187514-d11674463-Reviews-B...  d11674463       1   \n",
       "\n",
       "       Rating  \n",
       "14732     4.0  \n",
       "21583     4.0  "
      ]
     },
     "execution_count": 36,
     "metadata": {},
     "output_type": "execute_result"
    }
   ],
   "source": [
    "data[data['URL_TA'] == '/Restaurant_Review-g187514-d11674463-Reviews-Beerhouse-Madrid.html']"
   ]
  },
  {
   "cell_type": "code",
   "execution_count": 37,
   "metadata": {
    "scrolled": true
   },
   "outputs": [
    {
     "data": {
      "text/html": [
       "<div>\n",
       "<style scoped>\n",
       "    .dataframe tbody tr th:only-of-type {\n",
       "        vertical-align: middle;\n",
       "    }\n",
       "\n",
       "    .dataframe tbody tr th {\n",
       "        vertical-align: top;\n",
       "    }\n",
       "\n",
       "    .dataframe thead th {\n",
       "        text-align: right;\n",
       "    }\n",
       "</style>\n",
       "<table border=\"1\" class=\"dataframe\">\n",
       "  <thead>\n",
       "    <tr style=\"text-align: right;\">\n",
       "      <th></th>\n",
       "      <th>Restaurant_id</th>\n",
       "      <th>City</th>\n",
       "      <th>Cuisine Style</th>\n",
       "      <th>Ranking</th>\n",
       "      <th>Price Range</th>\n",
       "      <th>Number of Reviews</th>\n",
       "      <th>Reviews</th>\n",
       "      <th>URL_TA</th>\n",
       "      <th>ID_TA</th>\n",
       "      <th>sample</th>\n",
       "      <th>Rating</th>\n",
       "    </tr>\n",
       "  </thead>\n",
       "  <tbody>\n",
       "    <tr>\n",
       "      <td>35251</td>\n",
       "      <td>id_3575</td>\n",
       "      <td>Madrid</td>\n",
       "      <td>['Spanish', 'Bar']</td>\n",
       "      <td>3577.0</td>\n",
       "      <td>$</td>\n",
       "      <td>217.0</td>\n",
       "      <td>[['Thursday snack', 'Good value for money &amp; go...</td>\n",
       "      <td>/Restaurant_Review-g187514-d3161682-Reviews-Ce...</td>\n",
       "      <td>d3161682</td>\n",
       "      <td>1</td>\n",
       "      <td>3.5</td>\n",
       "    </tr>\n",
       "    <tr>\n",
       "      <td>49847</td>\n",
       "      <td>id_3709</td>\n",
       "      <td>Madrid</td>\n",
       "      <td>['Spanish', 'Bar']</td>\n",
       "      <td>3711.0</td>\n",
       "      <td>$</td>\n",
       "      <td>217.0</td>\n",
       "      <td>[['Thursday snack', 'Good value for money &amp; go...</td>\n",
       "      <td>/Restaurant_Review-g187514-d3161682-Reviews-Ce...</td>\n",
       "      <td>d3161682</td>\n",
       "      <td>1</td>\n",
       "      <td>3.5</td>\n",
       "    </tr>\n",
       "  </tbody>\n",
       "</table>\n",
       "</div>"
      ],
      "text/plain": [
       "      Restaurant_id    City       Cuisine Style  Ranking Price Range  \\\n",
       "35251       id_3575  Madrid  ['Spanish', 'Bar']   3577.0           $   \n",
       "49847       id_3709  Madrid  ['Spanish', 'Bar']   3711.0           $   \n",
       "\n",
       "       Number of Reviews                                            Reviews  \\\n",
       "35251              217.0  [['Thursday snack', 'Good value for money & go...   \n",
       "49847              217.0  [['Thursday snack', 'Good value for money & go...   \n",
       "\n",
       "                                                  URL_TA     ID_TA  sample  \\\n",
       "35251  /Restaurant_Review-g187514-d3161682-Reviews-Ce...  d3161682       1   \n",
       "49847  /Restaurant_Review-g187514-d3161682-Reviews-Ce...  d3161682       1   \n",
       "\n",
       "       Rating  \n",
       "35251     3.5  \n",
       "49847     3.5  "
      ]
     },
     "execution_count": 37,
     "metadata": {},
     "output_type": "execute_result"
    }
   ],
   "source": [
    "data[data['URL_TA'] == '/Restaurant_Review-g187514-d3161682-Reviews-Cerveceria_La_Surena-Madrid.html']"
   ]
  },
  {
   "cell_type": "code",
   "execution_count": 38,
   "metadata": {
    "scrolled": true
   },
   "outputs": [
    {
     "data": {
      "text/html": [
       "<div>\n",
       "<style scoped>\n",
       "    .dataframe tbody tr th:only-of-type {\n",
       "        vertical-align: middle;\n",
       "    }\n",
       "\n",
       "    .dataframe tbody tr th {\n",
       "        vertical-align: top;\n",
       "    }\n",
       "\n",
       "    .dataframe thead th {\n",
       "        text-align: right;\n",
       "    }\n",
       "</style>\n",
       "<table border=\"1\" class=\"dataframe\">\n",
       "  <thead>\n",
       "    <tr style=\"text-align: right;\">\n",
       "      <th></th>\n",
       "      <th>Restaurant_id</th>\n",
       "      <th>City</th>\n",
       "      <th>Cuisine Style</th>\n",
       "      <th>Ranking</th>\n",
       "      <th>Price Range</th>\n",
       "      <th>Number of Reviews</th>\n",
       "      <th>Reviews</th>\n",
       "      <th>URL_TA</th>\n",
       "      <th>ID_TA</th>\n",
       "      <th>sample</th>\n",
       "      <th>Rating</th>\n",
       "    </tr>\n",
       "  </thead>\n",
       "  <tbody>\n",
       "    <tr>\n",
       "      <td>4323</td>\n",
       "      <td>id_4323</td>\n",
       "      <td>Warsaw</td>\n",
       "      <td>['Mediterranean', 'Middle Eastern', 'Italian',...</td>\n",
       "      <td>1981.0</td>\n",
       "      <td>$$ - $$$</td>\n",
       "      <td>16.0</td>\n",
       "      <td>[['Good restaurant for one meal.', 'Olive Gard...</td>\n",
       "      <td>/Restaurant_Review-g274856-d3396817-Reviews-Re...</td>\n",
       "      <td>d3396817</td>\n",
       "      <td>0</td>\n",
       "      <td>0.0</td>\n",
       "    </tr>\n",
       "    <tr>\n",
       "      <td>15544</td>\n",
       "      <td>id_1980</td>\n",
       "      <td>Warsaw</td>\n",
       "      <td>['Mediterranean', 'Middle Eastern', 'Italian',...</td>\n",
       "      <td>1981.0</td>\n",
       "      <td>$$ - $$$</td>\n",
       "      <td>16.0</td>\n",
       "      <td>[['Good restaurant for one meal.', 'Olive Gard...</td>\n",
       "      <td>/Restaurant_Review-g274856-d3396817-Reviews-Re...</td>\n",
       "      <td>d3396817</td>\n",
       "      <td>1</td>\n",
       "      <td>4.0</td>\n",
       "    </tr>\n",
       "  </tbody>\n",
       "</table>\n",
       "</div>"
      ],
      "text/plain": [
       "      Restaurant_id    City  \\\n",
       "4323        id_4323  Warsaw   \n",
       "15544       id_1980  Warsaw   \n",
       "\n",
       "                                           Cuisine Style  Ranking Price Range  \\\n",
       "4323   ['Mediterranean', 'Middle Eastern', 'Italian',...   1981.0    $$ - $$$   \n",
       "15544  ['Mediterranean', 'Middle Eastern', 'Italian',...   1981.0    $$ - $$$   \n",
       "\n",
       "       Number of Reviews                                            Reviews  \\\n",
       "4323                16.0  [['Good restaurant for one meal.', 'Olive Gard...   \n",
       "15544               16.0  [['Good restaurant for one meal.', 'Olive Gard...   \n",
       "\n",
       "                                                  URL_TA     ID_TA  sample  \\\n",
       "4323   /Restaurant_Review-g274856-d3396817-Reviews-Re...  d3396817       0   \n",
       "15544  /Restaurant_Review-g274856-d3396817-Reviews-Re...  d3396817       1   \n",
       "\n",
       "       Rating  \n",
       "4323      0.0  \n",
       "15544     4.0  "
      ]
     },
     "execution_count": 38,
     "metadata": {},
     "output_type": "execute_result"
    }
   ],
   "source": [
    "data[data['URL_TA'] == '/Restaurant_Review-g274856-d3396817-Reviews-Restauracja_Olive_Garden-Warsaw_Mazovia_Province_Central_Poland.html']"
   ]
  },
  {
   "cell_type": "code",
   "execution_count": 39,
   "metadata": {
    "scrolled": true
   },
   "outputs": [
    {
     "data": {
      "text/html": [
       "<div>\n",
       "<style scoped>\n",
       "    .dataframe tbody tr th:only-of-type {\n",
       "        vertical-align: middle;\n",
       "    }\n",
       "\n",
       "    .dataframe tbody tr th {\n",
       "        vertical-align: top;\n",
       "    }\n",
       "\n",
       "    .dataframe thead th {\n",
       "        text-align: right;\n",
       "    }\n",
       "</style>\n",
       "<table border=\"1\" class=\"dataframe\">\n",
       "  <thead>\n",
       "    <tr style=\"text-align: right;\">\n",
       "      <th></th>\n",
       "      <th>Restaurant_id</th>\n",
       "      <th>City</th>\n",
       "      <th>Cuisine Style</th>\n",
       "      <th>Ranking</th>\n",
       "      <th>Price Range</th>\n",
       "      <th>Number of Reviews</th>\n",
       "      <th>Reviews</th>\n",
       "      <th>URL_TA</th>\n",
       "      <th>ID_TA</th>\n",
       "      <th>sample</th>\n",
       "      <th>Rating</th>\n",
       "    </tr>\n",
       "  </thead>\n",
       "  <tbody>\n",
       "    <tr>\n",
       "      <td>118</td>\n",
       "      <td>id_118</td>\n",
       "      <td>Warsaw</td>\n",
       "      <td>['Italian']</td>\n",
       "      <td>1801.0</td>\n",
       "      <td>$</td>\n",
       "      <td>3.0</td>\n",
       "      <td>[[], []]</td>\n",
       "      <td>/Restaurant_Review-g274856-d10316215-Reviews-B...</td>\n",
       "      <td>d10316215</td>\n",
       "      <td>0</td>\n",
       "      <td>0.0</td>\n",
       "    </tr>\n",
       "    <tr>\n",
       "      <td>36920</td>\n",
       "      <td>id_1800</td>\n",
       "      <td>Warsaw</td>\n",
       "      <td>['Italian']</td>\n",
       "      <td>1801.0</td>\n",
       "      <td>$</td>\n",
       "      <td>3.0</td>\n",
       "      <td>[[], []]</td>\n",
       "      <td>/Restaurant_Review-g274856-d10316215-Reviews-B...</td>\n",
       "      <td>d10316215</td>\n",
       "      <td>1</td>\n",
       "      <td>3.5</td>\n",
       "    </tr>\n",
       "  </tbody>\n",
       "</table>\n",
       "</div>"
      ],
      "text/plain": [
       "      Restaurant_id    City Cuisine Style  Ranking Price Range  \\\n",
       "118          id_118  Warsaw   ['Italian']   1801.0           $   \n",
       "36920       id_1800  Warsaw   ['Italian']   1801.0           $   \n",
       "\n",
       "       Number of Reviews   Reviews  \\\n",
       "118                  3.0  [[], []]   \n",
       "36920                3.0  [[], []]   \n",
       "\n",
       "                                                  URL_TA      ID_TA  sample  \\\n",
       "118    /Restaurant_Review-g274856-d10316215-Reviews-B...  d10316215       0   \n",
       "36920  /Restaurant_Review-g274856-d10316215-Reviews-B...  d10316215       1   \n",
       "\n",
       "       Rating  \n",
       "118       0.0  \n",
       "36920     3.5  "
      ]
     },
     "execution_count": 39,
     "metadata": {},
     "output_type": "execute_result"
    }
   ],
   "source": [
    "data[data['URL_TA'] == '/Restaurant_Review-g274856-d10316215-Reviews-Basico_Pizza-Warsaw_Mazovia_Province_Central_Poland.html']"
   ]
  },
  {
   "cell_type": "markdown",
   "metadata": {},
   "source": [
    "Очень интересно получается. Похоже, что это один и тот же ресторан, только, например, распооженный на разных улицах.\n",
    "Но почему тогда разные Restaurant_id ? Ведь есть рестораны с одинаковыми Restaurant_id"
   ]
  },
  {
   "cell_type": "markdown",
   "metadata": {},
   "source": [
    "## 9. ID_TA"
   ]
  },
  {
   "cell_type": "code",
   "execution_count": 40,
   "metadata": {},
   "outputs": [
    {
     "name": "stdout",
     "output_type": "stream",
     "text": [
      "ID_TA\n",
      "0 - пропусков\n",
      "49963 - уникальных значений\n",
      "object - тип данных\n"
     ]
    }
   ],
   "source": [
    "values_information('ID_TA')"
   ]
  },
  {
   "cell_type": "code",
   "execution_count": 41,
   "metadata": {},
   "outputs": [
    {
     "data": {
      "text/plain": [
       "d4600226     2\n",
       "d1235635     2\n",
       "d3161682     2\n",
       "d987900      2\n",
       "d2010743     2\n",
       "            ..\n",
       "d742381      1\n",
       "d3489586     1\n",
       "d2440410     1\n",
       "d3906749     1\n",
       "d10456682    1\n",
       "Name: ID_TA, Length: 49963, dtype: int64"
      ]
     },
     "execution_count": 41,
     "metadata": {},
     "output_type": "execute_result"
    }
   ],
   "source": [
    "data['ID_TA'].value_counts()"
   ]
  },
  {
   "cell_type": "markdown",
   "metadata": {},
   "source": [
    "Собственно тут мы уже понимаем, откуда дубли"
   ]
  },
  {
   "cell_type": "markdown",
   "metadata": {},
   "source": [
    "## 10. Rating"
   ]
  },
  {
   "cell_type": "code",
   "execution_count": 42,
   "metadata": {},
   "outputs": [
    {
     "name": "stdout",
     "output_type": "stream",
     "text": [
      "Rating\n",
      "0 - пропусков\n",
      "10 - уникальных значений\n",
      "float64 - тип данных\n"
     ]
    }
   ],
   "source": [
    "values_information('Rating')"
   ]
  },
  {
   "cell_type": "code",
   "execution_count": 43,
   "metadata": {},
   "outputs": [
    {
     "data": {
      "text/plain": [
       "4.0    13692\n",
       "4.5    10929\n",
       "0.0    10000\n",
       "3.5     6824\n",
       "5.0     3879\n",
       "3.0     2955\n",
       "2.5      915\n",
       "2.0      466\n",
       "1.0      201\n",
       "1.5      139\n",
       "Name: Rating, dtype: int64"
      ]
     },
     "execution_count": 43,
     "metadata": {},
     "output_type": "execute_result"
    }
   ],
   "source": [
    "data['Rating'].value_counts()"
   ]
  },
  {
   "cell_type": "markdown",
   "metadata": {},
   "source": [
    "------------"
   ]
  },
  {
   "cell_type": "markdown",
   "metadata": {},
   "source": [
    "# ОБРАБОТКА NaN"
   ]
  },
  {
   "cell_type": "markdown",
   "metadata": {},
   "source": [
    "Для начала мы создадим отдельный признка, где пометим какие строки имели пропуски  \n",
    "Вот с какими признаками работаем:\n",
    "- Cuisine Style\n",
    "- Price Range\n",
    "- Number of Reviews"
   ]
  },
  {
   "cell_type": "code",
   "execution_count": 44,
   "metadata": {},
   "outputs": [],
   "source": [
    "data['Cuisine StyleNAN'] = pd.isna(data['Cuisine Style']).astype('uint8')\n",
    "data['Price RangeNAN'] = pd.isna(data['Price Range']).astype('uint8')\n",
    "data['Number_of_Reviews_isNAN'] = pd.isna(data['Number of Reviews']).astype('uint8')"
   ]
  },
  {
   "cell_type": "markdown",
   "metadata": {},
   "source": [
    "Price Range\n",
    "--"
   ]
  },
  {
   "cell_type": "markdown",
   "metadata": {},
   "source": [
    "Для удобства мы сделаем этот признак цифрами.  \n",
    "Так как это признак цен в ресторане, то это будет корректно."
   ]
  },
  {
   "cell_type": "code",
   "execution_count": 45,
   "metadata": {},
   "outputs": [],
   "source": [
    "data['Price Range'] = data['Price Range'].map({'$': 1, '$$ - $$$': 2, '$$$$': 3})"
   ]
  },
  {
   "cell_type": "code",
   "execution_count": 46,
   "metadata": {},
   "outputs": [],
   "source": [
    "#data['Price Range'] = data['Price Range'].apply(lambda x: 2 if pd.isna(x) else x)"
   ]
  },
  {
   "cell_type": "markdown",
   "metadata": {},
   "source": [
    "Number of Reviews\n",
    "--"
   ]
  },
  {
   "cell_type": "code",
   "execution_count": 47,
   "metadata": {},
   "outputs": [
    {
     "data": {
      "text/html": [
       "<div>\n",
       "<style scoped>\n",
       "    .dataframe tbody tr th:only-of-type {\n",
       "        vertical-align: middle;\n",
       "    }\n",
       "\n",
       "    .dataframe tbody tr th {\n",
       "        vertical-align: top;\n",
       "    }\n",
       "\n",
       "    .dataframe thead th {\n",
       "        text-align: right;\n",
       "    }\n",
       "</style>\n",
       "<table border=\"1\" class=\"dataframe\">\n",
       "  <thead>\n",
       "    <tr style=\"text-align: right;\">\n",
       "      <th></th>\n",
       "      <th>Restaurant_id</th>\n",
       "      <th>City</th>\n",
       "      <th>Cuisine Style</th>\n",
       "      <th>Ranking</th>\n",
       "      <th>Price Range</th>\n",
       "      <th>Number of Reviews</th>\n",
       "      <th>Reviews</th>\n",
       "      <th>URL_TA</th>\n",
       "      <th>ID_TA</th>\n",
       "      <th>sample</th>\n",
       "      <th>Rating</th>\n",
       "      <th>Cuisine StyleNAN</th>\n",
       "      <th>Price RangeNAN</th>\n",
       "      <th>Number_of_Reviews_isNAN</th>\n",
       "    </tr>\n",
       "  </thead>\n",
       "  <tbody>\n",
       "    <tr>\n",
       "      <td>7</td>\n",
       "      <td>id_7</td>\n",
       "      <td>Budapest</td>\n",
       "      <td>NaN</td>\n",
       "      <td>2330.0</td>\n",
       "      <td>NaN</td>\n",
       "      <td>NaN</td>\n",
       "      <td>[[], []]</td>\n",
       "      <td>/Restaurant_Review-g274887-d8286886-Reviews-Be...</td>\n",
       "      <td>d8286886</td>\n",
       "      <td>0</td>\n",
       "      <td>0.0</td>\n",
       "      <td>1</td>\n",
       "      <td>1</td>\n",
       "      <td>1</td>\n",
       "    </tr>\n",
       "    <tr>\n",
       "      <td>25</td>\n",
       "      <td>id_25</td>\n",
       "      <td>Madrid</td>\n",
       "      <td>NaN</td>\n",
       "      <td>5828.0</td>\n",
       "      <td>NaN</td>\n",
       "      <td>NaN</td>\n",
       "      <td>[[], []]</td>\n",
       "      <td>/Restaurant_Review-g187514-d13202032-Reviews-W...</td>\n",
       "      <td>d13202032</td>\n",
       "      <td>0</td>\n",
       "      <td>0.0</td>\n",
       "      <td>1</td>\n",
       "      <td>1</td>\n",
       "      <td>1</td>\n",
       "    </tr>\n",
       "    <tr>\n",
       "      <td>53</td>\n",
       "      <td>id_53</td>\n",
       "      <td>Prague</td>\n",
       "      <td>NaN</td>\n",
       "      <td>2095.0</td>\n",
       "      <td>NaN</td>\n",
       "      <td>NaN</td>\n",
       "      <td>[[], []]</td>\n",
       "      <td>/Restaurant_Review-g274707-d7124128-Reviews-Ch...</td>\n",
       "      <td>d7124128</td>\n",
       "      <td>0</td>\n",
       "      <td>0.0</td>\n",
       "      <td>1</td>\n",
       "      <td>1</td>\n",
       "      <td>1</td>\n",
       "    </tr>\n",
       "    <tr>\n",
       "      <td>81</td>\n",
       "      <td>id_81</td>\n",
       "      <td>Barcelona</td>\n",
       "      <td>['Peruvian', 'South American']</td>\n",
       "      <td>4325.0</td>\n",
       "      <td>2.0</td>\n",
       "      <td>NaN</td>\n",
       "      <td>[[], []]</td>\n",
       "      <td>/Restaurant_Review-g187497-d10088997-Reviews-N...</td>\n",
       "      <td>d10088997</td>\n",
       "      <td>0</td>\n",
       "      <td>0.0</td>\n",
       "      <td>0</td>\n",
       "      <td>0</td>\n",
       "      <td>1</td>\n",
       "    </tr>\n",
       "    <tr>\n",
       "      <td>114</td>\n",
       "      <td>id_114</td>\n",
       "      <td>Lyon</td>\n",
       "      <td>NaN</td>\n",
       "      <td>2001.0</td>\n",
       "      <td>NaN</td>\n",
       "      <td>NaN</td>\n",
       "      <td>[[], []]</td>\n",
       "      <td>/Restaurant_Review-g1166685-d12644341-Reviews-...</td>\n",
       "      <td>d12644341</td>\n",
       "      <td>0</td>\n",
       "      <td>0.0</td>\n",
       "      <td>1</td>\n",
       "      <td>1</td>\n",
       "      <td>1</td>\n",
       "    </tr>\n",
       "  </tbody>\n",
       "</table>\n",
       "</div>"
      ],
      "text/plain": [
       "    Restaurant_id       City                   Cuisine Style  Ranking  \\\n",
       "7            id_7   Budapest                             NaN   2330.0   \n",
       "25          id_25     Madrid                             NaN   5828.0   \n",
       "53          id_53     Prague                             NaN   2095.0   \n",
       "81          id_81  Barcelona  ['Peruvian', 'South American']   4325.0   \n",
       "114        id_114       Lyon                             NaN   2001.0   \n",
       "\n",
       "     Price Range  Number of Reviews   Reviews  \\\n",
       "7            NaN                NaN  [[], []]   \n",
       "25           NaN                NaN  [[], []]   \n",
       "53           NaN                NaN  [[], []]   \n",
       "81           2.0                NaN  [[], []]   \n",
       "114          NaN                NaN  [[], []]   \n",
       "\n",
       "                                                URL_TA      ID_TA  sample  \\\n",
       "7    /Restaurant_Review-g274887-d8286886-Reviews-Be...   d8286886       0   \n",
       "25   /Restaurant_Review-g187514-d13202032-Reviews-W...  d13202032       0   \n",
       "53   /Restaurant_Review-g274707-d7124128-Reviews-Ch...   d7124128       0   \n",
       "81   /Restaurant_Review-g187497-d10088997-Reviews-N...  d10088997       0   \n",
       "114  /Restaurant_Review-g1166685-d12644341-Reviews-...  d12644341       0   \n",
       "\n",
       "     Rating  Cuisine StyleNAN  Price RangeNAN  Number_of_Reviews_isNAN  \n",
       "7       0.0                 1               1                        1  \n",
       "25      0.0                 1               1                        1  \n",
       "53      0.0                 1               1                        1  \n",
       "81      0.0                 0               0                        1  \n",
       "114     0.0                 1               1                        1  "
      ]
     },
     "execution_count": 47,
     "metadata": {},
     "output_type": "execute_result"
    }
   ],
   "source": [
    "data[(data['Reviews'] == \"[[], []]\") & (pd.isna(data['Number of Reviews']))].head()"
   ]
  },
  {
   "cell_type": "code",
   "execution_count": 48,
   "metadata": {},
   "outputs": [],
   "source": [
    "new_number_of_reviews = []\n",
    "\n",
    "for i in range(data.shape[0]):\n",
    "    if pd.isna(data.loc[i]['Number of Reviews']):\n",
    "        if data.loc[i]['Reviews'] == \"[[], []]\":\n",
    "            new_number_of_reviews.append(0)\n",
    "        else:\n",
    "            new_number_of_reviews.append(1)\n",
    "    else:\n",
    "        new_number_of_reviews.append(data.loc[i]['Number of Reviews'])"
   ]
  },
  {
   "cell_type": "code",
   "execution_count": 49,
   "metadata": {},
   "outputs": [],
   "source": [
    "data['Number of Reviews'] = pd.Series(new_number_of_reviews)"
   ]
  },
  {
   "cell_type": "markdown",
   "metadata": {},
   "source": [
    "Cuisine Style\n",
    "--"
   ]
  },
  {
   "cell_type": "code",
   "execution_count": 50,
   "metadata": {},
   "outputs": [],
   "source": [
    "data['Cuisine Style'] = data['Cuisine Style'].apply(lambda x: 'skip' if pd.isna(x) else x)"
   ]
  },
  {
   "cell_type": "markdown",
   "metadata": {},
   "source": [
    "--------------"
   ]
  },
  {
   "cell_type": "markdown",
   "metadata": {},
   "source": [
    "# FUTURE ENGINEERING"
   ]
  },
  {
   "cell_type": "markdown",
   "metadata": {},
   "source": [
    "Dummies по кухням\n",
    "--"
   ]
  },
  {
   "cell_type": "code",
   "execution_count": 51,
   "metadata": {},
   "outputs": [],
   "source": [
    "cuisines = set()\n",
    "for row in data['Cuisine Style']:\n",
    "    if pd.isna(row) == False:\n",
    "        for cuisine in row[1:-1].replace(\"'\", '').split(','):\n",
    "            if cuisine[0] != ' ':\n",
    "                cuisines.add(cuisine)\n",
    "            else:\n",
    "                cuisines.add(cuisine[1:])\n",
    "        \n",
    "cuisines.add('skip') # учтем значение, которое не попадет циклом"
   ]
  },
  {
   "cell_type": "code",
   "execution_count": 52,
   "metadata": {},
   "outputs": [],
   "source": [
    "cuisines_rating = {}\n",
    "\n",
    "for cuisine in cuisines:\n",
    "    cu_rating = data[data['Cuisine Style'].str.contains(cuisine)]['Rating'].median()\n",
    "    cuisines_rating[cuisine] = cu_rating"
   ]
  },
  {
   "cell_type": "code",
   "execution_count": 53,
   "metadata": {},
   "outputs": [],
   "source": [
    "def find_cuisine(row):\n",
    "    if cuisine in row:\n",
    "        return cuisines_rating[cuisine]\n",
    "    return 0"
   ]
  },
  {
   "cell_type": "code",
   "execution_count": 54,
   "metadata": {},
   "outputs": [],
   "source": [
    "for cuisine in list(cuisines):\n",
    "    data[cuisine] = data['Cuisine Style'].apply(find_cuisine)"
   ]
  },
  {
   "cell_type": "markdown",
   "metadata": {},
   "source": [
    "Столица\n",
    "--"
   ]
  },
  {
   "cell_type": "code",
   "execution_count": 55,
   "metadata": {},
   "outputs": [],
   "source": [
    "# Добавляем новый признак \"Столица - Не столица\"\n",
    "capitals = {'City': [\n",
    "    'London', 'Paris', 'Madrid', 'Barcelona', 'Berlin', 'Milan', 'Rome', 'Prague',\n",
    "    'Lisbon', 'Vienna', 'Amsterdam', 'Brussels', 'Hamburg', 'Munich', 'Lyon', 'Stockholm',\n",
    "    'Budapest', 'Warsaw', 'Dublin', 'Copenhagen', 'Athens', 'Edinburgh', 'Zurich', 'Oporto',\n",
    "    'Geneva', 'Krakow', 'Oslo', 'Helsinki', 'Bratislava', 'Luxembourg', 'Ljubljana'],\n",
    "    'Country': [\n",
    "    'United Kingdom', 'France', 'Spain', 'Spain', 'Germainy', 'Italy', 'Italy', 'Czech Republic',\n",
    "    'Portugal', 'Austria', 'Netherlands', 'Belgium', 'Germainy', 'Germainy', 'France', 'Sweden',\n",
    "    'Hungary', 'Poland', 'Ireland', 'Denmark', 'Greece', 'Scotland', 'Switzerland', 'Portugal',\n",
    "    'Switzerland', 'Poland', 'Norway', 'Finland', 'Slovakia', 'Luxembourg', 'Slovenia'],\n",
    "    'Is capital': [1, 1, 1, 0, 1, 0, 1, 1, 1, 1, 1, 1, 0, 0, 0, 1, 1, 1, 1, 1, 1, 1, 0, 0, 0, 0, 1, 1, 1, 1, 1]\n",
    "}"
   ]
  },
  {
   "cell_type": "code",
   "execution_count": 56,
   "metadata": {},
   "outputs": [],
   "source": [
    "capitals_list = []\n",
    "\n",
    "for i,j in zip(capitals['City'], capitals['Is capital']):\n",
    "    if j == 1:\n",
    "        capitals_list.append(i)"
   ]
  },
  {
   "cell_type": "code",
   "execution_count": 57,
   "metadata": {},
   "outputs": [],
   "source": [
    "def capital_sign(city_string):\n",
    "    if city_string in capitals_list:\n",
    "        return(1)\n",
    "    else:\n",
    "        return(0)"
   ]
  },
  {
   "cell_type": "code",
   "execution_count": 58,
   "metadata": {},
   "outputs": [],
   "source": [
    "data['Is_capital'] = data['City'].apply(capital_sign)"
   ]
  },
  {
   "cell_type": "markdown",
   "metadata": {},
   "source": [
    "Разница между отзывами\n",
    "--"
   ]
  },
  {
   "cell_type": "code",
   "execution_count": 59,
   "metadata": {},
   "outputs": [],
   "source": [
    "#Создаем новый признак из разницы между датами отзывов\n",
    "\n",
    "# Вычленяем из строки даты и записываем в отдельный столбец\n",
    "data['Number of Reviews'].fillna(0, inplace=True)\n",
    "\n",
    "#Заполняем наны в столбце Reviews\n",
    "data['Reviews'].fillna('[[], []]', inplace=True)\n",
    "\n",
    "def data_extract(reviews_str):\n",
    "    pattern = re.compile('\\d\\d\\W\\d\\d\\W\\d\\d\\d\\d')\n",
    "    tmp_data = pattern.findall(reviews_str)\n",
    "    return(tmp_data)\n",
    "\n",
    "data['Data_Reviews'] = data['Reviews'].apply(data_extract)\n",
    "\n",
    "#Резделим даты отзывов на два столбца. Пригодится и для следующего задания\n",
    "def data_reviews_separate_1(data_reviews_string):\n",
    "    tmp = 0\n",
    "    if len(data_reviews_string) == 0:\n",
    "        tmp = 0\n",
    "    else:\n",
    "        tmp = data_reviews_string[0]\n",
    "    return(tmp)\n",
    "\n",
    "def data_reviews_separate_2(data_reviews_string):\n",
    "    tmp = 0\n",
    "    if len(data_reviews_string) == 0:\n",
    "        tmp = 0\n",
    "    elif len(data_reviews_string) == 1:\n",
    "        tmp = 0\n",
    "    elif len(data_reviews_string) == 2:\n",
    "        tmp = data_reviews_string[1]\n",
    "    return(tmp)\n",
    "\n",
    "data['Data_Reviews_1'] = data['Data_Reviews'].apply(data_reviews_separate_1)\n",
    "data['Data_Reviews_2'] = data['Data_Reviews'].apply(data_reviews_separate_2)\n",
    "\n",
    "#Преобразовываем столбцы Data_Reviews_ в формат datetime\n",
    "data['Data_Reviews_1'] = data['Data_Reviews_1'].apply(lambda x: pd.to_datetime(x) if x != 0 else False)\n",
    "data['Data_Reviews_2'] = data['Data_Reviews_2'].apply(lambda x: pd.to_datetime(x) if x != 0 else False) \n",
    "\n",
    "# Вычисляем разницу в днях между отзывами, чистим значения от None и преобразовываем в int\n",
    "def data_delta(Data_Reviews_item):\n",
    "    if (len(Data_Reviews_item) == 0) or (len(Data_Reviews_item) == 1):\n",
    "        tmp = 0\n",
    "    else:\n",
    "        tmp = pd.to_datetime(\n",
    "            Data_Reviews_item[0]) - pd.to_datetime(Data_Reviews_item[1])\n",
    "\n",
    "    if tmp != 0:\n",
    "        return(str(tmp))\n",
    "\n",
    "\n",
    "def data_delta_to_int(data_delta_item):\n",
    "    tmp = str(data_delta_item)\n",
    "    if '-' in tmp:\n",
    "        tmp1 = tmp[1:-15]\n",
    "    elif 'None' in tmp:\n",
    "        tmp1 = '0'\n",
    "    else:\n",
    "        tmp1 = tmp[:-14]\n",
    "    return(int(tmp1))\n",
    "\n",
    "\n",
    "data['Data_Delta'] = data['Data_Reviews'].apply(data_delta)\n",
    "data['Data_Delta'] = data['Data_Delta'].apply(data_delta_to_int)\n",
    "\n",
    "\n",
    "#Убираем пропуски из столбцов Data_Reviews_х\n",
    "def error_date_to_zero(data_string):\n",
    "    if data_string == False:\n",
    "        return(int(0))\n",
    "    else:\n",
    "        return(data_string)\n",
    "\n",
    "data['Data_Reviews_1'] = data['Data_Reviews_1'].apply(error_date_to_zero)\n",
    "data['Data_Reviews_2'] = data['Data_Reviews_2'].apply(error_date_to_zero)"
   ]
  },
  {
   "cell_type": "markdown",
   "metadata": {},
   "source": [
    "Кол-во кухонь предоставленных в ресторане\n",
    "---"
   ]
  },
  {
   "cell_type": "code",
   "execution_count": 60,
   "metadata": {},
   "outputs": [],
   "source": [
    "def cusine_counter(row):\n",
    "    cusine = []\n",
    "    for cus in row[1:-1].replace(\"'\", '').split(','):\n",
    "        cusine.append(cus)\n",
    "    return len(cusine)"
   ]
  },
  {
   "cell_type": "code",
   "execution_count": 61,
   "metadata": {},
   "outputs": [],
   "source": [
    "data['cusine_count'] = data['Cuisine Style'].apply(cusine_counter)"
   ]
  },
  {
   "cell_type": "markdown",
   "metadata": {},
   "source": [
    "Кол-во ресторанов в городе\n",
    "--"
   ]
  },
  {
   "cell_type": "code",
   "execution_count": 62,
   "metadata": {},
   "outputs": [],
   "source": [
    "quantity_rest = data['City'].value_counts()"
   ]
  },
  {
   "cell_type": "code",
   "execution_count": 63,
   "metadata": {},
   "outputs": [],
   "source": [
    "data['quantity'] = data['City'].apply(lambda x: quantity_rest[x])"
   ]
  },
  {
   "cell_type": "markdown",
   "metadata": {},
   "source": [
    "Средняя оценка в городе  \n",
    "--\n",
    "*Можно потом поменять на отклонение от средней оценки, если не устроят результаты*"
   ]
  },
  {
   "cell_type": "code",
   "execution_count": 64,
   "metadata": {},
   "outputs": [],
   "source": [
    "mean_rating_in_city = data.groupby('City')['Rating'].mean()"
   ]
  },
  {
   "cell_type": "code",
   "execution_count": 65,
   "metadata": {},
   "outputs": [],
   "source": [
    "data['mean_rating'] = data['City'].apply(lambda x: mean_rating_in_city[x])"
   ]
  },
  {
   "cell_type": "markdown",
   "metadata": {},
   "source": [
    "Среднее кол-во отзывов о ресторане в городе\n",
    "--"
   ]
  },
  {
   "cell_type": "code",
   "execution_count": 66,
   "metadata": {},
   "outputs": [],
   "source": [
    "mean_number_reviews_in_city = data.groupby('City')['Number of Reviews'].mean()"
   ]
  },
  {
   "cell_type": "markdown",
   "metadata": {},
   "source": [
    "Ranking global\n",
    "--"
   ]
  },
  {
   "cell_type": "code",
   "execution_count": 67,
   "metadata": {},
   "outputs": [],
   "source": [
    "data['Ranking_global'] = data['Ranking'] / data['City'].apply(lambda x: quantity_rest[x])"
   ]
  },
  {
   "cell_type": "code",
   "execution_count": 68,
   "metadata": {},
   "outputs": [
    {
     "data": {
      "text/plain": [
       "<matplotlib.axes._subplots.AxesSubplot at 0x2168cdb2b08>"
      ]
     },
     "execution_count": 68,
     "metadata": {},
     "output_type": "execute_result"
    },
    {
     "data": {
      "image/png": "[encoded data removed]",
      "text/plain": [
       "<Figure size 432x288 with 1 Axes>"
      ]
     },
     "metadata": {
      "needs_background": "light"
     },
     "output_type": "display_data"
    }
   ],
   "source": [
    "data['Ranking_global'].hist(bins=100)"
   ]
  },
  {
   "cell_type": "code",
   "execution_count": 69,
   "metadata": {},
   "outputs": [],
   "source": [
    "data['mean_reviews'] = data['City'].apply(lambda x: mean_number_reviews_in_city[x])"
   ]
  },
  {
   "cell_type": "markdown",
   "metadata": {},
   "source": [
    "Dumies\n",
    "--"
   ]
  },
  {
   "cell_type": "code",
   "execution_count": 70,
   "metadata": {},
   "outputs": [],
   "source": [
    "data = pd.get_dummies(data, columns=['City'], dummy_na=True)"
   ]
  },
  {
   "cell_type": "code",
   "execution_count": 71,
   "metadata": {},
   "outputs": [],
   "source": [
    "data = pd.get_dummies(data, columns=['Price Range'], dummy_na=True)"
   ]
  },
  {
   "cell_type": "markdown",
   "metadata": {},
   "source": [
    "Doble ID\n",
    "--"
   ]
  },
  {
   "cell_type": "code",
   "execution_count": 82,
   "metadata": {},
   "outputs": [],
   "source": [
    "doble_id = data['ID_TA'].value_counts()"
   ]
  },
  {
   "cell_type": "code",
   "execution_count": 86,
   "metadata": {},
   "outputs": [],
   "source": [
    "doble_id_l = doble_id[doble_id > 1].index"
   ]
  },
  {
   "cell_type": "code",
   "execution_count": 87,
   "metadata": {},
   "outputs": [],
   "source": [
    "data['doble_id'] = data['ID_TA'].apply(lambda x: 1 if x in doble_id_l else 0)"
   ]
  },
  {
   "cell_type": "markdown",
   "metadata": {},
   "source": [
    "Doble Restaurant_id\n",
    "--"
   ]
  },
  {
   "cell_type": "code",
   "execution_count": 98,
   "metadata": {},
   "outputs": [],
   "source": [
    "doble_restid = data['Restaurant_id'].value_counts()"
   ]
  },
  {
   "cell_type": "code",
   "execution_count": 107,
   "metadata": {},
   "outputs": [],
   "source": [
    "doble_restid_l = doble_restid[doble_restid >= 15].index"
   ]
  },
  {
   "cell_type": "code",
   "execution_count": 109,
   "metadata": {},
   "outputs": [],
   "source": [
    "data['rest_id'] = data['Restaurant_id'].apply(lambda x: x if x in doble_restid_l else 'id_other')"
   ]
  },
  {
   "cell_type": "code",
   "execution_count": 110,
   "metadata": {},
   "outputs": [],
   "source": [
    "data = pd.get_dummies(data, columns=['rest_id'], dummy_na=True)"
   ]
  },
  {
   "cell_type": "code",
   "execution_count": null,
   "metadata": {},
   "outputs": [],
   "source": []
  },
  {
   "cell_type": "code",
   "execution_count": null,
   "metadata": {},
   "outputs": [],
   "source": []
  },
  {
   "cell_type": "code",
   "execution_count": null,
   "metadata": {},
   "outputs": [],
   "source": []
  },
  {
   "cell_type": "code",
   "execution_count": null,
   "metadata": {},
   "outputs": [],
   "source": []
  },
  {
   "cell_type": "code",
   "execution_count": null,
   "metadata": {},
   "outputs": [],
   "source": []
  },
  {
   "cell_type": "code",
   "execution_count": null,
   "metadata": {},
   "outputs": [],
   "source": []
  },
  {
   "cell_type": "code",
   "execution_count": null,
   "metadata": {},
   "outputs": [],
   "source": []
  },
  {
   "cell_type": "code",
   "execution_count": null,
   "metadata": {},
   "outputs": [],
   "source": []
  },
  {
   "cell_type": "code",
   "execution_count": null,
   "metadata": {},
   "outputs": [],
   "source": []
  },
  {
   "cell_type": "code",
   "execution_count": null,
   "metadata": {},
   "outputs": [],
   "source": []
  },
  {
   "cell_type": "code",
   "execution_count": null,
   "metadata": {},
   "outputs": [],
   "source": []
  },
  {
   "cell_type": "code",
   "execution_count": null,
   "metadata": {},
   "outputs": [],
   "source": []
  },
  {
   "cell_type": "code",
   "execution_count": 111,
   "metadata": {},
   "outputs": [],
   "source": [
    "object_columns = [s for s in data.columns if data[s].dtypes == 'object']\n",
    "#df_output.drop(object_columns, axis = 1, inplace=True)"
   ]
  },
  {
   "cell_type": "code",
   "execution_count": 112,
   "metadata": {},
   "outputs": [],
   "source": [
    "# Теперь выделим тестовую часть\n",
    "train_data = data.query('sample == 1').drop(['sample'], axis=1)\n",
    "test_data = data.query('sample == 0').drop(['sample'], axis=1)\n",
    "\n",
    "y = train_data.Rating.values            # наш таргет\n",
    "X = train_data.drop(['Rating'], axis=1)\n",
    "X = X.drop(object_columns, axis=1)"
   ]
  },
  {
   "cell_type": "markdown",
   "metadata": {},
   "source": [
    "**Перед тем как отправлять наши данные на обучение, разделим данные на еще один тест и трейн, для валидации. \n",
    "Это поможет нам проверить, как хорошо наша модель работает, до отправки submissiona на kaggle.**"
   ]
  },
  {
   "cell_type": "code",
   "execution_count": 113,
   "metadata": {},
   "outputs": [],
   "source": [
    "# Воспользуемся специальной функцие train_test_split для разбивки тестовых данных\n",
    "# выделим 20% данных на валидацию (параметр test_size)\n",
    "X_train, X_test, y_train, y_test = train_test_split(X, y, test_size=0.2, random_state=RANDOM_SEED)"
   ]
  },
  {
   "cell_type": "code",
   "execution_count": 114,
   "metadata": {},
   "outputs": [
    {
     "data": {
      "text/plain": [
       "((10000, 326), (40000, 326), (40000, 317), (32000, 317), (8000, 317))"
      ]
     },
     "execution_count": 114,
     "metadata": {},
     "output_type": "execute_result"
    }
   ],
   "source": [
    "# проверяем\n",
    "test_data.shape, train_data.shape, X.shape, X_train.shape, X_test.shape"
   ]
  },
  {
   "cell_type": "markdown",
   "metadata": {},
   "source": [
    "# Model \n",
    "Сам ML"
   ]
  },
  {
   "cell_type": "code",
   "execution_count": 115,
   "metadata": {},
   "outputs": [],
   "source": [
    "# Создаём модель (НАСТРОЙКИ НЕ ТРОГАЕМ)\n",
    "model = RandomForestRegressor(n_estimators=100, verbose=1, n_jobs=-1, random_state=RANDOM_SEED)"
   ]
  },
  {
   "cell_type": "code",
   "execution_count": 116,
   "metadata": {},
   "outputs": [
    {
     "name": "stderr",
     "output_type": "stream",
     "text": [
      "[Parallel(n_jobs=-1)]: Using backend ThreadingBackend with 4 concurrent workers.\n",
      "[Parallel(n_jobs=-1)]: Done  42 tasks      | elapsed:   15.5s\n",
      "[Parallel(n_jobs=-1)]: Done 100 out of 100 | elapsed:   34.8s finished\n",
      "[Parallel(n_jobs=4)]: Using backend ThreadingBackend with 4 concurrent workers.\n",
      "[Parallel(n_jobs=4)]: Done  42 tasks      | elapsed:    0.0s\n",
      "[Parallel(n_jobs=4)]: Done 100 out of 100 | elapsed:    0.0s finished\n"
     ]
    }
   ],
   "source": [
    "# Обучаем модель на тестовом наборе данных\n",
    "model.fit(X_train, y_train)\n",
    "\n",
    "# Используем обученную модель для предсказания рейтинга ресторанов в тестовой выборке.\n",
    "# Предсказанные значения записываем в переменную y_pred\n",
    "y_pred = model.predict(X_test)"
   ]
  },
  {
   "cell_type": "code",
   "execution_count": 117,
   "metadata": {},
   "outputs": [
    {
     "name": "stdout",
     "output_type": "stream",
     "text": [
      "MAE: 0.201429375\n"
     ]
    }
   ],
   "source": [
    "# Сравниваем предсказанные значения (y_pred) с реальными (y_test), и смотрим насколько они в среднем отличаются\n",
    "# Метрика называется Mean Absolute Error (MAE) и показывает среднее отклонение предсказанных значений от фактических.\n",
    "print('MAE:', metrics.mean_absolute_error(y_test, y_pred))"
   ]
  },
  {
   "cell_type": "code",
   "execution_count": 118,
   "metadata": {},
   "outputs": [
    {
     "data": {
      "text/plain": [
       "<matplotlib.axes._subplots.AxesSubplot at 0x2169ed7e148>"
      ]
     },
     "execution_count": 118,
     "metadata": {},
     "output_type": "execute_result"
    },
    {
     "data": {
      "image/png": "[encoded data removed]",
      "text/plain": [
       "<Figure size 720x720 with 1 Axes>"
      ]
     },
     "metadata": {
      "needs_background": "light"
     },
     "output_type": "display_data"
    }
   ],
   "source": [
    "# в RandomForestRegressor есть возможность вывести самые важные признаки для модели\n",
    "plt.rcParams['figure.figsize'] = (10,10)\n",
    "feat_importances = pd.Series(model.feature_importances_, index=X.columns)\n",
    "feat_importances.nlargest(15).plot(kind='barh')"
   ]
  },
  {
   "cell_type": "code",
   "execution_count": null,
   "metadata": {},
   "outputs": [],
   "source": []
  }
 ],
 "metadata": {
  "kernelspec": {
   "display_name": "Python 3",
   "language": "python",
   "name": "python3"
  },
  "language_info": {
   "codemirror_mode": {
    "name": "ipython",
    "version": 3
   },
   "file_extension": ".py",
   "mimetype": "text/x-python",
   "name": "python",
   "nbconvert_exporter": "python",
   "pygments_lexer": "ipython3",
   "version": "3.7.4"
  }
 },
 "nbformat": 4,
 "nbformat_minor": 2
}
